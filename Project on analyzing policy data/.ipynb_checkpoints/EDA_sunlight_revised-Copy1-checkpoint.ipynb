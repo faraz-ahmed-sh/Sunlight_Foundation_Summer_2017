{
 "cells": [
  {
   "cell_type": "code",
   "execution_count": 387,
   "metadata": {
    "collapsed": true
   },
   "outputs": [],
   "source": [
    "import pandas as pd\n",
    "import seaborn as sns\n",
    "import matplotlib.pyplot as plt\n",
    "import numpy as np\n",
    "#%matplotlib inline"
   ]
  },
  {
   "cell_type": "code",
   "execution_count": 388,
   "metadata": {},
   "outputs": [],
   "source": [
    "from util import *\n",
    "%run util"
   ]
  },
  {
   "cell_type": "code",
   "execution_count": 352,
   "metadata": {},
   "outputs": [],
   "source": [
    "df_2 = read_data('Open Data Policy Comparison_08_24')"
   ]
  },
  {
   "cell_type": "code",
   "execution_count": 353,
   "metadata": {
    "collapsed": true
   },
   "outputs": [],
   "source": [
    "# Transpose the csv\n",
    "df_2 = df_2.T"
   ]
  },
  {
   "cell_type": "code",
   "execution_count": 354,
   "metadata": {
    "collapsed": true
   },
   "outputs": [],
   "source": [
    "new_header = df_2.iloc[0] #grab the first row for the header\n",
    "df_2 = df_2[1:] #take the data less the header row\n",
    "df_2 = df_2.rename(columns = new_header) #set the header row as the df header"
   ]
  },
  {
   "cell_type": "code",
   "execution_count": 355,
   "metadata": {
    "collapsed": true
   },
   "outputs": [],
   "source": [
    "# rename the name of the first column to \"City\"\n",
    "df_2.columns.values[0] = \"City\""
   ]
  },
  {
   "cell_type": "code",
   "execution_count": 356,
   "metadata": {
    "collapsed": true
   },
   "outputs": [],
   "source": [
    "# deselect last 8 rows with null values\n",
    "df_2 = df_2[:-8]"
   ]
  },
  {
   "cell_type": "markdown",
   "metadata": {},
   "source": [
    "This file has 61 columns. Those columns include information about cities as well as whether they comply with each of the 31 guidelines as laid out by Sunlight Foundation. Each row corresponds to a unique open data policy."
   ]
  },
  {
   "cell_type": "code",
   "execution_count": 357,
   "metadata": {
    "collapsed": true
   },
   "outputs": [],
   "source": [
    "# drop all rows with nan's\n",
    "df_2 = df_2.dropna(axis=0, how=\"all\")"
   ]
  },
  {
   "cell_type": "code",
   "execution_count": 358,
   "metadata": {},
   "outputs": [
    {
     "data": {
      "text/html": [
       "<div>\n",
       "<style>\n",
       "    .dataframe thead tr:only-child th {\n",
       "        text-align: right;\n",
       "    }\n",
       "\n",
       "    .dataframe thead th {\n",
       "        text-align: left;\n",
       "    }\n",
       "\n",
       "    .dataframe tbody tr th {\n",
       "        vertical-align: top;\n",
       "    }\n",
       "</style>\n",
       "<table border=\"1\" class=\"dataframe\">\n",
       "  <thead>\n",
       "    <tr style=\"text-align: right;\">\n",
       "      <th></th>\n",
       "      <th>City</th>\n",
       "      <th>BASICS</th>\n",
       "      <th>Type</th>\n",
       "      <th>Link</th>\n",
       "      <th>Legal Means</th>\n",
       "      <th>Year Enacted</th>\n",
       "      <th>Date Enacted</th>\n",
       "      <th>Prior Versions?</th>\n",
       "      <th>Population (ACS 2012; US Census 2012 est for counties)</th>\n",
       "      <th>Guidance / Supplement</th>\n",
       "      <th>...</th>\n",
       "      <th>28. Create processes to ensure data quality</th>\n",
       "      <th>29. Ensure sufficient funding for implementation</th>\n",
       "      <th>30. Create or explore potential partnerships</th>\n",
       "      <th>31. Mandate future review for potential changes to this policy</th>\n",
       "      <th>nan</th>\n",
       "      <th># of close fit</th>\n",
       "      <th># of opposite</th>\n",
       "      <th># of blank space and n/a</th>\n",
       "      <th># of adopted guidelines</th>\n",
       "      <th>adoption rate of a version of policy(total score/31*2)</th>\n",
       "    </tr>\n",
       "  </thead>\n",
       "  <tbody>\n",
       "  </tbody>\n",
       "</table>\n",
       "<p>0 rows × 61 columns</p>\n",
       "</div>"
      ],
      "text/plain": [
       "Empty DataFrame\n",
       "Columns: [City, BASICS, Type, Link, Legal Means, Year Enacted, Date Enacted, Prior Versions?, Population (ACS 2012; US Census 2012 est for counties), Guidance / Supplement , Implementation Authority, Regional Relationship , Government Press Release, Sunlight Foundation Blogpost/Media Coverage, Gov Portal / Website , Community Portal , DEFINITIONS, \"Data\" , \"Public Data/Information\", \"Open Data\", APPLIED TO SUNLIGHT GUIDELINES, What Data Should Be Public , 1. Proactively release government information online, 2. Reference and build on existing public accountability and access policies, 3. Build on the values, goals and mission of the community and government , 4. Create a public, comprehensive list of all information holdings, 5. Specify methods of determining the prioritization of data release , 6. Stipulate that provisions apply to contractors or quasi-governmental agencies, 7. Appropriately safeguard sensitive information, How to Make Data Public , 8. Mandate data formats for maximal technical access. , 9. Provide comprehensive and appropriate formats for varied uses, 10. Remove restrictions for accessing information, 11. Mandate data be explicitly license-free, 12. Charge data-creating agencies with recommending an appropriate citation form, 13. Require publishing metadata , 14. Require publishing data creation processes , 15. Mandate the use of unique identifiers, 16. Require code sharing or publishing open source, 17. Require digitization and distribution of archival materials, 18. Create a central location devoted to data publication and policy, 19. Publish bulk data, 20. Create public APIs for accessing information, 21. Optimize methods of data collection, 22. Mandate ongoing data publication and updates, 23. Create permanent, lasting access to data, How to Implement Policy , 24. Create or appoint oversight authority , 25. Create guidance or other binding regulations for implementation, 26. Incorporate public perspectives into policy implementation, 27. Set appropriately ambitious timelines for implementation, 28. Create processes to ensure data quality, 29. Ensure sufficient funding for implementation, 30. Create or explore potential partnerships, 31. Mandate future review for potential changes to this policy, nan, # of close fit,  # of opposite, # of blank space and n/a, # of adopted guidelines, adoption rate of a version of policy(total score/31*2)]\n",
       "Index: []\n",
       "\n",
       "[0 rows x 61 columns]"
      ]
     },
     "execution_count": 358,
     "metadata": {},
     "output_type": "execute_result"
    }
   ],
   "source": [
    "df_2[df_2[\"Year Enacted\"].isnull()]"
   ]
  },
  {
   "cell_type": "markdown",
   "metadata": {},
   "source": [
    "#### No rows with all null values"
   ]
  },
  {
   "cell_type": "markdown",
   "metadata": {},
   "source": [
    "# 1) Overall cities open data policies analysis"
   ]
  },
  {
   "cell_type": "markdown",
   "metadata": {},
   "source": [
    "####  The following code is used to convert the datatypes into the desired format (string, int, float etc.)"
   ]
  },
  {
   "cell_type": "code",
   "execution_count": 359,
   "metadata": {
    "collapsed": true
   },
   "outputs": [],
   "source": [
    "df_2['adoption rate of a version of policy(total score/31*2)'] = df_2['adoption rate of a version of policy(total score/31*2)'].astype(str)\n",
    "df_2['adoption rate of a version of policy(total score/31*2)'] = df_2['adoption rate of a version of policy(total score/31*2)'].str.replace('%','')\n",
    "df_2['adoption rate of a version of policy(total score/31*2)'] = df_2['adoption rate of a version of policy(total score/31*2)'].astype(float)/100"
   ]
  },
  {
   "cell_type": "code",
   "execution_count": 360,
   "metadata": {
    "collapsed": true
   },
   "outputs": [],
   "source": [
    "df_2['Year Enacted'] = pd.to_numeric(df_2['Year Enacted'], errors=\"coerce\")\n",
    "df_2['City'] = df_2['City'].astype('str')"
   ]
  },
  {
   "cell_type": "markdown",
   "metadata": {},
   "source": [
    "#### Filtering the dataframe to be used later"
   ]
  },
  {
   "cell_type": "code",
   "execution_count": 361,
   "metadata": {
    "collapsed": true
   },
   "outputs": [],
   "source": [
    "all_sunlight_cities = df_2.groupby(['City', 'Year Enacted', 'adoption rate of a version of policy(total score/31*2)'], as_index=False).sum().iloc[:,0:3]"
   ]
  },
  {
   "cell_type": "code",
   "execution_count": 362,
   "metadata": {
    "collapsed": true
   },
   "outputs": [],
   "source": [
    "all_sunlight_cities['Year Enacted'] = all_sunlight_cities['Year Enacted'].apply(np.floor)"
   ]
  },
  {
   "cell_type": "code",
   "execution_count": 363,
   "metadata": {},
   "outputs": [
    {
     "data": {
      "text/html": [
       "<div>\n",
       "<style>\n",
       "    .dataframe thead tr:only-child th {\n",
       "        text-align: right;\n",
       "    }\n",
       "\n",
       "    .dataframe thead th {\n",
       "        text-align: left;\n",
       "    }\n",
       "\n",
       "    .dataframe tbody tr th {\n",
       "        vertical-align: top;\n",
       "    }\n",
       "</style>\n",
       "<table border=\"1\" class=\"dataframe\">\n",
       "  <thead>\n",
       "    <tr style=\"text-align: right;\">\n",
       "      <th></th>\n",
       "      <th>City</th>\n",
       "      <th>Year Enacted</th>\n",
       "      <th>adoption rate of a version of policy(total score/31*2)</th>\n",
       "    </tr>\n",
       "  </thead>\n",
       "  <tbody>\n",
       "    <tr>\n",
       "      <th>0</th>\n",
       "      <td>Amherst, NY</td>\n",
       "      <td>2014.0</td>\n",
       "      <td>0.3710</td>\n",
       "    </tr>\n",
       "    <tr>\n",
       "      <th>1</th>\n",
       "      <td>Anchorage, AK</td>\n",
       "      <td>2016.0</td>\n",
       "      <td>0.7097</td>\n",
       "    </tr>\n",
       "    <tr>\n",
       "      <th>2</th>\n",
       "      <td>Arlington County, VA</td>\n",
       "      <td>2016.0</td>\n",
       "      <td>0.2903</td>\n",
       "    </tr>\n",
       "    <tr>\n",
       "      <th>3</th>\n",
       "      <td>Asheville, NC</td>\n",
       "      <td>2015.0</td>\n",
       "      <td>0.5806</td>\n",
       "    </tr>\n",
       "    <tr>\n",
       "      <th>4</th>\n",
       "      <td>Austin, TX</td>\n",
       "      <td>2011.0</td>\n",
       "      <td>0.0000</td>\n",
       "    </tr>\n",
       "  </tbody>\n",
       "</table>\n",
       "</div>"
      ],
      "text/plain": [
       "                   City  Year Enacted  \\\n",
       "0           Amherst, NY        2014.0   \n",
       "1         Anchorage, AK        2016.0   \n",
       "2  Arlington County, VA        2016.0   \n",
       "3         Asheville, NC        2015.0   \n",
       "4            Austin, TX        2011.0   \n",
       "\n",
       "   adoption rate of a version of policy(total score/31*2)  \n",
       "0                                             0.3710       \n",
       "1                                             0.7097       \n",
       "2                                             0.2903       \n",
       "3                                             0.5806       \n",
       "4                                             0.0000       "
      ]
     },
     "execution_count": 363,
     "metadata": {},
     "output_type": "execute_result"
    }
   ],
   "source": [
    "all_sunlight_cities.head()"
   ]
  },
  {
   "cell_type": "markdown",
   "metadata": {},
   "source": [
    "#### Filtering the data based on year"
   ]
  },
  {
   "cell_type": "code",
   "execution_count": 364,
   "metadata": {},
   "outputs": [
    {
     "name": "stderr",
     "output_type": "stream",
     "text": [
      "/Users/summerfellow/anaconda/envs/py35/lib/python3.5/site-packages/ipykernel_launcher.py:1: FutureWarning: by argument to sort_index is deprecated, pls use .sort_values(by=...)\n",
      "  \"\"\"Entry point for launching an IPython kernel.\n"
     ]
    }
   ],
   "source": [
    "all_sunlight_cities_filtered_by_year = all_sunlight_cities.sort_index(by=['Year Enacted'], ascending=[True])"
   ]
  },
  {
   "cell_type": "markdown",
   "metadata": {},
   "source": [
    "### Number of cities that adopted policies in each year"
   ]
  },
  {
   "cell_type": "code",
   "execution_count": 365,
   "metadata": {},
   "outputs": [],
   "source": [
    "all_cities_year_count = explore_analysis(\"City\",\"Year Enacted\", \"groupby_count\", all_sunlight_cities_filtered_by_year)"
   ]
  },
  {
   "cell_type": "code",
   "execution_count": 366,
   "metadata": {},
   "outputs": [
    {
     "data": {
      "text/html": [
       "<div>\n",
       "<style>\n",
       "    .dataframe thead tr:only-child th {\n",
       "        text-align: right;\n",
       "    }\n",
       "\n",
       "    .dataframe thead th {\n",
       "        text-align: left;\n",
       "    }\n",
       "\n",
       "    .dataframe tbody tr th {\n",
       "        vertical-align: top;\n",
       "    }\n",
       "</style>\n",
       "<table border=\"1\" class=\"dataframe\">\n",
       "  <thead>\n",
       "    <tr style=\"text-align: right;\">\n",
       "      <th></th>\n",
       "      <th>Year Enacted</th>\n",
       "      <th>City</th>\n",
       "    </tr>\n",
       "  </thead>\n",
       "  <tbody>\n",
       "    <tr>\n",
       "      <th>0</th>\n",
       "      <td>2006.0</td>\n",
       "      <td>1</td>\n",
       "    </tr>\n",
       "    <tr>\n",
       "      <th>1</th>\n",
       "      <td>2009.0</td>\n",
       "      <td>3</td>\n",
       "    </tr>\n",
       "    <tr>\n",
       "      <th>2</th>\n",
       "      <td>2010.0</td>\n",
       "      <td>1</td>\n",
       "    </tr>\n",
       "    <tr>\n",
       "      <th>3</th>\n",
       "      <td>2011.0</td>\n",
       "      <td>6</td>\n",
       "    </tr>\n",
       "    <tr>\n",
       "      <th>4</th>\n",
       "      <td>2012.0</td>\n",
       "      <td>9</td>\n",
       "    </tr>\n",
       "    <tr>\n",
       "      <th>5</th>\n",
       "      <td>2013.0</td>\n",
       "      <td>16</td>\n",
       "    </tr>\n",
       "    <tr>\n",
       "      <th>6</th>\n",
       "      <td>2014.0</td>\n",
       "      <td>25</td>\n",
       "    </tr>\n",
       "    <tr>\n",
       "      <th>7</th>\n",
       "      <td>2015.0</td>\n",
       "      <td>11</td>\n",
       "    </tr>\n",
       "    <tr>\n",
       "      <th>8</th>\n",
       "      <td>2016.0</td>\n",
       "      <td>28</td>\n",
       "    </tr>\n",
       "    <tr>\n",
       "      <th>9</th>\n",
       "      <td>2017.0</td>\n",
       "      <td>10</td>\n",
       "    </tr>\n",
       "  </tbody>\n",
       "</table>\n",
       "</div>"
      ],
      "text/plain": [
       "   Year Enacted  City\n",
       "0        2006.0     1\n",
       "1        2009.0     3\n",
       "2        2010.0     1\n",
       "3        2011.0     6\n",
       "4        2012.0     9\n",
       "5        2013.0    16\n",
       "6        2014.0    25\n",
       "7        2015.0    11\n",
       "8        2016.0    28\n",
       "9        2017.0    10"
      ]
     },
     "execution_count": 366,
     "metadata": {},
     "output_type": "execute_result"
    }
   ],
   "source": [
    "all_cities_year_count"
   ]
  },
  {
   "cell_type": "code",
   "execution_count": 367,
   "metadata": {},
   "outputs": [
    {
     "data": {
      "image/png": "[encoded data removed]",
      "text/plain": [
       "<matplotlib.figure.Figure at 0x10fed4eb8>"
      ]
     },
     "metadata": {},
     "output_type": "display_data"
    }
   ],
   "source": [
    "horizontal_bar_from_dataframe(all_cities_year_count, 'Year Enacted', 'City', 'Number of cities that adopted policies')"
   ]
  },
  {
   "cell_type": "markdown",
   "metadata": {},
   "source": [
    "### Adoption (mean) rate -- year-wise"
   ]
  },
  {
   "cell_type": "code",
   "execution_count": 368,
   "metadata": {
    "collapsed": true
   },
   "outputs": [],
   "source": [
    "all_cities_year_mean = explore_analysis(\"adoption rate of a version of policy(total score/31*2)\",\"Year Enacted\", \"groupby_mean\", all_sunlight_cities_filtered_by_year)"
   ]
  },
  {
   "cell_type": "code",
   "execution_count": 369,
   "metadata": {},
   "outputs": [
    {
     "data": {
      "text/html": [
       "<div>\n",
       "<style>\n",
       "    .dataframe thead tr:only-child th {\n",
       "        text-align: right;\n",
       "    }\n",
       "\n",
       "    .dataframe thead th {\n",
       "        text-align: left;\n",
       "    }\n",
       "\n",
       "    .dataframe tbody tr th {\n",
       "        vertical-align: top;\n",
       "    }\n",
       "</style>\n",
       "<table border=\"1\" class=\"dataframe\">\n",
       "  <thead>\n",
       "    <tr style=\"text-align: right;\">\n",
       "      <th></th>\n",
       "      <th>Year Enacted</th>\n",
       "      <th>adoption rate of a version of policy(total score/31*2)</th>\n",
       "    </tr>\n",
       "  </thead>\n",
       "  <tbody>\n",
       "    <tr>\n",
       "      <th>0</th>\n",
       "      <td>2006.0</td>\n",
       "      <td>0.000000</td>\n",
       "    </tr>\n",
       "    <tr>\n",
       "      <th>1</th>\n",
       "      <td>2009.0</td>\n",
       "      <td>0.172067</td>\n",
       "    </tr>\n",
       "    <tr>\n",
       "      <th>2</th>\n",
       "      <td>2010.0</td>\n",
       "      <td>0.000000</td>\n",
       "    </tr>\n",
       "    <tr>\n",
       "      <th>3</th>\n",
       "      <td>2011.0</td>\n",
       "      <td>0.123667</td>\n",
       "    </tr>\n",
       "    <tr>\n",
       "      <th>4</th>\n",
       "      <td>2012.0</td>\n",
       "      <td>0.288522</td>\n",
       "    </tr>\n",
       "    <tr>\n",
       "      <th>5</th>\n",
       "      <td>2013.0</td>\n",
       "      <td>0.358881</td>\n",
       "    </tr>\n",
       "    <tr>\n",
       "      <th>6</th>\n",
       "      <td>2014.0</td>\n",
       "      <td>0.352908</td>\n",
       "    </tr>\n",
       "    <tr>\n",
       "      <th>7</th>\n",
       "      <td>2015.0</td>\n",
       "      <td>0.436955</td>\n",
       "    </tr>\n",
       "    <tr>\n",
       "      <th>8</th>\n",
       "      <td>2016.0</td>\n",
       "      <td>0.469468</td>\n",
       "    </tr>\n",
       "    <tr>\n",
       "      <th>9</th>\n",
       "      <td>2017.0</td>\n",
       "      <td>0.651610</td>\n",
       "    </tr>\n",
       "  </tbody>\n",
       "</table>\n",
       "</div>"
      ],
      "text/plain": [
       "   Year Enacted  adoption rate of a version of policy(total score/31*2)\n",
       "0        2006.0                                           0.000000     \n",
       "1        2009.0                                           0.172067     \n",
       "2        2010.0                                           0.000000     \n",
       "3        2011.0                                           0.123667     \n",
       "4        2012.0                                           0.288522     \n",
       "5        2013.0                                           0.358881     \n",
       "6        2014.0                                           0.352908     \n",
       "7        2015.0                                           0.436955     \n",
       "8        2016.0                                           0.469468     \n",
       "9        2017.0                                           0.651610     "
      ]
     },
     "execution_count": 369,
     "metadata": {},
     "output_type": "execute_result"
    }
   ],
   "source": [
    "all_cities_year_mean"
   ]
  },
  {
   "cell_type": "code",
   "execution_count": 370,
   "metadata": {},
   "outputs": [
    {
     "data": {
      "image/png": "[encoded data removed]",
      "text/plain": [
       "<matplotlib.figure.Figure at 0x10fb555f8>"
      ]
     },
     "metadata": {},
     "output_type": "display_data"
    }
   ],
   "source": [
    "vertical_bar_from_dataframe(all_cities_year_mean, 'Year Enacted', 'adoption rate of a version of policy(total score/31*2)', 'Adoption (mean) rate')"
   ]
  },
  {
   "cell_type": "markdown",
   "metadata": {},
   "source": [
    "### Adoption (median) rate -- year-wise"
   ]
  },
  {
   "cell_type": "code",
   "execution_count": 371,
   "metadata": {},
   "outputs": [],
   "source": [
    "all_cities_year_median = explore_analysis(\"adoption rate of a version of policy(total score/31*2)\",\"Year Enacted\", \"groupby_median\", all_sunlight_cities_filtered_by_year)"
   ]
  },
  {
   "cell_type": "code",
   "execution_count": 372,
   "metadata": {},
   "outputs": [
    {
     "data": {
      "text/html": [
       "<div>\n",
       "<style>\n",
       "    .dataframe thead tr:only-child th {\n",
       "        text-align: right;\n",
       "    }\n",
       "\n",
       "    .dataframe thead th {\n",
       "        text-align: left;\n",
       "    }\n",
       "\n",
       "    .dataframe tbody tr th {\n",
       "        vertical-align: top;\n",
       "    }\n",
       "</style>\n",
       "<table border=\"1\" class=\"dataframe\">\n",
       "  <thead>\n",
       "    <tr style=\"text-align: right;\">\n",
       "      <th></th>\n",
       "      <th>Year Enacted</th>\n",
       "      <th>adoption rate of a version of policy(total score/31*2)</th>\n",
       "    </tr>\n",
       "  </thead>\n",
       "  <tbody>\n",
       "    <tr>\n",
       "      <th>0</th>\n",
       "      <td>2006.0</td>\n",
       "      <td>0.00000</td>\n",
       "    </tr>\n",
       "    <tr>\n",
       "      <th>1</th>\n",
       "      <td>2009.0</td>\n",
       "      <td>0.25810</td>\n",
       "    </tr>\n",
       "    <tr>\n",
       "      <th>2</th>\n",
       "      <td>2010.0</td>\n",
       "      <td>0.00000</td>\n",
       "    </tr>\n",
       "    <tr>\n",
       "      <th>3</th>\n",
       "      <td>2011.0</td>\n",
       "      <td>0.12100</td>\n",
       "    </tr>\n",
       "    <tr>\n",
       "      <th>4</th>\n",
       "      <td>2012.0</td>\n",
       "      <td>0.37100</td>\n",
       "    </tr>\n",
       "    <tr>\n",
       "      <th>5</th>\n",
       "      <td>2013.0</td>\n",
       "      <td>0.36290</td>\n",
       "    </tr>\n",
       "    <tr>\n",
       "      <th>6</th>\n",
       "      <td>2014.0</td>\n",
       "      <td>0.37100</td>\n",
       "    </tr>\n",
       "    <tr>\n",
       "      <th>7</th>\n",
       "      <td>2015.0</td>\n",
       "      <td>0.50000</td>\n",
       "    </tr>\n",
       "    <tr>\n",
       "      <th>8</th>\n",
       "      <td>2016.0</td>\n",
       "      <td>0.50000</td>\n",
       "    </tr>\n",
       "    <tr>\n",
       "      <th>9</th>\n",
       "      <td>2017.0</td>\n",
       "      <td>0.64515</td>\n",
       "    </tr>\n",
       "  </tbody>\n",
       "</table>\n",
       "</div>"
      ],
      "text/plain": [
       "   Year Enacted  adoption rate of a version of policy(total score/31*2)\n",
       "0        2006.0                                            0.00000     \n",
       "1        2009.0                                            0.25810     \n",
       "2        2010.0                                            0.00000     \n",
       "3        2011.0                                            0.12100     \n",
       "4        2012.0                                            0.37100     \n",
       "5        2013.0                                            0.36290     \n",
       "6        2014.0                                            0.37100     \n",
       "7        2015.0                                            0.50000     \n",
       "8        2016.0                                            0.50000     \n",
       "9        2017.0                                            0.64515     "
      ]
     },
     "execution_count": 372,
     "metadata": {},
     "output_type": "execute_result"
    }
   ],
   "source": [
    "all_cities_year_median"
   ]
  },
  {
   "cell_type": "code",
   "execution_count": 373,
   "metadata": {},
   "outputs": [
    {
     "data": {
      "image/png": "[encoded data removed]",
      "text/plain": [
       "<matplotlib.figure.Figure at 0x10eac1358>"
      ]
     },
     "metadata": {},
     "output_type": "display_data"
    }
   ],
   "source": [
    "vertical_bar_from_dataframe(all_cities_year_median, 'Year Enacted', 'adoption rate of a version of policy(total score/31*2)', 'Adoption (median) rate')"
   ]
  },
  {
   "cell_type": "code",
   "execution_count": 391,
   "metadata": {},
   "outputs": [
    {
     "data": {
      "image/png": "[encoded data removed]",
      "text/plain": [
       "<matplotlib.figure.Figure at 0x10d798c18>"
      ]
     },
     "metadata": {},
     "output_type": "display_data"
    }
   ],
   "source": [
    "visual_median = seaborn_chart('Year Enacted', 'adoption rate of a version of policy(total score/31*2)', all_cities_year_median, 'Year', '', 'Adoption (median) Rate of Sunlight Foundation Guidelines')"
   ]
  },
  {
   "cell_type": "markdown",
   "metadata": {},
   "source": [
    "Insights:\n",
    "- "
   ]
  },
  {
   "cell_type": "markdown",
   "metadata": {},
   "source": [
    "# 2) Cities that passed multiple policies"
   ]
  },
  {
   "cell_type": "markdown",
   "metadata": {},
   "source": [
    "#### finding cities that have passed multiple policies"
   ]
  },
  {
   "cell_type": "code",
   "execution_count": 288,
   "metadata": {
    "collapsed": true
   },
   "outputs": [],
   "source": [
    "all_cities_duplicate = all_sunlight_cities.duplicated(\"City\", keep=False)\n",
    "all_cities_duplicate_full = all_sunlight_cities[all_cities_duplicate]"
   ]
  },
  {
   "cell_type": "code",
   "execution_count": 289,
   "metadata": {},
   "outputs": [
    {
     "data": {
      "text/html": [
       "<div>\n",
       "<style>\n",
       "    .dataframe thead tr:only-child th {\n",
       "        text-align: right;\n",
       "    }\n",
       "\n",
       "    .dataframe thead th {\n",
       "        text-align: left;\n",
       "    }\n",
       "\n",
       "    .dataframe tbody tr th {\n",
       "        vertical-align: top;\n",
       "    }\n",
       "</style>\n",
       "<table border=\"1\" class=\"dataframe\">\n",
       "  <thead>\n",
       "    <tr style=\"text-align: right;\">\n",
       "      <th></th>\n",
       "      <th>City</th>\n",
       "      <th>Year Enacted</th>\n",
       "      <th>adoption rate of a version of policy(total score/31*2)</th>\n",
       "    </tr>\n",
       "  </thead>\n",
       "  <tbody>\n",
       "    <tr>\n",
       "      <th>4</th>\n",
       "      <td>Austin, TX</td>\n",
       "      <td>2011.0</td>\n",
       "      <td>0.0000</td>\n",
       "    </tr>\n",
       "    <tr>\n",
       "      <th>5</th>\n",
       "      <td>Austin, TX</td>\n",
       "      <td>2013.0</td>\n",
       "      <td>0.5161</td>\n",
       "    </tr>\n",
       "    <tr>\n",
       "      <th>7</th>\n",
       "      <td>Baltimore, MD</td>\n",
       "      <td>2011.0</td>\n",
       "      <td>0.0000</td>\n",
       "    </tr>\n",
       "    <tr>\n",
       "      <th>8</th>\n",
       "      <td>Baltimore, MD</td>\n",
       "      <td>2016.0</td>\n",
       "      <td>0.0000</td>\n",
       "    </tr>\n",
       "    <tr>\n",
       "      <th>14</th>\n",
       "      <td>Cambridge, MA</td>\n",
       "      <td>2014.0</td>\n",
       "      <td>0.0000</td>\n",
       "    </tr>\n",
       "  </tbody>\n",
       "</table>\n",
       "</div>"
      ],
      "text/plain": [
       "             City  Year Enacted  \\\n",
       "4      Austin, TX        2011.0   \n",
       "5      Austin, TX        2013.0   \n",
       "7   Baltimore, MD        2011.0   \n",
       "8   Baltimore, MD        2016.0   \n",
       "14  Cambridge, MA        2014.0   \n",
       "\n",
       "    adoption rate of a version of policy(total score/31*2)  \n",
       "4                                              0.0000       \n",
       "5                                              0.5161       \n",
       "7                                              0.0000       \n",
       "8                                              0.0000       \n",
       "14                                             0.0000       "
      ]
     },
     "execution_count": 289,
     "metadata": {},
     "output_type": "execute_result"
    }
   ],
   "source": [
    "all_cities_duplicate_full.head()"
   ]
  },
  {
   "cell_type": "markdown",
   "metadata": {},
   "source": [
    "#### sort (ascending) the list of cities according to the year"
   ]
  },
  {
   "cell_type": "code",
   "execution_count": 290,
   "metadata": {},
   "outputs": [
    {
     "name": "stderr",
     "output_type": "stream",
     "text": [
      "/Users/summerfellow/anaconda/envs/py35/lib/python3.5/site-packages/ipykernel_launcher.py:1: FutureWarning: by argument to sort_index is deprecated, pls use .sort_values(by=...)\n",
      "  \"\"\"Entry point for launching an IPython kernel.\n"
     ]
    }
   ],
   "source": [
    "all_cities_duplicate_full = all_cities_duplicate_full.sort_index(by=['Year Enacted'], ascending=[True])"
   ]
  },
  {
   "cell_type": "code",
   "execution_count": 291,
   "metadata": {},
   "outputs": [
    {
     "data": {
      "text/html": [
       "<div>\n",
       "<style>\n",
       "    .dataframe thead tr:only-child th {\n",
       "        text-align: right;\n",
       "    }\n",
       "\n",
       "    .dataframe thead th {\n",
       "        text-align: left;\n",
       "    }\n",
       "\n",
       "    .dataframe tbody tr th {\n",
       "        vertical-align: top;\n",
       "    }\n",
       "</style>\n",
       "<table border=\"1\" class=\"dataframe\">\n",
       "  <thead>\n",
       "    <tr style=\"text-align: right;\">\n",
       "      <th></th>\n",
       "      <th>City</th>\n",
       "      <th>Year Enacted</th>\n",
       "      <th>adoption rate of a version of policy(total score/31*2)</th>\n",
       "    </tr>\n",
       "  </thead>\n",
       "  <tbody>\n",
       "    <tr>\n",
       "      <th>104</th>\n",
       "      <td>Washington, D.C.</td>\n",
       "      <td>2006.0</td>\n",
       "      <td>0.0</td>\n",
       "    </tr>\n",
       "    <tr>\n",
       "      <th>81</th>\n",
       "      <td>San Francisco, CA</td>\n",
       "      <td>2009.0</td>\n",
       "      <td>0.0</td>\n",
       "    </tr>\n",
       "    <tr>\n",
       "      <th>82</th>\n",
       "      <td>San Francisco, CA</td>\n",
       "      <td>2010.0</td>\n",
       "      <td>0.0</td>\n",
       "    </tr>\n",
       "    <tr>\n",
       "      <th>4</th>\n",
       "      <td>Austin, TX</td>\n",
       "      <td>2011.0</td>\n",
       "      <td>0.0</td>\n",
       "    </tr>\n",
       "    <tr>\n",
       "      <th>7</th>\n",
       "      <td>Baltimore, MD</td>\n",
       "      <td>2011.0</td>\n",
       "      <td>0.0</td>\n",
       "    </tr>\n",
       "  </tbody>\n",
       "</table>\n",
       "</div>"
      ],
      "text/plain": [
       "                  City  Year Enacted  \\\n",
       "104   Washington, D.C.        2006.0   \n",
       "81   San Francisco, CA        2009.0   \n",
       "82   San Francisco, CA        2010.0   \n",
       "4           Austin, TX        2011.0   \n",
       "7        Baltimore, MD        2011.0   \n",
       "\n",
       "     adoption rate of a version of policy(total score/31*2)  \n",
       "104                                                0.0       \n",
       "81                                                 0.0       \n",
       "82                                                 0.0       \n",
       "4                                                  0.0       \n",
       "7                                                  0.0       "
      ]
     },
     "execution_count": 291,
     "metadata": {},
     "output_type": "execute_result"
    }
   ],
   "source": [
    "all_cities_duplicate_full.head()"
   ]
  },
  {
   "cell_type": "code",
   "execution_count": 292,
   "metadata": {
    "collapsed": true
   },
   "outputs": [],
   "source": [
    "multiple_cities = duplicate_values_dictionary(all_cities_duplicate_full)"
   ]
  },
  {
   "cell_type": "code",
   "execution_count": 318,
   "metadata": {},
   "outputs": [
    {
     "name": "stdout",
     "output_type": "stream",
     "text": [
      "Cambridge, MA [2014.0, 0.0, 2015.0, 0.629]\n",
      "Austin, TX [2011.0, 0.0, 2013.0, 0.5161]\n",
      "Las Vegas [2014.0, 0.3387, 2016.0, 0.6774]\n",
      "Washington, D.C. [2006.0, 0.0, 2011.0, 0.0968, 2014.0, 0.5806]\n",
      "San Diego, CA [2014.0, 0.2581, 2014.0, 0.4839]\n",
      "Scottsdale, AZ [2016.0, 0.3226, 2017.0, 0.45159999999999995, 2017.0, 0.8065000000000001]\n",
      "New Hampshire [2012.0, 0.0, 2013.0, 0.1452]\n",
      "Tulsa, OK [2013.0, 0.2581, 2015.0, 0.5161]\n",
      "Baltimore, MD [2011.0, 0.0, 2016.0, 0.0]\n",
      "San Francisco, CA [2009.0, 0.0, 2010.0, 0.0, 2013.0, 0.5323]\n",
      "Kansas City, MO [2014.0, 0.2581, 2014.0, 0.371, 2015.0, 0.0323]\n",
      "Seattle, WA [2016.0, 0.7742, 2016.0, 0.6774]\n",
      "Tempe, AZ [2017.0, 0.5806, 2017.0, 0.871]\n"
     ]
    }
   ],
   "source": [
    "#print out the names of cities and the number of policies\n",
    "for city, values in multiple_cities.items():\n",
    "    print(city, values)"
   ]
  },
  {
   "cell_type": "code",
   "execution_count": 313,
   "metadata": {},
   "outputs": [
    {
     "data": {
      "image/png": "[encoded data removed]",
      "text/plain": [
       "<matplotlib.figure.Figure at 0x10f133be0>"
      ]
     },
     "metadata": {},
     "output_type": "display_data"
    }
   ],
   "source": [
    "small_multiples_plots_for_duplicate_cities(multiple_cities)"
   ]
  }
 ],
 "metadata": {
  "kernelspec": {
   "display_name": "Python 3",
   "language": "python",
   "name": "python3"
  },
  "language_info": {
   "codemirror_mode": {
    "name": "ipython",
    "version": 3
   },
   "file_extension": ".py",
   "mimetype": "text/x-python",
   "name": "python",
   "nbconvert_exporter": "python",
   "pygments_lexer": "ipython3",
   "version": "3.5.3"
  }
 },
 "nbformat": 4,
 "nbformat_minor": 2
}
