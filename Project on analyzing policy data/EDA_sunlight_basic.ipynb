{
 "cells": [
  {
   "cell_type": "code",
   "execution_count": 105,
   "metadata": {
    "collapsed": true
   },
   "outputs": [],
   "source": [
    "import pandas as pd\n",
    "import seaborn as sns\n",
    "import matplotlib.pyplot as plt\n",
    "import numpy as np\n",
    "%matplotlib inline"
   ]
  },
  {
   "cell_type": "code",
   "execution_count": 106,
   "metadata": {
    "collapsed": true
   },
   "outputs": [],
   "source": [
    "def read_data(filename1):\n",
    "    '''\n",
    "    This function reads the filename and puts the data into a dataframe.\n",
    "    \n",
    "    input: the name of the file\n",
    "    output: a dataframe    \n",
    "    '''\n",
    "    \n",
    "    df = pd.read_csv(filename1 + '.csv', encoding = \"ISO-8859-1\")\n",
    "    return df"
   ]
  },
  {
   "cell_type": "code",
   "execution_count": 107,
   "metadata": {},
   "outputs": [],
   "source": [
    "df = read_data('Comparisons - one sheet_06_22 (csv)')"
   ]
  },
  {
   "cell_type": "code",
   "execution_count": 108,
   "metadata": {},
   "outputs": [
    {
     "data": {
      "text/html": [
       "<div>\n",
       "<style>\n",
       "    .dataframe thead tr:only-child th {\n",
       "        text-align: right;\n",
       "    }\n",
       "\n",
       "    .dataframe thead th {\n",
       "        text-align: left;\n",
       "    }\n",
       "\n",
       "    .dataframe tbody tr th {\n",
       "        vertical-align: top;\n",
       "    }\n",
       "</style>\n",
       "<table border=\"1\" class=\"dataframe\">\n",
       "  <thead>\n",
       "    <tr style=\"text-align: right;\">\n",
       "      <th></th>\n",
       "      <th>City</th>\n",
       "      <th>BASICS</th>\n",
       "      <th>Type</th>\n",
       "      <th>Link</th>\n",
       "      <th>Legal Means</th>\n",
       "      <th>Year Enacted_up</th>\n",
       "      <th>Date Enacted</th>\n",
       "      <th>Sunlight Foundation Date Signed</th>\n",
       "      <th>Prior Versions?</th>\n",
       "      <th>Population (ACS 2012; US Census 2012 est for counties)</th>\n",
       "      <th>...</th>\n",
       "      <th>How to Implement Policy</th>\n",
       "      <th>24. Create or appoint oversight authority</th>\n",
       "      <th>25. Create guidance or other binding regulations for implementation</th>\n",
       "      <th>26. Incorporate public perspectives into policy implementation</th>\n",
       "      <th>27. Set appropriately ambitious timelines for implementation</th>\n",
       "      <th>28. Create processes to ensure data quality</th>\n",
       "      <th>29. Ensure sufficient funding for implementation</th>\n",
       "      <th>30. Create or explore potential partnerships</th>\n",
       "      <th>31. Mandate future review for potential changes to this policy</th>\n",
       "      <th>adoption rate of a version of policy(total score/31*2)</th>\n",
       "    </tr>\n",
       "  </thead>\n",
       "  <tbody>\n",
       "    <tr>\n",
       "      <th>0</th>\n",
       "      <td>Washington, D.C.</td>\n",
       "      <td>NaN</td>\n",
       "      <td>US City</td>\n",
       "      <td>http://www.scribd.com/fullscreen/26442622?acce...</td>\n",
       "      <td>Administrative Memo</td>\n",
       "      <td>2006</td>\n",
       "      <td>NaN</td>\n",
       "      <td>n/a</td>\n",
       "      <td>NaN</td>\n",
       "      <td>NaN</td>\n",
       "      <td>...</td>\n",
       "      <td>NaN</td>\n",
       "      <td>NaN</td>\n",
       "      <td>NaN</td>\n",
       "      <td>NaN</td>\n",
       "      <td>NaN</td>\n",
       "      <td>NaN</td>\n",
       "      <td>NaN</td>\n",
       "      <td>NaN</td>\n",
       "      <td>NaN</td>\n",
       "      <td>0.00</td>\n",
       "    </tr>\n",
       "    <tr>\n",
       "      <th>1</th>\n",
       "      <td>Washington, D.C.</td>\n",
       "      <td>NaN</td>\n",
       "      <td>US City</td>\n",
       "      <td>http://www.dcregs.dc.gov/Gateway/NoticeHome.as...</td>\n",
       "      <td>Mayoral Memo</td>\n",
       "      <td>2011</td>\n",
       "      <td>NaN</td>\n",
       "      <td>n/a</td>\n",
       "      <td>NaN</td>\n",
       "      <td>NaN</td>\n",
       "      <td>...</td>\n",
       "      <td>NaN</td>\n",
       "      <td>NaN</td>\n",
       "      <td>NaN</td>\n",
       "      <td>2</td>\n",
       "      <td>2</td>\n",
       "      <td>NaN</td>\n",
       "      <td>n/a</td>\n",
       "      <td>2</td>\n",
       "      <td>NaN</td>\n",
       "      <td>0.10</td>\n",
       "    </tr>\n",
       "    <tr>\n",
       "      <th>2</th>\n",
       "      <td>Washington, D.C.</td>\n",
       "      <td>NaN</td>\n",
       "      <td>US City</td>\n",
       "      <td>http://dc.gov/page/transparency-open-governmen...</td>\n",
       "      <td>Executive Directive</td>\n",
       "      <td>2014</td>\n",
       "      <td>7/21/2014</td>\n",
       "      <td>n/a</td>\n",
       "      <td>2006 Admin Memo: http://www.scribd.com/fullscr...</td>\n",
       "      <td>632,323</td>\n",
       "      <td>...</td>\n",
       "      <td>NaN</td>\n",
       "      <td>\"1) The Chief Technology Officer shall designa...</td>\n",
       "      <td>n/a</td>\n",
       "      <td>\"7) A mechanism for the public to submit feedb...</td>\n",
       "      <td>\"Within 120 days of the date of this Order, th...</td>\n",
       "      <td>n/a</td>\n",
       "      <td>n/a</td>\n",
       "      <td>\"The Open Government Report will describe step...</td>\n",
       "      <td>\"Open Government Report. To institutionalize a...</td>\n",
       "      <td>0.58</td>\n",
       "    </tr>\n",
       "    <tr>\n",
       "      <th>3</th>\n",
       "      <td>Portland, OR</td>\n",
       "      <td>NaN</td>\n",
       "      <td>US City</td>\n",
       "      <td>http://www.portlandonline.com/shared/cfm/image...</td>\n",
       "      <td>Legislation</td>\n",
       "      <td>2009</td>\n",
       "      <td>09/30/2009</td>\n",
       "      <td>8/31/16</td>\n",
       "      <td>n/a</td>\n",
       "      <td>603,650</td>\n",
       "      <td>...</td>\n",
       "      <td>NaN</td>\n",
       "      <td>n/a</td>\n",
       "      <td>n/a</td>\n",
       "      <td>n/a</td>\n",
       "      <td>n/a</td>\n",
       "      <td>n/a</td>\n",
       "      <td>n/a</td>\n",
       "      <td>\"Work with Travel Portland and regional partne...</td>\n",
       "      <td>n/a</td>\n",
       "      <td>0.26</td>\n",
       "    </tr>\n",
       "    <tr>\n",
       "      <th>4</th>\n",
       "      <td>Memphis, TN</td>\n",
       "      <td>NaN</td>\n",
       "      <td>US City</td>\n",
       "      <td>http://www.memphistn.gov/portals/0/pdf_forms/M...</td>\n",
       "      <td>Executive Order</td>\n",
       "      <td>2009</td>\n",
       "      <td>10/17/2009</td>\n",
       "      <td>8/1/17</td>\n",
       "      <td>n/a</td>\n",
       "      <td>655,141</td>\n",
       "      <td>...</td>\n",
       "      <td>NaN</td>\n",
       "      <td>n/a</td>\n",
       "      <td>n/a</td>\n",
       "      <td>\"The Office of the Mayor shall provide opportu...</td>\n",
       "      <td>The Order is effective within 7 days; some dat...</td>\n",
       "      <td>n/a</td>\n",
       "      <td>n/a</td>\n",
       "      <td>n/a</td>\n",
       "      <td>n/a</td>\n",
       "      <td>0.26</td>\n",
       "    </tr>\n",
       "  </tbody>\n",
       "</table>\n",
       "<p>5 rows × 57 columns</p>\n",
       "</div>"
      ],
      "text/plain": [
       "               City  BASICS      Type  \\\n",
       "0  Washington, D.C.     NaN   US City   \n",
       "1  Washington, D.C.     NaN   US City   \n",
       "2  Washington, D.C.     NaN  US City    \n",
       "3      Portland, OR     NaN   US City   \n",
       "4       Memphis, TN     NaN   US City   \n",
       "\n",
       "                                                Link          Legal Means  \\\n",
       "0  http://www.scribd.com/fullscreen/26442622?acce...  Administrative Memo   \n",
       "1  http://www.dcregs.dc.gov/Gateway/NoticeHome.as...         Mayoral Memo   \n",
       "2  http://dc.gov/page/transparency-open-governmen...  Executive Directive   \n",
       "3  http://www.portlandonline.com/shared/cfm/image...          Legislation   \n",
       "4  http://www.memphistn.gov/portals/0/pdf_forms/M...      Executive Order   \n",
       "\n",
       "  Year Enacted_up Date Enacted Sunlight Foundation Date Signed  \\\n",
       "0            2006          NaN                             n/a   \n",
       "1            2011          NaN                             n/a   \n",
       "2            2014    7/21/2014                             n/a   \n",
       "3            2009   09/30/2009                         8/31/16   \n",
       "4            2009   10/17/2009                          8/1/17   \n",
       "\n",
       "                                     Prior Versions?  \\\n",
       "0                                                NaN   \n",
       "1                                                NaN   \n",
       "2  2006 Admin Memo: http://www.scribd.com/fullscr...   \n",
       "3                                                n/a   \n",
       "4                                                n/a   \n",
       "\n",
       "  Population (ACS 2012; US Census 2012 est for counties)  \\\n",
       "0                                                NaN       \n",
       "1                                                NaN       \n",
       "2                                            632,323       \n",
       "3                                            603,650       \n",
       "4                                            655,141       \n",
       "\n",
       "                           ...                            \\\n",
       "0                          ...                             \n",
       "1                          ...                             \n",
       "2                          ...                             \n",
       "3                          ...                             \n",
       "4                          ...                             \n",
       "\n",
       "  How to Implement Policy          24. Create or appoint oversight authority   \\\n",
       "0                      NaN                                                NaN   \n",
       "1                      NaN                                                NaN   \n",
       "2                      NaN  \"1) The Chief Technology Officer shall designa...   \n",
       "3                      NaN                                                n/a   \n",
       "4                      NaN                                                n/a   \n",
       "\n",
       "  25. Create guidance or other binding regulations for implementation  \\\n",
       "0                                                NaN                    \n",
       "1                                                NaN                    \n",
       "2                                                n/a                    \n",
       "3                                                n/a                    \n",
       "4                                                n/a                    \n",
       "\n",
       "  26. Incorporate public perspectives into policy implementation  \\\n",
       "0                                                NaN               \n",
       "1                                                  2               \n",
       "2  \"7) A mechanism for the public to submit feedb...               \n",
       "3                                                n/a               \n",
       "4  \"The Office of the Mayor shall provide opportu...               \n",
       "\n",
       "  27. Set appropriately ambitious timelines for implementation  \\\n",
       "0                                                NaN             \n",
       "1                                                  2             \n",
       "2  \"Within 120 days of the date of this Order, th...             \n",
       "3                                                n/a             \n",
       "4  The Order is effective within 7 days; some dat...             \n",
       "\n",
       "  28. Create processes to ensure data quality  \\\n",
       "0                                         NaN   \n",
       "1                                         NaN   \n",
       "2                                         n/a   \n",
       "3                                         n/a   \n",
       "4                                         n/a   \n",
       "\n",
       "  29. Ensure sufficient funding for implementation  \\\n",
       "0                                              NaN   \n",
       "1                                              n/a   \n",
       "2                                              n/a   \n",
       "3                                              n/a   \n",
       "4                                              n/a   \n",
       "\n",
       "        30. Create or explore potential partnerships  \\\n",
       "0                                                NaN   \n",
       "1                                                  2   \n",
       "2  \"The Open Government Report will describe step...   \n",
       "3  \"Work with Travel Portland and regional partne...   \n",
       "4                                                n/a   \n",
       "\n",
       "  31. Mandate future review for potential changes to this policy  \\\n",
       "0                                                NaN               \n",
       "1                                                NaN               \n",
       "2  \"Open Government Report. To institutionalize a...               \n",
       "3                                                n/a               \n",
       "4                                                n/a               \n",
       "\n",
       "  adoption rate of a version of policy(total score/31*2)  \n",
       "0                                               0.00      \n",
       "1                                               0.10      \n",
       "2                                               0.58      \n",
       "3                                               0.26      \n",
       "4                                               0.26      \n",
       "\n",
       "[5 rows x 57 columns]"
      ]
     },
     "execution_count": 108,
     "metadata": {},
     "output_type": "execute_result"
    }
   ],
   "source": [
    "df.head()"
   ]
  },
  {
   "cell_type": "code",
   "execution_count": 109,
   "metadata": {},
   "outputs": [],
   "source": [
    "sunlight_cities = df[df[\"Sunlight Foundation Date Signed\"] != \"n/a\"]"
   ]
  },
  {
   "cell_type": "code",
   "execution_count": 110,
   "metadata": {
    "collapsed": true
   },
   "outputs": [],
   "source": [
    "non_sunlight_cities = df[df[\"Sunlight Foundation Date Signed\"] == \"n/a\"]"
   ]
  },
  {
   "cell_type": "code",
   "execution_count": 112,
   "metadata": {
    "collapsed": true
   },
   "outputs": [],
   "source": [
    "#analysis of years with respect to whether partner of sunlight foundation or not"
   ]
  },
  {
   "cell_type": "code",
   "execution_count": 158,
   "metadata": {
    "collapsed": true
   },
   "outputs": [],
   "source": [
    "#how much on average is sunlight partnership more effective than not having a partnership?"
   ]
  },
  {
   "cell_type": "markdown",
   "metadata": {},
   "source": [
    "# Useful functions"
   ]
  },
  {
   "cell_type": "code",
   "execution_count": 156,
   "metadata": {
    "collapsed": true
   },
   "outputs": [],
   "source": [
    "def explore_analysis(column1, column2, option, df):\n",
    "    '''\n",
    "    This function returns three types of analysis (descriptive stats, groupby on mean, groupby on count) \n",
    "    give two columns of a dataframe.\n",
    "    \n",
    "    input:\n",
    "        column1: the column for which we want statistics on a grouped data\n",
    "        column2: the column on which grouping is performed\n",
    "        \n",
    "    output: \n",
    "        a dataframe with desired type of analysis    \n",
    "    '''\n",
    "    \n",
    "    if option == 'describe':\n",
    "        df_2 = df[column1].describe()\n",
    "    elif option == 'groupby_mean':\n",
    "        df_2 = df[column1].groupby(df[column2]).mean().reset_index()\n",
    "    elif option == 'groupby_count':\n",
    "        df_2 = df[column1].groupby(df[column2]).count().reset_index()\n",
    "    elif option == 'grouby_max':\n",
    "        df_2 = df[column1].groupby(df[column2]).max().reset_index()\n",
    "    \n",
    "    return df_2"
   ]
  },
  {
   "cell_type": "code",
   "execution_count": 256,
   "metadata": {
    "collapsed": true
   },
   "outputs": [],
   "source": [
    "def seaborn_chart(x_1, y_1, data_1, xlabel_1):\n",
    "    '''\n",
    "    This function returns a chart for two columns (x-axis and y-axis)\n",
    "    '''\n",
    "    \n",
    "    sns.set_style(\"whitegrid\")\n",
    "    ax = plt.subplots(figsize=(20, 6))\n",
    "    ax = sns.barplot(x=x_1, y=y_1, data=data_1)\n",
    "    ax.set(xlabel=xlabel_1)\n",
    "    sns.plt.show()"
   ]
  },
  {
   "cell_type": "markdown",
   "metadata": {},
   "source": [
    "# Analysis for cities without partnerships"
   ]
  },
  {
   "cell_type": "code",
   "execution_count": 119,
   "metadata": {},
   "outputs": [],
   "source": [
    "non_sunlight_filtered = non_sunlight_cities.groupby(['City', 'Year Enacted_up', 'adoption rate of a version of policy(total score/31*2)'], as_index=False).sum().iloc[:,0:3]"
   ]
  },
  {
   "cell_type": "code",
   "execution_count": 134,
   "metadata": {},
   "outputs": [
    {
     "name": "stderr",
     "output_type": "stream",
     "text": [
      "/anaconda/lib/python3.6/site-packages/ipykernel_launcher.py:1: FutureWarning: by argument to sort_index is deprecated, pls use .sort_values(by=...)\n",
      "  \"\"\"Entry point for launching an IPython kernel.\n"
     ]
    }
   ],
   "source": [
    "result = non_sunlight_filtered.sort_index(by=['Year Enacted_up'], ascending=[True])"
   ]
  },
  {
   "cell_type": "code",
   "execution_count": 135,
   "metadata": {
    "collapsed": true
   },
   "outputs": [],
   "source": [
    "result = result[['Year Enacted_up', 'City',\"adoption rate of a version of policy(total score/31*2)\"]]"
   ]
  },
  {
   "cell_type": "code",
   "execution_count": 123,
   "metadata": {},
   "outputs": [
    {
     "data": {
      "text/html": [
       "<div>\n",
       "<style>\n",
       "    .dataframe thead tr:only-child th {\n",
       "        text-align: right;\n",
       "    }\n",
       "\n",
       "    .dataframe thead th {\n",
       "        text-align: left;\n",
       "    }\n",
       "\n",
       "    .dataframe tbody tr th {\n",
       "        vertical-align: top;\n",
       "    }\n",
       "</style>\n",
       "<table border=\"1\" class=\"dataframe\">\n",
       "  <thead>\n",
       "    <tr style=\"text-align: right;\">\n",
       "      <th></th>\n",
       "      <th>Year Enacted_up</th>\n",
       "      <th>City</th>\n",
       "      <th>adoption rate of a version of policy(total score/31*2)</th>\n",
       "    </tr>\n",
       "  </thead>\n",
       "  <tbody>\n",
       "    <tr>\n",
       "      <th>57</th>\n",
       "      <td>2006</td>\n",
       "      <td>Washington, D.C.</td>\n",
       "      <td>0.00</td>\n",
       "    </tr>\n",
       "    <tr>\n",
       "      <th>49</th>\n",
       "      <td>2009</td>\n",
       "      <td>San Francisco, CA</td>\n",
       "      <td>0.00</td>\n",
       "    </tr>\n",
       "    <tr>\n",
       "      <th>50</th>\n",
       "      <td>2009, 2010, 2013</td>\n",
       "      <td>San Francisco, CA</td>\n",
       "      <td>0.53</td>\n",
       "    </tr>\n",
       "    <tr>\n",
       "      <th>51</th>\n",
       "      <td>2010</td>\n",
       "      <td>San Francisco, CA</td>\n",
       "      <td>0.00</td>\n",
       "    </tr>\n",
       "    <tr>\n",
       "      <th>13</th>\n",
       "      <td>2011</td>\n",
       "      <td>Cook County, IL</td>\n",
       "      <td>0.26</td>\n",
       "    </tr>\n",
       "  </tbody>\n",
       "</table>\n",
       "</div>"
      ],
      "text/plain": [
       "     Year Enacted_up               City  \\\n",
       "57              2006   Washington, D.C.   \n",
       "49              2009  San Francisco, CA   \n",
       "50  2009, 2010, 2013  San Francisco, CA   \n",
       "51              2010  San Francisco, CA   \n",
       "13              2011    Cook County, IL   \n",
       "\n",
       "    adoption rate of a version of policy(total score/31*2)  \n",
       "57                                               0.00       \n",
       "49                                               0.00       \n",
       "50                                               0.53       \n",
       "51                                               0.00       \n",
       "13                                               0.26       "
      ]
     },
     "execution_count": 123,
     "metadata": {},
     "output_type": "execute_result"
    }
   ],
   "source": [
    "result.head()"
   ]
  },
  {
   "cell_type": "code",
   "execution_count": 130,
   "metadata": {},
   "outputs": [],
   "source": [
    "result_year_groupby = explore_analysis(\"adoption rate of a version of policy(total score/31*2)\",\"Year Enacted_up\", \"groupby_mean\", result)"
   ]
  },
  {
   "cell_type": "code",
   "execution_count": 131,
   "metadata": {
    "collapsed": true
   },
   "outputs": [],
   "source": [
    "result_year_groupby[\"adoption rate of a version of policy(total score/31*2)\"] = result_year_groupby[\"adoption rate of a version of policy(total score/31*2)\"]*100"
   ]
  },
  {
   "cell_type": "code",
   "execution_count": 147,
   "metadata": {},
   "outputs": [
    {
     "data": {
      "text/html": [
       "<div>\n",
       "<style>\n",
       "    .dataframe thead tr:only-child th {\n",
       "        text-align: right;\n",
       "    }\n",
       "\n",
       "    .dataframe thead th {\n",
       "        text-align: left;\n",
       "    }\n",
       "\n",
       "    .dataframe tbody tr th {\n",
       "        vertical-align: top;\n",
       "    }\n",
       "</style>\n",
       "<table border=\"1\" class=\"dataframe\">\n",
       "  <thead>\n",
       "    <tr style=\"text-align: right;\">\n",
       "      <th></th>\n",
       "      <th>Year Enacted_up</th>\n",
       "      <th>adoption rate of a version of policy(total score/31*2)</th>\n",
       "    </tr>\n",
       "  </thead>\n",
       "  <tbody>\n",
       "    <tr>\n",
       "      <th>0</th>\n",
       "      <td>2006</td>\n",
       "      <td>0.000000</td>\n",
       "    </tr>\n",
       "    <tr>\n",
       "      <th>1</th>\n",
       "      <td>2009</td>\n",
       "      <td>0.000000</td>\n",
       "    </tr>\n",
       "    <tr>\n",
       "      <th>2</th>\n",
       "      <td>2009, 2010, 2013</td>\n",
       "      <td>53.000000</td>\n",
       "    </tr>\n",
       "    <tr>\n",
       "      <th>3</th>\n",
       "      <td>2010</td>\n",
       "      <td>0.000000</td>\n",
       "    </tr>\n",
       "    <tr>\n",
       "      <th>4</th>\n",
       "      <td>2011</td>\n",
       "      <td>12.500000</td>\n",
       "    </tr>\n",
       "    <tr>\n",
       "      <th>5</th>\n",
       "      <td>2012</td>\n",
       "      <td>31.166667</td>\n",
       "    </tr>\n",
       "    <tr>\n",
       "      <th>6</th>\n",
       "      <td>2013</td>\n",
       "      <td>35.357143</td>\n",
       "    </tr>\n",
       "    <tr>\n",
       "      <th>7</th>\n",
       "      <td>2014</td>\n",
       "      <td>36.238095</td>\n",
       "    </tr>\n",
       "    <tr>\n",
       "      <th>8</th>\n",
       "      <td>2015</td>\n",
       "      <td>35.000000</td>\n",
       "    </tr>\n",
       "    <tr>\n",
       "      <th>9</th>\n",
       "      <td>2016</td>\n",
       "      <td>25.000000</td>\n",
       "    </tr>\n",
       "  </tbody>\n",
       "</table>\n",
       "</div>"
      ],
      "text/plain": [
       "    Year Enacted_up  adoption rate of a version of policy(total score/31*2)\n",
       "0              2006                                           0.000000     \n",
       "1              2009                                           0.000000     \n",
       "2  2009, 2010, 2013                                          53.000000     \n",
       "3              2010                                           0.000000     \n",
       "4              2011                                          12.500000     \n",
       "5              2012                                          31.166667     \n",
       "6              2013                                          35.357143     \n",
       "7              2014                                          36.238095     \n",
       "8              2015                                          35.000000     \n",
       "9              2016                                          25.000000     "
      ]
     },
     "execution_count": 147,
     "metadata": {},
     "output_type": "execute_result"
    }
   ],
   "source": [
    "result_year_groupby"
   ]
  },
  {
   "cell_type": "code",
   "execution_count": 257,
   "metadata": {},
   "outputs": [
    {
     "data": {
      "image/png": "[encoded data removed]",
      "text/plain": [
       "<matplotlib.figure.Figure at 0x113db0a90>"
      ]
     },
     "metadata": {},
     "output_type": "display_data"
    }
   ],
   "source": [
    "#visual\n",
    "visual_nonsunlight_year_groupby = seaborn_chart('Year Enacted_up', 'adoption rate of a version of policy(total score/31*2)', result_year_groupby, 'Year wise (mean) adoption rate')"
   ]
  },
  {
   "cell_type": "markdown",
   "metadata": {},
   "source": [
    "# Analysis for cities with partnerships"
   ]
  },
  {
   "cell_type": "code",
   "execution_count": 137,
   "metadata": {
    "collapsed": true
   },
   "outputs": [],
   "source": [
    "sunlight_filtered = sunlight_cities.groupby(['City', 'Year Enacted_up', 'adoption rate of a version of policy(total score/31*2)'], as_index=False).sum().iloc[:,0:3]"
   ]
  },
  {
   "cell_type": "code",
   "execution_count": 144,
   "metadata": {},
   "outputs": [
    {
     "data": {
      "text/html": [
       "<div>\n",
       "<style>\n",
       "    .dataframe thead tr:only-child th {\n",
       "        text-align: right;\n",
       "    }\n",
       "\n",
       "    .dataframe thead th {\n",
       "        text-align: left;\n",
       "    }\n",
       "\n",
       "    .dataframe tbody tr th {\n",
       "        vertical-align: top;\n",
       "    }\n",
       "</style>\n",
       "<table border=\"1\" class=\"dataframe\">\n",
       "  <thead>\n",
       "    <tr style=\"text-align: right;\">\n",
       "      <th></th>\n",
       "      <th>City</th>\n",
       "      <th>Year Enacted_up</th>\n",
       "      <th>adoption rate of a version of policy(total score/31*2)</th>\n",
       "    </tr>\n",
       "  </thead>\n",
       "  <tbody>\n",
       "    <tr>\n",
       "      <th>0</th>\n",
       "      <td>Anchorage, AK</td>\n",
       "      <td>2016</td>\n",
       "      <td>0.71</td>\n",
       "    </tr>\n",
       "    <tr>\n",
       "      <th>1</th>\n",
       "      <td>Bloomington, IL</td>\n",
       "      <td>2014</td>\n",
       "      <td>0.23</td>\n",
       "    </tr>\n",
       "    <tr>\n",
       "      <th>2</th>\n",
       "      <td>Charlotte, NC</td>\n",
       "      <td>2015</td>\n",
       "      <td>0.23</td>\n",
       "    </tr>\n",
       "    <tr>\n",
       "      <th>3</th>\n",
       "      <td>Independence, MO</td>\n",
       "      <td>2015</td>\n",
       "      <td>0.45</td>\n",
       "    </tr>\n",
       "    <tr>\n",
       "      <th>4</th>\n",
       "      <td>Kansas City, KS</td>\n",
       "      <td>2016</td>\n",
       "      <td>0.61</td>\n",
       "    </tr>\n",
       "  </tbody>\n",
       "</table>\n",
       "</div>"
      ],
      "text/plain": [
       "               City Year Enacted_up  \\\n",
       "0     Anchorage, AK            2016   \n",
       "1   Bloomington, IL            2014   \n",
       "2     Charlotte, NC            2015   \n",
       "3  Independence, MO            2015   \n",
       "4   Kansas City, KS            2016   \n",
       "\n",
       "   adoption rate of a version of policy(total score/31*2)  \n",
       "0                                               0.71       \n",
       "1                                               0.23       \n",
       "2                                               0.23       \n",
       "3                                               0.45       \n",
       "4                                               0.61       "
      ]
     },
     "execution_count": 144,
     "metadata": {},
     "output_type": "execute_result"
    }
   ],
   "source": [
    "sunlight_filtered.head()"
   ]
  },
  {
   "cell_type": "code",
   "execution_count": 150,
   "metadata": {},
   "outputs": [
    {
     "name": "stderr",
     "output_type": "stream",
     "text": [
      "/anaconda/lib/python3.6/site-packages/ipykernel_launcher.py:1: FutureWarning: by argument to sort_index is deprecated, pls use .sort_values(by=...)\n",
      "  \"\"\"Entry point for launching an IPython kernel.\n"
     ]
    }
   ],
   "source": [
    "sunlight_result = sunlight_filtered.sort_index(by=['Year Enacted_up'], ascending=[True])"
   ]
  },
  {
   "cell_type": "code",
   "execution_count": 151,
   "metadata": {
    "collapsed": true
   },
   "outputs": [],
   "source": [
    "sunlight_result = sunlight_result[['Year Enacted_up', 'City',\"adoption rate of a version of policy(total score/31*2)\"]]"
   ]
  },
  {
   "cell_type": "code",
   "execution_count": 152,
   "metadata": {},
   "outputs": [
    {
     "data": {
      "text/html": [
       "<div>\n",
       "<style>\n",
       "    .dataframe thead tr:only-child th {\n",
       "        text-align: right;\n",
       "    }\n",
       "\n",
       "    .dataframe thead th {\n",
       "        text-align: left;\n",
       "    }\n",
       "\n",
       "    .dataframe tbody tr th {\n",
       "        vertical-align: top;\n",
       "    }\n",
       "</style>\n",
       "<table border=\"1\" class=\"dataframe\">\n",
       "  <thead>\n",
       "    <tr style=\"text-align: right;\">\n",
       "      <th></th>\n",
       "      <th>Year Enacted_up</th>\n",
       "      <th>City</th>\n",
       "      <th>adoption rate of a version of policy(total score/31*2)</th>\n",
       "    </tr>\n",
       "  </thead>\n",
       "  <tbody>\n",
       "    <tr>\n",
       "      <th>12</th>\n",
       "      <td>2009</td>\n",
       "      <td>Portland, OR</td>\n",
       "      <td>0.26</td>\n",
       "    </tr>\n",
       "    <tr>\n",
       "      <th>9</th>\n",
       "      <td>2009</td>\n",
       "      <td>Memphis, TN</td>\n",
       "      <td>0.26</td>\n",
       "    </tr>\n",
       "    <tr>\n",
       "      <th>14</th>\n",
       "      <td>2012</td>\n",
       "      <td>Raleigh, NC</td>\n",
       "      <td>0.13</td>\n",
       "    </tr>\n",
       "    <tr>\n",
       "      <th>13</th>\n",
       "      <td>2012</td>\n",
       "      <td>Providence, RI</td>\n",
       "      <td>0.19</td>\n",
       "    </tr>\n",
       "    <tr>\n",
       "      <th>8</th>\n",
       "      <td>2012</td>\n",
       "      <td>Madison, WI</td>\n",
       "      <td>0.40</td>\n",
       "    </tr>\n",
       "  </tbody>\n",
       "</table>\n",
       "</div>"
      ],
      "text/plain": [
       "   Year Enacted_up            City  \\\n",
       "12            2009    Portland, OR   \n",
       "9             2009     Memphis, TN   \n",
       "14            2012     Raleigh, NC   \n",
       "13            2012  Providence, RI   \n",
       "8             2012     Madison, WI   \n",
       "\n",
       "    adoption rate of a version of policy(total score/31*2)  \n",
       "12                                               0.26       \n",
       "9                                                0.26       \n",
       "14                                               0.13       \n",
       "13                                               0.19       \n",
       "8                                                0.40       "
      ]
     },
     "execution_count": 152,
     "metadata": {},
     "output_type": "execute_result"
    }
   ],
   "source": [
    "sunlight_result.head()"
   ]
  },
  {
   "cell_type": "code",
   "execution_count": 153,
   "metadata": {
    "collapsed": true
   },
   "outputs": [],
   "source": [
    "sunlight_result_year_groupby = explore_analysis(\"adoption rate of a version of policy(total score/31*2)\",\"Year Enacted_up\", \"groupby_mean\", sunlight_result)"
   ]
  },
  {
   "cell_type": "code",
   "execution_count": 154,
   "metadata": {
    "collapsed": true
   },
   "outputs": [],
   "source": [
    "sunlight_result_year_groupby[\"adoption rate of a version of policy(total score/31*2)\"] = sunlight_result_year_groupby[\"adoption rate of a version of policy(total score/31*2)\"]*100"
   ]
  },
  {
   "cell_type": "code",
   "execution_count": 155,
   "metadata": {},
   "outputs": [
    {
     "data": {
      "text/html": [
       "<div>\n",
       "<style>\n",
       "    .dataframe thead tr:only-child th {\n",
       "        text-align: right;\n",
       "    }\n",
       "\n",
       "    .dataframe thead th {\n",
       "        text-align: left;\n",
       "    }\n",
       "\n",
       "    .dataframe tbody tr th {\n",
       "        vertical-align: top;\n",
       "    }\n",
       "</style>\n",
       "<table border=\"1\" class=\"dataframe\">\n",
       "  <thead>\n",
       "    <tr style=\"text-align: right;\">\n",
       "      <th></th>\n",
       "      <th>Year Enacted_up</th>\n",
       "      <th>adoption rate of a version of policy(total score/31*2)</th>\n",
       "    </tr>\n",
       "  </thead>\n",
       "  <tbody>\n",
       "    <tr>\n",
       "      <th>0</th>\n",
       "      <td>2009</td>\n",
       "      <td>26.000000</td>\n",
       "    </tr>\n",
       "    <tr>\n",
       "      <th>1</th>\n",
       "      <td>2012</td>\n",
       "      <td>24.000000</td>\n",
       "    </tr>\n",
       "    <tr>\n",
       "      <th>2</th>\n",
       "      <td>2013</td>\n",
       "      <td>26.000000</td>\n",
       "    </tr>\n",
       "    <tr>\n",
       "      <th>3</th>\n",
       "      <td>2014</td>\n",
       "      <td>31.333333</td>\n",
       "    </tr>\n",
       "    <tr>\n",
       "      <th>4</th>\n",
       "      <td>2015</td>\n",
       "      <td>54.400000</td>\n",
       "    </tr>\n",
       "    <tr>\n",
       "      <th>5</th>\n",
       "      <td>2016</td>\n",
       "      <td>58.818182</td>\n",
       "    </tr>\n",
       "    <tr>\n",
       "      <th>6</th>\n",
       "      <td>2017</td>\n",
       "      <td>81.000000</td>\n",
       "    </tr>\n",
       "  </tbody>\n",
       "</table>\n",
       "</div>"
      ],
      "text/plain": [
       "  Year Enacted_up  adoption rate of a version of policy(total score/31*2)\n",
       "0            2009                                          26.000000     \n",
       "1            2012                                          24.000000     \n",
       "2            2013                                          26.000000     \n",
       "3            2014                                          31.333333     \n",
       "4            2015                                          54.400000     \n",
       "5            2016                                          58.818182     \n",
       "6            2017                                          81.000000     "
      ]
     },
     "execution_count": 155,
     "metadata": {},
     "output_type": "execute_result"
    }
   ],
   "source": [
    "sunlight_result_year_groupby"
   ]
  },
  {
   "cell_type": "code",
   "execution_count": 167,
   "metadata": {},
   "outputs": [
    {
     "data": {
      "image/png": "[encoded data removed]",
      "text/plain": [
       "<matplotlib.figure.Figure at 0x10fa19e10>"
      ]
     },
     "metadata": {},
     "output_type": "display_data"
    }
   ],
   "source": [
    "#visual\n",
    "visual_nonsunlight_year_groupby = seaborn_chart('Year Enacted_up', 'adoption rate of a version of policy(total score/31*2)', sunlight_result_year_groupby, 'Year wise (mean) adoption rate')"
   ]
  },
  {
   "cell_type": "code",
   "execution_count": 181,
   "metadata": {},
   "outputs": [
    {
     "data": {
      "image/png": "[encoded data removed]",
      "text/plain": [
       "<matplotlib.figure.Figure at 0x113d9add8>"
      ]
     },
     "metadata": {},
     "output_type": "display_data"
    }
   ],
   "source": [
    "sunlight_result_year_groupby[\"total\"] = sunlight_result_year_groupby['adoption rate of a version of policy(total score/31*2)'] + result_year_groupby['adoption rate of a version of policy(total score/31*2)']\n",
    "\n",
    "#Set general plot properties\n",
    "sns.set_style(\"white\")\n",
    "sns.set_context({\"figure.figsize\": (24, 10)})\n",
    "\n",
    "#Plot 1 - background - \"total\" (top) series\n",
    "sns.barplot(x = sunlight_result_year_groupby[\"Year Enacted_up\"], y = sunlight_result_year_groupby.total, color = \"red\")\n",
    "\n",
    "#Plot 2 - overlay - \"bottom\" series\n",
    "bottom_plot = sns.barplot(x = sunlight_result_year_groupby[\"Year Enacted_up\"], y = sunlight_result_year_groupby['adoption rate of a version of policy(total score/31*2)'], color = \"#0000A3\")\n",
    "\n",
    "topbar = plt.Rectangle((0,0),1,1,fc=\"red\", edgecolor = 'none')\n",
    "bottombar = plt.Rectangle((0,0),1,1,fc='#0000A3',  edgecolor = 'none')\n",
    "l = plt.legend([bottombar, topbar], [\"Sunlight partnerships\", \"non Sunlight partnerships\"], loc=1, ncol = 2, prop={'size':16})\n",
    "l.draw_frame(False)\n",
    "\n",
    "#Optional code - Make plot look nicer\n",
    "sns.despine(left=True)\n",
    "bottom_plot.set_ylabel(\"Average adoption rate\")\n",
    "bottom_plot.set_xlabel(\"Years\")\n",
    "\n",
    "#Set fonts to consistent 16pt size\n",
    "for item in ([bottom_plot.xaxis.label, bottom_plot.yaxis.label] +\n",
    "             bottom_plot.get_xticklabels() + bottom_plot.get_yticklabels()):\n",
    "    item.set_fontsize(16)"
   ]
  },
  {
   "cell_type": "code",
   "execution_count": 244,
   "metadata": {},
   "outputs": [],
   "source": [
    "final_result = pd.concat([sunlight_result_year_groupby, result_year_groupby], axis=1)"
   ]
  },
  {
   "cell_type": "markdown",
   "metadata": {},
   "source": [
    "## further analysis\n",
    "-do a city wide analysis.\n",
    "\n",
    "-number of guidelines adopted (are more cities coming on board or most guidelines per city are being registered?)\n",
    "\n",
    "-from meeting with Greg:\n",
    "1. Show adoption rate over time for _all_ cities (not split Sunlight vs. non-Sunlight)\n",
    "2. _For cities that have passed multiple policies_, see if their adoption rate has increased from policy to policy\n",
    "3. State vs. all others\n",
    "4. State adoption average vs. city adoption average"
   ]
  },
  {
   "cell_type": "code",
   "execution_count": null,
   "metadata": {
    "collapsed": true
   },
   "outputs": [],
   "source": []
  }
 ],
 "metadata": {
  "kernelspec": {
   "display_name": "Python 3",
   "language": "python",
   "name": "python3"
  },
  "language_info": {
   "codemirror_mode": {
    "name": "ipython",
    "version": 3
   },
   "file_extension": ".py",
   "mimetype": "text/x-python",
   "name": "python",
   "nbconvert_exporter": "python",
   "pygments_lexer": "ipython3",
   "version": "3.6.1"
  }
 },
 "nbformat": 4,
 "nbformat_minor": 2
}
