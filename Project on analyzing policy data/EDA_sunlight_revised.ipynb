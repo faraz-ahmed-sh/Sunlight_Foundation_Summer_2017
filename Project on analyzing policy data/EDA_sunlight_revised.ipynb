{
 "cells": [
  {
   "cell_type": "code",
   "execution_count": 36,
   "metadata": {},
   "outputs": [],
   "source": [
    "import pandas as pd\n",
    "import seaborn as sns\n",
    "import matplotlib.pyplot as plt\n",
    "import numpy as np\n",
    "#%matplotlib inline"
   ]
  },
  {
   "cell_type": "code",
   "execution_count": 37,
   "metadata": {
    "collapsed": true
   },
   "outputs": [],
   "source": [
    "from util import *"
   ]
  },
  {
   "cell_type": "code",
   "execution_count": 38,
   "metadata": {},
   "outputs": [],
   "source": [
    "%run util"
   ]
  },
  {
   "cell_type": "code",
   "execution_count": 39,
   "metadata": {},
   "outputs": [],
   "source": [
    "df = read_data('Comparisons - one sheet_06_26')"
   ]
  },
  {
   "cell_type": "code",
   "execution_count": 40,
   "metadata": {},
   "outputs": [],
   "source": [
    "df_2 = read_data('Open Data Policy Comparison_08_24')"
   ]
  },
  {
   "cell_type": "code",
   "execution_count": 41,
   "metadata": {},
   "outputs": [],
   "source": [
    "# Transpose the file\n",
    "df_2 = df_2.T"
   ]
  },
  {
   "cell_type": "code",
   "execution_count": 42,
   "metadata": {},
   "outputs": [],
   "source": [
    "new_header = df_2.iloc[0] #grab the first row for the header\n",
    "df_2 = df_2[1:] #take the data less the header row\n",
    "df_2 = df_2.rename(columns = new_header) #set the header row as the df header"
   ]
  },
  {
   "cell_type": "code",
   "execution_count": 43,
   "metadata": {},
   "outputs": [],
   "source": [
    "df_2.columns.values[0] = \"City\""
   ]
  },
  {
   "cell_type": "code",
   "execution_count": 44,
   "metadata": {},
   "outputs": [],
   "source": [
    "df_2 = df_2[:-5]"
   ]
  },
  {
   "cell_type": "markdown",
   "metadata": {},
   "source": [
    "This file has 61 columns. Those columns include information about cities as well as whether they comply with each of the 31 guidelines as laid out by Sunlight Foundation. Each row corresponds to a unique open data policy."
   ]
  },
  {
   "cell_type": "code",
   "execution_count": 45,
   "metadata": {},
   "outputs": [],
   "source": [
    "# drop all rows with nan's\n",
    "df_2 = df_2.dropna(axis=0, how=\"all\")"
   ]
  },
  {
   "cell_type": "code",
   "execution_count": 46,
   "metadata": {},
   "outputs": [
    {
     "data": {
      "text/html": [
       "<div>\n",
       "<style>\n",
       "    .dataframe thead tr:only-child th {\n",
       "        text-align: right;\n",
       "    }\n",
       "\n",
       "    .dataframe thead th {\n",
       "        text-align: left;\n",
       "    }\n",
       "\n",
       "    .dataframe tbody tr th {\n",
       "        vertical-align: top;\n",
       "    }\n",
       "</style>\n",
       "<table border=\"1\" class=\"dataframe\">\n",
       "  <thead>\n",
       "    <tr style=\"text-align: right;\">\n",
       "      <th></th>\n",
       "      <th>City</th>\n",
       "      <th>BASICS</th>\n",
       "      <th>Type</th>\n",
       "      <th>Link</th>\n",
       "      <th>Legal Means</th>\n",
       "      <th>Year Enacted</th>\n",
       "      <th>Date Enacted</th>\n",
       "      <th>Prior Versions?</th>\n",
       "      <th>Population (ACS 2012; US Census 2012 est for counties)</th>\n",
       "      <th>Guidance / Supplement</th>\n",
       "      <th>...</th>\n",
       "      <th>28. Create processes to ensure data quality</th>\n",
       "      <th>29. Ensure sufficient funding for implementation</th>\n",
       "      <th>30. Create or explore potential partnerships</th>\n",
       "      <th>31. Mandate future review for potential changes to this policy</th>\n",
       "      <th>nan</th>\n",
       "      <th># of close fit</th>\n",
       "      <th># of opposite</th>\n",
       "      <th># of blank space and n/a</th>\n",
       "      <th># of adopted guidelines</th>\n",
       "      <th>adoption rate of a version of policy(total score/31*2)</th>\n",
       "    </tr>\n",
       "  </thead>\n",
       "  <tbody>\n",
       "    <tr>\n",
       "      <th>112</th>\n",
       "      <td># of close fit (close fit assigns  score 1)</td>\n",
       "      <td>NaN</td>\n",
       "      <td>NaN</td>\n",
       "      <td>NaN</td>\n",
       "      <td>NaN</td>\n",
       "      <td>NaN</td>\n",
       "      <td>NaN</td>\n",
       "      <td>NaN</td>\n",
       "      <td>NaN</td>\n",
       "      <td>NaN</td>\n",
       "      <td>...</td>\n",
       "      <td>11</td>\n",
       "      <td>7</td>\n",
       "      <td>2</td>\n",
       "      <td>0</td>\n",
       "      <td>NaN</td>\n",
       "      <td>NaN</td>\n",
       "      <td>NaN</td>\n",
       "      <td>NaN</td>\n",
       "      <td>11.5412844</td>\n",
       "      <td>NaN</td>\n",
       "    </tr>\n",
       "  </tbody>\n",
       "</table>\n",
       "<p>1 rows × 61 columns</p>\n",
       "</div>"
      ],
      "text/plain": [
       "                                            City BASICS Type Link Legal Means  \\\n",
       "112  # of close fit (close fit assigns  score 1)    NaN  NaN  NaN         NaN   \n",
       "\n",
       "    Year Enacted Date Enacted Prior Versions?  \\\n",
       "112          NaN          NaN             NaN   \n",
       "\n",
       "    Population (ACS 2012; US Census 2012 est for counties)  \\\n",
       "112                                                NaN       \n",
       "\n",
       "    Guidance / Supplement   \\\n",
       "112                    NaN   \n",
       "\n",
       "                             ...                            \\\n",
       "112                          ...                             \n",
       "\n",
       "    28. Create processes to ensure data quality  \\\n",
       "112                                          11   \n",
       "\n",
       "    29. Ensure sufficient funding for implementation  \\\n",
       "112                                                7   \n",
       "\n",
       "    30. Create or explore potential partnerships  \\\n",
       "112                                            2   \n",
       "\n",
       "    31. Mandate future review for potential changes to this policy  NaN  \\\n",
       "112                                                  0              NaN   \n",
       "\n",
       "    # of close fit  # of opposite # of blank space and n/a  \\\n",
       "112            NaN            NaN                      NaN   \n",
       "\n",
       "    # of adopted guidelines  \\\n",
       "112              11.5412844   \n",
       "\n",
       "    adoption rate of a version of policy(total score/31*2)  \n",
       "112                                                NaN      \n",
       "\n",
       "[1 rows x 61 columns]"
      ]
     },
     "execution_count": 46,
     "metadata": {},
     "output_type": "execute_result"
    }
   ],
   "source": [
    "df_2[df_2[\"Year Enacted\"].isnull()]"
   ]
  },
  {
   "cell_type": "markdown",
   "metadata": {},
   "source": [
    "# Overall Cities Analysis"
   ]
  },
  {
   "cell_type": "markdown",
   "metadata": {},
   "source": [
    "####  The following code is used to convert the datatypes into the desired format (string, int, float etc.)"
   ]
  },
  {
   "cell_type": "code",
   "execution_count": 47,
   "metadata": {},
   "outputs": [],
   "source": [
    "df_2['adoption rate of a version of policy(total score/31*2)'] = df_2['adoption rate of a version of policy(total score/31*2)'].astype(str)"
   ]
  },
  {
   "cell_type": "code",
   "execution_count": 48,
   "metadata": {},
   "outputs": [],
   "source": [
    "df_2['adoption rate of a version of policy(total score/31*2)'] = df_2['adoption rate of a version of policy(total score/31*2)'].str.replace('%','')\n",
    "df_2['adoption rate of a version of policy(total score/31*2)'] = df_2['adoption rate of a version of policy(total score/31*2)'].astype(float)/100"
   ]
  },
  {
   "cell_type": "code",
   "execution_count": 49,
   "metadata": {},
   "outputs": [],
   "source": [
    "df_2['Year Enacted'] = pd.to_numeric(df_2['Year Enacted'], errors=\"coerce\")\n",
    "df_2['City'] = df_2['City'].astype('str')"
   ]
  },
  {
   "cell_type": "markdown",
   "metadata": {},
   "source": [
    "#### Filtering the dataframe to be used later"
   ]
  },
  {
   "cell_type": "code",
   "execution_count": 50,
   "metadata": {},
   "outputs": [],
   "source": [
    "all_sunlight_cities = df_2.groupby(['City', 'Year Enacted', 'adoption rate of a version of policy(total score/31*2)'], as_index=False).sum().iloc[:,0:3]"
   ]
  },
  {
   "cell_type": "code",
   "execution_count": 51,
   "metadata": {},
   "outputs": [],
   "source": [
    "all_sunlight_cities['Year Enacted'] = all_sunlight_cities['Year Enacted'].apply(np.floor)"
   ]
  },
  {
   "cell_type": "code",
   "execution_count": 52,
   "metadata": {},
   "outputs": [
    {
     "data": {
      "text/html": [
       "<div>\n",
       "<style>\n",
       "    .dataframe thead tr:only-child th {\n",
       "        text-align: right;\n",
       "    }\n",
       "\n",
       "    .dataframe thead th {\n",
       "        text-align: left;\n",
       "    }\n",
       "\n",
       "    .dataframe tbody tr th {\n",
       "        vertical-align: top;\n",
       "    }\n",
       "</style>\n",
       "<table border=\"1\" class=\"dataframe\">\n",
       "  <thead>\n",
       "    <tr style=\"text-align: right;\">\n",
       "      <th></th>\n",
       "      <th>City</th>\n",
       "      <th>Year Enacted</th>\n",
       "      <th>adoption rate of a version of policy(total score/31*2)</th>\n",
       "    </tr>\n",
       "  </thead>\n",
       "  <tbody>\n",
       "    <tr>\n",
       "      <th>0</th>\n",
       "      <td>Amherst, NY</td>\n",
       "      <td>2014.0</td>\n",
       "      <td>0.3710</td>\n",
       "    </tr>\n",
       "    <tr>\n",
       "      <th>1</th>\n",
       "      <td>Anchorage, AK</td>\n",
       "      <td>2016.0</td>\n",
       "      <td>0.7097</td>\n",
       "    </tr>\n",
       "    <tr>\n",
       "      <th>2</th>\n",
       "      <td>Arlington County, VA</td>\n",
       "      <td>2016.0</td>\n",
       "      <td>0.2903</td>\n",
       "    </tr>\n",
       "    <tr>\n",
       "      <th>3</th>\n",
       "      <td>Asheville, NC</td>\n",
       "      <td>2015.0</td>\n",
       "      <td>0.5806</td>\n",
       "    </tr>\n",
       "    <tr>\n",
       "      <th>4</th>\n",
       "      <td>Austin, TX</td>\n",
       "      <td>2011.0</td>\n",
       "      <td>0.0000</td>\n",
       "    </tr>\n",
       "  </tbody>\n",
       "</table>\n",
       "</div>"
      ],
      "text/plain": [
       "                   City  Year Enacted  \\\n",
       "0           Amherst, NY        2014.0   \n",
       "1         Anchorage, AK        2016.0   \n",
       "2  Arlington County, VA        2016.0   \n",
       "3         Asheville, NC        2015.0   \n",
       "4            Austin, TX        2011.0   \n",
       "\n",
       "   adoption rate of a version of policy(total score/31*2)  \n",
       "0                                             0.3710       \n",
       "1                                             0.7097       \n",
       "2                                             0.2903       \n",
       "3                                             0.5806       \n",
       "4                                             0.0000       "
      ]
     },
     "execution_count": 52,
     "metadata": {},
     "output_type": "execute_result"
    }
   ],
   "source": [
    "all_sunlight_cities.head()"
   ]
  },
  {
   "cell_type": "markdown",
   "metadata": {},
   "source": [
    "#### Filtering the data based on year"
   ]
  },
  {
   "cell_type": "code",
   "execution_count": 53,
   "metadata": {},
   "outputs": [
    {
     "name": "stderr",
     "output_type": "stream",
     "text": [
      "/Users/summerfellow/anaconda/envs/py35/lib/python3.5/site-packages/ipykernel_launcher.py:1: FutureWarning: by argument to sort_index is deprecated, pls use .sort_values(by=...)\n",
      "  \"\"\"Entry point for launching an IPython kernel.\n"
     ]
    }
   ],
   "source": [
    "all_sunlight_cities_filtered_by_year = all_sunlight_cities.sort_index(by=['Year Enacted'], ascending=[True])"
   ]
  },
  {
   "cell_type": "code",
   "execution_count": 54,
   "metadata": {},
   "outputs": [],
   "source": [
    "all_cities_year_count = explore_analysis(\"City\",\"Year Enacted\", \"groupby_count\", all_sunlight_cities_filtered_by_year)"
   ]
  },
  {
   "cell_type": "code",
   "execution_count": 87,
   "metadata": {},
   "outputs": [
    {
     "data": {
      "text/html": [
       "<div>\n",
       "<style>\n",
       "    .dataframe thead tr:only-child th {\n",
       "        text-align: right;\n",
       "    }\n",
       "\n",
       "    .dataframe thead th {\n",
       "        text-align: left;\n",
       "    }\n",
       "\n",
       "    .dataframe tbody tr th {\n",
       "        vertical-align: top;\n",
       "    }\n",
       "</style>\n",
       "<table border=\"1\" class=\"dataframe\">\n",
       "  <thead>\n",
       "    <tr style=\"text-align: right;\">\n",
       "      <th></th>\n",
       "      <th>Year Enacted</th>\n",
       "      <th>City</th>\n",
       "    </tr>\n",
       "  </thead>\n",
       "  <tbody>\n",
       "    <tr>\n",
       "      <th>0</th>\n",
       "      <td>2006.0</td>\n",
       "      <td>1</td>\n",
       "    </tr>\n",
       "    <tr>\n",
       "      <th>1</th>\n",
       "      <td>2009.0</td>\n",
       "      <td>3</td>\n",
       "    </tr>\n",
       "    <tr>\n",
       "      <th>2</th>\n",
       "      <td>2010.0</td>\n",
       "      <td>1</td>\n",
       "    </tr>\n",
       "    <tr>\n",
       "      <th>3</th>\n",
       "      <td>2011.0</td>\n",
       "      <td>6</td>\n",
       "    </tr>\n",
       "    <tr>\n",
       "      <th>4</th>\n",
       "      <td>2012.0</td>\n",
       "      <td>9</td>\n",
       "    </tr>\n",
       "    <tr>\n",
       "      <th>5</th>\n",
       "      <td>2013.0</td>\n",
       "      <td>15</td>\n",
       "    </tr>\n",
       "    <tr>\n",
       "      <th>6</th>\n",
       "      <td>2014.0</td>\n",
       "      <td>25</td>\n",
       "    </tr>\n",
       "    <tr>\n",
       "      <th>7</th>\n",
       "      <td>2015.0</td>\n",
       "      <td>11</td>\n",
       "    </tr>\n",
       "    <tr>\n",
       "      <th>8</th>\n",
       "      <td>2016.0</td>\n",
       "      <td>28</td>\n",
       "    </tr>\n",
       "    <tr>\n",
       "      <th>9</th>\n",
       "      <td>2017.0</td>\n",
       "      <td>10</td>\n",
       "    </tr>\n",
       "  </tbody>\n",
       "</table>\n",
       "</div>"
      ],
      "text/plain": [
       "   Year Enacted  City\n",
       "0        2006.0     1\n",
       "1        2009.0     3\n",
       "2        2010.0     1\n",
       "3        2011.0     6\n",
       "4        2012.0     9\n",
       "5        2013.0    15\n",
       "6        2014.0    25\n",
       "7        2015.0    11\n",
       "8        2016.0    28\n",
       "9        2017.0    10"
      ]
     },
     "execution_count": 87,
     "metadata": {},
     "output_type": "execute_result"
    }
   ],
   "source": [
    "all_cities_year_count"
   ]
  },
  {
   "cell_type": "markdown",
   "metadata": {},
   "source": [
    "######### what was special in these years?\n",
    "[fill in]"
   ]
  },
  {
   "cell_type": "code",
   "execution_count": 93,
   "metadata": {},
   "outputs": [
    {
     "data": {
      "image/png": "[encoded data removed]",
      "text/plain": [
       "<matplotlib.figure.Figure at 0x117589f60>"
      ]
     },
     "metadata": {},
     "output_type": "display_data"
    }
   ],
   "source": [
    "horizontal_bar_from_dataframe(all_cities_year_count, 'Year Enacted', 'City', 'Number of cities that adopted policies')"
   ]
  },
  {
   "cell_type": "code",
   "execution_count": 101,
   "metadata": {},
   "outputs": [
    {
     "data": {
      "image/png": "[encoded data removed]",
      "text/plain": [
       "<matplotlib.figure.Figure at 0x11758ca20>"
      ]
     },
     "metadata": {},
     "output_type": "display_data"
    }
   ],
   "source": [
    "visual = seaborn_chart('Year Enacted', 'City', all_cities_year_count, 'Year', 'Adoption (mean) rate', 'Adoption (mean) Rate of Sunlight Foundation Guidelines by Year')"
   ]
  },
  {
   "cell_type": "markdown",
   "metadata": {},
   "source": [
    "### Adoption (mean) rate"
   ]
  },
  {
   "cell_type": "code",
   "execution_count": 104,
   "metadata": {},
   "outputs": [],
   "source": [
    "all_cities_year_mean = explore_analysis(\"adoption rate of a version of policy(total score/31*2)\",\"Year Enacted\", \"groupby_mean\", all_sunlight_cities_filtered_by_year)"
   ]
  },
  {
   "cell_type": "code",
   "execution_count": 105,
   "metadata": {},
   "outputs": [
    {
     "data": {
      "text/html": [
       "<div>\n",
       "<style>\n",
       "    .dataframe thead tr:only-child th {\n",
       "        text-align: right;\n",
       "    }\n",
       "\n",
       "    .dataframe thead th {\n",
       "        text-align: left;\n",
       "    }\n",
       "\n",
       "    .dataframe tbody tr th {\n",
       "        vertical-align: top;\n",
       "    }\n",
       "</style>\n",
       "<table border=\"1\" class=\"dataframe\">\n",
       "  <thead>\n",
       "    <tr style=\"text-align: right;\">\n",
       "      <th></th>\n",
       "      <th>Year Enacted</th>\n",
       "      <th>adoption rate of a version of policy(total score/31*2)</th>\n",
       "    </tr>\n",
       "  </thead>\n",
       "  <tbody>\n",
       "    <tr>\n",
       "      <th>0</th>\n",
       "      <td>2006.0</td>\n",
       "      <td>0.000000</td>\n",
       "    </tr>\n",
       "    <tr>\n",
       "      <th>1</th>\n",
       "      <td>2009.0</td>\n",
       "      <td>0.172067</td>\n",
       "    </tr>\n",
       "    <tr>\n",
       "      <th>2</th>\n",
       "      <td>2010.0</td>\n",
       "      <td>0.000000</td>\n",
       "    </tr>\n",
       "    <tr>\n",
       "      <th>3</th>\n",
       "      <td>2011.0</td>\n",
       "      <td>0.123667</td>\n",
       "    </tr>\n",
       "    <tr>\n",
       "      <th>4</th>\n",
       "      <td>2012.0</td>\n",
       "      <td>0.288522</td>\n",
       "    </tr>\n",
       "    <tr>\n",
       "      <th>5</th>\n",
       "      <td>2013.0</td>\n",
       "      <td>0.347320</td>\n",
       "    </tr>\n",
       "    <tr>\n",
       "      <th>6</th>\n",
       "      <td>2014.0</td>\n",
       "      <td>0.352908</td>\n",
       "    </tr>\n",
       "    <tr>\n",
       "      <th>7</th>\n",
       "      <td>2015.0</td>\n",
       "      <td>0.436955</td>\n",
       "    </tr>\n",
       "    <tr>\n",
       "      <th>8</th>\n",
       "      <td>2016.0</td>\n",
       "      <td>0.469468</td>\n",
       "    </tr>\n",
       "    <tr>\n",
       "      <th>9</th>\n",
       "      <td>2017.0</td>\n",
       "      <td>0.651610</td>\n",
       "    </tr>\n",
       "  </tbody>\n",
       "</table>\n",
       "</div>"
      ],
      "text/plain": [
       "   Year Enacted  adoption rate of a version of policy(total score/31*2)\n",
       "0        2006.0                                           0.000000     \n",
       "1        2009.0                                           0.172067     \n",
       "2        2010.0                                           0.000000     \n",
       "3        2011.0                                           0.123667     \n",
       "4        2012.0                                           0.288522     \n",
       "5        2013.0                                           0.347320     \n",
       "6        2014.0                                           0.352908     \n",
       "7        2015.0                                           0.436955     \n",
       "8        2016.0                                           0.469468     \n",
       "9        2017.0                                           0.651610     "
      ]
     },
     "execution_count": 105,
     "metadata": {},
     "output_type": "execute_result"
    }
   ],
   "source": [
    "all_cities_year_mean"
   ]
  },
  {
   "cell_type": "code",
   "execution_count": 106,
   "metadata": {},
   "outputs": [
    {
     "data": {
      "image/png": "[encoded data removed]",
      "text/plain": [
       "<matplotlib.figure.Figure at 0x1181c5cc0>"
      ]
     },
     "metadata": {},
     "output_type": "display_data"
    }
   ],
   "source": [
    "visual_mean = seaborn_chart('Year Enacted', 'adoption rate of a version of policy(total score/31*2)', all_cities_year_mean, 'Year', 'Adoption (mean) rate', 'Adoption (mean) Rate of Sunlight Foundation Guidelines by Year')"
   ]
  },
  {
   "cell_type": "markdown",
   "metadata": {},
   "source": [
    "### Adoption (median) rate"
   ]
  },
  {
   "cell_type": "code",
   "execution_count": 107,
   "metadata": {},
   "outputs": [
    {
     "ename": "NameError",
     "evalue": "name 'all_sunlight_cities_filtered' is not defined",
     "output_type": "error",
     "traceback": [
      "\u001b[0;31m---------------------------------------------------------------------------\u001b[0m",
      "\u001b[0;31mNameError\u001b[0m                                 Traceback (most recent call last)",
      "\u001b[0;32m<ipython-input-107-d60b237dc7a1>\u001b[0m in \u001b[0;36m<module>\u001b[0;34m()\u001b[0m\n\u001b[0;32m----> 1\u001b[0;31m \u001b[0mall_cities_year_median\u001b[0m \u001b[0;34m=\u001b[0m \u001b[0mexplore_analysis\u001b[0m\u001b[0;34m(\u001b[0m\u001b[0;34m\"adoption rate of a version of policy(total score/31*2)\"\u001b[0m\u001b[0;34m,\u001b[0m\u001b[0;34m\"Year Enacted_up\"\u001b[0m\u001b[0;34m,\u001b[0m \u001b[0;34m\"groupby_median\"\u001b[0m\u001b[0;34m,\u001b[0m \u001b[0mall_sunlight_cities_filtered\u001b[0m\u001b[0;34m)\u001b[0m\u001b[0;34m\u001b[0m\u001b[0m\n\u001b[0m",
      "\u001b[0;31mNameError\u001b[0m: name 'all_sunlight_cities_filtered' is not defined"
     ]
    }
   ],
   "source": [
    "all_cities_year_median = explore_analysis(\"adoption rate of a version of policy(total score/31*2)\",\"Year Enacted_up\", \"groupby_median\", all_sunlight_cities_filtered)"
   ]
  },
  {
   "cell_type": "code",
   "execution_count": 108,
   "metadata": {},
   "outputs": [
    {
     "ename": "NameError",
     "evalue": "name 'all_cities_year_median' is not defined",
     "output_type": "error",
     "traceback": [
      "\u001b[0;31m---------------------------------------------------------------------------\u001b[0m",
      "\u001b[0;31mNameError\u001b[0m                                 Traceback (most recent call last)",
      "\u001b[0;32m<ipython-input-108-1e931f88efa1>\u001b[0m in \u001b[0;36m<module>\u001b[0;34m()\u001b[0m\n\u001b[0;32m----> 1\u001b[0;31m \u001b[0mall_cities_year_median\u001b[0m\u001b[0;34m\u001b[0m\u001b[0m\n\u001b[0m",
      "\u001b[0;31mNameError\u001b[0m: name 'all_cities_year_median' is not defined"
     ]
    }
   ],
   "source": [
    "all_cities_year_median"
   ]
  },
  {
   "cell_type": "code",
   "execution_count": 109,
   "metadata": {},
   "outputs": [
    {
     "ename": "NameError",
     "evalue": "name 'all_cities_year_median' is not defined",
     "output_type": "error",
     "traceback": [
      "\u001b[0;31m---------------------------------------------------------------------------\u001b[0m",
      "\u001b[0;31mNameError\u001b[0m                                 Traceback (most recent call last)",
      "\u001b[0;32m<ipython-input-109-34cd5135e991>\u001b[0m in \u001b[0;36m<module>\u001b[0;34m()\u001b[0m\n\u001b[0;32m----> 1\u001b[0;31m \u001b[0mvisual_1_median\u001b[0m \u001b[0;34m=\u001b[0m \u001b[0mseaborn_chart\u001b[0m\u001b[0;34m(\u001b[0m\u001b[0;34m'Year Enacted_up'\u001b[0m\u001b[0;34m,\u001b[0m \u001b[0;34m'adoption rate of a version of policy(total score/31*2)'\u001b[0m\u001b[0;34m,\u001b[0m \u001b[0mall_cities_year_median\u001b[0m\u001b[0;34m,\u001b[0m \u001b[0;34m'Year'\u001b[0m\u001b[0;34m,\u001b[0m \u001b[0;34m'Adoption (median) rate of Sunlight guidelines'\u001b[0m\u001b[0;34m,\u001b[0m \u001b[0;34m'Adoption (median) Rate of Sunlight Foundation Guidelines by Year'\u001b[0m\u001b[0;34m)\u001b[0m\u001b[0;34m\u001b[0m\u001b[0m\n\u001b[0m",
      "\u001b[0;31mNameError\u001b[0m: name 'all_cities_year_median' is not defined"
     ]
    }
   ],
   "source": [
    "visual_1_median = seaborn_chart('Year Enacted_up', 'adoption rate of a version of policy(total score/31*2)', all_cities_year_median, 'Year', 'Adoption (median) rate of Sunlight guidelines', 'Adoption (median) Rate of Sunlight Foundation Guidelines by Year')"
   ]
  },
  {
   "cell_type": "markdown",
   "metadata": {},
   "source": [
    "Insights:\n",
    "- one one data point for 2017. Do we have more?\n",
    "- no data on 2010 for the adoption rate.\n",
    "- Interestingly, the adoption rate of 2009 > adoption rate of 2011. What does that mean?"
   ]
  },
  {
   "cell_type": "markdown",
   "metadata": {},
   "source": [
    "# Cities that have passed multiple policies"
   ]
  },
  {
   "cell_type": "code",
   "execution_count": 50,
   "metadata": {
    "collapsed": true
   },
   "outputs": [],
   "source": [
    "#finding cities with multiple policies\n",
    "all_cities_duplicate = all_sunlight_cities.duplicated(\"City\", keep=False)"
   ]
  },
  {
   "cell_type": "code",
   "execution_count": 51,
   "metadata": {
    "collapsed": true
   },
   "outputs": [],
   "source": [
    "all_cities_duplicate_full = all_sunlight_cities[all_cities_duplicate]"
   ]
  },
  {
   "cell_type": "code",
   "execution_count": 52,
   "metadata": {},
   "outputs": [
    {
     "data": {
      "text/html": [
       "<div>\n",
       "<style>\n",
       "    .dataframe thead tr:only-child th {\n",
       "        text-align: right;\n",
       "    }\n",
       "\n",
       "    .dataframe thead th {\n",
       "        text-align: left;\n",
       "    }\n",
       "\n",
       "    .dataframe tbody tr th {\n",
       "        vertical-align: top;\n",
       "    }\n",
       "</style>\n",
       "<table border=\"1\" class=\"dataframe\">\n",
       "  <thead>\n",
       "    <tr style=\"text-align: right;\">\n",
       "      <th></th>\n",
       "      <th>City</th>\n",
       "      <th>Year Enacted_up</th>\n",
       "      <th>adoption rate of a version of policy(total score/31*2)</th>\n",
       "    </tr>\n",
       "  </thead>\n",
       "  <tbody>\n",
       "    <tr>\n",
       "      <th>3</th>\n",
       "      <td>Austin, TX</td>\n",
       "      <td>2011.0</td>\n",
       "      <td>0.00</td>\n",
       "    </tr>\n",
       "    <tr>\n",
       "      <th>4</th>\n",
       "      <td>Austin, TX</td>\n",
       "      <td>2013.0</td>\n",
       "      <td>0.52</td>\n",
       "    </tr>\n",
       "    <tr>\n",
       "      <th>5</th>\n",
       "      <td>Baltimore, MD</td>\n",
       "      <td>2011.0</td>\n",
       "      <td>0.00</td>\n",
       "    </tr>\n",
       "    <tr>\n",
       "      <th>6</th>\n",
       "      <td>Baltimore, MD</td>\n",
       "      <td>2016.0</td>\n",
       "      <td>0.00</td>\n",
       "    </tr>\n",
       "    <tr>\n",
       "      <th>9</th>\n",
       "      <td>Cambridge, MA</td>\n",
       "      <td>2014.0</td>\n",
       "      <td>0.00</td>\n",
       "    </tr>\n",
       "  </tbody>\n",
       "</table>\n",
       "</div>"
      ],
      "text/plain": [
       "            City  Year Enacted_up  \\\n",
       "3     Austin, TX           2011.0   \n",
       "4     Austin, TX           2013.0   \n",
       "5  Baltimore, MD           2011.0   \n",
       "6  Baltimore, MD           2016.0   \n",
       "9  Cambridge, MA           2014.0   \n",
       "\n",
       "   adoption rate of a version of policy(total score/31*2)  \n",
       "3                                               0.00       \n",
       "4                                               0.52       \n",
       "5                                               0.00       \n",
       "6                                               0.00       \n",
       "9                                               0.00       "
      ]
     },
     "execution_count": 52,
     "metadata": {},
     "output_type": "execute_result"
    }
   ],
   "source": [
    "all_cities_duplicate_full.head()"
   ]
  },
  {
   "cell_type": "code",
   "execution_count": 53,
   "metadata": {},
   "outputs": [
    {
     "name": "stderr",
     "output_type": "stream",
     "text": [
      "/Users/summerfellow/anaconda/envs/py35/lib/python3.5/site-packages/ipykernel_launcher.py:1: FutureWarning: by argument to sort_index is deprecated, pls use .sort_values(by=...)\n",
      "  \"\"\"Entry point for launching an IPython kernel.\n"
     ]
    }
   ],
   "source": [
    "all_cities_duplicate_full = all_cities_duplicate_full.sort_index(by=['Year Enacted_up'], ascending=[True])"
   ]
  },
  {
   "cell_type": "code",
   "execution_count": 54,
   "metadata": {},
   "outputs": [
    {
     "data": {
      "text/html": [
       "<div>\n",
       "<style>\n",
       "    .dataframe thead tr:only-child th {\n",
       "        text-align: right;\n",
       "    }\n",
       "\n",
       "    .dataframe thead th {\n",
       "        text-align: left;\n",
       "    }\n",
       "\n",
       "    .dataframe tbody tr th {\n",
       "        vertical-align: top;\n",
       "    }\n",
       "</style>\n",
       "<table border=\"1\" class=\"dataframe\">\n",
       "  <thead>\n",
       "    <tr style=\"text-align: right;\">\n",
       "      <th></th>\n",
       "      <th>City</th>\n",
       "      <th>Year Enacted_up</th>\n",
       "      <th>adoption rate of a version of policy(total score/31*2)</th>\n",
       "    </tr>\n",
       "  </thead>\n",
       "  <tbody>\n",
       "    <tr>\n",
       "      <th>83</th>\n",
       "      <td>Washington, D.C.</td>\n",
       "      <td>2006.0</td>\n",
       "      <td>0.0</td>\n",
       "    </tr>\n",
       "    <tr>\n",
       "      <th>65</th>\n",
       "      <td>San Francisco, CA</td>\n",
       "      <td>2009.0</td>\n",
       "      <td>0.0</td>\n",
       "    </tr>\n",
       "    <tr>\n",
       "      <th>66</th>\n",
       "      <td>San Francisco, CA</td>\n",
       "      <td>2010.0</td>\n",
       "      <td>0.0</td>\n",
       "    </tr>\n",
       "    <tr>\n",
       "      <th>3</th>\n",
       "      <td>Austin, TX</td>\n",
       "      <td>2011.0</td>\n",
       "      <td>0.0</td>\n",
       "    </tr>\n",
       "    <tr>\n",
       "      <th>5</th>\n",
       "      <td>Baltimore, MD</td>\n",
       "      <td>2011.0</td>\n",
       "      <td>0.0</td>\n",
       "    </tr>\n",
       "  </tbody>\n",
       "</table>\n",
       "</div>"
      ],
      "text/plain": [
       "                 City  Year Enacted_up  \\\n",
       "83   Washington, D.C.           2006.0   \n",
       "65  San Francisco, CA           2009.0   \n",
       "66  San Francisco, CA           2010.0   \n",
       "3          Austin, TX           2011.0   \n",
       "5       Baltimore, MD           2011.0   \n",
       "\n",
       "    adoption rate of a version of policy(total score/31*2)  \n",
       "83                                                0.0       \n",
       "65                                                0.0       \n",
       "66                                                0.0       \n",
       "3                                                 0.0       \n",
       "5                                                 0.0       "
      ]
     },
     "execution_count": 54,
     "metadata": {},
     "output_type": "execute_result"
    }
   ],
   "source": [
    "all_cities_duplicate_full.head()"
   ]
  },
  {
   "cell_type": "code",
   "execution_count": 55,
   "metadata": {
    "collapsed": true
   },
   "outputs": [],
   "source": [
    "m_cities = {}\n",
    "for city in all_cities_duplicate_full.values:\n",
    "    \n",
    "    if city[0] in m_cities:\n",
    "        m_cities[city[0]].append(city[1])\n",
    "        m_cities[city[0]].append(city[2])\n",
    "        \n",
    "    else:\n",
    "        m_cities[city[0]] = []\n",
    "        m_cities[city[0]].append(city[1])\n",
    "        m_cities[city[0]].append(city[2])"
   ]
  },
  {
   "cell_type": "code",
   "execution_count": 61,
   "metadata": {},
   "outputs": [
    {
     "name": "stdout",
     "output_type": "stream",
     "text": [
      "Kansas City, MO [2014.0, 0.37, 2014.0, 0.26, 2015.0, 0.03]\n",
      "Tulsa, OK [2013.0, 0.26, 2015.0, 0.52]\n",
      "Austin, TX [2011.0, 0.0, 2013.0, 0.52]\n",
      "Baltimore, MD [2011.0, 0.0, 2016.0, 0.0]\n",
      "New Hampshire [2012.0, 0.0, 2013.0, 0.15]\n",
      "San Francisco, CA [2009.0, 0.0, 2010.0, 0.0, 2013.0, 0.53]\n",
      "Washington, D.C. [2006.0, 0.0, 2011.0, 0.1, 2014.0, 0.58]\n",
      "Scottsdale, AZ [2016.0, 0.32, 2017.0, 0.81]\n",
      "Seattle, WA [2016.0, 0.68, 2016.0, 0.77]\n",
      "Las Vegas [2014.0, 0.34, 2016.0, 0.68]\n",
      "Cambridge, MA [2014.0, 0.0, 2015.0, 0.63]\n"
     ]
    }
   ],
   "source": [
    "for city, values in m_cities.items():\n",
    "    print(city, values)"
   ]
  },
  {
   "cell_type": "code",
   "execution_count": 67,
   "metadata": {},
   "outputs": [
    {
     "data": {
      "image/png": "[encoded data removed]",
      "text/plain": [
       "<matplotlib.figure.Figure at 0x1161fbb70>"
      ]
     },
     "metadata": {},
     "output_type": "display_data"
    }
   ],
   "source": [
    "fig = plt.figure(figsize = (11,8))\n",
    "\n",
    "fig.text(0.4, -0.02, 'Year', ha='center', fontsize=20)\n",
    "fig.text(-0.03, 0.5, 'Adoption Rate (median)', va='center', rotation='vertical', fontsize=20)\n",
    "\n",
    "font = {'weight' : 'medium', 'size'   : 5}\n",
    "plt.rc('font', **font)\n",
    "plt.subplots_adjust(hspace=.005)\n",
    "\n",
    "rows = 3\n",
    "cols = 4\n",
    "n = 1\n",
    "\n",
    "for city, values in m_cities.items():\n",
    "    plt.subplot(rows, cols, n)\n",
    "    plt.rc('xtick',labelsize=10)\n",
    "    plt.rc('ytick',labelsize=12)\n",
    "\n",
    "    plt.title(city, fontsize=15)\n",
    "    x=[]\n",
    "    y=[]\n",
    "    \n",
    "    for i in range(len(values)):\n",
    "        if i % 2 != 0:\n",
    "            y.append(values[i])\n",
    "        else:\n",
    "            x.append(values[i])\n",
    "    axes = plt.gca()\n",
    "    axes.set_ylim([0,1])\n",
    "    plt.xticks(x)\n",
    "    #plt.yticks(xrange(10), (0, 0.1, 0.2, 0.3, 0.4, 0.5, 0.6, 0.7, 0.8, 0.9, 1.0))\n",
    "    \n",
    "    plt.plot(x, y, linewidth=1.5)\n",
    "    n += 1\n",
    "    \n",
    "    #plt.xlabel('Year', fontsize=15)\n",
    "    #plt.ylabel('Number of policies', fontsize=15)\n",
    "plt.tight_layout()\n",
    "\n",
    "plt.savefig(\"multiple-policies-analysis\", format='png')\n"
   ]
  },
  {
   "cell_type": "markdown",
   "metadata": {},
   "source": [
    "# State vs. City wide Analysis"
   ]
  },
  {
   "cell_type": "code",
   "execution_count": 68,
   "metadata": {
    "collapsed": true
   },
   "outputs": [],
   "source": [
    "all_sunlight_cities[\"City\"] = all_sunlight_cities[\"City\"].astype(str)"
   ]
  },
  {
   "cell_type": "code",
   "execution_count": 69,
   "metadata": {},
   "outputs": [
    {
     "data": {
      "text/html": [
       "<div>\n",
       "<style>\n",
       "    .dataframe thead tr:only-child th {\n",
       "        text-align: right;\n",
       "    }\n",
       "\n",
       "    .dataframe thead th {\n",
       "        text-align: left;\n",
       "    }\n",
       "\n",
       "    .dataframe tbody tr th {\n",
       "        vertical-align: top;\n",
       "    }\n",
       "</style>\n",
       "<table border=\"1\" class=\"dataframe\">\n",
       "  <thead>\n",
       "    <tr style=\"text-align: right;\">\n",
       "      <th></th>\n",
       "      <th>City</th>\n",
       "      <th>Year Enacted_up</th>\n",
       "      <th>adoption rate of a version of policy(total score/31*2)</th>\n",
       "    </tr>\n",
       "  </thead>\n",
       "  <tbody>\n",
       "    <tr>\n",
       "      <th>0</th>\n",
       "      <td>Amherst, NY</td>\n",
       "      <td>2014.0</td>\n",
       "      <td>0.37</td>\n",
       "    </tr>\n",
       "    <tr>\n",
       "      <th>1</th>\n",
       "      <td>Anchorage, AK</td>\n",
       "      <td>2016.0</td>\n",
       "      <td>0.71</td>\n",
       "    </tr>\n",
       "    <tr>\n",
       "      <th>2</th>\n",
       "      <td>Asheville, NC</td>\n",
       "      <td>2015.0</td>\n",
       "      <td>0.58</td>\n",
       "    </tr>\n",
       "    <tr>\n",
       "      <th>3</th>\n",
       "      <td>Austin, TX</td>\n",
       "      <td>2011.0</td>\n",
       "      <td>0.00</td>\n",
       "    </tr>\n",
       "    <tr>\n",
       "      <th>4</th>\n",
       "      <td>Austin, TX</td>\n",
       "      <td>2013.0</td>\n",
       "      <td>0.52</td>\n",
       "    </tr>\n",
       "  </tbody>\n",
       "</table>\n",
       "</div>"
      ],
      "text/plain": [
       "            City  Year Enacted_up  \\\n",
       "0    Amherst, NY           2014.0   \n",
       "1  Anchorage, AK           2016.0   \n",
       "2  Asheville, NC           2015.0   \n",
       "3     Austin, TX           2011.0   \n",
       "4     Austin, TX           2013.0   \n",
       "\n",
       "   adoption rate of a version of policy(total score/31*2)  \n",
       "0                                               0.37       \n",
       "1                                               0.71       \n",
       "2                                               0.58       \n",
       "3                                               0.00       \n",
       "4                                               0.52       "
      ]
     },
     "execution_count": 69,
     "metadata": {},
     "output_type": "execute_result"
    }
   ],
   "source": [
    "all_sunlight_cities.head()"
   ]
  },
  {
   "cell_type": "code",
   "execution_count": 77,
   "metadata": {
    "collapsed": true
   },
   "outputs": [],
   "source": [
    "def extracting_states(df):\n",
    "    all_states = []\n",
    "    for city in df[\"City\"]:\n",
    "        if \",\" in city:\n",
    "            if \"D.C.\" in city:\n",
    "                state = city[-4:]\n",
    "            else:\n",
    "                state = city.rstrip()[-2:]\n",
    "        else:\n",
    "            state = city\n",
    "\n",
    "        all_states.append(state)\n",
    "    df[\"State\"] = all_states\n",
    "    return df"
   ]
  },
  {
   "cell_type": "code",
   "execution_count": 78,
   "metadata": {
    "collapsed": true
   },
   "outputs": [],
   "source": [
    "all_sunlight_cities_with_states = extracting_states(all_sunlight_cities)"
   ]
  },
  {
   "cell_type": "code",
   "execution_count": 79,
   "metadata": {},
   "outputs": [
    {
     "data": {
      "text/html": [
       "<div>\n",
       "<style>\n",
       "    .dataframe thead tr:only-child th {\n",
       "        text-align: right;\n",
       "    }\n",
       "\n",
       "    .dataframe thead th {\n",
       "        text-align: left;\n",
       "    }\n",
       "\n",
       "    .dataframe tbody tr th {\n",
       "        vertical-align: top;\n",
       "    }\n",
       "</style>\n",
       "<table border=\"1\" class=\"dataframe\">\n",
       "  <thead>\n",
       "    <tr style=\"text-align: right;\">\n",
       "      <th></th>\n",
       "      <th>City</th>\n",
       "      <th>Year Enacted_up</th>\n",
       "      <th>adoption rate of a version of policy(total score/31*2)</th>\n",
       "      <th>State</th>\n",
       "    </tr>\n",
       "  </thead>\n",
       "  <tbody>\n",
       "    <tr>\n",
       "      <th>0</th>\n",
       "      <td>Amherst, NY</td>\n",
       "      <td>2014.0</td>\n",
       "      <td>0.37</td>\n",
       "      <td>NY</td>\n",
       "    </tr>\n",
       "    <tr>\n",
       "      <th>1</th>\n",
       "      <td>Anchorage, AK</td>\n",
       "      <td>2016.0</td>\n",
       "      <td>0.71</td>\n",
       "      <td>AK</td>\n",
       "    </tr>\n",
       "    <tr>\n",
       "      <th>2</th>\n",
       "      <td>Asheville, NC</td>\n",
       "      <td>2015.0</td>\n",
       "      <td>0.58</td>\n",
       "      <td>NC</td>\n",
       "    </tr>\n",
       "    <tr>\n",
       "      <th>3</th>\n",
       "      <td>Austin, TX</td>\n",
       "      <td>2011.0</td>\n",
       "      <td>0.00</td>\n",
       "      <td>TX</td>\n",
       "    </tr>\n",
       "    <tr>\n",
       "      <th>4</th>\n",
       "      <td>Austin, TX</td>\n",
       "      <td>2013.0</td>\n",
       "      <td>0.52</td>\n",
       "      <td>TX</td>\n",
       "    </tr>\n",
       "  </tbody>\n",
       "</table>\n",
       "</div>"
      ],
      "text/plain": [
       "            City  Year Enacted_up  \\\n",
       "0    Amherst, NY           2014.0   \n",
       "1  Anchorage, AK           2016.0   \n",
       "2  Asheville, NC           2015.0   \n",
       "3     Austin, TX           2011.0   \n",
       "4     Austin, TX           2013.0   \n",
       "\n",
       "   adoption rate of a version of policy(total score/31*2) State  \n",
       "0                                               0.37         NY  \n",
       "1                                               0.71         AK  \n",
       "2                                               0.58         NC  \n",
       "3                                               0.00         TX  \n",
       "4                                               0.52         TX  "
      ]
     },
     "execution_count": 79,
     "metadata": {},
     "output_type": "execute_result"
    }
   ],
   "source": [
    "all_sunlight_cities_with_states.head()"
   ]
  },
  {
   "cell_type": "code",
   "execution_count": 80,
   "metadata": {
    "collapsed": true
   },
   "outputs": [],
   "source": [
    "all_cities_state_count = explore_analysis(\"City\",\"State\", \"groupby_count\", all_sunlight_cities)\n",
    "all_cities_state_count.sort_values(\"City\", ascending = False, inplace = True)"
   ]
  },
  {
   "cell_type": "code",
   "execution_count": 81,
   "metadata": {},
   "outputs": [
    {
     "data": {
      "text/html": [
       "<div>\n",
       "<style>\n",
       "    .dataframe thead tr:only-child th {\n",
       "        text-align: right;\n",
       "    }\n",
       "\n",
       "    .dataframe thead th {\n",
       "        text-align: left;\n",
       "    }\n",
       "\n",
       "    .dataframe tbody tr th {\n",
       "        vertical-align: top;\n",
       "    }\n",
       "</style>\n",
       "<table border=\"1\" class=\"dataframe\">\n",
       "  <thead>\n",
       "    <tr style=\"text-align: right;\">\n",
       "      <th></th>\n",
       "      <th>State</th>\n",
       "      <th>City</th>\n",
       "    </tr>\n",
       "  </thead>\n",
       "  <tbody>\n",
       "    <tr>\n",
       "      <th>3</th>\n",
       "      <td>CA</td>\n",
       "      <td>11</td>\n",
       "    </tr>\n",
       "    <tr>\n",
       "      <th>37</th>\n",
       "      <td>TX</td>\n",
       "      <td>5</td>\n",
       "    </tr>\n",
       "    <tr>\n",
       "      <th>21</th>\n",
       "      <td>MO</td>\n",
       "      <td>4</td>\n",
       "    </tr>\n",
       "    <tr>\n",
       "      <th>26</th>\n",
       "      <td>NY</td>\n",
       "      <td>4</td>\n",
       "    </tr>\n",
       "    <tr>\n",
       "      <th>10</th>\n",
       "      <td>IL</td>\n",
       "      <td>4</td>\n",
       "    </tr>\n",
       "  </tbody>\n",
       "</table>\n",
       "</div>"
      ],
      "text/plain": [
       "   State  City\n",
       "3     CA    11\n",
       "37    TX     5\n",
       "21    MO     4\n",
       "26    NY     4\n",
       "10    IL     4"
      ]
     },
     "execution_count": 81,
     "metadata": {},
     "output_type": "execute_result"
    }
   ],
   "source": [
    "all_cities_state_count.head()"
   ]
  },
  {
   "cell_type": "code",
   "execution_count": 42,
   "metadata": {
    "collapsed": true
   },
   "outputs": [],
   "source": [
    "all_states_mean = explore_analysis(\"adoption rate of a version of policy(total score/31*2)\",\"State\", \"groupby_mean\", all_sunlight_cities)\n",
    "#all_cities_state_mean.sort_values(\"City\", ascending=False, inplace=True)"
   ]
  },
  {
   "cell_type": "code",
   "execution_count": 43,
   "metadata": {},
   "outputs": [
    {
     "data": {
      "text/html": [
       "<div>\n",
       "<style>\n",
       "    .dataframe thead tr:only-child th {\n",
       "        text-align: right;\n",
       "    }\n",
       "\n",
       "    .dataframe thead th {\n",
       "        text-align: left;\n",
       "    }\n",
       "\n",
       "    .dataframe tbody tr th {\n",
       "        vertical-align: top;\n",
       "    }\n",
       "</style>\n",
       "<table border=\"1\" class=\"dataframe\">\n",
       "  <thead>\n",
       "    <tr style=\"text-align: right;\">\n",
       "      <th></th>\n",
       "      <th>State</th>\n",
       "      <th>adoption rate of a version of policy(total score/31*2)</th>\n",
       "    </tr>\n",
       "  </thead>\n",
       "  <tbody>\n",
       "    <tr>\n",
       "      <th>0</th>\n",
       "      <td>AK</td>\n",
       "      <td>0.710000</td>\n",
       "    </tr>\n",
       "    <tr>\n",
       "      <th>1</th>\n",
       "      <td>AR</td>\n",
       "      <td>0.320000</td>\n",
       "    </tr>\n",
       "    <tr>\n",
       "      <th>2</th>\n",
       "      <td>AZ</td>\n",
       "      <td>0.613333</td>\n",
       "    </tr>\n",
       "    <tr>\n",
       "      <th>3</th>\n",
       "      <td>CA</td>\n",
       "      <td>0.352727</td>\n",
       "    </tr>\n",
       "    <tr>\n",
       "      <th>4</th>\n",
       "      <td>CT</td>\n",
       "      <td>0.350000</td>\n",
       "    </tr>\n",
       "  </tbody>\n",
       "</table>\n",
       "</div>"
      ],
      "text/plain": [
       "  State  adoption rate of a version of policy(total score/31*2)\n",
       "0    AK                                           0.710000     \n",
       "1    AR                                           0.320000     \n",
       "2    AZ                                           0.613333     \n",
       "3    CA                                           0.352727     \n",
       "4    CT                                           0.350000     "
      ]
     },
     "execution_count": 43,
     "metadata": {},
     "output_type": "execute_result"
    }
   ],
   "source": [
    "all_states_mean.head()"
   ]
  },
  {
   "cell_type": "code",
   "execution_count": 44,
   "metadata": {
    "collapsed": true,
    "scrolled": true
   },
   "outputs": [],
   "source": [
    "all_cities_mean = all_sunlight_cities.groupby(['State','City'])['adoption rate of a version of policy(total score/31*2)'].mean().reset_index()"
   ]
  },
  {
   "cell_type": "code",
   "execution_count": 67,
   "metadata": {},
   "outputs": [
    {
     "data": {
      "text/html": [
       "<div>\n",
       "<style>\n",
       "    .dataframe thead tr:only-child th {\n",
       "        text-align: right;\n",
       "    }\n",
       "\n",
       "    .dataframe thead th {\n",
       "        text-align: left;\n",
       "    }\n",
       "\n",
       "    .dataframe tbody tr th {\n",
       "        vertical-align: top;\n",
       "    }\n",
       "</style>\n",
       "<table border=\"1\" class=\"dataframe\">\n",
       "  <thead>\n",
       "    <tr style=\"text-align: right;\">\n",
       "      <th></th>\n",
       "      <th>State</th>\n",
       "      <th>City</th>\n",
       "      <th>adoption rate of a version of policy(total score/31*2)</th>\n",
       "    </tr>\n",
       "  </thead>\n",
       "  <tbody>\n",
       "    <tr>\n",
       "      <th>0</th>\n",
       "      <td>AK</td>\n",
       "      <td>Anchorage, AK</td>\n",
       "      <td>0.710</td>\n",
       "    </tr>\n",
       "    <tr>\n",
       "      <th>1</th>\n",
       "      <td>AR</td>\n",
       "      <td>Little Rock, AR</td>\n",
       "      <td>0.320</td>\n",
       "    </tr>\n",
       "    <tr>\n",
       "      <th>2</th>\n",
       "      <td>AZ</td>\n",
       "      <td>Mesa, AZ</td>\n",
       "      <td>0.710</td>\n",
       "    </tr>\n",
       "    <tr>\n",
       "      <th>3</th>\n",
       "      <td>AZ</td>\n",
       "      <td>Scottsdale, AZ</td>\n",
       "      <td>0.565</td>\n",
       "    </tr>\n",
       "    <tr>\n",
       "      <th>4</th>\n",
       "      <td>CA</td>\n",
       "      <td>Los Angeles, CA</td>\n",
       "      <td>0.230</td>\n",
       "    </tr>\n",
       "  </tbody>\n",
       "</table>\n",
       "</div>"
      ],
      "text/plain": [
       "  State             City  \\\n",
       "0    AK    Anchorage, AK   \n",
       "1    AR  Little Rock, AR   \n",
       "2    AZ         Mesa, AZ   \n",
       "3    AZ   Scottsdale, AZ   \n",
       "4    CA  Los Angeles, CA   \n",
       "\n",
       "   adoption rate of a version of policy(total score/31*2)  \n",
       "0                                              0.710       \n",
       "1                                              0.320       \n",
       "2                                              0.710       \n",
       "3                                              0.565       \n",
       "4                                              0.230       "
      ]
     },
     "execution_count": 67,
     "metadata": {},
     "output_type": "execute_result"
    }
   ],
   "source": [
    "all_cities_mean.head()"
   ]
  },
  {
   "cell_type": "code",
   "execution_count": 66,
   "metadata": {},
   "outputs": [
    {
     "data": {
      "text/plain": [
       "<seaborn.axisgrid.FacetGrid at 0x111e4c208>"
      ]
     },
     "execution_count": 66,
     "metadata": {},
     "output_type": "execute_result"
    },
    {
     "data": {
      "image/png": "[encoded data removed]",
      "text/plain": [
       "<matplotlib.figure.Figure at 0x10e6e14a8>"
      ]
     },
     "metadata": {},
     "output_type": "display_data"
    }
   ],
   "source": [
    "sns.set(font_scale=1)\n",
    "sns.factorplot(x=\"City\", y=\"adoption rate of a version of policy(total score/31*2)\", col=\"State\", sharex=False, data=all_cities_mean.head(), gridspec_kws={\"width_ratios\": [5, 3, 3]})\n"
   ]
  }
 ],
 "metadata": {
  "kernelspec": {
   "display_name": "Python 3",
   "language": "python",
   "name": "python3"
  },
  "language_info": {
   "codemirror_mode": {
    "name": "ipython",
    "version": 3
   },
   "file_extension": ".py",
   "mimetype": "text/x-python",
   "name": "python",
   "nbconvert_exporter": "python",
   "pygments_lexer": "ipython3",
   "version": "3.5.3"
  }
 },
 "nbformat": 4,
 "nbformat_minor": 2
}
