{
 "cells": [
  {
   "cell_type": "code",
   "execution_count": 2,
   "metadata": {
    "collapsed": true
   },
   "outputs": [],
   "source": [
    "import pandas as pd\n",
    "import seaborn as sns\n",
    "import matplotlib.pyplot as plt\n",
    "import numpy as np\n",
    "%matplotlib inline"
   ]
  },
  {
   "cell_type": "code",
   "execution_count": 3,
   "metadata": {
    "collapsed": true
   },
   "outputs": [],
   "source": [
    "def read_data(filename1):\n",
    "    '''\n",
    "    This function reads the filename and puts the data into a dataframe.\n",
    "    \n",
    "    input: the name of the file\n",
    "    output: a dataframe    \n",
    "    '''\n",
    "    \n",
    "    df = pd.read_csv(filename1 + '.csv', encoding = \"ISO-8859-1\")\n",
    "    return df"
   ]
  },
  {
   "cell_type": "code",
   "execution_count": 4,
   "metadata": {
    "collapsed": true
   },
   "outputs": [],
   "source": [
    "df = read_data('Comparisons - one sheet_06_26')"
   ]
  },
  {
   "cell_type": "code",
   "execution_count": 5,
   "metadata": {},
   "outputs": [
    {
     "data": {
      "text/html": [
       "<div>\n",
       "<style>\n",
       "    .dataframe thead tr:only-child th {\n",
       "        text-align: right;\n",
       "    }\n",
       "\n",
       "    .dataframe thead th {\n",
       "        text-align: left;\n",
       "    }\n",
       "\n",
       "    .dataframe tbody tr th {\n",
       "        vertical-align: top;\n",
       "    }\n",
       "</style>\n",
       "<table border=\"1\" class=\"dataframe\">\n",
       "  <thead>\n",
       "    <tr style=\"text-align: right;\">\n",
       "      <th></th>\n",
       "      <th>City</th>\n",
       "      <th>BASICS</th>\n",
       "      <th>Type</th>\n",
       "      <th>Link</th>\n",
       "      <th>Legal Means</th>\n",
       "      <th>Year Enacted_up</th>\n",
       "      <th>Date Enacted</th>\n",
       "      <th>Sunlight Foundation Partnership?</th>\n",
       "      <th>Prior Versions?</th>\n",
       "      <th>Population (ACS 2012; US Census 2012 est for counties)</th>\n",
       "      <th>...</th>\n",
       "      <th>How to Implement Policy</th>\n",
       "      <th>24. Create or appoint oversight authority</th>\n",
       "      <th>25. Create guidance or other binding regulations for implementation</th>\n",
       "      <th>26. Incorporate public perspectives into policy implementation</th>\n",
       "      <th>27. Set appropriately ambitious timelines for implementation</th>\n",
       "      <th>28. Create processes to ensure data quality</th>\n",
       "      <th>29. Ensure sufficient funding for implementation</th>\n",
       "      <th>30. Create or explore potential partnerships</th>\n",
       "      <th>31. Mandate future review for potential changes to this policy</th>\n",
       "      <th>adoption rate of a version of policy(total score/31*2)</th>\n",
       "    </tr>\n",
       "  </thead>\n",
       "  <tbody>\n",
       "    <tr>\n",
       "      <th>0</th>\n",
       "      <td>Washington, D.C.</td>\n",
       "      <td>NaN</td>\n",
       "      <td>US City</td>\n",
       "      <td>http://www.scribd.com/fullscreen/26442622?acce...</td>\n",
       "      <td>Administrative Memo</td>\n",
       "      <td>2006.0</td>\n",
       "      <td>NaN</td>\n",
       "      <td>0</td>\n",
       "      <td>NaN</td>\n",
       "      <td>NaN</td>\n",
       "      <td>...</td>\n",
       "      <td>NaN</td>\n",
       "      <td>NaN</td>\n",
       "      <td>NaN</td>\n",
       "      <td>NaN</td>\n",
       "      <td>NaN</td>\n",
       "      <td>NaN</td>\n",
       "      <td>NaN</td>\n",
       "      <td>NaN</td>\n",
       "      <td>NaN</td>\n",
       "      <td>0.00</td>\n",
       "    </tr>\n",
       "    <tr>\n",
       "      <th>1</th>\n",
       "      <td>Washington, D.C.</td>\n",
       "      <td>NaN</td>\n",
       "      <td>US City</td>\n",
       "      <td>http://www.dcregs.dc.gov/Gateway/NoticeHome.as...</td>\n",
       "      <td>Mayoral Memo</td>\n",
       "      <td>2011.0</td>\n",
       "      <td>NaN</td>\n",
       "      <td>0</td>\n",
       "      <td>NaN</td>\n",
       "      <td>NaN</td>\n",
       "      <td>...</td>\n",
       "      <td>NaN</td>\n",
       "      <td>NaN</td>\n",
       "      <td>NaN</td>\n",
       "      <td>2</td>\n",
       "      <td>2</td>\n",
       "      <td>NaN</td>\n",
       "      <td>n/a</td>\n",
       "      <td>2</td>\n",
       "      <td>NaN</td>\n",
       "      <td>0.10</td>\n",
       "    </tr>\n",
       "    <tr>\n",
       "      <th>2</th>\n",
       "      <td>Washington, D.C.</td>\n",
       "      <td>NaN</td>\n",
       "      <td>US City</td>\n",
       "      <td>http://dc.gov/page/transparency-open-governmen...</td>\n",
       "      <td>Executive Directive</td>\n",
       "      <td>2014.0</td>\n",
       "      <td>7/21/2014</td>\n",
       "      <td>0</td>\n",
       "      <td>2006 Admin Memo: http://www.scribd.com/fullscr...</td>\n",
       "      <td>632,323</td>\n",
       "      <td>...</td>\n",
       "      <td>NaN</td>\n",
       "      <td>\"1) The Chief Technology Officer shall designa...</td>\n",
       "      <td>n/a</td>\n",
       "      <td>\"7) A mechanism for the public to submit feedb...</td>\n",
       "      <td>\"Within 120 days of the date of this Order, th...</td>\n",
       "      <td>n/a</td>\n",
       "      <td>n/a</td>\n",
       "      <td>\"The Open Government Report will describe step...</td>\n",
       "      <td>\"Open Government Report. To institutionalize a...</td>\n",
       "      <td>0.58</td>\n",
       "    </tr>\n",
       "    <tr>\n",
       "      <th>3</th>\n",
       "      <td>Portland, OR</td>\n",
       "      <td>NaN</td>\n",
       "      <td>US City</td>\n",
       "      <td>http://www.portlandonline.com/shared/cfm/image...</td>\n",
       "      <td>Legislation</td>\n",
       "      <td>2009.0</td>\n",
       "      <td>09/30/2009</td>\n",
       "      <td>1</td>\n",
       "      <td>n/a</td>\n",
       "      <td>603,650</td>\n",
       "      <td>...</td>\n",
       "      <td>NaN</td>\n",
       "      <td>n/a</td>\n",
       "      <td>n/a</td>\n",
       "      <td>n/a</td>\n",
       "      <td>n/a</td>\n",
       "      <td>n/a</td>\n",
       "      <td>n/a</td>\n",
       "      <td>\"Work with Travel Portland and regional partne...</td>\n",
       "      <td>n/a</td>\n",
       "      <td>0.26</td>\n",
       "    </tr>\n",
       "    <tr>\n",
       "      <th>4</th>\n",
       "      <td>Memphis, TN</td>\n",
       "      <td>NaN</td>\n",
       "      <td>US City</td>\n",
       "      <td>http://www.memphistn.gov/portals/0/pdf_forms/M...</td>\n",
       "      <td>Executive Order</td>\n",
       "      <td>2009.0</td>\n",
       "      <td>10/17/2009</td>\n",
       "      <td>1</td>\n",
       "      <td>n/a</td>\n",
       "      <td>655,141</td>\n",
       "      <td>...</td>\n",
       "      <td>NaN</td>\n",
       "      <td>n/a</td>\n",
       "      <td>n/a</td>\n",
       "      <td>\"The Office of the Mayor shall provide opportu...</td>\n",
       "      <td>The Order is effective within 7 days; some dat...</td>\n",
       "      <td>n/a</td>\n",
       "      <td>n/a</td>\n",
       "      <td>n/a</td>\n",
       "      <td>n/a</td>\n",
       "      <td>0.26</td>\n",
       "    </tr>\n",
       "  </tbody>\n",
       "</table>\n",
       "<p>5 rows × 57 columns</p>\n",
       "</div>"
      ],
      "text/plain": [
       "               City  BASICS      Type  \\\n",
       "0  Washington, D.C.     NaN   US City   \n",
       "1  Washington, D.C.     NaN   US City   \n",
       "2  Washington, D.C.     NaN  US City    \n",
       "3      Portland, OR     NaN   US City   \n",
       "4       Memphis, TN     NaN   US City   \n",
       "\n",
       "                                                Link          Legal Means  \\\n",
       "0  http://www.scribd.com/fullscreen/26442622?acce...  Administrative Memo   \n",
       "1  http://www.dcregs.dc.gov/Gateway/NoticeHome.as...         Mayoral Memo   \n",
       "2  http://dc.gov/page/transparency-open-governmen...  Executive Directive   \n",
       "3  http://www.portlandonline.com/shared/cfm/image...          Legislation   \n",
       "4  http://www.memphistn.gov/portals/0/pdf_forms/M...      Executive Order   \n",
       "\n",
       "   Year Enacted_up Date Enacted  Sunlight Foundation Partnership?  \\\n",
       "0           2006.0          NaN                                 0   \n",
       "1           2011.0          NaN                                 0   \n",
       "2           2014.0    7/21/2014                                 0   \n",
       "3           2009.0   09/30/2009                                 1   \n",
       "4           2009.0   10/17/2009                                 1   \n",
       "\n",
       "                                     Prior Versions?  \\\n",
       "0                                                NaN   \n",
       "1                                                NaN   \n",
       "2  2006 Admin Memo: http://www.scribd.com/fullscr...   \n",
       "3                                                n/a   \n",
       "4                                                n/a   \n",
       "\n",
       "  Population (ACS 2012; US Census 2012 est for counties)  \\\n",
       "0                                                NaN       \n",
       "1                                                NaN       \n",
       "2                                            632,323       \n",
       "3                                            603,650       \n",
       "4                                            655,141       \n",
       "\n",
       "                           ...                            \\\n",
       "0                          ...                             \n",
       "1                          ...                             \n",
       "2                          ...                             \n",
       "3                          ...                             \n",
       "4                          ...                             \n",
       "\n",
       "  How to Implement Policy          24. Create or appoint oversight authority   \\\n",
       "0                      NaN                                                NaN   \n",
       "1                      NaN                                                NaN   \n",
       "2                      NaN  \"1) The Chief Technology Officer shall designa...   \n",
       "3                      NaN                                                n/a   \n",
       "4                      NaN                                                n/a   \n",
       "\n",
       "  25. Create guidance or other binding regulations for implementation  \\\n",
       "0                                                NaN                    \n",
       "1                                                NaN                    \n",
       "2                                                n/a                    \n",
       "3                                                n/a                    \n",
       "4                                                n/a                    \n",
       "\n",
       "  26. Incorporate public perspectives into policy implementation  \\\n",
       "0                                                NaN               \n",
       "1                                                  2               \n",
       "2  \"7) A mechanism for the public to submit feedb...               \n",
       "3                                                n/a               \n",
       "4  \"The Office of the Mayor shall provide opportu...               \n",
       "\n",
       "  27. Set appropriately ambitious timelines for implementation  \\\n",
       "0                                                NaN             \n",
       "1                                                  2             \n",
       "2  \"Within 120 days of the date of this Order, th...             \n",
       "3                                                n/a             \n",
       "4  The Order is effective within 7 days; some dat...             \n",
       "\n",
       "  28. Create processes to ensure data quality  \\\n",
       "0                                         NaN   \n",
       "1                                         NaN   \n",
       "2                                         n/a   \n",
       "3                                         n/a   \n",
       "4                                         n/a   \n",
       "\n",
       "  29. Ensure sufficient funding for implementation  \\\n",
       "0                                              NaN   \n",
       "1                                              n/a   \n",
       "2                                              n/a   \n",
       "3                                              n/a   \n",
       "4                                              n/a   \n",
       "\n",
       "        30. Create or explore potential partnerships  \\\n",
       "0                                                NaN   \n",
       "1                                                  2   \n",
       "2  \"The Open Government Report will describe step...   \n",
       "3  \"Work with Travel Portland and regional partne...   \n",
       "4                                                n/a   \n",
       "\n",
       "  31. Mandate future review for potential changes to this policy  \\\n",
       "0                                                NaN               \n",
       "1                                                NaN               \n",
       "2  \"Open Government Report. To institutionalize a...               \n",
       "3                                                n/a               \n",
       "4                                                n/a               \n",
       "\n",
       "  adoption rate of a version of policy(total score/31*2)  \n",
       "0                                               0.00      \n",
       "1                                               0.10      \n",
       "2                                               0.58      \n",
       "3                                               0.26      \n",
       "4                                               0.26      \n",
       "\n",
       "[5 rows x 57 columns]"
      ]
     },
     "execution_count": 5,
     "metadata": {},
     "output_type": "execute_result"
    }
   ],
   "source": [
    "df.head()"
   ]
  },
  {
   "cell_type": "code",
   "execution_count": 6,
   "metadata": {},
   "outputs": [
    {
     "data": {
      "text/html": [
       "<div>\n",
       "<style>\n",
       "    .dataframe thead tr:only-child th {\n",
       "        text-align: right;\n",
       "    }\n",
       "\n",
       "    .dataframe thead th {\n",
       "        text-align: left;\n",
       "    }\n",
       "\n",
       "    .dataframe tbody tr th {\n",
       "        vertical-align: top;\n",
       "    }\n",
       "</style>\n",
       "<table border=\"1\" class=\"dataframe\">\n",
       "  <thead>\n",
       "    <tr style=\"text-align: right;\">\n",
       "      <th></th>\n",
       "      <th>City</th>\n",
       "      <th>BASICS</th>\n",
       "      <th>Type</th>\n",
       "      <th>Link</th>\n",
       "      <th>Legal Means</th>\n",
       "      <th>Year Enacted_up</th>\n",
       "      <th>Date Enacted</th>\n",
       "      <th>Sunlight Foundation Partnership?</th>\n",
       "      <th>Prior Versions?</th>\n",
       "      <th>Population (ACS 2012; US Census 2012 est for counties)</th>\n",
       "      <th>...</th>\n",
       "      <th>How to Implement Policy</th>\n",
       "      <th>24. Create or appoint oversight authority</th>\n",
       "      <th>25. Create guidance or other binding regulations for implementation</th>\n",
       "      <th>26. Incorporate public perspectives into policy implementation</th>\n",
       "      <th>27. Set appropriately ambitious timelines for implementation</th>\n",
       "      <th>28. Create processes to ensure data quality</th>\n",
       "      <th>29. Ensure sufficient funding for implementation</th>\n",
       "      <th>30. Create or explore potential partnerships</th>\n",
       "      <th>31. Mandate future review for potential changes to this policy</th>\n",
       "      <th>adoption rate of a version of policy(total score/31*2)</th>\n",
       "    </tr>\n",
       "  </thead>\n",
       "  <tbody>\n",
       "    <tr>\n",
       "      <th>78</th>\n",
       "      <td>San Jose, CA</td>\n",
       "      <td>NaN</td>\n",
       "      <td>US City</td>\n",
       "      <td>https://www.sanjoseca.gov/DocumentCenter/View/...</td>\n",
       "      <td>Admin Policy</td>\n",
       "      <td>NaN</td>\n",
       "      <td>5/13/16</td>\n",
       "      <td>0</td>\n",
       "      <td>n/a/</td>\n",
       "      <td>998,537</td>\n",
       "      <td>...</td>\n",
       "      <td>NaN</td>\n",
       "      <td>Roles and Responsibilities\\rTo facilitate the ...</td>\n",
       "      <td>To facilitate the strategic implementation of ...</td>\n",
       "      <td>This was completed through the city's posting ...</td>\n",
       "      <td>The City Manager will issue an annual report t...</td>\n",
       "      <td>Open Data Standards section</td>\n",
       "      <td>n/a</td>\n",
       "      <td>In an effort to maximize the impact of this Po...</td>\n",
       "      <td>Status Updates on Open Data Posting: The City ...</td>\n",
       "      <td>0.76</td>\n",
       "    </tr>\n",
       "    <tr>\n",
       "      <th>86</th>\n",
       "      <td>New Orleans</td>\n",
       "      <td>NaN</td>\n",
       "      <td>US City</td>\n",
       "      <td>http://www.nola.gov/mayor/press-releases/2016/...</td>\n",
       "      <td>NaN</td>\n",
       "      <td>NaN</td>\n",
       "      <td>NaN</td>\n",
       "      <td>1</td>\n",
       "      <td>NaN</td>\n",
       "      <td>NaN</td>\n",
       "      <td>...</td>\n",
       "      <td>NaN</td>\n",
       "      <td>The Chief Administrative Office shall issue a ...</td>\n",
       "      <td>The plan for maintaining compliance with the L...</td>\n",
       "      <td>NaN</td>\n",
       "      <td>Any and all other considerations necessary to ...</td>\n",
       "      <td>NaN</td>\n",
       "      <td>NaN</td>\n",
       "      <td>the adoption of a Data Policy improves the pro...</td>\n",
       "      <td>The plan for reporting progress towards the ac...</td>\n",
       "      <td>0.39</td>\n",
       "    </tr>\n",
       "  </tbody>\n",
       "</table>\n",
       "<p>2 rows × 57 columns</p>\n",
       "</div>"
      ],
      "text/plain": [
       "            City  BASICS     Type  \\\n",
       "78  San Jose, CA     NaN  US City   \n",
       "86   New Orleans     NaN  US City   \n",
       "\n",
       "                                                 Link   Legal Means  \\\n",
       "78  https://www.sanjoseca.gov/DocumentCenter/View/...  Admin Policy   \n",
       "86  http://www.nola.gov/mayor/press-releases/2016/...           NaN   \n",
       "\n",
       "    Year Enacted_up Date Enacted  Sunlight Foundation Partnership?  \\\n",
       "78              NaN      5/13/16                                 0   \n",
       "86              NaN          NaN                                 1   \n",
       "\n",
       "   Prior Versions? Population (ACS 2012; US Census 2012 est for counties)  \\\n",
       "78            n/a/                                            998,537       \n",
       "86             NaN                                                NaN       \n",
       "\n",
       "                            ...                            \\\n",
       "78                          ...                             \n",
       "86                          ...                             \n",
       "\n",
       "   How to Implement Policy   \\\n",
       "78                      NaN   \n",
       "86                      NaN   \n",
       "\n",
       "           24. Create or appoint oversight authority   \\\n",
       "78  Roles and Responsibilities\\rTo facilitate the ...   \n",
       "86  The Chief Administrative Office shall issue a ...   \n",
       "\n",
       "   25. Create guidance or other binding regulations for implementation  \\\n",
       "78  To facilitate the strategic implementation of ...                    \n",
       "86  The plan for maintaining compliance with the L...                    \n",
       "\n",
       "   26. Incorporate public perspectives into policy implementation  \\\n",
       "78  This was completed through the city's posting ...               \n",
       "86                                                NaN               \n",
       "\n",
       "   27. Set appropriately ambitious timelines for implementation  \\\n",
       "78  The City Manager will issue an annual report t...             \n",
       "86  Any and all other considerations necessary to ...             \n",
       "\n",
       "   28. Create processes to ensure data quality  \\\n",
       "78                 Open Data Standards section   \n",
       "86                                         NaN   \n",
       "\n",
       "   29. Ensure sufficient funding for implementation  \\\n",
       "78                                              n/a   \n",
       "86                                              NaN   \n",
       "\n",
       "         30. Create or explore potential partnerships  \\\n",
       "78  In an effort to maximize the impact of this Po...   \n",
       "86  the adoption of a Data Policy improves the pro...   \n",
       "\n",
       "   31. Mandate future review for potential changes to this policy  \\\n",
       "78  Status Updates on Open Data Posting: The City ...               \n",
       "86  The plan for reporting progress towards the ac...               \n",
       "\n",
       "   adoption rate of a version of policy(total score/31*2)  \n",
       "78                                               0.76      \n",
       "86                                               0.39      \n",
       "\n",
       "[2 rows x 57 columns]"
      ]
     },
     "execution_count": 6,
     "metadata": {},
     "output_type": "execute_result"
    }
   ],
   "source": [
    "df[df[\"Year Enacted_up\"].isnull()]"
   ]
  },
  {
   "cell_type": "markdown",
   "metadata": {},
   "source": [
    "# Useful functions"
   ]
  },
  {
   "cell_type": "code",
   "execution_count": 7,
   "metadata": {
    "collapsed": true
   },
   "outputs": [],
   "source": [
    "def explore_analysis(column1, column2, option, df):\n",
    "    '''\n",
    "    This function returns three types of analysis (descriptive stats, groupby on mean, groupby on count) \n",
    "    give two columns of a dataframe.\n",
    "    \n",
    "    input:\n",
    "        column1: the column for which we want statistics on a grouped data\n",
    "        column2: the column on which grouping is performed\n",
    "        \n",
    "    output: \n",
    "        a dataframe with desired type of analysis    \n",
    "    '''\n",
    "    \n",
    "    if option == 'describe':\n",
    "        df_2 = df[column1].describe()\n",
    "    elif option == 'groupby_mean':\n",
    "        df_2 = df[column1].groupby(df[column2]).mean().reset_index()\n",
    "    elif option == 'groupby_median':\n",
    "        df_2 = df[column1].groupby(df[column2]).median().reset_index()\n",
    "    elif option == 'groupby_count':\n",
    "        df_2 = df[column1].groupby(df[column2]).count().reset_index()\n",
    "    elif option == 'grouby_max':\n",
    "        df_2 = df[column1].groupby(df[column2]).max().reset_index()\n",
    "    \n",
    "    return df_2"
   ]
  },
  {
   "cell_type": "code",
   "execution_count": 8,
   "metadata": {
    "collapsed": true
   },
   "outputs": [],
   "source": [
    "#single axis\n",
    "def seaborn_chart(x_1, y_1, data_1, xlabel_1, ylabel_1, title):\n",
    "    '''\n",
    "    This function returns a chart for two columns (x-axis and y-axis)\n",
    "    '''\n",
    "    \n",
    "    sns.set_style(\"whitegrid\")\n",
    "    ax = plt.subplots(figsize=(20, 6))\n",
    "    ax = sns.barplot(x=x_1, y=y_1, data=data_1)\n",
    "    ax.set(xlabel=xlabel_1)\n",
    "    ax.set(ylabel=ylabel_1)    \n",
    "    sns.plt.title(title)\n",
    "    sns.plt.show()"
   ]
  },
  {
   "cell_type": "code",
   "execution_count": 9,
   "metadata": {
    "collapsed": true
   },
   "outputs": [],
   "source": [
    "#double axes\n",
    "def seaborn_chart2(x_1, y_1, data_1, xlabel_1, ylabel_1, title, x_2, y_2, data_2):\n",
    "    '''\n",
    "\n",
    "    '''\n",
    "    \n",
    "    sns.set_style(\"whitegrid\")\n",
    "    ax = plt.subplots(figsize=(23, 8))\n",
    "    ax = sns.barplot(x=x_1, y=y_1, data=data_1)\n",
    "    ax.set(xlabel=xlabel_1)\n",
    "    ax.set(ylabel=ylabel_1)\n",
    "    ax2 = ax.twinx()\n",
    "    ax2 = sns.pointplot(x=x_2, y=y_2, data=data_2)\n",
    "    \n",
    "    sns.plt.title(title)\n",
    "    sns.plt.show()"
   ]
  },
  {
   "cell_type": "code",
   "execution_count": 10,
   "metadata": {
    "collapsed": true
   },
   "outputs": [],
   "source": [
    "#for categorical data\n",
    "def seaborn_chart3(x_1, y_1, hue_1, data_1, xlabel_1, ylabel_1, title):\n",
    "    '''\n",
    "\n",
    "    '''\n",
    "    \n",
    "    sns.set_style(\"whitegrid\")\n",
    "   \n",
    "    sns.set(font_scale=2)\n",
    "    ax = plt.subplots(figsize=(30, 13))\n",
    "    ax = sns.barplot(x=x_1, y=y_1, hue=hue_1, data=data_1)\n",
    "    ax.set(xlabel=xlabel_1)\n",
    "    ax.set(ylabel=ylabel_1)\n",
    "    sns.plt.title(title)\n",
    "    sns.plt.show()"
   ]
  },
  {
   "cell_type": "markdown",
   "metadata": {},
   "source": [
    "# Overall Cities Analysis"
   ]
  },
  {
   "cell_type": "code",
   "execution_count": 11,
   "metadata": {
    "collapsed": true
   },
   "outputs": [],
   "source": [
    "all_sunlight_cities = df.groupby(['City', 'Year Enacted_up', 'adoption rate of a version of policy(total score/31*2)'], as_index=False).sum().iloc[:,0:3]"
   ]
  },
  {
   "cell_type": "code",
   "execution_count": 12,
   "metadata": {},
   "outputs": [
    {
     "data": {
      "text/html": [
       "<div>\n",
       "<style>\n",
       "    .dataframe thead tr:only-child th {\n",
       "        text-align: right;\n",
       "    }\n",
       "\n",
       "    .dataframe thead th {\n",
       "        text-align: left;\n",
       "    }\n",
       "\n",
       "    .dataframe tbody tr th {\n",
       "        vertical-align: top;\n",
       "    }\n",
       "</style>\n",
       "<table border=\"1\" class=\"dataframe\">\n",
       "  <thead>\n",
       "    <tr style=\"text-align: right;\">\n",
       "      <th></th>\n",
       "      <th>City</th>\n",
       "      <th>Year Enacted_up</th>\n",
       "      <th>adoption rate of a version of policy(total score/31*2)</th>\n",
       "    </tr>\n",
       "  </thead>\n",
       "  <tbody>\n",
       "    <tr>\n",
       "      <th>0</th>\n",
       "      <td>Amherst, NY</td>\n",
       "      <td>2014.0</td>\n",
       "      <td>0.37</td>\n",
       "    </tr>\n",
       "    <tr>\n",
       "      <th>1</th>\n",
       "      <td>Anchorage, AK</td>\n",
       "      <td>2016.0</td>\n",
       "      <td>0.71</td>\n",
       "    </tr>\n",
       "    <tr>\n",
       "      <th>2</th>\n",
       "      <td>Asheville, NC</td>\n",
       "      <td>2015.0</td>\n",
       "      <td>0.58</td>\n",
       "    </tr>\n",
       "    <tr>\n",
       "      <th>3</th>\n",
       "      <td>Austin, TX</td>\n",
       "      <td>2011.0</td>\n",
       "      <td>0.00</td>\n",
       "    </tr>\n",
       "    <tr>\n",
       "      <th>4</th>\n",
       "      <td>Austin, TX</td>\n",
       "      <td>2013.0</td>\n",
       "      <td>0.52</td>\n",
       "    </tr>\n",
       "  </tbody>\n",
       "</table>\n",
       "</div>"
      ],
      "text/plain": [
       "            City  Year Enacted_up  \\\n",
       "0    Amherst, NY           2014.0   \n",
       "1  Anchorage, AK           2016.0   \n",
       "2  Asheville, NC           2015.0   \n",
       "3     Austin, TX           2011.0   \n",
       "4     Austin, TX           2013.0   \n",
       "\n",
       "   adoption rate of a version of policy(total score/31*2)  \n",
       "0                                               0.37       \n",
       "1                                               0.71       \n",
       "2                                               0.58       \n",
       "3                                               0.00       \n",
       "4                                               0.52       "
      ]
     },
     "execution_count": 12,
     "metadata": {},
     "output_type": "execute_result"
    }
   ],
   "source": [
    "all_sunlight_cities.head()"
   ]
  },
  {
   "cell_type": "code",
   "execution_count": 13,
   "metadata": {},
   "outputs": [
    {
     "name": "stderr",
     "output_type": "stream",
     "text": [
      "/anaconda/lib/python3.6/site-packages/ipykernel_launcher.py:1: FutureWarning: by argument to sort_index is deprecated, pls use .sort_values(by=...)\n",
      "  \"\"\"Entry point for launching an IPython kernel.\n"
     ]
    }
   ],
   "source": [
    "all_sunlight_cities_filtered = all_sunlight_cities.sort_index(by=['Year Enacted_up'], ascending=[True])"
   ]
  },
  {
   "cell_type": "code",
   "execution_count": 14,
   "metadata": {},
   "outputs": [
    {
     "data": {
      "text/html": [
       "<div>\n",
       "<style>\n",
       "    .dataframe thead tr:only-child th {\n",
       "        text-align: right;\n",
       "    }\n",
       "\n",
       "    .dataframe thead th {\n",
       "        text-align: left;\n",
       "    }\n",
       "\n",
       "    .dataframe tbody tr th {\n",
       "        vertical-align: top;\n",
       "    }\n",
       "</style>\n",
       "<table border=\"1\" class=\"dataframe\">\n",
       "  <thead>\n",
       "    <tr style=\"text-align: right;\">\n",
       "      <th></th>\n",
       "      <th>City</th>\n",
       "      <th>Year Enacted_up</th>\n",
       "      <th>adoption rate of a version of policy(total score/31*2)</th>\n",
       "    </tr>\n",
       "  </thead>\n",
       "  <tbody>\n",
       "    <tr>\n",
       "      <th>83</th>\n",
       "      <td>Washington, D.C.</td>\n",
       "      <td>2006.0</td>\n",
       "      <td>0.00</td>\n",
       "    </tr>\n",
       "    <tr>\n",
       "      <th>43</th>\n",
       "      <td>Memphis, TN</td>\n",
       "      <td>2009.0</td>\n",
       "      <td>0.26</td>\n",
       "    </tr>\n",
       "    <tr>\n",
       "      <th>57</th>\n",
       "      <td>Portland, OR</td>\n",
       "      <td>2009.0</td>\n",
       "      <td>0.26</td>\n",
       "    </tr>\n",
       "    <tr>\n",
       "      <th>65</th>\n",
       "      <td>San Francisco, CA</td>\n",
       "      <td>2009.0</td>\n",
       "      <td>0.00</td>\n",
       "    </tr>\n",
       "    <tr>\n",
       "      <th>66</th>\n",
       "      <td>San Francisco, CA</td>\n",
       "      <td>2010.0</td>\n",
       "      <td>0.00</td>\n",
       "    </tr>\n",
       "  </tbody>\n",
       "</table>\n",
       "</div>"
      ],
      "text/plain": [
       "                 City  Year Enacted_up  \\\n",
       "83   Washington, D.C.           2006.0   \n",
       "43        Memphis, TN           2009.0   \n",
       "57       Portland, OR           2009.0   \n",
       "65  San Francisco, CA           2009.0   \n",
       "66  San Francisco, CA           2010.0   \n",
       "\n",
       "    adoption rate of a version of policy(total score/31*2)  \n",
       "83                                               0.00       \n",
       "43                                               0.26       \n",
       "57                                               0.26       \n",
       "65                                               0.00       \n",
       "66                                               0.00       "
      ]
     },
     "execution_count": 14,
     "metadata": {},
     "output_type": "execute_result"
    }
   ],
   "source": [
    "all_sunlight_cities_filtered.head()"
   ]
  },
  {
   "cell_type": "code",
   "execution_count": 15,
   "metadata": {
    "collapsed": true
   },
   "outputs": [],
   "source": [
    "all_cities_year_mean = explore_analysis(\"adoption rate of a version of policy(total score/31*2)\",\"Year Enacted_up\", \"groupby_mean\", all_sunlight_cities_filtered)"
   ]
  },
  {
   "cell_type": "code",
   "execution_count": 16,
   "metadata": {
    "collapsed": true
   },
   "outputs": [],
   "source": [
    "all_cities_year_count = explore_analysis(\"City\",\"Year Enacted_up\", \"groupby_count\", all_sunlight_cities_filtered)"
   ]
  },
  {
   "cell_type": "code",
   "execution_count": 17,
   "metadata": {},
   "outputs": [
    {
     "data": {
      "text/html": [
       "<div>\n",
       "<style>\n",
       "    .dataframe thead tr:only-child th {\n",
       "        text-align: right;\n",
       "    }\n",
       "\n",
       "    .dataframe thead th {\n",
       "        text-align: left;\n",
       "    }\n",
       "\n",
       "    .dataframe tbody tr th {\n",
       "        vertical-align: top;\n",
       "    }\n",
       "</style>\n",
       "<table border=\"1\" class=\"dataframe\">\n",
       "  <thead>\n",
       "    <tr style=\"text-align: right;\">\n",
       "      <th></th>\n",
       "      <th>Year Enacted_up</th>\n",
       "      <th>City</th>\n",
       "    </tr>\n",
       "  </thead>\n",
       "  <tbody>\n",
       "    <tr>\n",
       "      <th>0</th>\n",
       "      <td>2006.0</td>\n",
       "      <td>1</td>\n",
       "    </tr>\n",
       "    <tr>\n",
       "      <th>1</th>\n",
       "      <td>2009.0</td>\n",
       "      <td>3</td>\n",
       "    </tr>\n",
       "    <tr>\n",
       "      <th>2</th>\n",
       "      <td>2010.0</td>\n",
       "      <td>1</td>\n",
       "    </tr>\n",
       "    <tr>\n",
       "      <th>3</th>\n",
       "      <td>2011.0</td>\n",
       "      <td>6</td>\n",
       "    </tr>\n",
       "    <tr>\n",
       "      <th>4</th>\n",
       "      <td>2012.0</td>\n",
       "      <td>9</td>\n",
       "    </tr>\n",
       "    <tr>\n",
       "      <th>5</th>\n",
       "      <td>2013.0</td>\n",
       "      <td>16</td>\n",
       "    </tr>\n",
       "    <tr>\n",
       "      <th>6</th>\n",
       "      <td>2014.0</td>\n",
       "      <td>24</td>\n",
       "    </tr>\n",
       "    <tr>\n",
       "      <th>7</th>\n",
       "      <td>2015.0</td>\n",
       "      <td>11</td>\n",
       "    </tr>\n",
       "    <tr>\n",
       "      <th>8</th>\n",
       "      <td>2016.0</td>\n",
       "      <td>16</td>\n",
       "    </tr>\n",
       "    <tr>\n",
       "      <th>9</th>\n",
       "      <td>2017.0</td>\n",
       "      <td>1</td>\n",
       "    </tr>\n",
       "  </tbody>\n",
       "</table>\n",
       "</div>"
      ],
      "text/plain": [
       "   Year Enacted_up  City\n",
       "0           2006.0     1\n",
       "1           2009.0     3\n",
       "2           2010.0     1\n",
       "3           2011.0     6\n",
       "4           2012.0     9\n",
       "5           2013.0    16\n",
       "6           2014.0    24\n",
       "7           2015.0    11\n",
       "8           2016.0    16\n",
       "9           2017.0     1"
      ]
     },
     "execution_count": 17,
     "metadata": {},
     "output_type": "execute_result"
    }
   ],
   "source": [
    "all_cities_year_count"
   ]
  },
  {
   "cell_type": "code",
   "execution_count": 18,
   "metadata": {},
   "outputs": [
    {
     "data": {
      "text/html": [
       "<div>\n",
       "<style>\n",
       "    .dataframe thead tr:only-child th {\n",
       "        text-align: right;\n",
       "    }\n",
       "\n",
       "    .dataframe thead th {\n",
       "        text-align: left;\n",
       "    }\n",
       "\n",
       "    .dataframe tbody tr th {\n",
       "        vertical-align: top;\n",
       "    }\n",
       "</style>\n",
       "<table border=\"1\" class=\"dataframe\">\n",
       "  <thead>\n",
       "    <tr style=\"text-align: right;\">\n",
       "      <th></th>\n",
       "      <th>Year Enacted_up</th>\n",
       "      <th>adoption rate of a version of policy(total score/31*2)</th>\n",
       "    </tr>\n",
       "  </thead>\n",
       "  <tbody>\n",
       "    <tr>\n",
       "      <th>0</th>\n",
       "      <td>2006.0</td>\n",
       "      <td>0.000000</td>\n",
       "    </tr>\n",
       "    <tr>\n",
       "      <th>1</th>\n",
       "      <td>2009.0</td>\n",
       "      <td>0.173333</td>\n",
       "    </tr>\n",
       "    <tr>\n",
       "      <th>2</th>\n",
       "      <td>2010.0</td>\n",
       "      <td>0.000000</td>\n",
       "    </tr>\n",
       "    <tr>\n",
       "      <th>3</th>\n",
       "      <td>2011.0</td>\n",
       "      <td>0.125000</td>\n",
       "    </tr>\n",
       "    <tr>\n",
       "      <th>4</th>\n",
       "      <td>2012.0</td>\n",
       "      <td>0.287778</td>\n",
       "    </tr>\n",
       "    <tr>\n",
       "      <th>5</th>\n",
       "      <td>2013.0</td>\n",
       "      <td>0.358750</td>\n",
       "    </tr>\n",
       "    <tr>\n",
       "      <th>6</th>\n",
       "      <td>2014.0</td>\n",
       "      <td>0.356250</td>\n",
       "    </tr>\n",
       "    <tr>\n",
       "      <th>7</th>\n",
       "      <td>2015.0</td>\n",
       "      <td>0.438182</td>\n",
       "    </tr>\n",
       "    <tr>\n",
       "      <th>8</th>\n",
       "      <td>2016.0</td>\n",
       "      <td>0.482500</td>\n",
       "    </tr>\n",
       "    <tr>\n",
       "      <th>9</th>\n",
       "      <td>2017.0</td>\n",
       "      <td>0.810000</td>\n",
       "    </tr>\n",
       "  </tbody>\n",
       "</table>\n",
       "</div>"
      ],
      "text/plain": [
       "   Year Enacted_up  adoption rate of a version of policy(total score/31*2)\n",
       "0           2006.0                                           0.000000     \n",
       "1           2009.0                                           0.173333     \n",
       "2           2010.0                                           0.000000     \n",
       "3           2011.0                                           0.125000     \n",
       "4           2012.0                                           0.287778     \n",
       "5           2013.0                                           0.358750     \n",
       "6           2014.0                                           0.356250     \n",
       "7           2015.0                                           0.438182     \n",
       "8           2016.0                                           0.482500     \n",
       "9           2017.0                                           0.810000     "
      ]
     },
     "execution_count": 18,
     "metadata": {},
     "output_type": "execute_result"
    }
   ],
   "source": [
    "all_cities_year_mean"
   ]
  },
  {
   "cell_type": "code",
   "execution_count": 19,
   "metadata": {},
   "outputs": [
    {
     "data": {
      "image/png": "[encoded data removed]",
      "text/plain": [
       "<matplotlib.figure.Figure at 0x117837dd8>"
      ]
     },
     "metadata": {},
     "output_type": "display_data"
    }
   ],
   "source": [
    "#visual\n",
    "visual_1 = seaborn_chart('Year Enacted_up', 'adoption rate of a version of policy(total score/31*2)', all_cities_year_mean, 'Year', 'Adoption (mean) rate of Sunlight guidelines', 'Adoption (mean) Rate of Sunlight Foundation Guidelines by Year')"
   ]
  },
  {
   "cell_type": "markdown",
   "metadata": {},
   "source": [
    "#median"
   ]
  },
  {
   "cell_type": "code",
   "execution_count": 20,
   "metadata": {
    "collapsed": true
   },
   "outputs": [],
   "source": [
    "all_cities_year_median = explore_analysis(\"adoption rate of a version of policy(total score/31*2)\",\"Year Enacted_up\", \"groupby_median\", all_sunlight_cities_filtered)"
   ]
  },
  {
   "cell_type": "code",
   "execution_count": 21,
   "metadata": {},
   "outputs": [
    {
     "data": {
      "text/html": [
       "<div>\n",
       "<style>\n",
       "    .dataframe thead tr:only-child th {\n",
       "        text-align: right;\n",
       "    }\n",
       "\n",
       "    .dataframe thead th {\n",
       "        text-align: left;\n",
       "    }\n",
       "\n",
       "    .dataframe tbody tr th {\n",
       "        vertical-align: top;\n",
       "    }\n",
       "</style>\n",
       "<table border=\"1\" class=\"dataframe\">\n",
       "  <thead>\n",
       "    <tr style=\"text-align: right;\">\n",
       "      <th></th>\n",
       "      <th>Year Enacted_up</th>\n",
       "      <th>adoption rate of a version of policy(total score/31*2)</th>\n",
       "    </tr>\n",
       "  </thead>\n",
       "  <tbody>\n",
       "    <tr>\n",
       "      <th>0</th>\n",
       "      <td>2006.0</td>\n",
       "      <td>0.000</td>\n",
       "    </tr>\n",
       "    <tr>\n",
       "      <th>1</th>\n",
       "      <td>2009.0</td>\n",
       "      <td>0.260</td>\n",
       "    </tr>\n",
       "    <tr>\n",
       "      <th>2</th>\n",
       "      <td>2010.0</td>\n",
       "      <td>0.000</td>\n",
       "    </tr>\n",
       "    <tr>\n",
       "      <th>3</th>\n",
       "      <td>2011.0</td>\n",
       "      <td>0.125</td>\n",
       "    </tr>\n",
       "    <tr>\n",
       "      <th>4</th>\n",
       "      <td>2012.0</td>\n",
       "      <td>0.370</td>\n",
       "    </tr>\n",
       "    <tr>\n",
       "      <th>5</th>\n",
       "      <td>2013.0</td>\n",
       "      <td>0.360</td>\n",
       "    </tr>\n",
       "    <tr>\n",
       "      <th>6</th>\n",
       "      <td>2014.0</td>\n",
       "      <td>0.370</td>\n",
       "    </tr>\n",
       "    <tr>\n",
       "      <th>7</th>\n",
       "      <td>2015.0</td>\n",
       "      <td>0.500</td>\n",
       "    </tr>\n",
       "    <tr>\n",
       "      <th>8</th>\n",
       "      <td>2016.0</td>\n",
       "      <td>0.520</td>\n",
       "    </tr>\n",
       "    <tr>\n",
       "      <th>9</th>\n",
       "      <td>2017.0</td>\n",
       "      <td>0.810</td>\n",
       "    </tr>\n",
       "  </tbody>\n",
       "</table>\n",
       "</div>"
      ],
      "text/plain": [
       "   Year Enacted_up  adoption rate of a version of policy(total score/31*2)\n",
       "0           2006.0                                              0.000     \n",
       "1           2009.0                                              0.260     \n",
       "2           2010.0                                              0.000     \n",
       "3           2011.0                                              0.125     \n",
       "4           2012.0                                              0.370     \n",
       "5           2013.0                                              0.360     \n",
       "6           2014.0                                              0.370     \n",
       "7           2015.0                                              0.500     \n",
       "8           2016.0                                              0.520     \n",
       "9           2017.0                                              0.810     "
      ]
     },
     "execution_count": 21,
     "metadata": {},
     "output_type": "execute_result"
    }
   ],
   "source": [
    "all_cities_year_median"
   ]
  },
  {
   "cell_type": "code",
   "execution_count": 22,
   "metadata": {},
   "outputs": [
    {
     "data": {
      "image/png": "[encoded data removed]",
      "text/plain": [
       "<matplotlib.figure.Figure at 0x117837240>"
      ]
     },
     "metadata": {},
     "output_type": "display_data"
    }
   ],
   "source": [
    "#visual\n",
    "visual_1_median = seaborn_chart('Year Enacted_up', 'adoption rate of a version of policy(total score/31*2)', all_cities_year_median, 'Year', 'Adoption (median) rate of Sunlight guidelines', 'Adoption (median) Rate of Sunlight Foundation Guidelines by Year')"
   ]
  },
  {
   "cell_type": "markdown",
   "metadata": {},
   "source": [
    "## Second analysis - overalying the number of cities for each year in the chart"
   ]
  },
  {
   "cell_type": "code",
   "execution_count": 23,
   "metadata": {
    "collapsed": true
   },
   "outputs": [],
   "source": [
    "#merge the two datasets\n",
    "final = all_cities_year_count.merge(all_cities_year_mean)"
   ]
  },
  {
   "cell_type": "code",
   "execution_count": 24,
   "metadata": {},
   "outputs": [
    {
     "data": {
      "text/html": [
       "<div>\n",
       "<style>\n",
       "    .dataframe thead tr:only-child th {\n",
       "        text-align: right;\n",
       "    }\n",
       "\n",
       "    .dataframe thead th {\n",
       "        text-align: left;\n",
       "    }\n",
       "\n",
       "    .dataframe tbody tr th {\n",
       "        vertical-align: top;\n",
       "    }\n",
       "</style>\n",
       "<table border=\"1\" class=\"dataframe\">\n",
       "  <thead>\n",
       "    <tr style=\"text-align: right;\">\n",
       "      <th></th>\n",
       "      <th>Year Enacted_up</th>\n",
       "      <th>City</th>\n",
       "      <th>adoption rate of a version of policy(total score/31*2)</th>\n",
       "    </tr>\n",
       "  </thead>\n",
       "  <tbody>\n",
       "    <tr>\n",
       "      <th>0</th>\n",
       "      <td>2006.0</td>\n",
       "      <td>1</td>\n",
       "      <td>0.000000</td>\n",
       "    </tr>\n",
       "    <tr>\n",
       "      <th>1</th>\n",
       "      <td>2009.0</td>\n",
       "      <td>3</td>\n",
       "      <td>0.173333</td>\n",
       "    </tr>\n",
       "    <tr>\n",
       "      <th>2</th>\n",
       "      <td>2010.0</td>\n",
       "      <td>1</td>\n",
       "      <td>0.000000</td>\n",
       "    </tr>\n",
       "    <tr>\n",
       "      <th>3</th>\n",
       "      <td>2011.0</td>\n",
       "      <td>6</td>\n",
       "      <td>0.125000</td>\n",
       "    </tr>\n",
       "    <tr>\n",
       "      <th>4</th>\n",
       "      <td>2012.0</td>\n",
       "      <td>9</td>\n",
       "      <td>0.287778</td>\n",
       "    </tr>\n",
       "    <tr>\n",
       "      <th>5</th>\n",
       "      <td>2013.0</td>\n",
       "      <td>16</td>\n",
       "      <td>0.358750</td>\n",
       "    </tr>\n",
       "    <tr>\n",
       "      <th>6</th>\n",
       "      <td>2014.0</td>\n",
       "      <td>24</td>\n",
       "      <td>0.356250</td>\n",
       "    </tr>\n",
       "    <tr>\n",
       "      <th>7</th>\n",
       "      <td>2015.0</td>\n",
       "      <td>11</td>\n",
       "      <td>0.438182</td>\n",
       "    </tr>\n",
       "    <tr>\n",
       "      <th>8</th>\n",
       "      <td>2016.0</td>\n",
       "      <td>16</td>\n",
       "      <td>0.482500</td>\n",
       "    </tr>\n",
       "    <tr>\n",
       "      <th>9</th>\n",
       "      <td>2017.0</td>\n",
       "      <td>1</td>\n",
       "      <td>0.810000</td>\n",
       "    </tr>\n",
       "  </tbody>\n",
       "</table>\n",
       "</div>"
      ],
      "text/plain": [
       "   Year Enacted_up  City  \\\n",
       "0           2006.0     1   \n",
       "1           2009.0     3   \n",
       "2           2010.0     1   \n",
       "3           2011.0     6   \n",
       "4           2012.0     9   \n",
       "5           2013.0    16   \n",
       "6           2014.0    24   \n",
       "7           2015.0    11   \n",
       "8           2016.0    16   \n",
       "9           2017.0     1   \n",
       "\n",
       "   adoption rate of a version of policy(total score/31*2)  \n",
       "0                                           0.000000       \n",
       "1                                           0.173333       \n",
       "2                                           0.000000       \n",
       "3                                           0.125000       \n",
       "4                                           0.287778       \n",
       "5                                           0.358750       \n",
       "6                                           0.356250       \n",
       "7                                           0.438182       \n",
       "8                                           0.482500       \n",
       "9                                           0.810000       "
      ]
     },
     "execution_count": 24,
     "metadata": {},
     "output_type": "execute_result"
    }
   ],
   "source": [
    "final"
   ]
  },
  {
   "cell_type": "code",
   "execution_count": 25,
   "metadata": {},
   "outputs": [
    {
     "data": {
      "image/png": "[encoded data removed]",
      "text/plain": [
       "<matplotlib.figure.Figure at 0x117ea70b8>"
      ]
     },
     "metadata": {},
     "output_type": "display_data"
    }
   ],
   "source": [
    "#visual2\n",
    "visual_2 = seaborn_chart2('Year Enacted_up', 'adoption rate of a version of policy(total score/31*2)', all_cities_year_mean, 'Year', 'Adoption (mean) rate of Sunlight guidelines', 'Adoption (mean) Rate of Sunlight Foundation Guidelines by Year', \"Year Enacted_up\", \"City\", all_cities_year_count)"
   ]
  },
  {
   "cell_type": "markdown",
   "metadata": {},
   "source": [
    "Insights:\n",
    "- highest number of cities in 2014 but the adoption rate is highest in 2017\n",
    "- no data on the number of cities for 2017. Do we have that?\n",
    "- no data on 2010 for the adoption rate.\n",
    "- Interestingly, the adoption rate of 2009 > adoption rate of 2011. What does that mean?"
   ]
  },
  {
   "cell_type": "markdown",
   "metadata": {},
   "source": [
    "# Cities that have passed multiple policies"
   ]
  },
  {
   "cell_type": "code",
   "execution_count": 46,
   "metadata": {},
   "outputs": [],
   "source": [
    "#finding cities with multiple policies\n",
    "all_cities_duplicate = all_sunlight_cities.duplicated(\"City\", keep=False)"
   ]
  },
  {
   "cell_type": "code",
   "execution_count": 47,
   "metadata": {
    "collapsed": true
   },
   "outputs": [],
   "source": [
    "all_cities_duplicate_full = all_sunlight_cities[all_cities_duplicate]"
   ]
  },
  {
   "cell_type": "code",
   "execution_count": 48,
   "metadata": {},
   "outputs": [
    {
     "data": {
      "text/html": [
       "<div>\n",
       "<style>\n",
       "    .dataframe thead tr:only-child th {\n",
       "        text-align: right;\n",
       "    }\n",
       "\n",
       "    .dataframe thead th {\n",
       "        text-align: left;\n",
       "    }\n",
       "\n",
       "    .dataframe tbody tr th {\n",
       "        vertical-align: top;\n",
       "    }\n",
       "</style>\n",
       "<table border=\"1\" class=\"dataframe\">\n",
       "  <thead>\n",
       "    <tr style=\"text-align: right;\">\n",
       "      <th></th>\n",
       "      <th>City</th>\n",
       "      <th>Year Enacted_up</th>\n",
       "      <th>adoption rate of a version of policy(total score/31*2)</th>\n",
       "    </tr>\n",
       "  </thead>\n",
       "  <tbody>\n",
       "    <tr>\n",
       "      <th>3</th>\n",
       "      <td>Austin, TX</td>\n",
       "      <td>2011.0</td>\n",
       "      <td>0.00</td>\n",
       "    </tr>\n",
       "    <tr>\n",
       "      <th>4</th>\n",
       "      <td>Austin, TX</td>\n",
       "      <td>2013.0</td>\n",
       "      <td>0.52</td>\n",
       "    </tr>\n",
       "    <tr>\n",
       "      <th>5</th>\n",
       "      <td>Baltimore, MD</td>\n",
       "      <td>2011.0</td>\n",
       "      <td>0.00</td>\n",
       "    </tr>\n",
       "    <tr>\n",
       "      <th>6</th>\n",
       "      <td>Baltimore, MD</td>\n",
       "      <td>2016.0</td>\n",
       "      <td>0.00</td>\n",
       "    </tr>\n",
       "    <tr>\n",
       "      <th>9</th>\n",
       "      <td>Cambridge, MA</td>\n",
       "      <td>2014.0</td>\n",
       "      <td>0.00</td>\n",
       "    </tr>\n",
       "  </tbody>\n",
       "</table>\n",
       "</div>"
      ],
      "text/plain": [
       "            City  Year Enacted_up  \\\n",
       "3     Austin, TX           2011.0   \n",
       "4     Austin, TX           2013.0   \n",
       "5  Baltimore, MD           2011.0   \n",
       "6  Baltimore, MD           2016.0   \n",
       "9  Cambridge, MA           2014.0   \n",
       "\n",
       "   adoption rate of a version of policy(total score/31*2)  \n",
       "3                                               0.00       \n",
       "4                                               0.52       \n",
       "5                                               0.00       \n",
       "6                                               0.00       \n",
       "9                                               0.00       "
      ]
     },
     "execution_count": 48,
     "metadata": {},
     "output_type": "execute_result"
    }
   ],
   "source": [
    "all_cities_duplicate_full.head()"
   ]
  },
  {
   "cell_type": "code",
   "execution_count": 43,
   "metadata": {},
   "outputs": [
    {
     "name": "stderr",
     "output_type": "stream",
     "text": [
      "/anaconda/lib/python3.6/site-packages/ipykernel_launcher.py:1: FutureWarning: by argument to sort_index is deprecated, pls use .sort_values(by=...)\n",
      "  \"\"\"Entry point for launching an IPython kernel.\n"
     ]
    }
   ],
   "source": [
    "all_cities_duplicate_full = all_cities_duplicate_full.sort_index(by=['Year Enacted_up'], ascending=[True])"
   ]
  },
  {
   "cell_type": "code",
   "execution_count": 49,
   "metadata": {},
   "outputs": [
    {
     "data": {
      "image/png": "[encoded data removed]",
      "text/plain": [
       "<matplotlib.figure.Figure at 0x117e5ea90>"
      ]
     },
     "metadata": {},
     "output_type": "display_data"
    }
   ],
   "source": [
    "#visual\n",
    "visual_3 = seaborn_chart3( \"City\", 'adoption rate of a version of policy(total score/31*2)', \"Year Enacted_up\", all_cities_duplicate_full, 'Year', 'Adoption (mean) rate of Sunlight guidelines', 'Adoption (mean) Rate of Sunlight Foundation Guidelines by Year')\n",
    "#sns.barplot(x=\"adoption rate of a version of policy(total score/31*2)\", y=\"City\", hue=\"Year Enacted_up\", data=all_cities_duplicate_full)"
   ]
  },
  {
   "cell_type": "code",
   "execution_count": 126,
   "metadata": {},
   "outputs": [
    {
     "data": {
      "text/html": [
       "<div>\n",
       "<style>\n",
       "    .dataframe thead tr:only-child th {\n",
       "        text-align: right;\n",
       "    }\n",
       "\n",
       "    .dataframe thead th {\n",
       "        text-align: left;\n",
       "    }\n",
       "\n",
       "    .dataframe tbody tr th {\n",
       "        vertical-align: top;\n",
       "    }\n",
       "</style>\n",
       "<table border=\"1\" class=\"dataframe\">\n",
       "  <thead>\n",
       "    <tr style=\"text-align: right;\">\n",
       "      <th></th>\n",
       "      <th>City</th>\n",
       "      <th>Year Enacted_up</th>\n",
       "      <th>adoption rate of a version of policy(total score/31*2)</th>\n",
       "    </tr>\n",
       "  </thead>\n",
       "  <tbody>\n",
       "    <tr>\n",
       "      <th>3</th>\n",
       "      <td>Austin, TX</td>\n",
       "      <td>2011.0</td>\n",
       "      <td>0.00</td>\n",
       "    </tr>\n",
       "    <tr>\n",
       "      <th>4</th>\n",
       "      <td>Austin, TX</td>\n",
       "      <td>2013.0</td>\n",
       "      <td>0.52</td>\n",
       "    </tr>\n",
       "    <tr>\n",
       "      <th>5</th>\n",
       "      <td>Baltimore, MD</td>\n",
       "      <td>2011.0</td>\n",
       "      <td>0.00</td>\n",
       "    </tr>\n",
       "    <tr>\n",
       "      <th>6</th>\n",
       "      <td>Baltimore, MD</td>\n",
       "      <td>2016.0</td>\n",
       "      <td>0.00</td>\n",
       "    </tr>\n",
       "    <tr>\n",
       "      <th>9</th>\n",
       "      <td>Cambridge, MA</td>\n",
       "      <td>2014.0</td>\n",
       "      <td>0.00</td>\n",
       "    </tr>\n",
       "  </tbody>\n",
       "</table>\n",
       "</div>"
      ],
      "text/plain": [
       "            City  Year Enacted_up  \\\n",
       "3     Austin, TX           2011.0   \n",
       "4     Austin, TX           2013.0   \n",
       "5  Baltimore, MD           2011.0   \n",
       "6  Baltimore, MD           2016.0   \n",
       "9  Cambridge, MA           2014.0   \n",
       "\n",
       "   adoption rate of a version of policy(total score/31*2)  \n",
       "3                                               0.00       \n",
       "4                                               0.52       \n",
       "5                                               0.00       \n",
       "6                                               0.00       \n",
       "9                                               0.00       "
      ]
     },
     "execution_count": 126,
     "metadata": {},
     "output_type": "execute_result"
    }
   ],
   "source": [
    "all_cities_duplicate_full.head()"
   ]
  },
  {
   "cell_type": "code",
   "execution_count": 135,
   "metadata": {},
   "outputs": [
    {
     "name": "stdout",
     "output_type": "stream",
     "text": [
      "{'Austin, TX': [2011.0, 0.0, 2013.0, 0.52], 'Baltimore, MD': [2011.0, 0.0, 2016.0, 0.0], 'Cambridge, MA': [2014.0, 0.0, 2015.0, 0.63], 'Kansas City, MO': [2014.0, 0.26, 2014.0, 0.37, 2015.0, 0.03], 'Las Vegas': [2014.0, 0.34, 2016.0, 0.68], 'New Hampshire': [2012.0, 0.0, 2013.0, 0.15], 'San Francisco, CA': [2009.0, 0.0, 2010.0, 0.0, 2013.0, 0.53], 'Scottsdale, AZ': [2016.0, 0.32, 2017.0, 0.81], 'Seattle, WA': [2016.0, 0.68, 2016.0, 0.77], 'Tulsa, OK': [2013.0, 0.26, 2015.0, 0.52], 'Washington, D.C.': [2006.0, 0.0, 2011.0, 0.1, 2014.0, 0.58]}\n"
     ]
    }
   ],
   "source": [
    "m_cities = {}\n",
    "for city in all_cities_duplicate_full.values:\n",
    "    \n",
    "    if city[0] in m_cities:\n",
    "        m_cities[city[0]].append(city[1])\n",
    "        m_cities[city[0]].append(city[2])\n",
    "        \n",
    "    else:\n",
    "        \n",
    "        m_cities[city[0]] = []\n",
    "        m_cities[city[0]].append(city[1])\n",
    "        m_cities[city[0]].append(city[2])\n",
    "        \n",
    "print(m_cities)"
   ]
  },
  {
   "cell_type": "code",
   "execution_count": 143,
   "metadata": {},
   "outputs": [],
   "source": [
    "k = all_cities_duplicate_full.values.tolist()"
   ]
  },
  {
   "cell_type": "code",
   "execution_count": 156,
   "metadata": {},
   "outputs": [
    {
     "name": "stdout",
     "output_type": "stream",
     "text": [
      "Austin, TX [2011.0, 0.0, 2013.0, 0.52]\n",
      "Baltimore, MD [2011.0, 0.0, 2016.0, 0.0]\n",
      "Cambridge, MA [2014.0, 0.0, 2015.0, 0.63]\n",
      "Kansas City, MO [2014.0, 0.26, 2014.0, 0.37, 2015.0, 0.03]\n",
      "Las Vegas [2014.0, 0.34, 2016.0, 0.68]\n",
      "New Hampshire [2012.0, 0.0, 2013.0, 0.15]\n",
      "San Francisco, CA [2009.0, 0.0, 2010.0, 0.0, 2013.0, 0.53]\n",
      "Scottsdale, AZ [2016.0, 0.32, 2017.0, 0.81]\n",
      "Seattle, WA [2016.0, 0.68, 2016.0, 0.77]\n",
      "Tulsa, OK [2013.0, 0.26, 2015.0, 0.52]\n",
      "Washington, D.C. [2006.0, 0.0, 2011.0, 0.1, 2014.0, 0.58]\n"
     ]
    }
   ],
   "source": [
    "for key, values in m_cities.items():\n",
    "    print(key, values)"
   ]
  },
  {
   "cell_type": "code",
   "execution_count": 289,
   "metadata": {},
   "outputs": [
    {
     "data": {
      "image/png": "[encoded data removed]",
      "text/plain": [
       "<matplotlib.figure.Figure at 0x11e6ee940>"
      ]
     },
     "metadata": {},
     "output_type": "display_data"
    }
   ],
   "source": [
    "fig = plt.figure(figsize = (11,8))\n",
    "fig.text(0.4, -0.02, 'Year', ha='center', fontsize=20)\n",
    "fig.text(-0.03, 0.5, 'Adoption Rate (median)', va='center', rotation='vertical', fontsize=20)\n",
    "\n",
    "font = {'weight' : 'medium', 'size'   : 5}\n",
    "plt.rc('font', **font)\n",
    "plt.subplots_adjust(hspace=.005)\n",
    "\n",
    "rows = 3\n",
    "cols = 4\n",
    "n = 1\n",
    "\n",
    "for city, values in m_cities.items():\n",
    "    plt.subplot(rows, cols, n)\n",
    "    plt.rc('xtick',labelsize=12)\n",
    "    plt.rc('ytick',labelsize=12)\n",
    "\n",
    "    plt.title(city, fontsize=15)\n",
    "    x=[]\n",
    "    y=[]\n",
    "    \n",
    "    for i in range(len(values)):\n",
    "        if i % 2 != 0:\n",
    "            y.append(values[i])\n",
    "        else:\n",
    "            x.append(values[i])\n",
    "    axes = plt.gca()\n",
    "    axes.set_ylim([0,1])\n",
    "            \n",
    "    #plt.axis([2010, 2017, 0, 1])\n",
    "    plt.xticks(x)\n",
    "    #plt.yticks(xrange(10), (0, 0.1, 0.2, 0.3, 0.4, 0.5, 0.6, 0.7, 0.8, 0.9, 1.0))\n",
    "    \n",
    "    plt.plot(x, y, linewidth=1.5)\n",
    "    n += 1\n",
    "    \n",
    "    #plt.xlabel('Year', fontsize=15)\n",
    "    #plt.ylabel('Number of policies', fontsize=15)\n",
    "plt.tight_layout()\n",
    "#plt.show()\n",
    "\n",
    "plt.savefig(\"outfile-analysis-graph2.jpg\", format='jpg')\n"
   ]
  },
  {
   "cell_type": "markdown",
   "metadata": {},
   "source": [
    "# State vs. City wide Analysis"
   ]
  },
  {
   "cell_type": "code",
   "execution_count": 34,
   "metadata": {
    "collapsed": true
   },
   "outputs": [],
   "source": [
    "all_sunlight_cities[\"City\"] = all_sunlight_cities[\"City\"].astype(str)"
   ]
  },
  {
   "cell_type": "code",
   "execution_count": 35,
   "metadata": {},
   "outputs": [
    {
     "data": {
      "text/html": [
       "<div>\n",
       "<style>\n",
       "    .dataframe thead tr:only-child th {\n",
       "        text-align: right;\n",
       "    }\n",
       "\n",
       "    .dataframe thead th {\n",
       "        text-align: left;\n",
       "    }\n",
       "\n",
       "    .dataframe tbody tr th {\n",
       "        vertical-align: top;\n",
       "    }\n",
       "</style>\n",
       "<table border=\"1\" class=\"dataframe\">\n",
       "  <thead>\n",
       "    <tr style=\"text-align: right;\">\n",
       "      <th></th>\n",
       "      <th>City</th>\n",
       "      <th>Year Enacted_up</th>\n",
       "      <th>adoption rate of a version of policy(total score/31*2)</th>\n",
       "      <th>State</th>\n",
       "    </tr>\n",
       "  </thead>\n",
       "  <tbody>\n",
       "    <tr>\n",
       "      <th>0</th>\n",
       "      <td>Amherst, NY</td>\n",
       "      <td>2014.0</td>\n",
       "      <td>0.37</td>\n",
       "      <td>NY</td>\n",
       "    </tr>\n",
       "    <tr>\n",
       "      <th>1</th>\n",
       "      <td>Anchorage, AK</td>\n",
       "      <td>2016.0</td>\n",
       "      <td>0.71</td>\n",
       "      <td>AK</td>\n",
       "    </tr>\n",
       "    <tr>\n",
       "      <th>2</th>\n",
       "      <td>Asheville, NC</td>\n",
       "      <td>2015.0</td>\n",
       "      <td>0.58</td>\n",
       "      <td>NC</td>\n",
       "    </tr>\n",
       "    <tr>\n",
       "      <th>3</th>\n",
       "      <td>Austin, TX</td>\n",
       "      <td>2011.0</td>\n",
       "      <td>0.00</td>\n",
       "      <td>TX</td>\n",
       "    </tr>\n",
       "    <tr>\n",
       "      <th>4</th>\n",
       "      <td>Austin, TX</td>\n",
       "      <td>2013.0</td>\n",
       "      <td>0.52</td>\n",
       "      <td>TX</td>\n",
       "    </tr>\n",
       "  </tbody>\n",
       "</table>\n",
       "</div>"
      ],
      "text/plain": [
       "            City  Year Enacted_up  \\\n",
       "0    Amherst, NY           2014.0   \n",
       "1  Anchorage, AK           2016.0   \n",
       "2  Asheville, NC           2015.0   \n",
       "3     Austin, TX           2011.0   \n",
       "4     Austin, TX           2013.0   \n",
       "\n",
       "   adoption rate of a version of policy(total score/31*2) State  \n",
       "0                                               0.37         NY  \n",
       "1                                               0.71         AK  \n",
       "2                                               0.58         NC  \n",
       "3                                               0.00         TX  \n",
       "4                                               0.52         TX  "
      ]
     },
     "execution_count": 35,
     "metadata": {},
     "output_type": "execute_result"
    }
   ],
   "source": [
    "all_sunlight_cities.head()"
   ]
  },
  {
   "cell_type": "code",
   "execution_count": 116,
   "metadata": {
    "collapsed": true
   },
   "outputs": [],
   "source": [
    "def extracting_states(df):\n",
    "    all_states = []\n",
    "    for city in df[\"City\"]:\n",
    "        if \",\" in city:\n",
    "            if \"D.C.\" in city:\n",
    "                state = city[-4:]\n",
    "            else:\n",
    "                state = city.rstrip()[-2:]\n",
    "        else:\n",
    "            state = city\n",
    "\n",
    "        all_states.append(state)\n",
    "    df[\"State\"] = all_states"
   ]
  },
  {
   "cell_type": "code",
   "execution_count": 117,
   "metadata": {
    "collapsed": true
   },
   "outputs": [],
   "source": [
    "extracting_states(all_sunlight_cities)"
   ]
  },
  {
   "cell_type": "code",
   "execution_count": 119,
   "metadata": {},
   "outputs": [
    {
     "data": {
      "text/html": [
       "<div>\n",
       "<style>\n",
       "    .dataframe thead tr:only-child th {\n",
       "        text-align: right;\n",
       "    }\n",
       "\n",
       "    .dataframe thead th {\n",
       "        text-align: left;\n",
       "    }\n",
       "\n",
       "    .dataframe tbody tr th {\n",
       "        vertical-align: top;\n",
       "    }\n",
       "</style>\n",
       "<table border=\"1\" class=\"dataframe\">\n",
       "  <thead>\n",
       "    <tr style=\"text-align: right;\">\n",
       "      <th></th>\n",
       "      <th>City</th>\n",
       "      <th>Year Enacted_up</th>\n",
       "      <th>adoption rate of a version of policy(total score/31*2)</th>\n",
       "      <th>State</th>\n",
       "    </tr>\n",
       "  </thead>\n",
       "  <tbody>\n",
       "    <tr>\n",
       "      <th>0</th>\n",
       "      <td>Amherst, NY</td>\n",
       "      <td>2014.0</td>\n",
       "      <td>0.37</td>\n",
       "      <td>NY</td>\n",
       "    </tr>\n",
       "    <tr>\n",
       "      <th>1</th>\n",
       "      <td>Anchorage, AK</td>\n",
       "      <td>2016.0</td>\n",
       "      <td>0.71</td>\n",
       "      <td>AK</td>\n",
       "    </tr>\n",
       "    <tr>\n",
       "      <th>2</th>\n",
       "      <td>Asheville, NC</td>\n",
       "      <td>2015.0</td>\n",
       "      <td>0.58</td>\n",
       "      <td>NC</td>\n",
       "    </tr>\n",
       "    <tr>\n",
       "      <th>3</th>\n",
       "      <td>Austin, TX</td>\n",
       "      <td>2011.0</td>\n",
       "      <td>0.00</td>\n",
       "      <td>TX</td>\n",
       "    </tr>\n",
       "    <tr>\n",
       "      <th>4</th>\n",
       "      <td>Austin, TX</td>\n",
       "      <td>2013.0</td>\n",
       "      <td>0.52</td>\n",
       "      <td>TX</td>\n",
       "    </tr>\n",
       "  </tbody>\n",
       "</table>\n",
       "</div>"
      ],
      "text/plain": [
       "            City  Year Enacted_up  \\\n",
       "0    Amherst, NY           2014.0   \n",
       "1  Anchorage, AK           2016.0   \n",
       "2  Asheville, NC           2015.0   \n",
       "3     Austin, TX           2011.0   \n",
       "4     Austin, TX           2013.0   \n",
       "\n",
       "   adoption rate of a version of policy(total score/31*2) State  \n",
       "0                                               0.37         NY  \n",
       "1                                               0.71         AK  \n",
       "2                                               0.58         NC  \n",
       "3                                               0.00         TX  \n",
       "4                                               0.52         TX  "
      ]
     },
     "execution_count": 119,
     "metadata": {},
     "output_type": "execute_result"
    }
   ],
   "source": [
    "all_sunlight_cities.head()"
   ]
  },
  {
   "cell_type": "code",
   "execution_count": 39,
   "metadata": {
    "collapsed": true
   },
   "outputs": [],
   "source": [
    "all_cities_state_count = explore_analysis(\"City\",\"State\", \"groupby_count\", all_sunlight_cities)\n",
    "all_cities_state_count.sort_values(\"City\", ascending = False, inplace = True)"
   ]
  },
  {
   "cell_type": "code",
   "execution_count": 41,
   "metadata": {},
   "outputs": [
    {
     "data": {
      "text/html": [
       "<div>\n",
       "<style>\n",
       "    .dataframe thead tr:only-child th {\n",
       "        text-align: right;\n",
       "    }\n",
       "\n",
       "    .dataframe thead th {\n",
       "        text-align: left;\n",
       "    }\n",
       "\n",
       "    .dataframe tbody tr th {\n",
       "        vertical-align: top;\n",
       "    }\n",
       "</style>\n",
       "<table border=\"1\" class=\"dataframe\">\n",
       "  <thead>\n",
       "    <tr style=\"text-align: right;\">\n",
       "      <th></th>\n",
       "      <th>State</th>\n",
       "      <th>City</th>\n",
       "    </tr>\n",
       "  </thead>\n",
       "  <tbody>\n",
       "    <tr>\n",
       "      <th>3</th>\n",
       "      <td>CA</td>\n",
       "      <td>11</td>\n",
       "    </tr>\n",
       "    <tr>\n",
       "      <th>20</th>\n",
       "      <td>MO</td>\n",
       "      <td>6</td>\n",
       "    </tr>\n",
       "    <tr>\n",
       "      <th>36</th>\n",
       "      <td>TX</td>\n",
       "      <td>5</td>\n",
       "    </tr>\n",
       "    <tr>\n",
       "      <th>25</th>\n",
       "      <td>NY</td>\n",
       "      <td>4</td>\n",
       "    </tr>\n",
       "    <tr>\n",
       "      <th>17</th>\n",
       "      <td>MD</td>\n",
       "      <td>4</td>\n",
       "    </tr>\n",
       "  </tbody>\n",
       "</table>\n",
       "</div>"
      ],
      "text/plain": [
       "   State  City\n",
       "3     CA    11\n",
       "20    MO     6\n",
       "36    TX     5\n",
       "25    NY     4\n",
       "17    MD     4"
      ]
     },
     "execution_count": 41,
     "metadata": {},
     "output_type": "execute_result"
    }
   ],
   "source": [
    "all_cities_state_count.head()"
   ]
  },
  {
   "cell_type": "code",
   "execution_count": 42,
   "metadata": {
    "collapsed": true
   },
   "outputs": [],
   "source": [
    "all_states_mean = explore_analysis(\"adoption rate of a version of policy(total score/31*2)\",\"State\", \"groupby_mean\", all_sunlight_cities)\n",
    "#all_cities_state_mean.sort_values(\"City\", ascending=False, inplace=True)"
   ]
  },
  {
   "cell_type": "code",
   "execution_count": 43,
   "metadata": {},
   "outputs": [
    {
     "data": {
      "text/html": [
       "<div>\n",
       "<style>\n",
       "    .dataframe thead tr:only-child th {\n",
       "        text-align: right;\n",
       "    }\n",
       "\n",
       "    .dataframe thead th {\n",
       "        text-align: left;\n",
       "    }\n",
       "\n",
       "    .dataframe tbody tr th {\n",
       "        vertical-align: top;\n",
       "    }\n",
       "</style>\n",
       "<table border=\"1\" class=\"dataframe\">\n",
       "  <thead>\n",
       "    <tr style=\"text-align: right;\">\n",
       "      <th></th>\n",
       "      <th>State</th>\n",
       "      <th>adoption rate of a version of policy(total score/31*2)</th>\n",
       "    </tr>\n",
       "  </thead>\n",
       "  <tbody>\n",
       "    <tr>\n",
       "      <th>0</th>\n",
       "      <td>AK</td>\n",
       "      <td>0.710000</td>\n",
       "    </tr>\n",
       "    <tr>\n",
       "      <th>1</th>\n",
       "      <td>AR</td>\n",
       "      <td>0.320000</td>\n",
       "    </tr>\n",
       "    <tr>\n",
       "      <th>2</th>\n",
       "      <td>AZ</td>\n",
       "      <td>0.613333</td>\n",
       "    </tr>\n",
       "    <tr>\n",
       "      <th>3</th>\n",
       "      <td>CA</td>\n",
       "      <td>0.352727</td>\n",
       "    </tr>\n",
       "    <tr>\n",
       "      <th>4</th>\n",
       "      <td>CT</td>\n",
       "      <td>0.350000</td>\n",
       "    </tr>\n",
       "  </tbody>\n",
       "</table>\n",
       "</div>"
      ],
      "text/plain": [
       "  State  adoption rate of a version of policy(total score/31*2)\n",
       "0    AK                                           0.710000     \n",
       "1    AR                                           0.320000     \n",
       "2    AZ                                           0.613333     \n",
       "3    CA                                           0.352727     \n",
       "4    CT                                           0.350000     "
      ]
     },
     "execution_count": 43,
     "metadata": {},
     "output_type": "execute_result"
    }
   ],
   "source": [
    "all_states_mean.head()"
   ]
  },
  {
   "cell_type": "code",
   "execution_count": 44,
   "metadata": {
    "collapsed": true,
    "scrolled": true
   },
   "outputs": [],
   "source": [
    "all_cities_mean = all_sunlight_cities.groupby(['State','City'])['adoption rate of a version of policy(total score/31*2)'].mean().reset_index()"
   ]
  },
  {
   "cell_type": "code",
   "execution_count": 67,
   "metadata": {},
   "outputs": [
    {
     "data": {
      "text/html": [
       "<div>\n",
       "<style>\n",
       "    .dataframe thead tr:only-child th {\n",
       "        text-align: right;\n",
       "    }\n",
       "\n",
       "    .dataframe thead th {\n",
       "        text-align: left;\n",
       "    }\n",
       "\n",
       "    .dataframe tbody tr th {\n",
       "        vertical-align: top;\n",
       "    }\n",
       "</style>\n",
       "<table border=\"1\" class=\"dataframe\">\n",
       "  <thead>\n",
       "    <tr style=\"text-align: right;\">\n",
       "      <th></th>\n",
       "      <th>State</th>\n",
       "      <th>City</th>\n",
       "      <th>adoption rate of a version of policy(total score/31*2)</th>\n",
       "    </tr>\n",
       "  </thead>\n",
       "  <tbody>\n",
       "    <tr>\n",
       "      <th>0</th>\n",
       "      <td>AK</td>\n",
       "      <td>Anchorage, AK</td>\n",
       "      <td>0.710</td>\n",
       "    </tr>\n",
       "    <tr>\n",
       "      <th>1</th>\n",
       "      <td>AR</td>\n",
       "      <td>Little Rock, AR</td>\n",
       "      <td>0.320</td>\n",
       "    </tr>\n",
       "    <tr>\n",
       "      <th>2</th>\n",
       "      <td>AZ</td>\n",
       "      <td>Mesa, AZ</td>\n",
       "      <td>0.710</td>\n",
       "    </tr>\n",
       "    <tr>\n",
       "      <th>3</th>\n",
       "      <td>AZ</td>\n",
       "      <td>Scottsdale, AZ</td>\n",
       "      <td>0.565</td>\n",
       "    </tr>\n",
       "    <tr>\n",
       "      <th>4</th>\n",
       "      <td>CA</td>\n",
       "      <td>Los Angeles, CA</td>\n",
       "      <td>0.230</td>\n",
       "    </tr>\n",
       "  </tbody>\n",
       "</table>\n",
       "</div>"
      ],
      "text/plain": [
       "  State             City  \\\n",
       "0    AK    Anchorage, AK   \n",
       "1    AR  Little Rock, AR   \n",
       "2    AZ         Mesa, AZ   \n",
       "3    AZ   Scottsdale, AZ   \n",
       "4    CA  Los Angeles, CA   \n",
       "\n",
       "   adoption rate of a version of policy(total score/31*2)  \n",
       "0                                              0.710       \n",
       "1                                              0.320       \n",
       "2                                              0.710       \n",
       "3                                              0.565       \n",
       "4                                              0.230       "
      ]
     },
     "execution_count": 67,
     "metadata": {},
     "output_type": "execute_result"
    }
   ],
   "source": [
    "all_cities_mean.head()"
   ]
  },
  {
   "cell_type": "code",
   "execution_count": 66,
   "metadata": {},
   "outputs": [
    {
     "data": {
      "text/plain": [
       "<seaborn.axisgrid.FacetGrid at 0x111e4c208>"
      ]
     },
     "execution_count": 66,
     "metadata": {},
     "output_type": "execute_result"
    },
    {
     "data": {
      "image/png": "[encoded data removed]",
      "text/plain": [
       "<matplotlib.figure.Figure at 0x10e6e14a8>"
      ]
     },
     "metadata": {},
     "output_type": "display_data"
    }
   ],
   "source": [
    "sns.set(font_scale=1)\n",
    "sns.factorplot(x=\"City\", y=\"adoption rate of a version of policy(total score/31*2)\", col=\"State\", sharex=False, data=all_cities_mean.head(), gridspec_kws={\"width_ratios\": [5, 3, 3]})\n"
   ]
  },
  {
   "cell_type": "code",
   "execution_count": null,
   "metadata": {
    "collapsed": true
   },
   "outputs": [],
   "source": []
  }
 ],
 "metadata": {
  "kernelspec": {
   "display_name": "Python 3",
   "language": "python",
   "name": "python3"
  },
  "language_info": {
   "codemirror_mode": {
    "name": "ipython",
    "version": 3
   },
   "file_extension": ".py",
   "mimetype": "text/x-python",
   "name": "python",
   "nbconvert_exporter": "python",
   "pygments_lexer": "ipython3",
   "version": "3.6.1"
  }
 },
 "nbformat": 4,
 "nbformat_minor": 2
}
