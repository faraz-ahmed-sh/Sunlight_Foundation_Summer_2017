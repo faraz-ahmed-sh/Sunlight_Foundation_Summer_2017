{
 "cells": [
  {
   "cell_type": "code",
   "execution_count": 52,
   "metadata": {},
   "outputs": [],
   "source": [
    "# loading the scrapper & analysis functions\n",
    "from comment_crawler import *\n",
    "from comment_crawler_analysis import *\n",
    "from graphs_and_charts import *\n",
    "from authors_names import *"
   ]
  },
  {
   "cell_type": "code",
   "execution_count": 53,
   "metadata": {},
   "outputs": [],
   "source": [
    "%run comment_crawler.py\n",
    "%run comment_crawler_analysis.py\n",
    "%run graphs_and_charts.py\n",
    "%run authors_names.py"
   ]
  },
  {
   "cell_type": "markdown",
   "metadata": {},
   "source": [
    "#### Define the starting urls list:"
   ]
  },
  {
   "cell_type": "code",
   "execution_count": 57,
   "metadata": {},
   "outputs": [
    {
     "data": {
      "text/plain": [
       "['https://mymadison.io/documents/city-of-buffalo-open-data-policy',\n",
       " 'https://mymadison.io/documents/durham-open-data-policy',\n",
       " 'https://mymadison.io/documents/city-of-tyler-data-policy',\n",
       " 'https://mymadison.io/documents/city-of-glendale-draft-open-data-resolution',\n",
       " 'https://mymadison.io/documents/metro-nashville-government-open-data-policy',\n",
       " 'https://mymadison.io/documents/city-of-syracuse-open-data-policy',\n",
       " 'https://mymadison.io/documents/napervilleopendatapolicy',\n",
       " 'https://mymadison.io/documents/bart-open-data-policy',\n",
       " 'https://mymadison.io/documents/san-francisco-open-data-legislation-2014']"
      ]
     },
     "execution_count": 57,
     "metadata": {},
     "output_type": "execute_result"
    }
   ],
   "source": [
    "starting_urls_list"
   ]
  },
  {
   "cell_type": "markdown",
   "metadata": {},
   "source": [
    "### Scrapping all the open data policy comments and policy texts for all Madison websites and putting them into dataframes"
   ]
  },
  {
   "cell_type": "code",
   "execution_count": 7,
   "metadata": {},
   "outputs": [
    {
     "name": "stderr",
     "output_type": "stream",
     "text": [
      "/Users/summerfellow/anaconda/envs/py35/lib/python3.5/site-packages/bs4/__init__.py:181: UserWarning: No parser was explicitly specified, so I'm using the best available HTML parser for this system (\"html5lib\"). This usually isn't a problem, but if you run this code on another system, or in a different virtual environment, it may use a different parser and behave differently.\n",
      "\n",
      "The code that caused this warning is on line 193 of the file /Users/summerfellow/anaconda/envs/py35/lib/python3.5/runpy.py. To get rid of this warning, change code that looks like this:\n",
      "\n",
      " BeautifulSoup(YOUR_MARKUP})\n",
      "\n",
      "to this:\n",
      "\n",
      " BeautifulSoup(YOUR_MARKUP, \"html5lib\")\n",
      "\n",
      "  markup_type=markup_type))\n"
     ]
    },
    {
     "name": "stdout",
     "output_type": "stream",
     "text": [
      "[<p>I am in support of the proposed policy to further enable data and subsequent knowledge sharing. I agree with fellow contributors that it would be beneficial to see more detailed outlines for the specific process that is going to enable community members to contribute to the Open Data portal by creating, uploading and verifying data sets to be published. Myself and colleagues have created a number of valuable data sets that could be beneficial across city departments, community organizations and individual interests. Understanding that only data sets meeting the standards set forth as a result of this policy will be accepted, we can collaboratively drive the understanding of our community from all perspectives.</p>]\n",
      "[<p>I would be interested to see this more finely documented. It would be great to have a living, breathering process that community members could submit data sets that they have created (required to meet the data standards set forth by the Open Data Policy) for verification and publication to the open data portal within a timely manner. Individuals in the community may have greater flexibility and time to produce unique data sets pertinent to acute challenges and enable broader understanding in a more timely manner.</p>]\n",
      "[<p>I strongly support the proposed policy, with a recognition of the outstanding contributions that have already been made by other residents, citizens, and interested parties.</p>, <p>Many thanks to the City of Buffalo for leading this effort. Most of my comments are within the document itself, but I do agree with other comments below that emphasize the need for substantial citizen involvement in governance, application, and oversight. During the RFP process, I would encourage the city to include not only requirements for a portal, but also an iterative feedback/improvement process with residents and regular data users so that the city's investment in this system can produce tangible use cases and real benefits to our city and its people.</p>, <p>The Department of Citizen Services should also be commended for their use of the collaborative policymaking platform. In the age of the internet, this is an excellent way to increase public participation in these types of processes. Many thanks for this opportunity.</p>]\n",
      "[<p>Can the portal include an option for community members/partners to publish their own data to a section of the site? Provided it adheres to a set of minimum standards and passes review.</p>]\n",
      "[<p>It may be a helpful option to include a repository of FOIL requests and responses (whatever is able to be centralized), as well as an option to automate or streamline the FOIL request process via the portal interface.</p>]\n",
      "[<p>Minutes from any and all meetings of this committee should be made available in machine-readable formats in an easily-accessible location (including within the open data system)</p>]\n",
      "[<p>A Citizens Advisory Committee can be designated (appointments by mayor, council members) to support the Governance Committee in the areas of reviewing datasets to be published, hosting events for public feedback and participation, facilitating collaborations, facilitating use of the portal, expanding awareness of open data resources and applications, as well as defining and regularly reviewing the data standards governance document.</p>]\n",
      "[<p>equitable access to opportunity (open data can help move us closer to this goal)</p>]\n",
      "[<p>This part of the reporting should make specific reference to the three goals articulated in Section \"Open Data Program\", part 6: government efficiency, improved quality of life, and expanded economic opportunities.</p>]\n",
      "[<p>The open data system should include a space for showcasing the innovative ways in which city data are used by these various stakeholders.</p>]\n",
      "[<p>Remove \"paramount.\" Privacy, confidentiality and security should be considerations when determining whether data should be open, but they should not be presumed to be paramount and therefore superior to the public's right to know.</p>]\n",
      "[<p>I strongly support the spirit of this policy and the efforts made toward ensuring free public access to data information and government transparency. As a private citizen and freelance writer and researcher, I support the timely adoption and implementation of this policy.</p>, <p>The following are my concerns with the policy as it now stands:</p>, <p>The policy should encourage and, when possible, mandate the collection and dissemination of information collected by non-city and quasi-governmental agencies such as the NFTA, BMHA, Buffalo Place, the Buffalo Olmsted Parks Conservancy, hospital campuses, institutions of higher education and other organizations providing public services such as park maintenance, policing and security, transportation and education services. In particular, public safety information from police and security forces managed by Buffalo Place, medical and college campuses and the NFTA should be subject to the open data policy.</p>, <p>When information is unavailable due to its privileged status, it should be made available in the aggregate whenever possible. e.g., motor vehicle incident reports are not public per NYS law but should be presented to the public in an anonymized or aggregate form.</p>]\n",
      "[<p>The following comment is submitted on behalf of the Public Accountability Initiative:</p>, <p>The Public Accountability Initiative (PAI) is a non-profit educational group focused on transparency and accountability headquartered in the City of Buffalo. PAI operates a research platform, LittleSis.org, that brings together information obtained through public records for use by journalists, academics, and activists as well as the general public. Access to current government information is paramount to PAI’s work and to meaningful participation in a democracy. As such, PAI endorses the goals of the Open Data proposal.</p>, <p>Below we have highlighted what feel are the most commendable inclusions in the proposal as currently drafted, made suggestions for further improvement, and raised concerns with certain provisions of the proposal.</p>, <p>By providing access to public information proactively and for free, the Open Data proposal addresses two significant burdens to public access to information: failure to respond to freedom of information requests in a timely fashion and undue copying fees levied by public agencies. According to MuckRock, a non-profit organization that facilitates the filing and analysis of freedom of information requests, the City of Buffalo takes an average of 63 days to respond to freedom of information requests and charges an average fee of $4.13 per request. PAI has had considerable difficulty obtaining public records from city agencies, most notably the Buffalo Police Department (see e.g. “FOIL by inches: The slow-drip transparency of Buffalo PD” by Caitlin Russell of MuckRock).</p>, <p>If these burdens are truly shifted from requesters to the City, Buffalo will be making a commendable commitment to transparency. To even further improve access to public records, PAI seconds Brian Borncamp’s recommendation that the Open Data Policy provide for a “centralized system for submitting, tracking, and responding to FOIL requests.” By centralizing all requests and by making requests and responses publicly available, the City can dramatically increase its responsiveness to public requests for information and reduce instances of non-compliance with the Freedom of Information Law that result in costly attorneys’ fees.</p>, <p>PAI also highlights and applauds the inclusion of “records of third-party agency contractors that create or acquire information, records, or data on behalf of a City division/department” as an especially meaningful and important component of the Open Data proposal. Public entities are increasingly reliant on non-governmental or quasi-governmental non-profits to perform governmental services. If unchecked, those third-party contractors can act as a “black box” where important information can be kept secret from the public, leading to suspicion and, at times, scandal. The State University at New York system is currently dealing with this issue within its nominally private campus-related foundations at the center of the United States Attorney investigation into Buffalo Billion contracting.</p>, <p>Explicitly holding third-party contractors to the same transparency standard as the public agencies they’re working for both honors the letter of New York’s Freedom of Information Law and serves as a proactive measure to avoid actual or apparent corruption. This provision should be taken further to explicitly include records of all city-related public benefit corporations and other quasi-governmental entities.</p>, <p>Finally, as PAI is involved with technology development in addition to producing original research, we call attention to the proposed availability of City of Buffalo data via an Application Programming Interface (API). Providing data this way allows developers to interact with data in new and unexpected ways and facilitates analysis of that data. For example, PAI’s research platform LittleSis interacts with the OpenSecrets database maintained by the Center for Responsive Politics via an API to incorporate campaign finance as soon as it is uploaded. In addition to making City of Buffalo data available via an API, PAI also recommends that datasets be available for bulk download in various relevant formats to permit analysis using Microsoft Excel or other programs.</p>, <p>PAI has significant concerns about the oversight of Buffalo’s Open Data portal. As currently stipulated in the proposal, development and implementation of the Open Data practices will be delegated to appointees of the Mayor with “input from the public.” It is crucial for the Open Data Governance Committee to be free from the influence of politics and to not be beholden to any one political representative. As such, the Open Data Governance Committee should include representatives from the City as well as from independent organizations working in the public interest, such as the residents, businesses, researchers, and media mentioned in the policy’s statement of purpose, and independent members should comprise a majority of the committee’s votes.</p>, <p>Alongside the existing Open Book Buffalo portal, this Open Data policy represents a praiseworthy commitment to transparency and accountability for the City of Buffalo. For this, the Public Accountability Initiative again commends the city government and welcomes any further opportunity for input on this important initiative. By adopting a policy that addresses the above-stated concerns addressed – especially those about oversight and the centralization of freedom of information requests and responses – the City of Buffalo will take a great stride in advancing transparency and accountability to its residents.</p>]\n",
      "[<p>I assume this would be funding for training the support staff.  I would like to also recommend that a portion of the funding be allocated for training residents, community groups and nonprofits on how to access information and analyze it to inform their work.</p>]\n",
      "[<p>It is important to include all members of the local community that can benefit from this information; including nonprofits and foundations.</p>]\n"
     ]
    },
    {
     "name": "stdout",
     "output_type": "stream",
     "text": [
      "[<p>How will this committee be formed?  Will it be comprised of community stakeholders or only government employees/officials?</p>]\n",
      "[<p>residents, government leaders, businesses, nonprofits, foundations, researchers, and the media,</p>]\n",
      "[<p>foundations, nonprofits</p>]\n",
      "[<p>Any additional data that is made available would be very helpful.</p>]\n",
      "[<p>\"records\" seems overly broad here.</p>]\n",
      "[<p>Thank you to the City of Buffalo!  My comments are regarding the geospatial (GIS) data. We often build tools for local government, and open data portals are our go-to standard to accessing data.  Please also consider including open access to live data such as webservices. Downloadable data, such as xmls, shapefiles or even file geodatabases are necessary for local processing and analysis.  However, most of our support to local government agencies is by functioning as tool and system developers. It makes us incredibly more productive (and accurate) to have access to live data.  I agree with Sean Meyers and support the distribution of the webservices and mapservices in web standard formats.  -Karyn Tareen CEO, Geocove</p>]\n",
      "[<p>I'm glad this issue came to the forefront for the city, as these have been great resources in other cities across the country and world.</p>, <p>My only primary concern is that often times these portals are more civic gestures than meaningful contributions to the data community.  I would just ask that, should the city give its approval, there be some assurance that the data will be actionable and easily legible.  Often times, spreadsheets are put out that contain codes and numerical systems that make sense for people working in offices that have the keys and necessary maps to use the data, but ultimately for the normal citizen, these are just collections of numbers that mean nothing in relation to the spatial understanding of the city.  I ask that the city and Open Data Buffalo take care to translate spreadsheets so that the headings of tables and the layout of information is concise, sorted and legible.  In addition to other added comments describing the value of GIS shape files and inter-application connectivity, simply making data logical and readable will go a long way to helping organizations across the city use the information.  If the information is not useable, it is not useful.</p>]\n",
      "[<p>Thank you to the City of Buffalo for making open data a priority! I agree with the point made previously that the open data portal should include a repository of GIS shapefiles. As someone who works in the community development field, I often struggle to find the appropriate files and often have to cobble together data from various sources or create files from scratch. Having a centralized resource would make grant writing, needs assessments, and neighborhood planning efforts a lot easier. The UB Regional Institute has developed an ArcGIS-based database tracking a number of different environmental and demographic indicators as part of their work on One Region Forward, a regional plan for sustainable development in the Buffalo Niagara region: http://www.oneregionforward.org/data-tools/mappingmetrics/ This might be a good place to start, although as previously mentioned, the ability to export this data in a usable file format is paramount. Excited to follow the progress of this initiative!</p>]\n",
      "[<p>Thank you City of Buffalo for taking on this initiative. I have two comments:</p>, <ol>\n",
      "<li>\n",
      "<p>I think one one of the stated goals of the program should be to promote active participation by the community including civic technologists, civic activists, programmers, and database specialists to develop tools that turn data into insight for some of the city's pressing issues.</p>\n",
      "</li>\n",
      "<li>\n",
      "<p>I think it is very important to ensure that the technical definition of open data goes beyond the definitions provided by the vendors of the platforms currently in use by the city. We are in a web-based world so web-based standards must take precedence (e.g. JSON, geoJSON).</p>\n",
      "</li>\n",
      "</ol>]\n",
      "[<p>Wait, where were the goals? Were they #'s 1-6 above? If so, the term 'goals' should be used there, just to make it clear.</p>]\n",
      "[<p>I want to thank Oswaldo Mestre and Kirk McLean for providing such a transparent forum for discussing and adopting an Open Data policy. Buffalo is taking advantage of data as a driver of economic and social change by providing it to the citizenry without restrictions.</p>, <p>I’m curious about what platform Buffalo will use for the Open Data portal.  I hope public comments will continue through the RFP process and in choosing a portal provider. Many platforms restrict the exchange of data so it’s a top-down process (i.e. Buffalo would create and provide all the data), however it would be beneficial to the city to host data from the non-profit and academic partners alongside municipal data.  In addition, the efficacy of the portal would increase if municipal data could be supplemented with crowdsourced and citizen scientist created data.</p>, <p>I hope the city will air on the side of transparency as it selects which datasets constitute “publishable city data” and will share many of the datasets that make the NYC data portal so rich (parking tickets, tree cover, vehicle collisions, building by year of construction, 311 data, etc..)</p>, <p>Thanks again for providing such an open forum for discussing open data.  I look forward to more productive community discussions.</p>, <p>-Dr. Monica Stephens, University at Buffalo</p>]\n",
      "[<p>Could trim this to just focus on the safeguarding of protected and sensitive information. Minimize limitations on the disclosure of public information doesn't really describe the role of the city in protecting sensitive information.</p>]\n",
      "[<p>There will likely be a license, so yes, there will be a restriction on use/reuse (even something like acknowledging the source of the data). Maybe 'minimal restrictions on use'? Doesn't sound as good though!</p>]\n",
      "[<p>Not sure what this means for formats such as the ESRI shapefile (proprietary GIS format). I'm assuming that much of the infrastructure data will be in this format. All things being equal, having data in a proprietary format would be better than no data.</p>]\n",
      "[<p>Other options being explored? Bulk dataset download is still very common and effective, especially for those users who may not be comfortable accessing an API.</p>]\n",
      "[<p>will have the potential to improve? Probably want to leave the impact of open data provision a bit more open</p>]\n",
      "[<p>These are great - the update frequency question below is somewhat covered here.</p>]\n",
      "[<p>Promote open data that informs increases in government efficiency, improvements in the quality of life of its citizens, and more equal opportunities for all residents.</p>, <ol start=\"7\">\n",
      "<li>Commit to data driven decision making especially in areas of policy.</li>\n",
      "</ol>]\n",
      "[<p>Will data be shared if it is not regularly maintained?  Perhaps \"date of update\" could be identified in the metadata.  Will adopting an OpenData policy encourage the city to more regularly maintain datasets or will this clause be used to skirt sharing policies?  Historical data (not regularly maintained) is still data.</p>]\n",
      "[<p>My comments are rather lengthy. In addition to the comments below I've provided a copy inside a google doc. http://bit.ly/BuffaloOpenDataComments</p>, <p>I commend Oswaldo Mestre and Kirk McLean for putting forward a draft Open Data Policy. Such policies work to make Buffalo government more effective, transparent, accountable, and responsive. This draft document is an important step forward. With all aspects of government we ought to strive for continual improvement. As improvement pertains to the draft Open Data Policy, I hope you find these suggestions amenable.</p>, <p>The draft policy establishes an “Open Data Governance Committee”. As the committee currently stands, oversight and implementation is held entirely within the executive branch of city government. Given that the data provided would primarily originate from the executive branch, it is sensible to seek its representation. However, in the spirit of an open democratic society, the policy ought to seek independence and accountability through checks and balances from other institutions.</p>, <p>The stated purpose of the policy, “creates value for residents, government leaders, businesses, researchers, and the media. ” With the exception of government leaders, none of these groups appear to be formally required by the draft policy.  The policy ought to move the governance committee to include these stated groups.</p>, <p>In creating an independent governance committee, the policy ought to seek representation from co-equal branches of government, e.g. the Common Council and City Comptroller. Ensuring appointment via other branches would go a long way toward promoting the Open Data Governance Committee as an independent body.</p>, <p>Additionally, the structure of the committee ought to ensure that those appointed to the committee via the executive branch do not hold an automatic majority of voting eligible members. Seeking the “input” of the public is perhaps the lowest form of democracy. Input can be trivial, power is not.</p>, <p>The draft policy does not specify how decisions made by the governance committee are to be made public. In ensuring that the governance committee is making decisions for the public good, record of said decisions ought to be publicly available.</p>, <p>To the effect of the stated concerns, the governance committee ought to be adopted into the city charter subject to a vote by the common council.</p>, <p>The draft policy attempts to cast a broad net over the institutions subject to it. Stated in the document, the policy “will apply to any City department, office, administrative unit, commission, board, advisory committee or other division/department of the City government including the records of third-party agency contractors that create or acquire information, records, or data on behalf of a City division/department.”</p>, <p>Reading the draft, it is unclear as to the policy’s applicability to quasi-governmental agencies such as public benefit corporations, e.g. Buffalo Urban Renewal Agency, Buffalo Urban Development Agency, and the Buffalo Municipal Housing Authority. A small language tweak could incorporate such entities under the scope of the draft policy.</p>, <p>Open data is a strong tool for open and transparent government. However, open data is only one of many tools regarding open government. FOIL is another tool that can help to move governments towards transparency and accountability. However, the state of FOIL in Buffalo is dismal. The shortcomings of the City of Buffalo as it pertains to FOIL have been well reported in the press. City departments routinely disregard the law as it relates to FOIL. In this author's experience, above 90% of FOIL requests submitted are not responded to with the requested documentation, or an agency determination explaining why such documents are not available.</p>, <p>An open data policy cannot be the sole remedy for city officials unwillingness to follow the law. However, it can take steps toward holding those officials accountable. Inclusion into the draft policy of a centralized system for submitting, tracking, and responding to FOIL requests would be an incredible step forward. Such a measure would provide residents and city officials with an effective way to manage requests and comply with the relevant statutes. When conflict over FOIL requests do arise, the conflict would be publicly available and documented. Such a system would prevent FOIL requests from getting lost inside civic bureaucracy due to malfeasance or human error.</p>, <p>The advancement of Open Data in Buffalo is an important step. I applaud the Division of Citizen Services for being forward thinking in this regard. That being said, the comments provided here ought not be seen as window dressing to the draft policy. These comments speak to structural concerns of strengthening democracy. The nature of power and human institutions is that they change over time. I hope that these comments are able to extended the drafted policy such that when institutions change the effect and intentions of the draft Buffalo Open Data Policy do not.</p>]\n",
      "[<p>Does this position currently exist in City Hall? If not, who would take on this role?</p>]\n",
      "[<p>It may be useful to have a participatory aspect that prioritizes data updates/releases based on demand (e.g. a certain number of requests triggers an update/response).</p>]\n",
      "[<p>Perhaps a section of the central repository should host all the data that was released in response to FOIL requests. It would provide wider access to this data and could serve as a means to solicit public feedback on the relative priority of establishing a more formal release of the dataset (with relevant metadata and scheduled refreshes of the data).</p>]\n",
      "[<p>Metadata is the key to making sure that the data is used correctly and enables the data to be used in as many different (yet appropriate) ways possible.</p>]\n",
      "[<p>I support the effort to make data accessible to the public. The NYC Open Data portal is a good example of an existing resource with a similar intention. I recommend including environmental and geographic data in the form of GIS shapefiles which can be downloaded, as opposed to 'view-only' results or more traditional pdf or Excel files. I also recommend partnering with local higher education entities, such as the University at Buffalo, to provide research data in additional to official City of Buffalo owned/managed data.</p>]\n",
      "[<p>I am 100% supportive of open data and anything that improves citizen participation, however I opposed this document as it seems the Mayor implementing his own Open Data is a waste of funds and a duplication of efforts since this already exists for the City of Buffalo with the Comptroller's Open Book.  If the purpose of this document is to have one centralized location for citizens to access data, it seems the Mayor should work to promote the Open Book and any expansion of data be incorporated into that site.</p>]\n",
      "[]\n",
      "[<p>City departments, and</p>]\n",
      "[<p>What authority does the Open Data Governance Committee have to do this? Does it derive from one or more specific members of the committee? The paragraph above which describes the membership doesn't specifically designate someone which has budget authority. Ideally this policy should address that concern somehow.</p>]\n",
      "[<p>this seems like an unnecessary distinction which is covered by other language. Is the idea here to say that using an application programming interface (API) to access data is not sufficient?</p>]\n"
     ]
    },
    {
     "name": "stdout",
     "output_type": "stream",
     "text": [
      "[<p>risks to the public</p>]\n",
      "[<p>This can probably be combined with #1</p>]\n",
      "[<p>is or will be</p>]\n",
      "[<p>this is amazing. Very important.</p>]\n",
      "[<p>protected information</p>]\n",
      "[<p>If limiting the City's liability for how the data is used is considered a legal encumbrance then this phrase should be removed or modified. It's also conceivable you want Terms &amp; Conditions on your open data which prohibit the use of data when committing a crime, etc.</p>]\n",
      "[]\n",
      "[<p>The City of Buffalo is to be commended for taking steps to move towards normalizing the sharing of data with the public. As a researcher in the non-profits, I see this as a tool to better serve my city. As a resident, I'm excited to see more transparency.</p>, <p>Comments:\n",
      "-The Open Data Governance Board should also include residents of the City of Buffalo with technical expertise in data management or interest in government transparency. These should be people who apply to it (and maybe the government members vote?) as opposed to being appointed. There are some tips on engaging the civic tech community here: https://www.civichacking.guide though there are likely interested parties outside that community. However it’s structured, it should be as a dialog with city residents.</p>, <p>-I agree with Aaron that the source code of the open data tools should be available.</p>, <p>-I’d recommend a citizen-heavy deliberative democracy process (think participatory budgeting without the budget) to figure out some of the specifics of what to release and how often. I suspect that most residents of the city, including myself, don’t know what is available. Della Rucker, an economic development consultant based in Akron, suggests that when such processes are engaged, inform all parties of limitations and that can often lead to better outcomes.</p>, <p>-Would there be a listserv announcing new releases, the way that HUD or the Census does?</p>, <p>-My employer manages a client-level database that has input from over 100 users. We've found that if you do not enforce strict requirements of timeliness, data quality suffers as it becomes perpetually delayed. Since there were no explicit timelines mentioned here (our requirement is that data needs to be entered within 72 hours of the event), I worry this very valuable effort could suffer from similar backburner issues.</p>, <p>Thank you for sharing this with the public for feedback! I thought this was a really useful format!</p>]\n",
      "[<p>What exactly are examples of \"applicable privileges\"?</p>]\n",
      "[<p>A central location is a good idea, IMHO</p>]\n",
      "[<p>There should be a publicly available list of what is blocked and why. Having this list facilitates transparency and understanding of how the government operates.</p>]\n",
      "[<p>Since this is a service to the residents of Buffalo, there should be resident participation in the governance committee as there may be dis-concordance between what residents and city employees consider \"appropriately ambitious\".</p>]\n",
      "[<p>That would be super helpful :)</p>]\n",
      "[<p>To be honest, I'm not entirely certain what this is trying to say.</p>]\n",
      "[<p>Would this liaison be the contact person if a dataset user (ie a student doing a project or a researcher) had questions about the set?</p>]\n",
      "[<p>I would recommend that it include members of the public with technical expertise and interest in publicly available data sets too instead of just receiving input.</p>]\n",
      "[<p>By whom? Who has the last say for that and how would they be held accountable to the public?</p>]\n",
      "[<p>Maybe you should utilize a deliberative democratic process (like participatory budgeting, only without a budget as the end goal and maybe a bit briefer) to encourage public engagement?</p>]\n",
      "[<p>This document fails to require the sharing of the source code of the open data tools. \"Require Code Sharing Or Publishing Open Source\" is a recommendation of Sunlight Foundation https://sunlightfoundation.com/opendataguidelines/#open-code . Sharing the source code allows citizens to help contribute to the tools making the data public, allows citizens access to the tools for which they are paying, and allows other government agencies as well citizens to benefit from improvements made on behalf of Buffalo.</p>]\n",
      "[<p>Welcome to the City of Buffalo’s public comment period on the Mayor’s draft Open Data policy. We’re looking forward to your feedback strengthening the governing document for our new Open Data program, which will make publishable City data more accessible to the public. After a brief and simple sign up, you’ll be able to do five things on the OpenGov Foundation’s Madison Project platform: read the document; let us know whether you support or oppose the document; leave a comment on the policy or open data, in general; highlight a bit of text and leave a note on that specific text; and respond to other people’s notes, starting a dialogue about a specific passage.</p>, <p>Feel free to also leave a comment about what datasets you’d like to see the city publish in the future.</p>, <p>The public comment period will be open from January 10th to 24th.</p>, <p>Thank you for participating.</p>]\n",
      "[<p>Welcome to the City of Buffalo’s public comment period on the Mayor’s draft Open Data policy. We’re looking forward to your feedback strengthening the governing document for our new Open Data program, which will make publishable City data more accessible to the public. After a brief and simple sign up, you’ll be able to do five things on the OpenGov Foundation’s Madison Project platform: read the document; let us know whether you support or oppose the document; leave a comment on the policy or open data, in general; highlight a bit of text and leave a note on that specific text; and respond to other people’s notes, starting a dialogue about a specific passage.\n",
      "Feel free to also leave a comment about what datasets you’d like to see the city publish in the future.\n",
      "The public comment period will be open from January 10th to 24th.\n",
      "Thank you for participating.</p>]\n",
      "[<p>From a quick read-through, this seems really good and seems to hit most major points that come to mind for me.  The only possible improvements that occur to me right now are:</p>, <ol>\n",
      "<li>\n",
      "<p>Good metadata is very important but also difficult/costly (in a general sense, not necessarily dollars).  You may want to lay out what your approaches will be.</p>\n",
      "</li>\n",
      "<li>\n",
      "<p>It may be implied but an explicit \"open by default\" policy can be very powerful.  What I mean by this is basically that anything not restricted from release is eligible for release.  This is, of course, not a commitment to release any particular dataset on any particular schedule since everyone has resource constraints but basically means it goes into whatever prioritization process (either formal or informal) you use, with an intention to publish if/when it rises to the top.</p>\n",
      "</li>\n",
      "</ol>]\n",
      "[<p>I don't see any explanation of how this will affect FOIA requests. What is the timeline of dispute and who makes that decision when a request is not going to be granted under this policy?\n",
      "With many of our requests, we need the information as soon as possible. If the data coordinator deems an item sensitive, what is the timeline for their response? 24 hours, 48 hours, a week?\n",
      "I applaud the desire for more openness, but without a defined FOIA escalation policy, it could end up being another hurdle.</p>]\n",
      "[<p>Are the goals of the data project those listed in Section 11? You might want to consider identifying them as such so it is clear that the \"initiatives\"  are the \"goals\". If the goals are different, you may want to consider including them in this document.</p>]\n",
      "[<p>Will a specific professional person be identified to lead this project within the City Managers office or will this be managed by a clerical person?</p>]\n",
      "[<p>Will the data be \"view only\" and if not, will there be a way to ensure that the data is not editable if downloaded/printed?</p>]\n",
      "[<p>Special thanks to everyone who took the time to provide feedback and comments on the draft resolution.  Your feedback was valuable to the process.  I am pleased to report that the City Council adopted a resolution in support of creating an Open Data program on Tuesday 6/27.  The final resolution language can be found here:  https://glendale-az.legistar.com/LegislationDetail.aspx?ID=3086887&amp;GUID=68D243FB-66A3-4381-B963-2176AC97CEE9.  Special thanks to the What Works Cities and Sunlight Foundation teams for helping us make improvements for our community.  We are looking forward to the implementation phase of this project.</p>]\n",
      "[<p>This resource would be of great value to the Human Resources Commission.  The demographic information would help serve as a guide to commission activities.  Kudos for the concept.</p>]\n",
      "[<p>I am concerned about approving citizen information on a public forum particularly since this proposal does not indicate what data will be posted and whether there will be people identified by the data.  If there will be personal citizen information will there be a method for that person to know who is accessing their information and can they approve access to that information to the requester?</p>]\n",
      "[<p>This resolution would serve the residents of the City of Glendale well. Two questions: 1) Is there room for it in the budget? And, 2) Are there any examples of city websites already doing something similar for review? Jeff</p>]\n",
      "[<p>I have read the comments from others that have posted here and not to be redundant, I agree that there should be transparency and the process should be easy to find and user friendly.  the Mayor and Council are working hard to provide what is best for the City of Glendale, and so I am in support of this.</p>]\n",
      "[<p>Before any new data is added to the Glendale website, glendaleaz.com needs work so that it is easier to find information. For example Planning should be on the home page and readily accessible. A link to a site administrator or someone responsible for the website needs to be created. Presently there is no contact information if we have comments about the website.  All of this needs straightening out before adding \"open data\".</p>]\n",
      "[<p>This, to me, is a key aspect of the value proposition, and it deserves emphasizing. By having agencies upload data to a centralized repository, it allows mashups, composite takes and easy comparison.</p>]\n",
      "[<p>This is way past due. The current system is awful and discourages citizen evolvement.\n",
      "Please continue on with this vital upgrade.</p>]\n",
      "[]\n",
      "[<p>My first question is; How much is this going to cost to discover, create, implement &amp; sustain. Transparency is great but not if it wastes my already overtaxed dollars so someone can get all warm and fuzzy about \"transparency\".</p>]\n"
     ]
    },
    {
     "name": "stdout",
     "output_type": "stream",
     "text": [
      "[<p>Section IX, item 4:\n",
      "Given the requirement to provide credit or attribution, this section is unclear on the acceptable forms of attribution and to whom the attribution applies.</p>, <p>For example, would a user of the Street Sweeping Schedule dataset (https://data.nashville.gov/Beautification/Metro-Water-Services-Current-Street-Sweeping-Sched/p9iq-sxk3) should attribution marks/text say \"Metro Water Services\" or \"Metro Government\"?</p>, <p>Possible Solution: Change Section IX, Item 4 to say: \"Metropolitan Government requests that when content, data, documentation, code, and related materials from https://data.nashville.gov is used, proper credit or attribution be given to the originating Department or 'Metropolitan Government of Nashville and Davidson County', whichever is the most specific and accurate.\"</p>, <p>Moreover, it'll probably be a good idea to say that use of the 'Metropolitan Government of Nashville and Davidson County' seal is not an acceptable form of attribution.</p>]\n",
      "[<p>Will there be a follow-up document describing how best to give attribution?</p>]\n",
      "[<p>Awesome!</p>]\n",
      "[<p>I would encourage greater description of acceptable metadata in Section VII. The bare minimum should include:</p>, <ol>\n",
      "<li>For tables, a description of what the data describe, how the data were collected, and for what purpose.</li>\n",
      "<li>For each table, there should be a list of the included variables, definitions of what each variable means, and (where applicable) a code list for each variable describing what each possible value means.</li>\n",
      "<li>For data sets, there should be a description of how the different tables relate to each other.</li>\n",
      "</ol>, <p>I think it's important to add this level of detail to the data policy to ensure that folks don't cut corners on metadata. Without this type of information, it's very difficult to use public data well.</p>]\n",
      "[<p>I'm so glad that Metro is heading in a more open, transparent direction - and love the idea of Open Data Workshops and public/private partnerships.</p>]\n",
      "[<p>Cheers for this!</p>]\n",
      "[<p>Announcements of data set publication when they are released would also encourage participation</p>]\n",
      "[<p>I would hope the city uses GitHub for this task, instead of building a centralized location of it's own.</p>]\n",
      "[<p>You probably want to (a) limit this to \"records <em>created by</em> third party agency contractors\" and not \"records <em>of</em> third party....\" Also, does this policy dispositively void all contract provisions what explicitly transfer ownership of records to a third party? Is that even possible from a \"policy\" and not a law? And if not, then is the enforcement aspect that you are directing agencies to include explicit provisions in their contracts. Is, e.g., the GC going to create model contract provisions?</p>]\n",
      "[<p>I don't understand what would make a dataset \"effective.\" Data is just data. Some data is more useful than other data. Is the implication that you want to prioritize more interesting data, e.g., bus routes or tax parcel data, that may have more immediate commercial or civic application?</p>]\n",
      "[<p>How does the intent of \"historical archives\" interact with \"permanence\" above?</p>]\n",
      "[<p>\"Permanence\" is a strong guarantee a priori, and could imply quadratically growing storage costs (e.g., if you save a bunch of snapshots). Also, publishing \"with permanence\" is a weird phrase. :)</p>]\n",
      "[<p>\"Accessible\" has ADA connotations, especially when paired with \"broadest range\". Are you committing to something here? Is this whole clause after \"and\" actually necessary?</p>]\n",
      "[<p>See note above about the finality of \"no\" and whether there is some sort of implicit license you actually want to set up</p>]\n",
      "[<p>\"Open formats\" wasn't defined above. I assume you mean \"not Excel\" or some such?</p>]\n",
      "[<p>From my experience, some \"publishable\" city data is still in notebooks in a back office. Does this policy also set a goal of digitizing that information? Or is there a hidden \"reasonable\" here?</p>]\n",
      "[<p>Does \"dataset\" include the data dictionary?</p>]\n",
      "[<p>I usually think of \"structured data\" in opposition to \"free text data.\" But I'd think that there are instances where you'd want to make \"unstructured\" data open, e.g., minutes from meetings or notes from an inspection.</p>]\n",
      "[<p>I'm not a lawyer, but usually there is an \"as is\" or \"no warranties\" clause in open source licenses. (e.g., Section 5 here https://creativecommons.org/licenses/by/4.0/legalcode ). Is this a thing that you'd want to include in your data policy?</p>]\n",
      "[<p>Should this policy include a note about how contracts should, by default, insist that data created on behalf of an agency be owned by an agency?</p>]\n",
      "[<p>Does this only cover data released after this policy goes into effect, or is this retroactive to a certain point in time?</p>]\n",
      "[<p>I believe the underlying goal of this policy is to improve access to data and create transparency within our local government.  I openly support any attempt to achieve progress &amp; create a better tomorrow - even if that means we are not successful on the first attempt.  I believe this document should be considered a living document w/ revisions made &amp; published often.</p>, <p>From an IT  Solutions Architect &amp; IT Operations perspective, I have a few concerns noted in the document around undefined processes, undefined metrics to consistently measure success (e.g. constant metrics vs. a yearly summary), the lack of a defined set of initial priorities, a defined way to measure an ROI of the initiative (what do we get from this time/energy/resource/$ investment?).  My other major concern is that a policy is not a guideline - I believe a policy is a consistent mandate across an entire organization (e.g. City of Syracuse)</p>, <p>Personally, I believe these open datasets to can be used to identify inefficient processes.  I believe the data will be used to improve &amp; reduce the cost of services provided by the government.</p>, <p>IMO - one of the best ways to improve is to incentives city employees -- This might not be the best document to outline an incentive program but if a city employee improves a process and creates a measurable ($) ROI which is sustainable (e.g. at least 1 year) then I support those employees getting a kick-back as part of the improvement.</p>]\n",
      "[<p>Contradiction - Policies are not guidelines, IMO they are mandatory... guidelines are not mandatory</p>]\n",
      "[<p>Very well said. I think this not only clearly identifies the mission of Syracuse's Open Data Policy, it also makes a concise argument for it.</p>]\n",
      "[<p>I believe we should be more agile &amp; publish major accomplishments every quarter - waiting 1 year for a formal report of all blockers, issues, failures, and successes eliminates the very transparency the program is aiming to achieve</p>]\n",
      "[<p>This information needs to be backed by hard business rules &amp; defined in such a way that automated processes can detect/alert if sensitive information is ever detected in the \"release pipeline\"...</p>]\n",
      "[<p>Establish Automated Solutions not processes...</p>]\n",
      "[<p>a transparent process?</p>]\n",
      "[<p>This sounds like a 1x data classification process.  I'd suggest \"process\" is redefined as a documented operational process where the classification of data is stored &amp; maintained in an evergreen state.</p>]\n",
      "[<p>Who's Accountable for... identifying data, designing ETL automation &amp; or manual extract processes, outlining operational business logic &amp; metadata correlation, etc...</p>]\n",
      "[<p>AUTOMATE AUTOMATE AUTOMATE!!!!!</p>]\n",
      "[<p>This sounds like a clearly defined process does not exist.  Suggestion: identify the top 10,20,50,xxx datasets now, get approval, set a reoccuring meeting w/ the mayor and counsel office but they shift full program accountability to the CDO.</p>, <p>If they (Mayor / Counsel) are involved in (aka micromanaging) the approval process then I believe they need to be held under a measurable standard &amp; revisited to confirm they are able to meet the expectations of the open data initiative</p>]\n",
      "[<p>Would it be better to define clearly what this policy does not apply to?  Note the proactively release all data note</p>]\n",
      "[<p>The city has many ways to \"support\" and do nothing - a clearly defined investment in a \"support program\" enhances the importance this program &amp; the return it would like to obtain</p>]\n",
      "[<p>Redundant - view proactively release all publishable city data comment</p>]\n",
      "[<p>WAY too subjective - High-quality needs to be defined &amp; measured against (e.g. - exactly how is this data providing transparency into how data is driving gov't decisions &amp; policy adoption).</p>]\n"
     ]
    },
    {
     "name": "stdout",
     "output_type": "stream",
     "text": [
      "[<p>Proactive to me is having the Mayor &amp; Corp Counsel clearly define what is NOT allowed prior to the start of the initiative.</p>]\n",
      "[<p>It will have to be a requirement to have I clearly defined \"operational\" process which all departments MUST adapt to publish their data.  I believe this process needs to be defined on Day 1 &amp; adapt operationally to constantly adapt.  The ability to measure total-time to deliver a \"publishable dataset\" milestone will be key to operational efficiency &amp; there is no indicator that process even has a framework</p>]\n",
      "[<p>redundant - protect &amp; sensitive are ultimately the same</p>]\n",
      "[<p>I would prefer to define protected information as something which raises privacy, confidentiality or security concerns.</p>]\n",
      "[<p>As Vice-Chair and Westside Board Delegate for Tomorrow's Neighborhoods Today, I personally whole-heatedly support this, and hope that the TNT organization and sectors can be effective in helping the public access the data.</p>]\n",
      "[<p>This is really important, but I would be interested to see practically how these can be measured against departmental goals and targets, etc.</p>]\n",
      "[<p>YES</p>]\n",
      "[<p>Should this be CDO? Or does it refer to departments/agencies/public spoken about above?</p>]\n",
      "[<p>Processes for this will be key.</p>]\n",
      "[<p>Fantastic, forward thinking idea. This data was collected at public expense and should be available as freely usable public domain data. Jumping through an information gatekeeper like FOIA was never a good idea.</p>]\n",
      "[<p>Data may not need to be published to a repository. Link to existing location. See Play it where it lies (1, 1.5) http://chriswhong.com/open-data/thoughts-on-open-data-part-1/\n",
      "My experience has been when files require exporting from a Dept then imported to Open Data (manual process), data gets old because employees stop exporting or corrupted because new employees don't know process.\n",
      "Location of data/database is not important if the link to it or an API is available on central location.</p>]\n",
      "[<p>Very excited to hear this is happening!  To get the most out of this open data initiative, it would be nice to see, 1) Data provided in its most raw form without aggregation (allows for more flexibility in analysis), and 2) A list of issues/challenges/topics the City is trying to address.  Equipping the public with these two things could lead to highly creative solutions.</p>]\n",
      "[<p>An implementation of this as a RESTful API that returns JSON would attract the most software developers.</p>]\n",
      "[<p>Given most modern web development relies on APIs and given that most APIs return JSON, a dataset in JSON would receive more interactions than an XML dataset.</p>]\n",
      "[<p>This will be incredibly useful for effective policy of all sorts! I can only hope that someday Onondaga County will have a similar initiative, with the capacity for interface and data synthesis.</p>]\n",
      "[<p>This is terrific. A solid policy that will serve the city well and provide important guidance to city departments for releasing open data.</p>]\n",
      "[<p>Some cities use an appointed board with members of the public and other stakeholders to provide support and recommendations to the CDO.</p>]\n",
      "[<p>This is important, as the Chief Data officer will have first hand knowledge of what is working, and what isn't. This could be a good opportunity for the CDO to outline areas for improvement, and things that have not yet gone particularly well in the open data program.</p>]\n",
      "[<p>This would be a great opportunity for Syracuse to organize some community resources in a way that can increase civic engagement and generate transparency and accountability.</p>]\n",
      "[<p>This is an auspicious initiative with a tremendous amount of potential. Developers are hungry to get their hands on this data. The more open data we can provide to our local developer community, the more opportunities we'll have to uncover creative solutions to challenging problems.</p>]\n",
      "[<p>What about citation?</p>]\n",
      "[<p>Datasets should also be analyzed and improved to be customer friendly.</p>]\n",
      "[<p>Measure \"and publicly report\"</p>]\n",
      "[<p>Metadata helps users understand a dataset</p>]\n",
      "[<p>API's are not a data format.</p>]\n",
      "[<p>I really like this.  The one overall suggestion I would make is to strengthen the protections of transparency.  (By the way, putting this document out for public review and comment is a great start.)  Unlike such goals as economic development, collaboration with the private sector, and so on, transparency has a built-in danger because it sometimes calls for those with power to act against their own interests.  There will be things that people would rather not make public and they can always come up with legitimate reasons to withhold the information so you want institutional safeguards.  It is a tough problem but some ideas to consider are:</p>, <p>Again, all of this is really tough and if you achieve even some of it, especially at first, you will be doing well.</p>, <p>Good luck!</p>]\n",
      "[<p>You may want something short of \"paramount.\" That means that it trumps all else.  Privacy, confidentiality, and security are very important but you inevitably will have to make trade offs between them and openness.  In the extreme, the only way to make them paramount (even assuming no conflicts between them) would be to publish nothing at all.</p>]\n",
      "[<p>Transparency is a noun.  The adjective form is transparent.</p>]\n",
      "[<p>Yes!  Great language here.  For the city's laws and legal codes, we do not see any copyright restrictions posted on the city's vendor website (https://www.municode.com/library/il/naperville/codes/code_of_ordinances?nodeId=14853) but this language will make doubly sure that no private-sector company or government entity or publisher can or will restrict public access.</p>]\n",
      "[<p>Excellent!  And you're off to a smashing start with Madison here. Would be great to have this be the living document and location for regular feedback loops between the public and the Naperville, IL city government.</p>]\n",
      "[]\n",
      "[<p>Will this \"open data champion\" have a staff and budget to execute their duties? We have seen the efficacy of language like this diluted if someone is forced to have a job like this without buying into open data and the mission, and without extra resources to accomplish the mission.</p>]\n",
      "[<p>How often will there be opportunities for feedback and collaboration? Will opportunities for feedback and collaboration take place online and in-person?</p>]\n",
      "[<p>Could be good to include example of an open license, as some that are considered \"open\"  will still contain some restrictions. Being more explicit could be good! Perhaps a Creative Commons CC0 Universal License?</p>]\n",
      "[<p>Note that API is not a file format. Other format examples could be JSON and XML. An API is a means of obtaining the data.</p>]\n",
      "[<p>Great reasoning. I think this is more reason to explicitly include laws, legal codes, rules and regulations.  That's the data on which all democracies always \"work collaboratively\" through various policy making processes.</p>]\n",
      "[<p>describe governments</p>]\n",
      "[<p>Data - Statistical, factual, quantitative, textual, narrative or qualitative information that is regularly maintained or created by or on behalf of the City.</p>]\n",
      "[<p>Does this include textual and narrative data, such as the city's laws, legal codes, rules and regulations?  Thank you!</p>]\n",
      "[<p>Additionally, as part of the process, can we capture timelines for key milestones as well? Upon review of the open data policy, it seems like there are several key milestones involved - e.g., launch open data portal, decide initial data-sets, frequently update data on portal, invite citizen input, etc. It would be helpful to know when some of these key activities will be done. For example, it was very helpful to have the policy say clearly that annual report will be released no later than Feb-15 2018. Likewise, would be great to know timeline of important events from now till the time annual report is published.</p>]\n",
      "[<p>At some appropriate section of the policy or maybe as part of the process, would it be possible to showcase examples (perhaps success stories from other cities, if available) demonstrating how data can/has-been used to solve city challenges? Ofcourse, each city is different and the top issue of another city may or may not be relevant to Naperville but this will give the public a practical sense of application of data and hopefully spur innovation to create Naperville-specific solutions from the data being released</p>]\n",
      "[<p>Great initiative by City leadership to champion the open data program and catapult Naperville into an exclusive group of cities across the world that support opendata principles of transparency, accessibility and collaboration with citizens</p>, <p>As with any open data program, while data is important, it remains an enabler to the end result. The end result is usually a solution to a complex challenge(s) (e.g., traffic, etc.) that matters to the community and the data then becomes an enabler to solve that challenge by facilitating fact-based / data-driven decision making:\n",
      "\t- What do we think are the biggest challenges facing the community?\n",
      "\t- Use #naperer_opendata on twitter to share your thoughts on the key challenges that need to be addressed</p>]\n",
      "[<p>So will I finally be able to find out which of my neighbors own guns?</p>]\n",
      "[<p>Great idea. I would like to see how data is classified into private and public.</p>]\n"
     ]
    },
    {
     "name": "stdout",
     "output_type": "stream",
     "text": [
      "[<p>From an open data expert:\n",
      "\"If you haven't already, please take a look at M-13-13, the formal Open Data Policy for the Federal Government (https://www.whitehouse.gov/sites/default/files/omb/memoranda/2013/m-13-13.pdf)</p>, <p>Is there any particular reason you limited your definition of \"data\" so strictly for BART? I'd advocate for a broader definition so that you can't be hemmed in later by opposition. Data, at its most basic level, is simply information that is structured in some human or machine-readable format. Also, this definition really doesn't apply to source code (some of which is covered under open source licenses with their own legal restrictions), which you reference later.</p>, <p>In an opposite manner, I believe your definition of \"open data\" is too broad. Open data, if not properly documented and managed, can lead to useless files hanging out there on the Internet without being \"discoverable\" or \"searchable\". I'd definitely look to M-13-13 for at least a few examples of what makes data truly open, such as: Described, Complete, Timely, and Managed. In terms of overhead, there are literally only 3 Government employees I know managing data.gov, and that's for at least the 24 major CFO-Act agencies.</p>, <p>This section actually has me a bit worried: \"Release publishable, non-private, District data, making it freely available in open formats, license free and fully accessible to the broadest range of users;\" -- Open source licenses are a good thing. They allow users to reuse and redistribute without having to ask if someone owns the data first. If you publish code or data without a license (the good ones are \"lax-permissive\" in my book: CC0, MIT, BSD, etc.) you run the risk of the public having to ask \"who owns this\"? How do they know without some license or AT LEAST a public domain waiver attached?</p>, <p>\"Employ open source software solutions whenever possible\" almost goes too far. Some open source solutions are actually weaker than their proprietary counterparts (although not often). I'd say \"Employ open source solutions that fit within the mission, operational, and budgetary objectives of BART\" or something similar.</p>, <p>In general, I would disambiguate Open Data from Open Source Code. For one, you'll almost definitely want them on separate web portals, as the audiences for each are quire disparate. Also, Open Source Code has legal implications for international reuse unless you apply a CC0 waiver.\"</p>]\n",
      "[<p>Administrative Code - Timelines and Procedures for Releasing Open Data</p>]\n",
      "[<p>LOL</p>]\n"
     ]
    }
   ],
   "source": [
    "all_madison_dfs, all_cities_dataframe, full_policy_text = go_all_madison_websites(starting_urls_list)"
   ]
  },
  {
   "cell_type": "code",
   "execution_count": 8,
   "metadata": {},
   "outputs": [
    {
     "data": {
      "text/html": [
       "<div>\n",
       "<style>\n",
       "    .dataframe thead tr:only-child th {\n",
       "        text-align: right;\n",
       "    }\n",
       "\n",
       "    .dataframe thead th {\n",
       "        text-align: left;\n",
       "    }\n",
       "\n",
       "    .dataframe tbody tr th {\n",
       "        vertical-align: top;\n",
       "    }\n",
       "</style>\n",
       "<table border=\"1\" class=\"dataframe\">\n",
       "  <thead>\n",
       "    <tr style=\"text-align: right;\">\n",
       "      <th></th>\n",
       "      <th>comment_id</th>\n",
       "      <th>author</th>\n",
       "      <th>datetime</th>\n",
       "      <th>num_likes</th>\n",
       "      <th>quoted_text</th>\n",
       "      <th>comment_text</th>\n",
       "      <th>comment_text_aux</th>\n",
       "      <th>reply_ids</th>\n",
       "      <th>city_name</th>\n",
       "    </tr>\n",
       "  </thead>\n",
       "  <tbody>\n",
       "    <tr>\n",
       "      <th>1</th>\n",
       "      <td>E4-XFnl1uKc</td>\n",
       "      <td>Aaron Lee</td>\n",
       "      <td>2017-01-25 04:32:19</td>\n",
       "      <td>2</td>\n",
       "      <td>None</td>\n",
       "      <td>I am in support of the proposed policy to furt...</td>\n",
       "      <td>&lt;p&gt;I am in support of the proposed policy to f...</td>\n",
       "      <td>[]</td>\n",
       "      <td>Buffalo</td>\n",
       "    </tr>\n",
       "    <tr>\n",
       "      <th>2</th>\n",
       "      <td>E4-XFnjG3Ac</td>\n",
       "      <td>Aaron Lee</td>\n",
       "      <td>2017-01-25 04:25:20</td>\n",
       "      <td>0</td>\n",
       "      <td>public participation by providing regular oppo...</td>\n",
       "      <td>I would be interested to see this more finely ...</td>\n",
       "      <td>&lt;p&gt;I would be interested to see this more fine...</td>\n",
       "      <td>[]</td>\n",
       "      <td>Buffalo</td>\n",
       "    </tr>\n",
       "    <tr>\n",
       "      <th>3</th>\n",
       "      <td>E4-XFnQhy2g</td>\n",
       "      <td>Aaron Krolikowski</td>\n",
       "      <td>2017-01-24 22:56:17</td>\n",
       "      <td>3</td>\n",
       "      <td>None</td>\n",
       "      <td>I strongly support the proposed policy, with a...</td>\n",
       "      <td>&lt;p&gt;I strongly support the proposed policy, wit...</td>\n",
       "      <td>[]</td>\n",
       "      <td>Buffalo</td>\n",
       "    </tr>\n",
       "    <tr>\n",
       "      <th>4</th>\n",
       "      <td>E4-XFnNQNY8</td>\n",
       "      <td>Aaron Krolikowski</td>\n",
       "      <td>2017-01-24 22:46:57</td>\n",
       "      <td>0</td>\n",
       "      <td>Publish high quality, updated data with docume...</td>\n",
       "      <td>Can the portal include an option for community...</td>\n",
       "      <td>&lt;p&gt;Can the portal include an option for commun...</td>\n",
       "      <td>[]</td>\n",
       "      <td>Buffalo</td>\n",
       "    </tr>\n",
       "    <tr>\n",
       "      <th>5</th>\n",
       "      <td>E4-XFnJHPCA</td>\n",
       "      <td>Aaron Krolikowski</td>\n",
       "      <td>2017-01-24 22:45:58</td>\n",
       "      <td>0</td>\n",
       "      <td>limitations on the disclosure of public inform...</td>\n",
       "      <td>It may be a helpful option to include a reposi...</td>\n",
       "      <td>&lt;p&gt;It may be a helpful option to include a rep...</td>\n",
       "      <td>[]</td>\n",
       "      <td>Buffalo</td>\n",
       "    </tr>\n",
       "  </tbody>\n",
       "</table>\n",
       "</div>"
      ],
      "text/plain": [
       "    comment_id             author            datetime num_likes  \\\n",
       "1  E4-XFnl1uKc          Aaron Lee 2017-01-25 04:32:19         2   \n",
       "2  E4-XFnjG3Ac          Aaron Lee 2017-01-25 04:25:20         0   \n",
       "3  E4-XFnQhy2g  Aaron Krolikowski 2017-01-24 22:56:17         3   \n",
       "4  E4-XFnNQNY8  Aaron Krolikowski 2017-01-24 22:46:57         0   \n",
       "5  E4-XFnJHPCA  Aaron Krolikowski 2017-01-24 22:45:58         0   \n",
       "\n",
       "                                         quoted_text  \\\n",
       "1                                               None   \n",
       "2  public participation by providing regular oppo...   \n",
       "3                                               None   \n",
       "4  Publish high quality, updated data with docume...   \n",
       "5  limitations on the disclosure of public inform...   \n",
       "\n",
       "                                        comment_text  \\\n",
       "1  I am in support of the proposed policy to furt...   \n",
       "2  I would be interested to see this more finely ...   \n",
       "3  I strongly support the proposed policy, with a...   \n",
       "4  Can the portal include an option for community...   \n",
       "5  It may be a helpful option to include a reposi...   \n",
       "\n",
       "                                    comment_text_aux reply_ids city_name  \n",
       "1  <p>I am in support of the proposed policy to f...        []   Buffalo  \n",
       "2  <p>I would be interested to see this more fine...        []   Buffalo  \n",
       "3  <p>I strongly support the proposed policy, wit...        []   Buffalo  \n",
       "4  <p>Can the portal include an option for commun...        []   Buffalo  \n",
       "5  <p>It may be a helpful option to include a rep...        []   Buffalo  "
      ]
     },
     "execution_count": 8,
     "metadata": {},
     "output_type": "execute_result"
    }
   ],
   "source": [
    "all_cities_dataframe.head()"
   ]
  },
  {
   "cell_type": "code",
   "execution_count": 9,
   "metadata": {},
   "outputs": [
    {
     "name": "stdout",
     "output_type": "stream",
     "text": [
      "Buffalo\n",
      "Durham\n",
      "Tyler\n",
      "Glendale\n",
      "Nashville\n",
      "Syracuse\n",
      "Naperville\n",
      "Bart\n",
      "San Francisco\n"
     ]
    }
   ],
   "source": [
    "for name, city, policy in all_madison_dfs:\n",
    "    print(name)"
   ]
  },
  {
   "cell_type": "code",
   "execution_count": 10,
   "metadata": {},
   "outputs": [
    {
     "data": {
      "text/plain": [
       "[\"<p>Thank you City of Buffalo for taking on this initiative. I have two comments:</p><ol>\\n<li>\\n<p>I think one one of the stated goals of the program should be to promote active participation by the community including civic technologists, civic activists, programmers, and database specialists to develop tools that turn data into insight for some of the city's pressing issues.</p>\\n</li>\\n<li>\\n<p>I think it is very important to ensure that the technical definition of open data goes beyond the definitions provided by the vendors of the platforms currently in use by the city. We are in a web-based world so web-based standards must take precedence (e.g. JSON, geoJSON).</p>\\n</li>\\n</ol>\"]"
      ]
     },
     "execution_count": 10,
     "metadata": {},
     "output_type": "execute_result"
    }
   ],
   "source": [
    "# figure out what's wrong with this comment... why is it not encapsulating all the comments in it?\n",
    "all_cities_dataframe[all_cities_dataframe['author']=='Sean Myers']['comment_text_aux'].tolist()"
   ]
  },
  {
   "cell_type": "code",
   "execution_count": 11,
   "metadata": {
    "collapsed": true
   },
   "outputs": [],
   "source": [
    "string_phrase = 'I think one one of the stated goals of the'"
   ]
  },
  {
   "cell_type": "code",
   "execution_count": 12,
   "metadata": {},
   "outputs": [
    {
     "data": {
      "text/html": [
       "<div>\n",
       "<style>\n",
       "    .dataframe thead tr:only-child th {\n",
       "        text-align: right;\n",
       "    }\n",
       "\n",
       "    .dataframe thead th {\n",
       "        text-align: left;\n",
       "    }\n",
       "\n",
       "    .dataframe tbody tr th {\n",
       "        vertical-align: top;\n",
       "    }\n",
       "</style>\n",
       "<table border=\"1\" class=\"dataframe\">\n",
       "  <thead>\n",
       "    <tr style=\"text-align: right;\">\n",
       "      <th></th>\n",
       "      <th>comment_id</th>\n",
       "      <th>author</th>\n",
       "      <th>datetime</th>\n",
       "      <th>num_likes</th>\n",
       "      <th>quoted_text</th>\n",
       "      <th>comment_text</th>\n",
       "      <th>comment_text_aux</th>\n",
       "      <th>reply_ids</th>\n",
       "      <th>city_name</th>\n",
       "    </tr>\n",
       "  </thead>\n",
       "  <tbody>\n",
       "    <tr>\n",
       "      <th>24</th>\n",
       "      <td>E4-XFjdEn7k</td>\n",
       "      <td>Sean Myers</td>\n",
       "      <td>2017-01-24 11:27:42</td>\n",
       "      <td>7</td>\n",
       "      <td>None</td>\n",
       "      <td>Thank you City of Buffalo for taking on this i...</td>\n",
       "      <td>&lt;p&gt;Thank you City of Buffalo for taking on thi...</td>\n",
       "      <td>[]</td>\n",
       "      <td>Buffalo</td>\n",
       "    </tr>\n",
       "  </tbody>\n",
       "</table>\n",
       "</div>"
      ],
      "text/plain": [
       "     comment_id      author            datetime num_likes quoted_text  \\\n",
       "24  E4-XFjdEn7k  Sean Myers 2017-01-24 11:27:42         7        None   \n",
       "\n",
       "                                         comment_text  \\\n",
       "24  Thank you City of Buffalo for taking on this i...   \n",
       "\n",
       "                                     comment_text_aux reply_ids city_name  \n",
       "24  <p>Thank you City of Buffalo for taking on thi...        []   Buffalo  "
      ]
     },
     "execution_count": 12,
     "metadata": {},
     "output_type": "execute_result"
    }
   ],
   "source": [
    "all_cities_dataframe[all_cities_dataframe['comment_text'].astype(str).str.contains(string_phrase)]"
   ]
  },
  {
   "cell_type": "code",
   "execution_count": 5,
   "metadata": {
    "collapsed": true
   },
   "outputs": [],
   "source": [
    "#starting_url = 'https://mymadison.io/documents/city-of-buffalo-open-data-policy'"
   ]
  },
  {
   "cell_type": "code",
   "execution_count": 6,
   "metadata": {},
   "outputs": [
    {
     "name": "stderr",
     "output_type": "stream",
     "text": [
      "/Users/summerfellow/anaconda/envs/py35/lib/python3.5/site-packages/bs4/__init__.py:181: UserWarning: No parser was explicitly specified, so I'm using the best available HTML parser for this system (\"html5lib\"). This usually isn't a problem, but if you run this code on another system, or in a different virtual environment, it may use a different parser and behave differently.\n",
      "\n",
      "The code that caused this warning is on line 193 of the file /Users/summerfellow/anaconda/envs/py35/lib/python3.5/runpy.py. To get rid of this warning, change code that looks like this:\n",
      "\n",
      " BeautifulSoup(YOUR_MARKUP})\n",
      "\n",
      "to this:\n",
      "\n",
      " BeautifulSoup(YOUR_MARKUP, \"html5lib\")\n",
      "\n",
      "  markup_type=markup_type))\n"
     ]
    },
    {
     "name": "stdout",
     "output_type": "stream",
     "text": [
      "[<p>I am in support of the proposed policy to further enable data and subsequent knowledge sharing. I agree with fellow contributors that it would be beneficial to see more detailed outlines for the specific process that is going to enable community members to contribute to the Open Data portal by creating, uploading and verifying data sets to be published. Myself and colleagues have created a number of valuable data sets that could be beneficial across city departments, community organizations and individual interests. Understanding that only data sets meeting the standards set forth as a result of this policy will be accepted, we can collaboratively drive the understanding of our community from all perspectives.</p>]\n",
      "[<p>I would be interested to see this more finely documented. It would be great to have a living, breathering process that community members could submit data sets that they have created (required to meet the data standards set forth by the Open Data Policy) for verification and publication to the open data portal within a timely manner. Individuals in the community may have greater flexibility and time to produce unique data sets pertinent to acute challenges and enable broader understanding in a more timely manner.</p>]\n",
      "[<p>I strongly support the proposed policy, with a recognition of the outstanding contributions that have already been made by other residents, citizens, and interested parties.</p>, <p>Many thanks to the City of Buffalo for leading this effort. Most of my comments are within the document itself, but I do agree with other comments below that emphasize the need for substantial citizen involvement in governance, application, and oversight. During the RFP process, I would encourage the city to include not only requirements for a portal, but also an iterative feedback/improvement process with residents and regular data users so that the city's investment in this system can produce tangible use cases and real benefits to our city and its people.</p>, <p>The Department of Citizen Services should also be commended for their use of the collaborative policymaking platform. In the age of the internet, this is an excellent way to increase public participation in these types of processes. Many thanks for this opportunity.</p>]\n",
      "[<p>Can the portal include an option for community members/partners to publish their own data to a section of the site? Provided it adheres to a set of minimum standards and passes review.</p>]\n",
      "[<p>It may be a helpful option to include a repository of FOIL requests and responses (whatever is able to be centralized), as well as an option to automate or streamline the FOIL request process via the portal interface.</p>]\n",
      "[<p>Minutes from any and all meetings of this committee should be made available in machine-readable formats in an easily-accessible location (including within the open data system)</p>]\n",
      "[<p>A Citizens Advisory Committee can be designated (appointments by mayor, council members) to support the Governance Committee in the areas of reviewing datasets to be published, hosting events for public feedback and participation, facilitating collaborations, facilitating use of the portal, expanding awareness of open data resources and applications, as well as defining and regularly reviewing the data standards governance document.</p>]\n",
      "[<p>equitable access to opportunity (open data can help move us closer to this goal)</p>]\n",
      "[<p>This part of the reporting should make specific reference to the three goals articulated in Section \"Open Data Program\", part 6: government efficiency, improved quality of life, and expanded economic opportunities.</p>]\n",
      "[<p>The open data system should include a space for showcasing the innovative ways in which city data are used by these various stakeholders.</p>]\n",
      "[<p>Remove \"paramount.\" Privacy, confidentiality and security should be considerations when determining whether data should be open, but they should not be presumed to be paramount and therefore superior to the public's right to know.</p>]\n",
      "[<p>I strongly support the spirit of this policy and the efforts made toward ensuring free public access to data information and government transparency. As a private citizen and freelance writer and researcher, I support the timely adoption and implementation of this policy.</p>, <p>The following are my concerns with the policy as it now stands:</p>, <p>The policy should encourage and, when possible, mandate the collection and dissemination of information collected by non-city and quasi-governmental agencies such as the NFTA, BMHA, Buffalo Place, the Buffalo Olmsted Parks Conservancy, hospital campuses, institutions of higher education and other organizations providing public services such as park maintenance, policing and security, transportation and education services. In particular, public safety information from police and security forces managed by Buffalo Place, medical and college campuses and the NFTA should be subject to the open data policy.</p>, <p>When information is unavailable due to its privileged status, it should be made available in the aggregate whenever possible. e.g., motor vehicle incident reports are not public per NYS law but should be presented to the public in an anonymized or aggregate form.</p>]\n",
      "[<p>The following comment is submitted on behalf of the Public Accountability Initiative:</p>, <p>The Public Accountability Initiative (PAI) is a non-profit educational group focused on transparency and accountability headquartered in the City of Buffalo. PAI operates a research platform, LittleSis.org, that brings together information obtained through public records for use by journalists, academics, and activists as well as the general public. Access to current government information is paramount to PAI’s work and to meaningful participation in a democracy. As such, PAI endorses the goals of the Open Data proposal.</p>, <p>Below we have highlighted what feel are the most commendable inclusions in the proposal as currently drafted, made suggestions for further improvement, and raised concerns with certain provisions of the proposal.</p>, <p>By providing access to public information proactively and for free, the Open Data proposal addresses two significant burdens to public access to information: failure to respond to freedom of information requests in a timely fashion and undue copying fees levied by public agencies. According to MuckRock, a non-profit organization that facilitates the filing and analysis of freedom of information requests, the City of Buffalo takes an average of 63 days to respond to freedom of information requests and charges an average fee of $4.13 per request. PAI has had considerable difficulty obtaining public records from city agencies, most notably the Buffalo Police Department (see e.g. “FOIL by inches: The slow-drip transparency of Buffalo PD” by Caitlin Russell of MuckRock).</p>, <p>If these burdens are truly shifted from requesters to the City, Buffalo will be making a commendable commitment to transparency. To even further improve access to public records, PAI seconds Brian Borncamp’s recommendation that the Open Data Policy provide for a “centralized system for submitting, tracking, and responding to FOIL requests.” By centralizing all requests and by making requests and responses publicly available, the City can dramatically increase its responsiveness to public requests for information and reduce instances of non-compliance with the Freedom of Information Law that result in costly attorneys’ fees.</p>, <p>PAI also highlights and applauds the inclusion of “records of third-party agency contractors that create or acquire information, records, or data on behalf of a City division/department” as an especially meaningful and important component of the Open Data proposal. Public entities are increasingly reliant on non-governmental or quasi-governmental non-profits to perform governmental services. If unchecked, those third-party contractors can act as a “black box” where important information can be kept secret from the public, leading to suspicion and, at times, scandal. The State University at New York system is currently dealing with this issue within its nominally private campus-related foundations at the center of the United States Attorney investigation into Buffalo Billion contracting.</p>, <p>Explicitly holding third-party contractors to the same transparency standard as the public agencies they’re working for both honors the letter of New York’s Freedom of Information Law and serves as a proactive measure to avoid actual or apparent corruption. This provision should be taken further to explicitly include records of all city-related public benefit corporations and other quasi-governmental entities.</p>, <p>Finally, as PAI is involved with technology development in addition to producing original research, we call attention to the proposed availability of City of Buffalo data via an Application Programming Interface (API). Providing data this way allows developers to interact with data in new and unexpected ways and facilitates analysis of that data. For example, PAI’s research platform LittleSis interacts with the OpenSecrets database maintained by the Center for Responsive Politics via an API to incorporate campaign finance as soon as it is uploaded. In addition to making City of Buffalo data available via an API, PAI also recommends that datasets be available for bulk download in various relevant formats to permit analysis using Microsoft Excel or other programs.</p>, <p>PAI has significant concerns about the oversight of Buffalo’s Open Data portal. As currently stipulated in the proposal, development and implementation of the Open Data practices will be delegated to appointees of the Mayor with “input from the public.” It is crucial for the Open Data Governance Committee to be free from the influence of politics and to not be beholden to any one political representative. As such, the Open Data Governance Committee should include representatives from the City as well as from independent organizations working in the public interest, such as the residents, businesses, researchers, and media mentioned in the policy’s statement of purpose, and independent members should comprise a majority of the committee’s votes.</p>, <p>Alongside the existing Open Book Buffalo portal, this Open Data policy represents a praiseworthy commitment to transparency and accountability for the City of Buffalo. For this, the Public Accountability Initiative again commends the city government and welcomes any further opportunity for input on this important initiative. By adopting a policy that addresses the above-stated concerns addressed – especially those about oversight and the centralization of freedom of information requests and responses – the City of Buffalo will take a great stride in advancing transparency and accountability to its residents.</p>]\n",
      "[<p>I assume this would be funding for training the support staff.  I would like to also recommend that a portion of the funding be allocated for training residents, community groups and nonprofits on how to access information and analyze it to inform their work.</p>]\n",
      "[<p>It is important to include all members of the local community that can benefit from this information; including nonprofits and foundations.</p>]\n"
     ]
    },
    {
     "name": "stdout",
     "output_type": "stream",
     "text": [
      "[<p>How will this committee be formed?  Will it be comprised of community stakeholders or only government employees/officials?</p>]\n",
      "[<p>residents, government leaders, businesses, nonprofits, foundations, researchers, and the media,</p>]\n",
      "[<p>foundations, nonprofits</p>]\n",
      "[<p>Any additional data that is made available would be very helpful.</p>]\n",
      "[<p>\"records\" seems overly broad here.</p>]\n",
      "[<p>Thank you to the City of Buffalo!  My comments are regarding the geospatial (GIS) data. We often build tools for local government, and open data portals are our go-to standard to accessing data.  Please also consider including open access to live data such as webservices. Downloadable data, such as xmls, shapefiles or even file geodatabases are necessary for local processing and analysis.  However, most of our support to local government agencies is by functioning as tool and system developers. It makes us incredibly more productive (and accurate) to have access to live data.  I agree with Sean Meyers and support the distribution of the webservices and mapservices in web standard formats.  -Karyn Tareen CEO, Geocove</p>]\n",
      "[<p>I'm glad this issue came to the forefront for the city, as these have been great resources in other cities across the country and world.</p>, <p>My only primary concern is that often times these portals are more civic gestures than meaningful contributions to the data community.  I would just ask that, should the city give its approval, there be some assurance that the data will be actionable and easily legible.  Often times, spreadsheets are put out that contain codes and numerical systems that make sense for people working in offices that have the keys and necessary maps to use the data, but ultimately for the normal citizen, these are just collections of numbers that mean nothing in relation to the spatial understanding of the city.  I ask that the city and Open Data Buffalo take care to translate spreadsheets so that the headings of tables and the layout of information is concise, sorted and legible.  In addition to other added comments describing the value of GIS shape files and inter-application connectivity, simply making data logical and readable will go a long way to helping organizations across the city use the information.  If the information is not useable, it is not useful.</p>]\n",
      "[<p>Thank you to the City of Buffalo for making open data a priority! I agree with the point made previously that the open data portal should include a repository of GIS shapefiles. As someone who works in the community development field, I often struggle to find the appropriate files and often have to cobble together data from various sources or create files from scratch. Having a centralized resource would make grant writing, needs assessments, and neighborhood planning efforts a lot easier. The UB Regional Institute has developed an ArcGIS-based database tracking a number of different environmental and demographic indicators as part of their work on One Region Forward, a regional plan for sustainable development in the Buffalo Niagara region: http://www.oneregionforward.org/data-tools/mappingmetrics/ This might be a good place to start, although as previously mentioned, the ability to export this data in a usable file format is paramount. Excited to follow the progress of this initiative!</p>]\n",
      "[<p>Thank you City of Buffalo for taking on this initiative. I have two comments:</p>, <ol>\n",
      "<li>\n",
      "<p>I think one one of the stated goals of the program should be to promote active participation by the community including civic technologists, civic activists, programmers, and database specialists to develop tools that turn data into insight for some of the city's pressing issues.</p>\n",
      "</li>\n",
      "<li>\n",
      "<p>I think it is very important to ensure that the technical definition of open data goes beyond the definitions provided by the vendors of the platforms currently in use by the city. We are in a web-based world so web-based standards must take precedence (e.g. JSON, geoJSON).</p>\n",
      "</li>\n",
      "</ol>]\n",
      "[<p>Wait, where were the goals? Were they #'s 1-6 above? If so, the term 'goals' should be used there, just to make it clear.</p>]\n",
      "[<p>I want to thank Oswaldo Mestre and Kirk McLean for providing such a transparent forum for discussing and adopting an Open Data policy. Buffalo is taking advantage of data as a driver of economic and social change by providing it to the citizenry without restrictions.</p>, <p>I’m curious about what platform Buffalo will use for the Open Data portal.  I hope public comments will continue through the RFP process and in choosing a portal provider. Many platforms restrict the exchange of data so it’s a top-down process (i.e. Buffalo would create and provide all the data), however it would be beneficial to the city to host data from the non-profit and academic partners alongside municipal data.  In addition, the efficacy of the portal would increase if municipal data could be supplemented with crowdsourced and citizen scientist created data.</p>, <p>I hope the city will air on the side of transparency as it selects which datasets constitute “publishable city data” and will share many of the datasets that make the NYC data portal so rich (parking tickets, tree cover, vehicle collisions, building by year of construction, 311 data, etc..)</p>, <p>Thanks again for providing such an open forum for discussing open data.  I look forward to more productive community discussions.</p>, <p>-Dr. Monica Stephens, University at Buffalo</p>]\n",
      "[<p>Could trim this to just focus on the safeguarding of protected and sensitive information. Minimize limitations on the disclosure of public information doesn't really describe the role of the city in protecting sensitive information.</p>]\n",
      "[<p>There will likely be a license, so yes, there will be a restriction on use/reuse (even something like acknowledging the source of the data). Maybe 'minimal restrictions on use'? Doesn't sound as good though!</p>]\n",
      "[<p>Not sure what this means for formats such as the ESRI shapefile (proprietary GIS format). I'm assuming that much of the infrastructure data will be in this format. All things being equal, having data in a proprietary format would be better than no data.</p>]\n",
      "[<p>Other options being explored? Bulk dataset download is still very common and effective, especially for those users who may not be comfortable accessing an API.</p>]\n",
      "[<p>will have the potential to improve? Probably want to leave the impact of open data provision a bit more open</p>]\n",
      "[<p>These are great - the update frequency question below is somewhat covered here.</p>]\n",
      "[<p>Promote open data that informs increases in government efficiency, improvements in the quality of life of its citizens, and more equal opportunities for all residents.</p>, <ol start=\"7\">\n",
      "<li>Commit to data driven decision making especially in areas of policy.</li>\n",
      "</ol>]\n",
      "[<p>Will data be shared if it is not regularly maintained?  Perhaps \"date of update\" could be identified in the metadata.  Will adopting an OpenData policy encourage the city to more regularly maintain datasets or will this clause be used to skirt sharing policies?  Historical data (not regularly maintained) is still data.</p>]\n",
      "[<p>My comments are rather lengthy. In addition to the comments below I've provided a copy inside a google doc. http://bit.ly/BuffaloOpenDataComments</p>, <p>I commend Oswaldo Mestre and Kirk McLean for putting forward a draft Open Data Policy. Such policies work to make Buffalo government more effective, transparent, accountable, and responsive. This draft document is an important step forward. With all aspects of government we ought to strive for continual improvement. As improvement pertains to the draft Open Data Policy, I hope you find these suggestions amenable.</p>, <p>The draft policy establishes an “Open Data Governance Committee”. As the committee currently stands, oversight and implementation is held entirely within the executive branch of city government. Given that the data provided would primarily originate from the executive branch, it is sensible to seek its representation. However, in the spirit of an open democratic society, the policy ought to seek independence and accountability through checks and balances from other institutions.</p>, <p>The stated purpose of the policy, “creates value for residents, government leaders, businesses, researchers, and the media. ” With the exception of government leaders, none of these groups appear to be formally required by the draft policy.  The policy ought to move the governance committee to include these stated groups.</p>, <p>In creating an independent governance committee, the policy ought to seek representation from co-equal branches of government, e.g. the Common Council and City Comptroller. Ensuring appointment via other branches would go a long way toward promoting the Open Data Governance Committee as an independent body.</p>, <p>Additionally, the structure of the committee ought to ensure that those appointed to the committee via the executive branch do not hold an automatic majority of voting eligible members. Seeking the “input” of the public is perhaps the lowest form of democracy. Input can be trivial, power is not.</p>, <p>The draft policy does not specify how decisions made by the governance committee are to be made public. In ensuring that the governance committee is making decisions for the public good, record of said decisions ought to be publicly available.</p>, <p>To the effect of the stated concerns, the governance committee ought to be adopted into the city charter subject to a vote by the common council.</p>, <p>The draft policy attempts to cast a broad net over the institutions subject to it. Stated in the document, the policy “will apply to any City department, office, administrative unit, commission, board, advisory committee or other division/department of the City government including the records of third-party agency contractors that create or acquire information, records, or data on behalf of a City division/department.”</p>, <p>Reading the draft, it is unclear as to the policy’s applicability to quasi-governmental agencies such as public benefit corporations, e.g. Buffalo Urban Renewal Agency, Buffalo Urban Development Agency, and the Buffalo Municipal Housing Authority. A small language tweak could incorporate such entities under the scope of the draft policy.</p>, <p>Open data is a strong tool for open and transparent government. However, open data is only one of many tools regarding open government. FOIL is another tool that can help to move governments towards transparency and accountability. However, the state of FOIL in Buffalo is dismal. The shortcomings of the City of Buffalo as it pertains to FOIL have been well reported in the press. City departments routinely disregard the law as it relates to FOIL. In this author's experience, above 90% of FOIL requests submitted are not responded to with the requested documentation, or an agency determination explaining why such documents are not available.</p>, <p>An open data policy cannot be the sole remedy for city officials unwillingness to follow the law. However, it can take steps toward holding those officials accountable. Inclusion into the draft policy of a centralized system for submitting, tracking, and responding to FOIL requests would be an incredible step forward. Such a measure would provide residents and city officials with an effective way to manage requests and comply with the relevant statutes. When conflict over FOIL requests do arise, the conflict would be publicly available and documented. Such a system would prevent FOIL requests from getting lost inside civic bureaucracy due to malfeasance or human error.</p>, <p>The advancement of Open Data in Buffalo is an important step. I applaud the Division of Citizen Services for being forward thinking in this regard. That being said, the comments provided here ought not be seen as window dressing to the draft policy. These comments speak to structural concerns of strengthening democracy. The nature of power and human institutions is that they change over time. I hope that these comments are able to extended the drafted policy such that when institutions change the effect and intentions of the draft Buffalo Open Data Policy do not.</p>]\n",
      "[<p>Does this position currently exist in City Hall? If not, who would take on this role?</p>]\n",
      "[<p>It may be useful to have a participatory aspect that prioritizes data updates/releases based on demand (e.g. a certain number of requests triggers an update/response).</p>]\n",
      "[<p>Perhaps a section of the central repository should host all the data that was released in response to FOIL requests. It would provide wider access to this data and could serve as a means to solicit public feedback on the relative priority of establishing a more formal release of the dataset (with relevant metadata and scheduled refreshes of the data).</p>]\n",
      "[<p>Metadata is the key to making sure that the data is used correctly and enables the data to be used in as many different (yet appropriate) ways possible.</p>]\n",
      "[<p>I support the effort to make data accessible to the public. The NYC Open Data portal is a good example of an existing resource with a similar intention. I recommend including environmental and geographic data in the form of GIS shapefiles which can be downloaded, as opposed to 'view-only' results or more traditional pdf or Excel files. I also recommend partnering with local higher education entities, such as the University at Buffalo, to provide research data in additional to official City of Buffalo owned/managed data.</p>]\n",
      "[<p>I am 100% supportive of open data and anything that improves citizen participation, however I opposed this document as it seems the Mayor implementing his own Open Data is a waste of funds and a duplication of efforts since this already exists for the City of Buffalo with the Comptroller's Open Book.  If the purpose of this document is to have one centralized location for citizens to access data, it seems the Mayor should work to promote the Open Book and any expansion of data be incorporated into that site.</p>]\n",
      "[]\n",
      "[<p>City departments, and</p>]\n",
      "[<p>What authority does the Open Data Governance Committee have to do this? Does it derive from one or more specific members of the committee? The paragraph above which describes the membership doesn't specifically designate someone which has budget authority. Ideally this policy should address that concern somehow.</p>]\n",
      "[<p>this seems like an unnecessary distinction which is covered by other language. Is the idea here to say that using an application programming interface (API) to access data is not sufficient?</p>]\n"
     ]
    },
    {
     "name": "stdout",
     "output_type": "stream",
     "text": [
      "[<p>risks to the public</p>]\n",
      "[<p>This can probably be combined with #1</p>]\n",
      "[<p>is or will be</p>]\n",
      "[<p>this is amazing. Very important.</p>]\n",
      "[<p>protected information</p>]\n",
      "[<p>If limiting the City's liability for how the data is used is considered a legal encumbrance then this phrase should be removed or modified. It's also conceivable you want Terms &amp; Conditions on your open data which prohibit the use of data when committing a crime, etc.</p>]\n",
      "[]\n",
      "[<p>The City of Buffalo is to be commended for taking steps to move towards normalizing the sharing of data with the public. As a researcher in the non-profits, I see this as a tool to better serve my city. As a resident, I'm excited to see more transparency.</p>, <p>Comments:\n",
      "-The Open Data Governance Board should also include residents of the City of Buffalo with technical expertise in data management or interest in government transparency. These should be people who apply to it (and maybe the government members vote?) as opposed to being appointed. There are some tips on engaging the civic tech community here: https://www.civichacking.guide though there are likely interested parties outside that community. However it’s structured, it should be as a dialog with city residents.</p>, <p>-I agree with Aaron that the source code of the open data tools should be available.</p>, <p>-I’d recommend a citizen-heavy deliberative democracy process (think participatory budgeting without the budget) to figure out some of the specifics of what to release and how often. I suspect that most residents of the city, including myself, don’t know what is available. Della Rucker, an economic development consultant based in Akron, suggests that when such processes are engaged, inform all parties of limitations and that can often lead to better outcomes.</p>, <p>-Would there be a listserv announcing new releases, the way that HUD or the Census does?</p>, <p>-My employer manages a client-level database that has input from over 100 users. We've found that if you do not enforce strict requirements of timeliness, data quality suffers as it becomes perpetually delayed. Since there were no explicit timelines mentioned here (our requirement is that data needs to be entered within 72 hours of the event), I worry this very valuable effort could suffer from similar backburner issues.</p>, <p>Thank you for sharing this with the public for feedback! I thought this was a really useful format!</p>]\n",
      "[<p>What exactly are examples of \"applicable privileges\"?</p>]\n",
      "[<p>A central location is a good idea, IMHO</p>]\n",
      "[<p>There should be a publicly available list of what is blocked and why. Having this list facilitates transparency and understanding of how the government operates.</p>]\n",
      "[<p>Since this is a service to the residents of Buffalo, there should be resident participation in the governance committee as there may be dis-concordance between what residents and city employees consider \"appropriately ambitious\".</p>]\n",
      "[<p>That would be super helpful :)</p>]\n",
      "[<p>To be honest, I'm not entirely certain what this is trying to say.</p>]\n",
      "[<p>Would this liaison be the contact person if a dataset user (ie a student doing a project or a researcher) had questions about the set?</p>]\n",
      "[<p>I would recommend that it include members of the public with technical expertise and interest in publicly available data sets too instead of just receiving input.</p>]\n",
      "[<p>By whom? Who has the last say for that and how would they be held accountable to the public?</p>]\n",
      "[<p>Maybe you should utilize a deliberative democratic process (like participatory budgeting, only without a budget as the end goal and maybe a bit briefer) to encourage public engagement?</p>]\n",
      "[<p>This document fails to require the sharing of the source code of the open data tools. \"Require Code Sharing Or Publishing Open Source\" is a recommendation of Sunlight Foundation https://sunlightfoundation.com/opendataguidelines/#open-code . Sharing the source code allows citizens to help contribute to the tools making the data public, allows citizens access to the tools for which they are paying, and allows other government agencies as well citizens to benefit from improvements made on behalf of Buffalo.</p>]\n",
      "[<p>Welcome to the City of Buffalo’s public comment period on the Mayor’s draft Open Data policy. We’re looking forward to your feedback strengthening the governing document for our new Open Data program, which will make publishable City data more accessible to the public. After a brief and simple sign up, you’ll be able to do five things on the OpenGov Foundation’s Madison Project platform: read the document; let us know whether you support or oppose the document; leave a comment on the policy or open data, in general; highlight a bit of text and leave a note on that specific text; and respond to other people’s notes, starting a dialogue about a specific passage.</p>, <p>Feel free to also leave a comment about what datasets you’d like to see the city publish in the future.</p>, <p>The public comment period will be open from January 10th to 24th.</p>, <p>Thank you for participating.</p>]\n",
      "[<p>Welcome to the City of Buffalo’s public comment period on the Mayor’s draft Open Data policy. We’re looking forward to your feedback strengthening the governing document for our new Open Data program, which will make publishable City data more accessible to the public. After a brief and simple sign up, you’ll be able to do five things on the OpenGov Foundation’s Madison Project platform: read the document; let us know whether you support or oppose the document; leave a comment on the policy or open data, in general; highlight a bit of text and leave a note on that specific text; and respond to other people’s notes, starting a dialogue about a specific passage.\n",
      "Feel free to also leave a comment about what datasets you’d like to see the city publish in the future.\n",
      "The public comment period will be open from January 10th to 24th.\n",
      "Thank you for participating.</p>]\n"
     ]
    },
    {
     "data": {
      "text/plain": [
       "{1: ['E4-XFnl1uKc',\n",
       "  'Aaron Lee',\n",
       "  '2017-01-25 04:32:19',\n",
       "  '2',\n",
       "  None,\n",
       "  'I am in support of the proposed policy to further enable data and subsequent knowledge sharing. I agree with fellow contributors that it would be beneficial to see more detailed outlines for the specific process that is going to enable community members to contribute to the Open Data portal by creating, uploading and verifying data sets to be published. Myself and colleagues have created a number of valuable data sets that could be beneficial across city departments, community organizations and individual interests. Understanding that only data sets meeting the standards set forth as a result of this policy will be accepted, we can collaboratively drive the understanding of our community from all perspectives.',\n",
       "  '<p>I am in support of the proposed policy to further enable data and subsequent knowledge sharing. I agree with fellow contributors that it would be beneficial to see more detailed outlines for the specific process that is going to enable community members to contribute to the Open Data portal by creating, uploading and verifying data sets to be published. Myself and colleagues have created a number of valuable data sets that could be beneficial across city departments, community organizations and individual interests. Understanding that only data sets meeting the standards set forth as a result of this policy will be accepted, we can collaboratively drive the understanding of our community from all perspectives.</p>',\n",
       "  []],\n",
       " 2: ['E4-XFnjG3Ac',\n",
       "  'Aaron Lee',\n",
       "  '2017-01-25 04:25:20',\n",
       "  '0',\n",
       "  'public participation by providing regular opportunities for feedback and collaboration',\n",
       "  'I would be interested to see this more finely documented. It would be great to have a living, breathering process that community members could submit data sets that they have created (required to meet the data standards set forth by the Open Data Policy) for verification and publication to the open data portal within a timely manner. Individuals in the community may have greater flexibility and time to produce unique data sets pertinent to acute challenges and enable broader understanding in a more timely manner.',\n",
       "  '<p>I would be interested to see this more finely documented. It would be great to have a living, breathering process that community members could submit data sets that they have created (required to meet the data standards set forth by the Open Data Policy) for verification and publication to the open data portal within a timely manner. Individuals in the community may have greater flexibility and time to produce unique data sets pertinent to acute challenges and enable broader understanding in a more timely manner.</p>',\n",
       "  []],\n",
       " 3: ['E4-XFnQhy2g',\n",
       "  'Aaron Krolikowski',\n",
       "  '2017-01-24 22:56:17',\n",
       "  '3',\n",
       "  None,\n",
       "  \"I strongly support the proposed policy, with a recognition of the outstanding contributions that have already been made by other residents, citizens, and interested parties.Many thanks to the City of Buffalo for leading this effort. Most of my comments are within the document itself, but I do agree with other comments below that emphasize the need for substantial citizen involvement in governance, application, and oversight. During the RFP process, I would encourage the city to include not only requirements for a portal, but also an iterative feedback/improvement process with residents and regular data users so that the city's investment in this system can produce tangible use cases and real benefits to our city and its people.The Department of Citizen Services should also be commended for their use of the collaborative policymaking platform. In the age of the internet, this is an excellent way to increase public participation in these types of processes. Many thanks for this opportunity.\",\n",
       "  \"<p>I strongly support the proposed policy, with a recognition of the outstanding contributions that have already been made by other residents, citizens, and interested parties.</p><p>Many thanks to the City of Buffalo for leading this effort. Most of my comments are within the document itself, but I do agree with other comments below that emphasize the need for substantial citizen involvement in governance, application, and oversight. During the RFP process, I would encourage the city to include not only requirements for a portal, but also an iterative feedback/improvement process with residents and regular data users so that the city's investment in this system can produce tangible use cases and real benefits to our city and its people.</p><p>The Department of Citizen Services should also be commended for their use of the collaborative policymaking platform. In the age of the internet, this is an excellent way to increase public participation in these types of processes. Many thanks for this opportunity.</p>\",\n",
       "  []],\n",
       " 4: ['E4-XFnNQNY8',\n",
       "  'Aaron Krolikowski',\n",
       "  '2017-01-24 22:46:57',\n",
       "  '0',\n",
       "  'Publish high quality, updated data with documentation',\n",
       "  'Can the portal include an option for community members/partners to publish their own data to a section of the site? Provided it adheres to a set of minimum standards and passes review.',\n",
       "  '<p>Can the portal include an option for community members/partners to publish their own data to a section of the site? Provided it adheres to a set of minimum standards and passes review.</p>',\n",
       "  []],\n",
       " 5: ['E4-XFnJHPCA',\n",
       "  'Aaron Krolikowski',\n",
       "  '2017-01-24 22:45:58',\n",
       "  '0',\n",
       "  'limitations on the disclosure of public information',\n",
       "  'It may be a helpful option to include a repository of FOIL requests and responses (whatever is able to be centralized), as well as an option to automate or streamline the FOIL request process via the portal interface.',\n",
       "  '<p>It may be a helpful option to include a repository of FOIL requests and responses (whatever is able to be centralized), as well as an option to automate or streamline the FOIL request process via the portal interface.</p>',\n",
       "  []],\n",
       " 6: ['E4-XFnFvMJc',\n",
       "  'Aaron Krolikowski',\n",
       "  '2017-01-24 22:41:07',\n",
       "  '1',\n",
       "  'Open Data Governance Committee',\n",
       "  'Minutes from any and all meetings of this committee should be made available in machine-readable formats in an easily-accessible location (including within the open data system)',\n",
       "  '<p>Minutes from any and all meetings of this committee should be made available in machine-readable formats in an easily-accessible location (including within the open data system)</p>',\n",
       "  []],\n",
       " 7: ['E4-XFnArgxc',\n",
       "  'Aaron Krolikowski',\n",
       "  '2017-01-24 22:39:41',\n",
       "  '1',\n",
       "  'and will include input from the public.',\n",
       "  'A Citizens Advisory Committee can be designated (appointments by mayor, council members) to support the Governance Committee in the areas of reviewing datasets to be published, hosting events for public feedback and participation, facilitating collaborations, facilitating use of the portal, expanding awareness of open data resources and applications, as well as defining and regularly reviewing the data standards governance document.',\n",
       "  '<p>A Citizens Advisory Committee can be designated (appointments by mayor, council members) to support the Governance Committee in the areas of reviewing datasets to be published, hosting events for public feedback and participation, facilitating collaborations, facilitating use of the portal, expanding awareness of open data resources and applications, as well as defining and regularly reviewing the data standards governance document.</p>',\n",
       "  []],\n",
       " 8: ['E4-XFm_mHqw',\n",
       "  'Aaron Krolikowski',\n",
       "  '2017-01-24 22:35:13',\n",
       "  '0',\n",
       "  'opportunity',\n",
       "  'equitable access to opportunity (open data can help move us closer to this goal)',\n",
       "  '<p>equitable access to opportunity (open data can help move us closer to this goal)</p>',\n",
       "  []],\n",
       " 9: ['E4-XFmpVM3o',\n",
       "  'Aaron Krolikowski',\n",
       "  '2017-01-24 22:34:25',\n",
       "  '0',\n",
       "  'how the data is being used',\n",
       "  'This part of the reporting should make specific reference to the three goals articulated in Section \"Open Data Program\", part 6: government efficiency, improved quality of life, and expanded economic opportunities.',\n",
       "  '<p>This part of the reporting should make specific reference to the three goals articulated in Section \"Open Data Program\", part 6: government efficiency, improved quality of life, and expanded economic opportunities.</p>',\n",
       "  []],\n",
       " 10: ['E4-XFmn4N9w',\n",
       "  'Aaron Krolikowski',\n",
       "  '2017-01-24 22:31:40',\n",
       "  '0',\n",
       "  \"Encourage innovative uses of the City's publishable non-privileged and non-confidential data by departments, the public, and other partners; and\",\n",
       "  'The open data system should include a space for showcasing the innovative ways in which city data are used by these various stakeholders.',\n",
       "  '<p>The open data system should include a space for showcasing the innovative ways in which city data are used by these various stakeholders.</p>',\n",
       "  ['E4-XFncwFNE']],\n",
       " 11: ['E4-XFmN-hx8',\n",
       "  'Stephanie Perry',\n",
       "  '2017-01-24 21:35:45',\n",
       "  '0',\n",
       "  'paramount',\n",
       "  'Remove \"paramount.\" Privacy, confidentiality and security should be considerations when determining whether data should be open, but they should not be presumed to be paramount and therefore superior to the public\\'s right to know.',\n",
       "  '<p>Remove \"paramount.\" Privacy, confidentiality and security should be considerations when determining whether data should be open, but they should not be presumed to be paramount and therefore superior to the public\\'s right to know.</p>',\n",
       "  ['E4-XFmQX0U8', 'E4-XFmS4XPs']],\n",
       " 12: ['E4-XFmKqmDk',\n",
       "  'Stephanie Perry',\n",
       "  '2017-01-24 21:31:45',\n",
       "  '1',\n",
       "  None,\n",
       "  'I strongly support the spirit of this policy and the efforts made toward ensuring free public access to data information and government transparency. As a private citizen and freelance writer and researcher, I support the timely adoption and implementation of this policy.The following are my concerns with the policy as it now stands:The policy should encourage and, when possible, mandate the collection and dissemination of information collected by non-city and quasi-governmental agencies such as the NFTA, BMHA, Buffalo Place, the Buffalo Olmsted Parks Conservancy, hospital campuses, institutions of higher education and other organizations providing public services such as park maintenance, policing and security, transportation and education services. In particular, public safety information from police and security forces managed by Buffalo Place, medical and college campuses and the NFTA should be subject to the open data policy.When information is unavailable due to its privileged status, it should be made available in the aggregate whenever possible. e.g., motor vehicle incident reports are not public per NYS law but should be presented to the public in an anonymized or aggregate form.',\n",
       "  '<p>I strongly support the spirit of this policy and the efforts made toward ensuring free public access to data information and government transparency. As a private citizen and freelance writer and researcher, I support the timely adoption and implementation of this policy.</p><p>The following are my concerns with the policy as it now stands:</p><p>The policy should encourage and, when possible, mandate the collection and dissemination of information collected by non-city and quasi-governmental agencies such as the NFTA, BMHA, Buffalo Place, the Buffalo Olmsted Parks Conservancy, hospital campuses, institutions of higher education and other organizations providing public services such as park maintenance, policing and security, transportation and education services. In particular, public safety information from police and security forces managed by Buffalo Place, medical and college campuses and the NFTA should be subject to the open data policy.</p><p>When information is unavailable due to its privileged status, it should be made available in the aggregate whenever possible. e.g., motor vehicle incident reports are not public per NYS law but should be presented to the public in an anonymized or aggregate form.</p>',\n",
       "  []],\n",
       " 13: ['E4-XFl5JXZo',\n",
       "  'Robert Galbraith',\n",
       "  '2017-01-24 20:30:42',\n",
       "  '2',\n",
       "  None,\n",
       "  'The following comment is submitted on behalf of the Public Accountability Initiative:The Public Accountability Initiative (PAI) is a non-profit educational group focused on transparency and accountability headquartered in the City of Buffalo. PAI operates a research platform, LittleSis.org, that brings together information obtained through public records for use by journalists, academics, and activists as well as the general public. Access to current government information is paramount to PAI’s work and to meaningful participation in a democracy. As such, PAI endorses the goals of the Open Data proposal.Below we have highlighted what feel are the most commendable inclusions in the proposal as currently drafted, made suggestions for further improvement, and raised concerns with certain provisions of the proposal.By providing access to public information proactively and for free, the Open Data proposal addresses two significant burdens to public access to information: failure to respond to freedom of information requests in a timely fashion and undue copying fees levied by public agencies. According to MuckRock, a non-profit organization that facilitates the filing and analysis of freedom of information requests, the City of Buffalo takes an average of 63 days to respond to freedom of information requests and charges an average fee of $4.13 per request. PAI has had considerable difficulty obtaining public records from city agencies, most notably the Buffalo Police Department (see e.g. “FOIL by inches: The slow-drip transparency of Buffalo PD” by Caitlin Russell of MuckRock).If these burdens are truly shifted from requesters to the City, Buffalo will be making a commendable commitment to transparency. To even further improve access to public records, PAI seconds Brian Borncamp’s recommendation that the Open Data Policy provide for a “centralized system for submitting, tracking, and responding to FOIL requests.” By centralizing all requests and by making requests and responses publicly available, the City can dramatically increase its responsiveness to public requests for information and reduce instances of non-compliance with the Freedom of Information Law that result in costly attorneys’ fees.PAI also highlights and applauds the inclusion of “records of third-party agency contractors that create or acquire information, records, or data on behalf of a City division/department” as an especially meaningful and important component of the Open Data proposal. Public entities are increasingly reliant on non-governmental or quasi-governmental non-profits to perform governmental services. If unchecked, those third-party contractors can act as a “black box” where important information can be kept secret from the public, leading to suspicion and, at times, scandal. The State University at New York system is currently dealing with this issue within its nominally private campus-related foundations at the center of the United States Attorney investigation into Buffalo Billion contracting.Explicitly holding third-party contractors to the same transparency standard as the public agencies they’re working for both honors the letter of New York’s Freedom of Information Law and serves as a proactive measure to avoid actual or apparent corruption. This provision should be taken further to explicitly include records of all city-related public benefit corporations and other quasi-governmental entities.Finally, as PAI is involved with technology development in addition to producing original research, we call attention to the proposed availability of City of Buffalo data via an Application Programming Interface (API). Providing data this way allows developers to interact with data in new and unexpected ways and facilitates analysis of that data. For example, PAI’s research platform LittleSis interacts with the OpenSecrets database maintained by the Center for Responsive Politics via an API to incorporate campaign finance as soon as it is uploaded. In addition to making City of Buffalo data available via an API, PAI also recommends that datasets be available for bulk download in various relevant formats to permit analysis using Microsoft Excel or other programs.PAI has significant concerns about the oversight of Buffalo’s Open Data portal. As currently stipulated in the proposal, development and implementation of the Open Data practices will be delegated to appointees of the Mayor with “input from the public.” It is crucial for the Open Data Governance Committee to be free from the influence of politics and to not be beholden to any one political representative. As such, the Open Data Governance Committee should include representatives from the City as well as from independent organizations working in the public interest, such as the residents, businesses, researchers, and media mentioned in the policy’s statement of purpose, and independent members should comprise a majority of the committee’s votes.Alongside the existing Open Book Buffalo portal, this Open Data policy represents a praiseworthy commitment to transparency and accountability for the City of Buffalo. For this, the Public Accountability Initiative again commends the city government and welcomes any further opportunity for input on this important initiative. By adopting a policy that addresses the above-stated concerns addressed – especially those about oversight and the centralization of freedom of information requests and responses – the City of Buffalo will take a great stride in advancing transparency and accountability to its residents.',\n",
       "  '<p>The following comment is submitted on behalf of the Public Accountability Initiative:</p><p>The Public Accountability Initiative (PAI) is a non-profit educational group focused on transparency and accountability headquartered in the City of Buffalo. PAI operates a research platform, LittleSis.org, that brings together information obtained through public records for use by journalists, academics, and activists as well as the general public. Access to current government information is paramount to PAI’s work and to meaningful participation in a democracy. As such, PAI endorses the goals of the Open Data proposal.</p><p>Below we have highlighted what feel are the most commendable inclusions in the proposal as currently drafted, made suggestions for further improvement, and raised concerns with certain provisions of the proposal.</p><p>By providing access to public information proactively and for free, the Open Data proposal addresses two significant burdens to public access to information: failure to respond to freedom of information requests in a timely fashion and undue copying fees levied by public agencies. According to MuckRock, a non-profit organization that facilitates the filing and analysis of freedom of information requests, the City of Buffalo takes an average of 63 days to respond to freedom of information requests and charges an average fee of $4.13 per request. PAI has had considerable difficulty obtaining public records from city agencies, most notably the Buffalo Police Department (see e.g. “FOIL by inches: The slow-drip transparency of Buffalo PD” by Caitlin Russell of MuckRock).</p><p>If these burdens are truly shifted from requesters to the City, Buffalo will be making a commendable commitment to transparency. To even further improve access to public records, PAI seconds Brian Borncamp’s recommendation that the Open Data Policy provide for a “centralized system for submitting, tracking, and responding to FOIL requests.” By centralizing all requests and by making requests and responses publicly available, the City can dramatically increase its responsiveness to public requests for information and reduce instances of non-compliance with the Freedom of Information Law that result in costly attorneys’ fees.</p><p>PAI also highlights and applauds the inclusion of “records of third-party agency contractors that create or acquire information, records, or data on behalf of a City division/department” as an especially meaningful and important component of the Open Data proposal. Public entities are increasingly reliant on non-governmental or quasi-governmental non-profits to perform governmental services. If unchecked, those third-party contractors can act as a “black box” where important information can be kept secret from the public, leading to suspicion and, at times, scandal. The State University at New York system is currently dealing with this issue within its nominally private campus-related foundations at the center of the United States Attorney investigation into Buffalo Billion contracting.</p><p>Explicitly holding third-party contractors to the same transparency standard as the public agencies they’re working for both honors the letter of New York’s Freedom of Information Law and serves as a proactive measure to avoid actual or apparent corruption. This provision should be taken further to explicitly include records of all city-related public benefit corporations and other quasi-governmental entities.</p><p>Finally, as PAI is involved with technology development in addition to producing original research, we call attention to the proposed availability of City of Buffalo data via an Application Programming Interface (API). Providing data this way allows developers to interact with data in new and unexpected ways and facilitates analysis of that data. For example, PAI’s research platform LittleSis interacts with the OpenSecrets database maintained by the Center for Responsive Politics via an API to incorporate campaign finance as soon as it is uploaded. In addition to making City of Buffalo data available via an API, PAI also recommends that datasets be available for bulk download in various relevant formats to permit analysis using Microsoft Excel or other programs.</p><p>PAI has significant concerns about the oversight of Buffalo’s Open Data portal. As currently stipulated in the proposal, development and implementation of the Open Data practices will be delegated to appointees of the Mayor with “input from the public.” It is crucial for the Open Data Governance Committee to be free from the influence of politics and to not be beholden to any one political representative. As such, the Open Data Governance Committee should include representatives from the City as well as from independent organizations working in the public interest, such as the residents, businesses, researchers, and media mentioned in the policy’s statement of purpose, and independent members should comprise a majority of the committee’s votes.</p><p>Alongside the existing Open Book Buffalo portal, this Open Data policy represents a praiseworthy commitment to transparency and accountability for the City of Buffalo. For this, the Public Accountability Initiative again commends the city government and welcomes any further opportunity for input on this important initiative. By adopting a policy that addresses the above-stated concerns addressed – especially those about oversight and the centralization of freedom of information requests and responses – the City of Buffalo will take a great stride in advancing transparency and accountability to its residents.</p>',\n",
       "  ['E4-XFmHvN6E']],\n",
       " 14: ['E4-XFlAvtTM',\n",
       "  'Curtis Robbins',\n",
       "  '2017-01-24 18:20:23',\n",
       "  '0',\n",
       "  'training,',\n",
       "  'I assume this would be funding for training the support staff.  I would like to also recommend that a portion of the funding be allocated for training residents, community groups and nonprofits on how to access information and analyze it to inform their work.',\n",
       "  '<p>I assume this would be funding for training the support staff.  I would like to also recommend that a portion of the funding be allocated for training residents, community groups and nonprofits on how to access information and analyze it to inform their work.</p>',\n",
       "  ['E4-XFmkhdT4']],\n",
       " 15: ['E4-XFk6UNtM',\n",
       "  'Curtis Robbins',\n",
       "  '2017-01-24 18:10:52',\n",
       "  '0',\n",
       "  'residents, government leaders, businesses, researchers, and the media,',\n",
       "  'It is important to include all members of the local community that can benefit from this information; including nonprofits and foundations.',\n",
       "  '<p>It is important to include all members of the local community that can benefit from this information; including nonprofits and foundations.</p>',\n",
       "  []],\n",
       " 16: ['E4-XFk2Ek3s',\n",
       "  'Curtis Robbins',\n",
       "  '2017-01-24 18:09:48',\n",
       "  '0',\n",
       "  'Open Data Governance Committee',\n",
       "  'How will this committee be formed?  Will it be comprised of community stakeholders or only government employees/officials?',\n",
       "  '<p>How will this committee be formed?  Will it be comprised of community stakeholders or only government employees/officials?</p>',\n",
       "  []],\n",
       " 17: ['E4-XFksGPRs',\n",
       "  'Curtis Robbins',\n",
       "  '2017-01-24 18:01:32',\n",
       "  '2',\n",
       "  'residents, government leaders, businesses, researchers, and the media,',\n",
       "  'residents, government leaders, businesses, nonprofits, foundations, researchers, and the media,',\n",
       "  '<p>residents, government leaders, businesses, nonprofits, foundations, researchers, and the media,</p>',\n",
       "  ['E4-XFkw6sfw', 'E4-XFk-iSC4']],\n",
       " 18: ['E4-XFkovPVE',\n",
       "  'Curtis Robbins',\n",
       "  '2017-01-24 18:00:07',\n",
       "  '0',\n",
       "  None,\n",
       "  'foundations, nonprofits',\n",
       "  '<p>foundations, nonprofits</p>',\n",
       "  []],\n",
       " 19: ['E4-XFkkgemI',\n",
       "  'Daniel Wulf',\n",
       "  '2017-01-24 16:51:19',\n",
       "  '0',\n",
       "  None,\n",
       "  'Any additional data that is made available would be very helpful.',\n",
       "  '<p>Any additional data that is made available would be very helpful.</p>',\n",
       "  []],\n",
       " 20: ['E4-XFkKpsEk',\n",
       "  'Jesse Griffis',\n",
       "  '2017-01-24 15:31:01',\n",
       "  '0',\n",
       "  'including the records',\n",
       "  '\"records\" seems overly broad here.',\n",
       "  '<p>\"records\" seems overly broad here.</p>',\n",
       "  []],\n",
       " 21: ['E4-XFj2bu7o',\n",
       "  'Karyn Tareen',\n",
       "  '2017-01-24 14:55:16',\n",
       "  '4',\n",
       "  None,\n",
       "  'Thank you to the City of Buffalo!  My comments are regarding the geospatial (GIS) data. We often build tools for local government, and open data portals are our go-to standard to accessing data.  Please also consider including open access to live data such as webservices. Downloadable data, such as xmls, shapefiles or even file geodatabases are necessary for local processing and analysis.  However, most of our support to local government agencies is by functioning as tool and system developers. It makes us incredibly more productive (and accurate) to have access to live data.  I agree with Sean Meyers and support the distribution of the webservices and mapservices in web standard formats.  -Karyn Tareen CEO, Geocove',\n",
       "  '<p>Thank you to the City of Buffalo!  My comments are regarding the geospatial (GIS) data. We often build tools for local government, and open data portals are our go-to standard to accessing data.  Please also consider including open access to live data such as webservices. Downloadable data, such as xmls, shapefiles or even file geodatabases are necessary for local processing and analysis.  However, most of our support to local government agencies is by functioning as tool and system developers. It makes us incredibly more productive (and accurate) to have access to live data.  I agree with Sean Meyers and support the distribution of the webservices and mapservices in web standard formats.  -Karyn Tareen CEO, Geocove</p>',\n",
       "  []],\n",
       " 22: ['E4-XFj1cPws',\n",
       "  \"John O'B\",\n",
       "  '2017-01-24 14:46:15',\n",
       "  '1',\n",
       "  None,\n",
       "  \"I'm glad this issue came to the forefront for the city, as these have been great resources in other cities across the country and world.My only primary concern is that often times these portals are more civic gestures than meaningful contributions to the data community.  I would just ask that, should the city give its approval, there be some assurance that the data will be actionable and easily legible.  Often times, spreadsheets are put out that contain codes and numerical systems that make sense for people working in offices that have the keys and necessary maps to use the data, but ultimately for the normal citizen, these are just collections of numbers that mean nothing in relation to the spatial understanding of the city.  I ask that the city and Open Data Buffalo take care to translate spreadsheets so that the headings of tables and the layout of information is concise, sorted and legible.  In addition to other added comments describing the value of GIS shape files and inter-application connectivity, simply making data logical and readable will go a long way to helping organizations across the city use the information.  If the information is not useable, it is not useful.\",\n",
       "  \"<p>I'm glad this issue came to the forefront for the city, as these have been great resources in other cities across the country and world.</p><p>My only primary concern is that often times these portals are more civic gestures than meaningful contributions to the data community.  I would just ask that, should the city give its approval, there be some assurance that the data will be actionable and easily legible.  Often times, spreadsheets are put out that contain codes and numerical systems that make sense for people working in offices that have the keys and necessary maps to use the data, but ultimately for the normal citizen, these are just collections of numbers that mean nothing in relation to the spatial understanding of the city.  I ask that the city and Open Data Buffalo take care to translate spreadsheets so that the headings of tables and the layout of information is concise, sorted and legible.  In addition to other added comments describing the value of GIS shape files and inter-application connectivity, simply making data logical and readable will go a long way to helping organizations across the city use the information.  If the information is not useable, it is not useful.</p>\",\n",
       "  []],\n",
       " 23: ['E4-XFju9GjQ',\n",
       "  'Darren Cotton',\n",
       "  '2017-01-24 14:33:14',\n",
       "  '2',\n",
       "  None,\n",
       "  'Thank you to the City of Buffalo for making open data a priority! I agree with the point made previously that the open data portal should include a repository of GIS shapefiles. As someone who works in the community development field, I often struggle to find the appropriate files and often have to cobble together data from various sources or create files from scratch. Having a centralized resource would make grant writing, needs assessments, and neighborhood planning efforts a lot easier. The UB Regional Institute has developed an ArcGIS-based database tracking a number of different environmental and demographic indicators as part of their work on One Region Forward, a regional plan for sustainable development in the Buffalo Niagara region: http://www.oneregionforward.org/data-tools/mappingmetrics/ This might be a good place to start, although as previously mentioned, the ability to export this data in a usable file format is paramount. Excited to follow the progress of this initiative!',\n",
       "  '<p>Thank you to the City of Buffalo for making open data a priority! I agree with the point made previously that the open data portal should include a repository of GIS shapefiles. As someone who works in the community development field, I often struggle to find the appropriate files and often have to cobble together data from various sources or create files from scratch. Having a centralized resource would make grant writing, needs assessments, and neighborhood planning efforts a lot easier. The UB Regional Institute has developed an ArcGIS-based database tracking a number of different environmental and demographic indicators as part of their work on One Region Forward, a regional plan for sustainable development in the Buffalo Niagara region: http://www.oneregionforward.org/data-tools/mappingmetrics/ This might be a good place to start, although as previously mentioned, the ability to export this data in a usable file format is paramount. Excited to follow the progress of this initiative!</p>',\n",
       "  []],\n",
       " 24: ['E4-XFjdEn7k',\n",
       "  'Sean Myers',\n",
       "  '2017-01-24 11:27:42',\n",
       "  '7',\n",
       "  None,\n",
       "  \"Thank you City of Buffalo for taking on this initiative. I have two comments:\\n\\nI think one one of the stated goals of the program should be to promote active participation by the community including civic technologists, civic activists, programmers, and database specialists to develop tools that turn data into insight for some of the city's pressing issues.\\n\\n\\nI think it is very important to ensure that the technical definition of open data goes beyond the definitions provided by the vendors of the platforms currently in use by the city. We are in a web-based world so web-based standards must take precedence (e.g. JSON, geoJSON).\\n\\n\",\n",
       "  \"<p>Thank you City of Buffalo for taking on this initiative. I have two comments:</p><ol>\\n<li>\\n<p>I think one one of the stated goals of the program should be to promote active participation by the community including civic technologists, civic activists, programmers, and database specialists to develop tools that turn data into insight for some of the city's pressing issues.</p>\\n</li>\\n<li>\\n<p>I think it is very important to ensure that the technical definition of open data goes beyond the definitions provided by the vendors of the platforms currently in use by the city. We are in a web-based world so web-based standards must take precedence (e.g. JSON, geoJSON).</p>\\n</li>\\n</ol>\",\n",
       "  []],\n",
       " 25: ['E4-XFjXTfh0',\n",
       "  'Peter Johnson',\n",
       "  '2017-01-24 04:22:32',\n",
       "  '1',\n",
       "  'goals',\n",
       "  \"Wait, where were the goals? Were they #'s 1-6 above? If so, the term 'goals' should be used there, just to make it clear.\",\n",
       "  \"<p>Wait, where were the goals? Were they #'s 1-6 above? If so, the term 'goals' should be used there, just to make it clear.</p>\",\n",
       "  []],\n",
       " 26: ['E4-XFjDXTC4',\n",
       "  'Monica Stephens',\n",
       "  '2017-01-24 04:11:50',\n",
       "  '10',\n",
       "  None,\n",
       "  'I want to thank Oswaldo Mestre and Kirk McLean for providing such a transparent forum for discussing and adopting an Open Data policy. Buffalo is taking advantage of data as a driver of economic and social change by providing it to the citizenry without restrictions.I’m curious about what platform Buffalo will use for the Open Data portal.  I hope public comments will continue through the RFP process and in choosing a portal provider. Many platforms restrict the exchange of data so it’s a top-down process (i.e. Buffalo would create and provide all the data), however it would be beneficial to the city to host data from the non-profit and academic partners alongside municipal data.  In addition, the efficacy of the portal would increase if municipal data could be supplemented with crowdsourced and citizen scientist created data.I hope the city will air on the side of transparency as it selects which datasets constitute “publishable city data” and will share many of the datasets that make the NYC data portal so rich (parking tickets, tree cover, vehicle collisions, building by year of construction, 311 data, etc..)Thanks again for providing such an open forum for discussing open data.  I look forward to more productive community discussions.-Dr. Monica Stephens, University at Buffalo',\n",
       "  '<p>I want to thank Oswaldo Mestre and Kirk McLean for providing such a transparent forum for discussing and adopting an Open Data policy. Buffalo is taking advantage of data as a driver of economic and social change by providing it to the citizenry without restrictions.</p><p>I’m curious about what platform Buffalo will use for the Open Data portal.  I hope public comments will continue through the RFP process and in choosing a portal provider. Many platforms restrict the exchange of data so it’s a top-down process (i.e. Buffalo would create and provide all the data), however it would be beneficial to the city to host data from the non-profit and academic partners alongside municipal data.  In addition, the efficacy of the portal would increase if municipal data could be supplemented with crowdsourced and citizen scientist created data.</p><p>I hope the city will air on the side of transparency as it selects which datasets constitute “publishable city data” and will share many of the datasets that make the NYC data portal so rich (parking tickets, tree cover, vehicle collisions, building by year of construction, 311 data, etc..)</p><p>Thanks again for providing such an open forum for discussing open data.  I look forward to more productive community discussions.</p><p>-Dr. Monica Stephens, University at Buffalo</p>',\n",
       "  []],\n",
       " 27: ['E4-XFi-BKtg',\n",
       "  'Peter Johnson',\n",
       "  '2017-01-24 04:11:48',\n",
       "  '1',\n",
       "  'appropriately safeguarding protected and sensitive information;',\n",
       "  \"Could trim this to just focus on the safeguarding of protected and sensitive information. Minimize limitations on the disclosure of public information doesn't really describe the role of the city in protecting sensitive information.\",\n",
       "  \"<p>Could trim this to just focus on the safeguarding of protected and sensitive information. Minimize limitations on the disclosure of public information doesn't really describe the role of the city in protecting sensitive information.</p>\",\n",
       "  ['E4-XFmYEcUE']],\n",
       " 28: ['E4-XFi2MRAI',\n",
       "  'Peter Johnson',\n",
       "  '2017-01-24 04:08:09',\n",
       "  '0',\n",
       "  'any licensing fees or restrictions on use or reuse;',\n",
       "  \"There will likely be a license, so yes, there will be a restriction on use/reuse (even something like acknowledging the source of the data). Maybe 'minimal restrictions on use'? Doesn't sound as good though!\",\n",
       "  \"<p>There will likely be a license, so yes, there will be a restriction on use/reuse (even something like acknowledging the source of the data). Maybe 'minimal restrictions on use'? Doesn't sound as good though!</p>\",\n",
       "  []],\n",
       " 29: ['E4-XFi0e-l4',\n",
       "  'Peter Johnson',\n",
       "  '2017-01-24 04:06:27',\n",
       "  '0',\n",
       "  'nonproprietary',\n",
       "  \"Not sure what this means for formats such as the ESRI shapefile (proprietary GIS format). I'm assuming that much of the infrastructure data will be in this format. All things being equal, having data in a proprietary format would be better than no data.\",\n",
       "  \"<p>Not sure what this means for formats such as the ESRI shapefile (proprietary GIS format). I'm assuming that much of the infrastructure data will be in this format. All things being equal, having data in a proprietary format would be better than no data.</p>\",\n",
       "  ['E4-XFjtF_-E', 'E4-XFkB8kn4']],\n",
       " 30: ['E4-XFix9HHY',\n",
       "  'Peter Johnson',\n",
       "  '2017-01-24 04:01:27',\n",
       "  '2',\n",
       "  'Application Programming Interfaces (API',\n",
       "  'Other options being explored? Bulk dataset download is still very common and effective, especially for those users who may not be comfortable accessing an API.',\n",
       "  '<p>Other options being explored? Bulk dataset download is still very common and effective, especially for those users who may not be comfortable accessing an API.</p>',\n",
       "  ['E4-XFj-asew', 'E4-XFkAnfVE', 'E4-XFl22vv8', 'E4-XFnVdZh8']],\n",
       " 31: ['E4-XFis3W9Y',\n",
       "  'Peter Johnson',\n",
       "  '2017-01-24 03:59:39',\n",
       "  '0',\n",
       "  'will improve the provision of citizen services,',\n",
       "  'will have the potential to improve? Probably want to leave the impact of open data provision a bit more open',\n",
       "  '<p>will have the potential to improve? Probably want to leave the impact of open data provision a bit more open</p>',\n",
       "  []],\n",
       " 32: ['E4-XFiq1xco',\n",
       "  'Peter Johnson',\n",
       "  '2017-01-24 03:58:39',\n",
       "  '0',\n",
       "  'timely and consisten',\n",
       "  'These are great - the update frequency question below is somewhat covered here.',\n",
       "  '<p>These are great - the update frequency question below is somewhat covered here.</p>',\n",
       "  []],\n",
       " 33: ['E4-XFiejO_4',\n",
       "  'Kelly Dodd',\n",
       "  '2017-01-24 03:04:56',\n",
       "  '2',\n",
       "  'Provide open data that increases government efficiency, improves the quality of life of its citizens, and ensures opportunity for all residents.',\n",
       "  'Promote open data that informs increases in government efficiency, improvements in the quality of life of its citizens, and more equal opportunities for all residents.\\nCommit to data driven decision making especially in areas of policy.\\n',\n",
       "  '<p>Promote open data that informs increases in government efficiency, improvements in the quality of life of its citizens, and more equal opportunities for all residents.</p><ol start=\"7\">\\n<li>Commit to data driven decision making especially in areas of policy.</li>\\n</ol>',\n",
       "  ['E4-XFiiGPbw', 'E4-XFjIXTLs', 'E4-XFkIuyUs']],\n",
       " 34: ['E4-XFiRBEvg',\n",
       "  'Monica Stephens',\n",
       "  '2017-01-24 01:35:33',\n",
       "  '2',\n",
       "  'regularly maintained',\n",
       "  'Will data be shared if it is not regularly maintained?  Perhaps \"date of update\" could be identified in the metadata.  Will adopting an OpenData policy encourage the city to more regularly maintain datasets or will this clause be used to skirt sharing policies?  Historical data (not regularly maintained) is still data.',\n",
       "  '<p>Will data be shared if it is not regularly maintained?  Perhaps \"date of update\" could be identified in the metadata.  Will adopting an OpenData policy encourage the city to more regularly maintain datasets or will this clause be used to skirt sharing policies?  Historical data (not regularly maintained) is still data.</p>',\n",
       "  ['E4-XFiXvZqU', 'E4-XFiotKgk', 'E4-XFmBOIfc']],\n",
       " 35: ['E4-XFhv7L1k',\n",
       "  'Brian Borncamp',\n",
       "  '2017-01-23 03:48:27',\n",
       "  '3',\n",
       "  None,\n",
       "  \"My comments are rather lengthy. In addition to the comments below I've provided a copy inside a google doc. http://bit.ly/BuffaloOpenDataCommentsI commend Oswaldo Mestre and Kirk McLean for putting forward a draft Open Data Policy. Such policies work to make Buffalo government more effective, transparent, accountable, and responsive. This draft document is an important step forward. With all aspects of government we ought to strive for continual improvement. As improvement pertains to the draft Open Data Policy, I hope you find these suggestions amenable.The draft policy establishes an “Open Data Governance Committee”. As the committee currently stands, oversight and implementation is held entirely within the executive branch of city government. Given that the data provided would primarily originate from the executive branch, it is sensible to seek its representation. However, in the spirit of an open democratic society, the policy ought to seek independence and accountability through checks and balances from other institutions.The stated purpose of the policy, “creates value for residents, government leaders, businesses, researchers, and the media. ” With the exception of government leaders, none of these groups appear to be formally required by the draft policy.  The policy ought to move the governance committee to include these stated groups.In creating an independent governance committee, the policy ought to seek representation from co-equal branches of government, e.g. the Common Council and City Comptroller. Ensuring appointment via other branches would go a long way toward promoting the Open Data Governance Committee as an independent body.Additionally, the structure of the committee ought to ensure that those appointed to the committee via the executive branch do not hold an automatic majority of voting eligible members. Seeking the “input” of the public is perhaps the lowest form of democracy. Input can be trivial, power is not.The draft policy does not specify how decisions made by the governance committee are to be made public. In ensuring that the governance committee is making decisions for the public good, record of said decisions ought to be publicly available.To the effect of the stated concerns, the governance committee ought to be adopted into the city charter subject to a vote by the common council.The draft policy attempts to cast a broad net over the institutions subject to it. Stated in the document, the policy “will apply to any City department, office, administrative unit, commission, board, advisory committee or other division/department of the City government including the records of third-party agency contractors that create or acquire information, records, or data on behalf of a City division/department.”Reading the draft, it is unclear as to the policy’s applicability to quasi-governmental agencies such as public benefit corporations, e.g. Buffalo Urban Renewal Agency, Buffalo Urban Development Agency, and the Buffalo Municipal Housing Authority. A small language tweak could incorporate such entities under the scope of the draft policy.Open data is a strong tool for open and transparent government. However, open data is only one of many tools regarding open government. FOIL is another tool that can help to move governments towards transparency and accountability. However, the state of FOIL in Buffalo is dismal. The shortcomings of the City of Buffalo as it pertains to FOIL have been well reported in the press. City departments routinely disregard the law as it relates to FOIL. In this author's experience, above 90% of FOIL requests submitted are not responded to with the requested documentation, or an agency determination explaining why such documents are not available.An open data policy cannot be the sole remedy for city officials unwillingness to follow the law. However, it can take steps toward holding those officials accountable. Inclusion into the draft policy of a centralized system for submitting, tracking, and responding to FOIL requests would be an incredible step forward. Such a measure would provide residents and city officials with an effective way to manage requests and comply with the relevant statutes. When conflict over FOIL requests do arise, the conflict would be publicly available and documented. Such a system would prevent FOIL requests from getting lost inside civic bureaucracy due to malfeasance or human error.The advancement of Open Data in Buffalo is an important step. I applaud the Division of Citizen Services for being forward thinking in this regard. That being said, the comments provided here ought not be seen as window dressing to the draft policy. These comments speak to structural concerns of strengthening democracy. The nature of power and human institutions is that they change over time. I hope that these comments are able to extended the drafted policy such that when institutions change the effect and intentions of the draft Buffalo Open Data Policy do not.\",\n",
       "  \"<p>My comments are rather lengthy. In addition to the comments below I've provided a copy inside a google doc. http://bit.ly/BuffaloOpenDataComments</p><p>I commend Oswaldo Mestre and Kirk McLean for putting forward a draft Open Data Policy. Such policies work to make Buffalo government more effective, transparent, accountable, and responsive. This draft document is an important step forward. With all aspects of government we ought to strive for continual improvement. As improvement pertains to the draft Open Data Policy, I hope you find these suggestions amenable.</p><p>The draft policy establishes an “Open Data Governance Committee”. As the committee currently stands, oversight and implementation is held entirely within the executive branch of city government. Given that the data provided would primarily originate from the executive branch, it is sensible to seek its representation. However, in the spirit of an open democratic society, the policy ought to seek independence and accountability through checks and balances from other institutions.</p><p>The stated purpose of the policy, “creates value for residents, government leaders, businesses, researchers, and the media. ” With the exception of government leaders, none of these groups appear to be formally required by the draft policy.  The policy ought to move the governance committee to include these stated groups.</p><p>In creating an independent governance committee, the policy ought to seek representation from co-equal branches of government, e.g. the Common Council and City Comptroller. Ensuring appointment via other branches would go a long way toward promoting the Open Data Governance Committee as an independent body.</p><p>Additionally, the structure of the committee ought to ensure that those appointed to the committee via the executive branch do not hold an automatic majority of voting eligible members. Seeking the “input” of the public is perhaps the lowest form of democracy. Input can be trivial, power is not.</p><p>The draft policy does not specify how decisions made by the governance committee are to be made public. In ensuring that the governance committee is making decisions for the public good, record of said decisions ought to be publicly available.</p><p>To the effect of the stated concerns, the governance committee ought to be adopted into the city charter subject to a vote by the common council.</p><p>The draft policy attempts to cast a broad net over the institutions subject to it. Stated in the document, the policy “will apply to any City department, office, administrative unit, commission, board, advisory committee or other division/department of the City government including the records of third-party agency contractors that create or acquire information, records, or data on behalf of a City division/department.”</p><p>Reading the draft, it is unclear as to the policy’s applicability to quasi-governmental agencies such as public benefit corporations, e.g. Buffalo Urban Renewal Agency, Buffalo Urban Development Agency, and the Buffalo Municipal Housing Authority. A small language tweak could incorporate such entities under the scope of the draft policy.</p><p>Open data is a strong tool for open and transparent government. However, open data is only one of many tools regarding open government. FOIL is another tool that can help to move governments towards transparency and accountability. However, the state of FOIL in Buffalo is dismal. The shortcomings of the City of Buffalo as it pertains to FOIL have been well reported in the press. City departments routinely disregard the law as it relates to FOIL. In this author's experience, above 90% of FOIL requests submitted are not responded to with the requested documentation, or an agency determination explaining why such documents are not available.</p><p>An open data policy cannot be the sole remedy for city officials unwillingness to follow the law. However, it can take steps toward holding those officials accountable. Inclusion into the draft policy of a centralized system for submitting, tracking, and responding to FOIL requests would be an incredible step forward. Such a measure would provide residents and city officials with an effective way to manage requests and comply with the relevant statutes. When conflict over FOIL requests do arise, the conflict would be publicly available and documented. Such a system would prevent FOIL requests from getting lost inside civic bureaucracy due to malfeasance or human error.</p><p>The advancement of Open Data in Buffalo is an important step. I applaud the Division of Citizen Services for being forward thinking in this regard. That being said, the comments provided here ought not be seen as window dressing to the draft policy. These comments speak to structural concerns of strengthening democracy. The nature of power and human institutions is that they change over time. I hope that these comments are able to extended the drafted policy such that when institutions change the effect and intentions of the draft Buffalo Open Data Policy do not.</p>\",\n",
       "  []],\n",
       " 36: ['E4-XFhoon1M',\n",
       "  'Aaron Krolikowski',\n",
       "  '2017-01-23 00:06:24',\n",
       "  '2',\n",
       "  'Chief Information Officer',\n",
       "  'Does this position currently exist in City Hall? If not, who would take on this role?',\n",
       "  '<p>Does this position currently exist in City Hall? If not, who would take on this role?</p>',\n",
       "  []],\n",
       " 37: ['E4-XFhm5jkk',\n",
       "  'Aaron Krolikowski',\n",
       "  '2017-01-23 00:03:19',\n",
       "  '0',\n",
       "  'periodically update the data based on internal and external needs',\n",
       "  'It may be useful to have a participatory aspect that prioritizes data updates/releases based on demand (e.g. a certain number of requests triggers an update/response).',\n",
       "  '<p>It may be useful to have a participatory aspect that prioritizes data updates/releases based on demand (e.g. a certain number of requests triggers an update/response).</p>',\n",
       "  ['E4-XFhsh73Q']],\n",
       " 38: ['E4-XFhfeo5c',\n",
       "  'Christopher Fagiani',\n",
       "  '2017-01-20 14:46:31',\n",
       "  '2',\n",
       "  'Develop and implement a process for prioritizing the release of datasets',\n",
       "  'Perhaps a section of the central repository should host all the data that was released in response to FOIL requests. It would provide wider access to this data and could serve as a means to solicit public feedback on the relative priority of establishing a more formal release of the dataset (with relevant metadata and scheduled refreshes of the data).',\n",
       "  '<p>Perhaps a section of the central repository should host all the data that was released in response to FOIL requests. It would provide wider access to this data and could serve as a means to solicit public feedback on the relative priority of establishing a more formal release of the dataset (with relevant metadata and scheduled refreshes of the data).</p>',\n",
       "  []],\n",
       " 39: ['E4-XFg5jX48',\n",
       "  'Joseph Ghosen',\n",
       "  '2017-01-19 13:14:53',\n",
       "  '4',\n",
       "  'metadata',\n",
       "  'Metadata is the key to making sure that the data is used correctly and enables the data to be used in as many different (yet appropriate) ways possible.',\n",
       "  '<p>Metadata is the key to making sure that the data is used correctly and enables the data to be used in as many different (yet appropriate) ways possible.</p>',\n",
       "  ['E4-XFhkrg2M', 'E4-XFh56vbw']],\n",
       " 40: ['E4-XFgz1dbw',\n",
       "  'K M',\n",
       "  '2017-01-18 21:10:17',\n",
       "  '2',\n",
       "  None,\n",
       "  \"I support the effort to make data accessible to the public. The NYC Open Data portal is a good example of an existing resource with a similar intention. I recommend including environmental and geographic data in the form of GIS shapefiles which can be downloaded, as opposed to 'view-only' results or more traditional pdf or Excel files. I also recommend partnering with local higher education entities, such as the University at Buffalo, to provide research data in additional to official City of Buffalo owned/managed data.\",\n",
       "  \"<p>I support the effort to make data accessible to the public. The NYC Open Data portal is a good example of an existing resource with a similar intention. I recommend including environmental and geographic data in the form of GIS shapefiles which can be downloaded, as opposed to 'view-only' results or more traditional pdf or Excel files. I also recommend partnering with local higher education entities, such as the University at Buffalo, to provide research data in additional to official City of Buffalo owned/managed data.</p>\",\n",
       "  []],\n",
       " 41: ['E4-XFghnJBc',\n",
       "  'Aubrey Hlavaty',\n",
       "  '2017-01-17 14:15:17',\n",
       "  '0',\n",
       "  None,\n",
       "  \"I am 100% supportive of open data and anything that improves citizen participation, however I opposed this document as it seems the Mayor implementing his own Open Data is a waste of funds and a duplication of efforts since this already exists for the City of Buffalo with the Comptroller's Open Book.  If the purpose of this document is to have one centralized location for citizens to access data, it seems the Mayor should work to promote the Open Book and any expansion of data be incorporated into that site.\",\n",
       "  \"<p>I am 100% supportive of open data and anything that improves citizen participation, however I opposed this document as it seems the Mayor implementing his own Open Data is a waste of funds and a duplication of efforts since this already exists for the City of Buffalo with the Comptroller's Open Book.  If the purpose of this document is to have one centralized location for citizens to access data, it seems the Mayor should work to promote the Open Book and any expansion of data be incorporated into that site.</p>\",\n",
       "  ['E4-XFgi7irs', 'E4-XFgm8f0U', 'E4-XFgo3uV8']],\n",
       " 42: ['E4-XFf-m2wA',\n",
       "  'Andrew Nicklin',\n",
       "  '2017-01-17 03:14:58',\n",
       "  '0',\n",
       "  'technology-related',\n",
       "  '',\n",
       "  '',\n",
       "  ['E4-XFgDYxb8']],\n",
       " 43: ['E4-XFfnX5f0',\n",
       "  'Andrew Nicklin',\n",
       "  '2017-01-17 03:12:08',\n",
       "  '0',\n",
       "  'and',\n",
       "  'City departments, and',\n",
       "  '<p>City departments, and</p>',\n",
       "  ['E4-XFf8xbFs']],\n",
       " 44: ['E4-XFfjumrA',\n",
       "  'Andrew Nicklin',\n",
       "  '2017-01-17 03:10:01',\n",
       "  '0',\n",
       "  'Ensure sufficient funding',\n",
       "  \"What authority does the Open Data Governance Committee have to do this? Does it derive from one or more specific members of the committee? The paragraph above which describes the membership doesn't specifically designate someone which has budget authority. Ideally this policy should address that concern somehow.\",\n",
       "  \"<p>What authority does the Open Data Governance Committee have to do this? Does it derive from one or more specific members of the committee? The paragraph above which describes the membership doesn't specifically designate someone which has budget authority. Ideally this policy should address that concern somehow.</p>\",\n",
       "  []],\n",
       " 45: ['E4-XFfNRF_M',\n",
       "  'Andrew Nicklin',\n",
       "  '2017-01-17 03:05:56',\n",
       "  '0',\n",
       "  'Ensure that published datasets are available for bulk download;',\n",
       "  'this seems like an unnecessary distinction which is covered by other language. Is the idea here to say that using an application programming interface (API) to access data is not sufficient?',\n",
       "  '<p>this seems like an unnecessary distinction which is covered by other language. Is the idea here to say that using an application programming interface (API) to access data is not sufficient?</p>',\n",
       "  ['E4-XFjU1PiQ']],\n",
       " 46: ['E4-XFfET0X4',\n",
       "  'Andrew Nicklin',\n",
       "  '2017-01-17 03:03:41',\n",
       "  '0',\n",
       "  'policy concerns',\n",
       "  'risks to the public',\n",
       "  '<p>risks to the public</p>',\n",
       "  ['E4-XFfIhTHE']],\n",
       " 47: ['E4-XFfAkpkI',\n",
       "  'Andrew Nicklin',\n",
       "  '2017-01-17 03:01:10',\n",
       "  '0',\n",
       "  'Develop and oversee a routinely updated, publicly accessible timeline for new dataset publication;',\n",
       "  'This can probably be combined with #1',\n",
       "  '<p>This can probably be combined with #1</p>',\n",
       "  []],\n",
       " 48: ['E4-XFe7hjYs',\n",
       "  'Andrew Nicklin',\n",
       "  '2017-01-17 02:59:19',\n",
       "  '1',\n",
       "  'is',\n",
       "  'is or will be',\n",
       "  '<p>is or will be</p>',\n",
       "  ['E4-XFe_YcM8', 'E4-XFgFMLWA', 'E4-XFgfoN6c', 'E4-XFjTOawc', 'E4-XFmh4h-w']],\n",
       " 49: ['E4-XFe4h4Dg',\n",
       "  'Andrew Nicklin',\n",
       "  '2017-01-17 02:56:54',\n",
       "  '1',\n",
       "  'including the records of third-party agency contractors that create or acquire information, records, or data on behalf of a City division/department',\n",
       "  'this is amazing. Very important.',\n",
       "  '<p>this is amazing. Very important.</p>',\n",
       "  ['E4-XFhzeuLI', 'E4-XFh74V00', 'E4-XFibN984', 'E4-XFmJKCdI']],\n",
       " 50: ['E4-XFesw1OU',\n",
       "  'Andrew Nicklin',\n",
       "  '2017-01-17 02:51:48',\n",
       "  '0',\n",
       "  'protected',\n",
       "  'protected information',\n",
       "  '<p>protected information</p>',\n",
       "  ['E4-XFexnyeI']],\n",
       " 51: ['E4-XFepJkRo',\n",
       "  'Andrew Nicklin',\n",
       "  '2017-01-17 02:49:03',\n",
       "  '0',\n",
       "  'no legal encumbrances on use or reuse',\n",
       "  \"If limiting the City's liability for how the data is used is considered a legal encumbrance then this phrase should be removed or modified. It's also conceivable you want Terms & Conditions on your open data which prohibit the use of data when committing a crime, etc.\",\n",
       "  \"<p>If limiting the City's liability for how the data is used is considered a legal encumbrance then this phrase should be removed or modified. It's also conceivable you want Terms &amp; Conditions on your open data which prohibit the use of data when committing a crime, etc.</p>\",\n",
       "  ['E4-XFinM1no']],\n",
       " 52: ['E4-XFejDm0g',\n",
       "  'Andrew Nicklin',\n",
       "  '2017-01-17 02:46:43',\n",
       "  '0',\n",
       "  'non-privileged and non-confidential',\n",
       "  '',\n",
       "  '',\n",
       "  ['E4-XFem9An4']],\n",
       " 53: ['E4-XFegTzKs',\n",
       "  'Chris Slocum',\n",
       "  '2017-01-17 02:36:52',\n",
       "  '2',\n",
       "  None,\n",
       "  \"The City of Buffalo is to be commended for taking steps to move towards normalizing the sharing of data with the public. As a researcher in the non-profits, I see this as a tool to better serve my city. As a resident, I'm excited to see more transparency.Comments:\\n-The Open Data Governance Board should also include residents of the City of Buffalo with technical expertise in data management or interest in government transparency. These should be people who apply to it (and maybe the government members vote?) as opposed to being appointed. There are some tips on engaging the civic tech community here: https://www.civichacking.guide though there are likely interested parties outside that community. However it’s structured, it should be as a dialog with city residents.-I agree with Aaron that the source code of the open data tools should be available.-I’d recommend a citizen-heavy deliberative democracy process (think participatory budgeting without the budget) to figure out some of the specifics of what to release and how often. I suspect that most residents of the city, including myself, don’t know what is available. Della Rucker, an economic development consultant based in Akron, suggests that when such processes are engaged, inform all parties of limitations and that can often lead to better outcomes.-Would there be a listserv announcing new releases, the way that HUD or the Census does?-My employer manages a client-level database that has input from over 100 users. We've found that if you do not enforce strict requirements of timeliness, data quality suffers as it becomes perpetually delayed. Since there were no explicit timelines mentioned here (our requirement is that data needs to be entered within 72 hours of the event), I worry this very valuable effort could suffer from similar backburner issues.Thank you for sharing this with the public for feedback! I thought this was a really useful format!\",\n",
       "  \"<p>The City of Buffalo is to be commended for taking steps to move towards normalizing the sharing of data with the public. As a researcher in the non-profits, I see this as a tool to better serve my city. As a resident, I'm excited to see more transparency.</p><p>Comments:\\n-The Open Data Governance Board should also include residents of the City of Buffalo with technical expertise in data management or interest in government transparency. These should be people who apply to it (and maybe the government members vote?) as opposed to being appointed. There are some tips on engaging the civic tech community here: https://www.civichacking.guide though there are likely interested parties outside that community. However it’s structured, it should be as a dialog with city residents.</p><p>-I agree with Aaron that the source code of the open data tools should be available.</p><p>-I’d recommend a citizen-heavy deliberative democracy process (think participatory budgeting without the budget) to figure out some of the specifics of what to release and how often. I suspect that most residents of the city, including myself, don’t know what is available. Della Rucker, an economic development consultant based in Akron, suggests that when such processes are engaged, inform all parties of limitations and that can often lead to better outcomes.</p><p>-Would there be a listserv announcing new releases, the way that HUD or the Census does?</p><p>-My employer manages a client-level database that has input from over 100 users. We've found that if you do not enforce strict requirements of timeliness, data quality suffers as it becomes perpetually delayed. Since there were no explicit timelines mentioned here (our requirement is that data needs to be entered within 72 hours of the event), I worry this very valuable effort could suffer from similar backburner issues.</p><p>Thank you for sharing this with the public for feedback! I thought this was a really useful format!</p>\",\n",
       "  ['E4-XFg00otE']],\n",
       " 54: ['E4-XFefZllI',\n",
       "  'Chris Slocum',\n",
       "  '2017-01-17 02:11:53',\n",
       "  '0',\n",
       "  'may deny access pursuant to applicable privileges',\n",
       "  'What exactly are examples of \"applicable privileges\"?',\n",
       "  '<p>What exactly are examples of \"applicable privileges\"?</p>',\n",
       "  ['E4-XFeyR0XY', 'E4-XFmDfFMo']],\n",
       " 55: ['E4-XFeauO2Q',\n",
       "  'Chris Slocum',\n",
       "  '2017-01-17 02:09:14',\n",
       "  '1',\n",
       "  'Maintain an open data portal that provides a central location for published City data',\n",
       "  'A central location is a good idea, IMHO',\n",
       "  '<p>A central location is a good idea, IMHO</p>',\n",
       "  ['E4-XFe2EPUI', 'E4-XFgWX6pU', 'E4-XFgo3z-w', 'E4-XFi_xdyQ']],\n",
       " 56: ['E4-XFeYAFQQ',\n",
       "  'Chris Slocum',\n",
       "  '2017-01-17 02:08:41',\n",
       "  '1',\n",
       "  'Ensure that access to restricted data is blocked,',\n",
       "  'There should be a publicly available list of what is blocked and why. Having this list facilitates transparency and understanding of how the government operates.',\n",
       "  '<p>There should be a publicly available list of what is blocked and why. Having this list facilitates transparency and understanding of how the government operates.</p>',\n",
       "  []],\n",
       " 57: ['E4-XFeUhjKI',\n",
       "  'Chris Slocum',\n",
       "  '2017-01-17 02:07:10',\n",
       "  '0',\n",
       "  'Set appropriately ambitious, clear, and firm timelines for implementation',\n",
       "  'Since this is a service to the residents of Buffalo, there should be resident participation in the governance committee as there may be dis-concordance between what residents and city employees consider \"appropriately ambitious\".',\n",
       "  '<p>Since this is a service to the residents of Buffalo, there should be resident participation in the governance committee as there may be dis-concordance between what residents and city employees consider \"appropriately ambitious\".</p>',\n",
       "  []],\n",
       " 58: ['E4-XFeQv5eo',\n",
       "  'Chris Slocum',\n",
       "  '2017-01-17 02:01:09',\n",
       "  '0',\n",
       "  'Provide for a future means of digitizing archived material that was in existence prior to the development of the Open Data Program;',\n",
       "  'That would be super helpful :)',\n",
       "  '<p>That would be super helpful :)</p>',\n",
       "  ['E4-XFfO0BWs']],\n",
       " 59: ['E4-XFdrDHn0',\n",
       "  'Chris Slocum',\n",
       "  '2017-01-17 02:00:47',\n",
       "  '0',\n",
       "  'remove any data that represents policy concerns',\n",
       "  \"To be honest, I'm not entirely certain what this is trying to say.\",\n",
       "  \"<p>To be honest, I'm not entirely certain what this is trying to say.</p>\",\n",
       "  ['E4-XFgvUNiI']],\n",
       " 60: ['E4-XFdoQYDI',\n",
       "  'Chris Slocum',\n",
       "  '2017-01-17 01:58:17',\n",
       "  '1',\n",
       "  'periodically update the data based on internal and external needs; serve on the Open Data Governance Committee; upon request, meet with the Open Data Governance Committee to discuss any matter pertaining to implementation of this Order; and assist in the preparation of the annual open data compliance report.',\n",
       "  'Would this liaison be the contact person if a dataset user (ie a student doing a project or a researcher) had questions about the set?',\n",
       "  '<p>Would this liaison be the contact person if a dataset user (ie a student doing a project or a researcher) had questions about the set?</p>',\n",
       "  ['E4-XFgdO3sI']],\n",
       " 61: ['E4-XFdluE0k',\n",
       "  'Chris Slocum',\n",
       "  '2017-01-17 01:57:24',\n",
       "  '1',\n",
       "  'and will include input from the public.',\n",
       "  'I would recommend that it include members of the public with technical expertise and interest in publicly available data sets too instead of just receiving input.',\n",
       "  '<p>I would recommend that it include members of the public with technical expertise and interest in publicly available data sets too instead of just receiving input.</p>',\n",
       "  ['E4-XFgxVEIo', 'E4-XFjM-IPc', 'E4-XFjRXG5k', 'E4-XFnIVufQ']],\n",
       " 62: ['E4-XFdjQ768',\n",
       "  'Chris Slocum',\n",
       "  '2017-01-17 01:55:54',\n",
       "  '0',\n",
       "  'that datasets are reviewed',\n",
       "  'By whom? Who has the last say for that and how would they be held accountable to the public?',\n",
       "  '<p>By whom? Who has the last say for that and how would they be held accountable to the public?</p>',\n",
       "  []],\n",
       " 63: ['E4-XFdewXVE',\n",
       "  'Chris Slocum',\n",
       "  '2017-01-17 01:55:16',\n",
       "  '0',\n",
       "  \"Develop and implement a process for prioritizing the release of datasets to the Open Data Portal which takes into account new and existing signals of interest from the public (such as the frequency of FOIL requests), the City's programmatic priorities, existing opportunities for data use in the public interest, and cost;\",\n",
       "  'Maybe you should utilize a deliberative democratic process (like participatory budgeting, only without a budget as the end goal and maybe a bit briefer) to encourage public engagement?',\n",
       "  '<p>Maybe you should utilize a deliberative democratic process (like participatory budgeting, only without a budget as the end goal and maybe a bit briefer) to encourage public engagement?</p>',\n",
       "  []],\n",
       " 64: ['E4-XFdSnuq4',\n",
       "  'Aaron Couch',\n",
       "  '2017-01-10 20:34:57',\n",
       "  '5',\n",
       "  None,\n",
       "  'This document fails to require the sharing of the source code of the open data tools. \"Require Code Sharing Or Publishing Open Source\" is a recommendation of Sunlight Foundation https://sunlightfoundation.com/opendataguidelines/#open-code . Sharing the source code allows citizens to help contribute to the tools making the data public, allows citizens access to the tools for which they are paying, and allows other government agencies as well citizens to benefit from improvements made on behalf of Buffalo.',\n",
       "  '<p>This document fails to require the sharing of the source code of the open data tools. \"Require Code Sharing Or Publishing Open Source\" is a recommendation of Sunlight Foundation https://sunlightfoundation.com/opendataguidelines/#open-code . Sharing the source code allows citizens to help contribute to the tools making the data public, allows citizens access to the tools for which they are paying, and allows other government agencies as well citizens to benefit from improvements made on behalf of Buffalo.</p>',\n",
       "  ['E4-XFdZ0cyg']],\n",
       " 65: ['E4-XFdRYO5A',\n",
       "  'Kirk McLean',\n",
       "  '2017-01-09 15:00:58',\n",
       "  '1',\n",
       "  None,\n",
       "  'Welcome to the City of Buffalo’s public comment period on the Mayor’s draft Open Data policy. We’re looking forward to your feedback strengthening the governing document for our new Open Data program, which will make publishable City data more accessible to the public. After a brief and simple sign up, you’ll be able to do five things on the OpenGov Foundation’s Madison Project platform: read the document; let us know whether you support or oppose the document; leave a comment on the policy or open data, in general; highlight a bit of text and leave a note on that specific text; and respond to other people’s notes, starting a dialogue about a specific passage.Feel free to also leave a comment about what datasets you’d like to see the city publish in the future.The public comment period will be open from January 10th to 24th.Thank you for participating.',\n",
       "  '<p>Welcome to the City of Buffalo’s public comment period on the Mayor’s draft Open Data policy. We’re looking forward to your feedback strengthening the governing document for our new Open Data program, which will make publishable City data more accessible to the public. After a brief and simple sign up, you’ll be able to do five things on the OpenGov Foundation’s Madison Project platform: read the document; let us know whether you support or oppose the document; leave a comment on the policy or open data, in general; highlight a bit of text and leave a note on that specific text; and respond to other people’s notes, starting a dialogue about a specific passage.</p><p>Feel free to also leave a comment about what datasets you’d like to see the city publish in the future.</p><p>The public comment period will be open from January 10th to 24th.</p><p>Thank you for participating.</p>',\n",
       "  []],\n",
       " 66: ['E4-XFdOerxU',\n",
       "  'Kirk McLean',\n",
       "  '2017-01-09 14:59:49',\n",
       "  '0',\n",
       "  'City of Buffalo Open Data Policy',\n",
       "  'Welcome to the City of Buffalo’s public comment period on the Mayor’s draft Open Data policy. We’re looking forward to your feedback strengthening the governing document for our new Open Data program, which will make publishable City data more accessible to the public. After a brief and simple sign up, you’ll be able to do five things on the OpenGov Foundation’s Madison Project platform: read the document; let us know whether you support or oppose the document; leave a comment on the policy or open data, in general; highlight a bit of text and leave a note on that specific text; and respond to other people’s notes, starting a dialogue about a specific passage.\\nFeel free to also leave a comment about what datasets you’d like to see the city publish in the future.\\nThe public comment period will be open from January 10th to 24th.\\nThank you for participating.',\n",
       "  '<p>Welcome to the City of Buffalo’s public comment period on the Mayor’s draft Open Data policy. We’re looking forward to your feedback strengthening the governing document for our new Open Data program, which will make publishable City data more accessible to the public. After a brief and simple sign up, you’ll be able to do five things on the OpenGov Foundation’s Madison Project platform: read the document; let us know whether you support or oppose the document; leave a comment on the policy or open data, in general; highlight a bit of text and leave a note on that specific text; and respond to other people’s notes, starting a dialogue about a specific passage.\\nFeel free to also leave a comment about what datasets you’d like to see the city publish in the future.\\nThe public comment period will be open from January 10th to 24th.\\nThank you for participating.</p>',\n",
       "  []]}"
      ]
     },
     "execution_count": 6,
     "metadata": {},
     "output_type": "execute_result"
    }
   ],
   "source": [
    "#scrape_all_pages(starting_url)"
   ]
  },
  {
   "cell_type": "markdown",
   "metadata": {},
   "source": [
    " "
   ]
  },
  {
   "cell_type": "markdown",
   "metadata": {},
   "source": [
    "# Analysis"
   ]
  },
  {
   "cell_type": "markdown",
   "metadata": {},
   "source": [
    "# 1.1) Most common words used"
   ]
  },
  {
   "cell_type": "markdown",
   "metadata": {},
   "source": [
    "## a) most common words in quoted texts (policy sections)"
   ]
  },
  {
   "cell_type": "markdown",
   "metadata": {},
   "source": [
    "### for all the cities combined\n"
   ]
  },
  {
   "cell_type": "code",
   "execution_count": 261,
   "metadata": {},
   "outputs": [
    {
     "data": {
      "image/png": "[encoded data removed]",
      "text/plain": [
       "<matplotlib.figure.Figure at 0x117978128>"
      ]
     },
     "metadata": {},
     "output_type": "display_data"
    },
    {
     "data": {
      "text/plain": [
       "(             word  quoted_text_count\n",
       " 0            data                 49\n",
       " 1            open                 27\n",
       " 2            city                 22\n",
       " 3          public                 20\n",
       " 4     information                 16\n",
       " 5        datasets                 11\n",
       " 6       published                  8\n",
       " 7       protected                  7\n",
       " 8          policy                  7\n",
       " 9       sensitive                  6\n",
       " 10         agency                  6\n",
       " 11         ensure                  5\n",
       " 12      committee                  5\n",
       " 13            new                  5\n",
       " 14     governance                  5\n",
       " 15        dataset                  5\n",
       " 16  participation                  5\n",
       " 17      including                  5\n",
       " 18   restrictions                  4\n",
       " 19         behalf                  4, None)"
      ]
     },
     "execution_count": 261,
     "metadata": {},
     "output_type": "execute_result"
    }
   ],
   "source": [
    "common_words_quoted_texts(\"quoted_text\", \"All cities\", all_cities_dataframe, 20, \"both\")"
   ]
  },
  {
   "cell_type": "markdown",
   "metadata": {},
   "source": [
    " "
   ]
  },
  {
   "cell_type": "markdown",
   "metadata": {},
   "source": [
    "## b) most common words in actual comments"
   ]
  },
  {
   "cell_type": "markdown",
   "metadata": {},
   "source": [
    "### for all the cities combined\n"
   ]
  },
  {
   "cell_type": "code",
   "execution_count": 263,
   "metadata": {},
   "outputs": [
    {
     "data": {
      "image/png": "[encoded data removed]",
      "text/plain": [
       "<matplotlib.figure.Figure at 0x11754c240>"
      ]
     },
     "metadata": {},
     "output_type": "display_data"
    },
    {
     "data": {
      "text/plain": [
       "(            word  quoted_text_count\n",
       " 0           data                207\n",
       " 1           open                100\n",
       " 2           city                 82\n",
       " 3         public                 60\n",
       " 4             ``                 58\n",
       " 5             ''                 58\n",
       " 6         policy                 57\n",
       " 7          would                 50\n",
       " 8    information                 44\n",
       " 9        buffalo                 42\n",
       " 10    government                 31\n",
       " 11       process                 25\n",
       " 12  transparency                 22\n",
       " 13     committee                 21\n",
       " 14      document                 21\n",
       " 15       support                 20\n",
       " 16          also                 19\n",
       " 17       include                 19\n",
       " 18     community                 19\n",
       " 19      requests                 18, None)"
      ]
     },
     "execution_count": 263,
     "metadata": {},
     "output_type": "execute_result"
    }
   ],
   "source": [
    "common_words_quoted_texts(\"comment_text\", \"All cities\", all_cities_dataframe, 20, \"both\")"
   ]
  },
  {
   "cell_type": "markdown",
   "metadata": {},
   "source": [
    "# 1.2) compare quoted-word frequency with in-the-whole-policy word frequency"
   ]
  },
  {
   "cell_type": "markdown",
   "metadata": {},
   "source": [
    "### for all cities"
   ]
  },
  {
   "cell_type": "code",
   "execution_count": 276,
   "metadata": {},
   "outputs": [
    {
     "ename": "NameError",
     "evalue": "name 'double_line_graph' is not defined",
     "output_type": "error",
     "traceback": [
      "\u001b[0;31m---------------------------------------------------------------------------\u001b[0m",
      "\u001b[0;31mNameError\u001b[0m                                 Traceback (most recent call last)",
      "\u001b[0;32m<ipython-input-276-f7c0b06c6423>\u001b[0m in \u001b[0;36m<module>\u001b[0;34m()\u001b[0m\n\u001b[0;32m----> 1\u001b[0;31m \u001b[0mratio_quoted_freq_with_policy_freq\u001b[0m\u001b[0;34m(\u001b[0m\u001b[0;34m\"quoted_text\"\u001b[0m\u001b[0;34m,\u001b[0m \u001b[0;34m\"All cities\"\u001b[0m\u001b[0;34m,\u001b[0m \u001b[0mall_cities_dataframe\u001b[0m\u001b[0;34m,\u001b[0m \u001b[0;36m20\u001b[0m\u001b[0;34m,\u001b[0m \u001b[0mfull_policy_text\u001b[0m\u001b[0;34m,\u001b[0m \u001b[0;34m\"single\"\u001b[0m\u001b[0;34m)\u001b[0m\u001b[0;34m\u001b[0m\u001b[0m\n\u001b[0m",
      "\u001b[0;32m~/Desktop/Sunlight_Foundation_Summer_2017/Project on comment scraping/comment_crawler_analysis.py\u001b[0m in \u001b[0;36mratio_quoted_freq_with_policy_freq\u001b[0;34m(type_of_text, city_name, city_dictionary, common_words_limit, policy_text, option)\u001b[0m\n\u001b[1;32m     64\u001b[0m     \u001b[0my2\u001b[0m \u001b[0;34m=\u001b[0m \u001b[0mdict_to_pd_2\u001b[0m\u001b[0;34m[\u001b[0m\u001b[0;34m'quoted_text_count'\u001b[0m\u001b[0;34m]\u001b[0m\u001b[0;34m.\u001b[0m\u001b[0mtolist\u001b[0m\u001b[0;34m(\u001b[0m\u001b[0;34m)\u001b[0m\u001b[0;34m\u001b[0m\u001b[0m\n\u001b[1;32m     65\u001b[0m     \u001b[0mlabels\u001b[0m \u001b[0;34m=\u001b[0m \u001b[0;34m(\u001b[0m\u001b[0;34m'policy text freq'\u001b[0m\u001b[0;34m,\u001b[0m \u001b[0;34m'quoted text freq'\u001b[0m\u001b[0;34m)\u001b[0m\u001b[0;34m\u001b[0m\u001b[0m\n\u001b[0;32m---> 66\u001b[0;31m     \u001b[0mdouble_line_graph\u001b[0m\u001b[0;34m(\u001b[0m\u001b[0mmy_xticks\u001b[0m\u001b[0;34m,\u001b[0m \u001b[0my1\u001b[0m\u001b[0;34m,\u001b[0m \u001b[0my2\u001b[0m\u001b[0;34m,\u001b[0m \u001b[0mlabels\u001b[0m\u001b[0;34m,\u001b[0m \u001b[0mcity_name\u001b[0m\u001b[0;34m)\u001b[0m\u001b[0;34m\u001b[0m\u001b[0m\n\u001b[0m\u001b[1;32m     67\u001b[0m     \u001b[0;32mreturn\u001b[0m \u001b[0mdict_to_pd_2\u001b[0m\u001b[0;34m\u001b[0m\u001b[0m\n\u001b[1;32m     68\u001b[0m \u001b[0;34m\u001b[0m\u001b[0m\n",
      "\u001b[0;31mNameError\u001b[0m: name 'double_line_graph' is not defined"
     ]
    }
   ],
   "source": [
    "ratio_quoted_freq_with_policy_freq(\"quoted_text\", \"All cities\", all_cities_dataframe, 20, full_policy_text, \"single\")"
   ]
  },
  {
   "cell_type": "markdown",
   "metadata": {},
   "source": [
    "### for each individual city"
   ]
  },
  {
   "cell_type": "code",
   "execution_count": 277,
   "metadata": {},
   "outputs": [
    {
     "ename": "NameError",
     "evalue": "name 'double_line_graph' is not defined",
     "output_type": "error",
     "traceback": [
      "\u001b[0;31m---------------------------------------------------------------------------\u001b[0m",
      "\u001b[0;31mNameError\u001b[0m                                 Traceback (most recent call last)",
      "\u001b[0;32m<ipython-input-277-f0d48df89885>\u001b[0m in \u001b[0;36m<module>\u001b[0;34m()\u001b[0m\n\u001b[1;32m      1\u001b[0m \u001b[0;32mfor\u001b[0m \u001b[0mname\u001b[0m\u001b[0;34m,\u001b[0m \u001b[0mcity\u001b[0m\u001b[0;34m,\u001b[0m \u001b[0mpolicy_text\u001b[0m \u001b[0;32min\u001b[0m \u001b[0mall_madison_dfs\u001b[0m\u001b[0;34m:\u001b[0m\u001b[0;34m\u001b[0m\u001b[0m\n\u001b[0;32m----> 2\u001b[0;31m     \u001b[0mratio_quoted_freq_with_policy_freq\u001b[0m\u001b[0;34m(\u001b[0m\u001b[0;34m\"quoted_text\"\u001b[0m\u001b[0;34m,\u001b[0m \u001b[0mname\u001b[0m\u001b[0;34m,\u001b[0m \u001b[0mcity\u001b[0m\u001b[0;34m,\u001b[0m \u001b[0;36m20\u001b[0m\u001b[0;34m,\u001b[0m \u001b[0mpolicy_text\u001b[0m\u001b[0;34m,\u001b[0m \u001b[0;34m\"single\"\u001b[0m\u001b[0;34m)\u001b[0m\u001b[0;34m\u001b[0m\u001b[0m\n\u001b[0m",
      "\u001b[0;32m~/Desktop/Sunlight_Foundation_Summer_2017/Project on comment scraping/comment_crawler_analysis.py\u001b[0m in \u001b[0;36mratio_quoted_freq_with_policy_freq\u001b[0;34m(type_of_text, city_name, city_dictionary, common_words_limit, policy_text, option)\u001b[0m\n\u001b[1;32m     64\u001b[0m     \u001b[0my2\u001b[0m \u001b[0;34m=\u001b[0m \u001b[0mdict_to_pd_2\u001b[0m\u001b[0;34m[\u001b[0m\u001b[0;34m'quoted_text_count'\u001b[0m\u001b[0;34m]\u001b[0m\u001b[0;34m.\u001b[0m\u001b[0mtolist\u001b[0m\u001b[0;34m(\u001b[0m\u001b[0;34m)\u001b[0m\u001b[0;34m\u001b[0m\u001b[0m\n\u001b[1;32m     65\u001b[0m     \u001b[0mlabels\u001b[0m \u001b[0;34m=\u001b[0m \u001b[0;34m(\u001b[0m\u001b[0;34m'policy text freq'\u001b[0m\u001b[0;34m,\u001b[0m \u001b[0;34m'quoted text freq'\u001b[0m\u001b[0;34m)\u001b[0m\u001b[0;34m\u001b[0m\u001b[0m\n\u001b[0;32m---> 66\u001b[0;31m     \u001b[0mdouble_line_graph\u001b[0m\u001b[0;34m(\u001b[0m\u001b[0mmy_xticks\u001b[0m\u001b[0;34m,\u001b[0m \u001b[0my1\u001b[0m\u001b[0;34m,\u001b[0m \u001b[0my2\u001b[0m\u001b[0;34m,\u001b[0m \u001b[0mlabels\u001b[0m\u001b[0;34m,\u001b[0m \u001b[0mcity_name\u001b[0m\u001b[0;34m)\u001b[0m\u001b[0;34m\u001b[0m\u001b[0m\n\u001b[0m\u001b[1;32m     67\u001b[0m     \u001b[0;32mreturn\u001b[0m \u001b[0mdict_to_pd_2\u001b[0m\u001b[0;34m\u001b[0m\u001b[0m\n\u001b[1;32m     68\u001b[0m \u001b[0;34m\u001b[0m\u001b[0m\n",
      "\u001b[0;31mNameError\u001b[0m: name 'double_line_graph' is not defined"
     ]
    }
   ],
   "source": [
    "for name, city, policy_text in all_madison_dfs:\n",
    "    ratio_quoted_freq_with_policy_freq(\"quoted_text\", name, city, 20, policy_text, \"single\")"
   ]
  },
  {
   "cell_type": "code",
   "execution_count": null,
   "metadata": {
    "collapsed": true
   },
   "outputs": [],
   "source": []
  },
  {
   "cell_type": "markdown",
   "metadata": {},
   "source": [
    "# 2) Sentiment Analysis"
   ]
  },
  {
   "cell_type": "markdown",
   "metadata": {},
   "source": [
    "## a) sentiment analysis graphs for each city for comments of most commonly quoted policy sections"
   ]
  },
  {
   "cell_type": "code",
   "execution_count": 269,
   "metadata": {},
   "outputs": [
    {
     "name": "stdout",
     "output_type": "stream",
     "text": [
      "positive sentence: That would be super helpful :)\n",
      "\n",
      "total_comments: 8 --- city name: Buffalo\n"
     ]
    },
    {
     "data": {
      "image/png": "[encoded data removed]",
      "text/plain": [
       "<matplotlib.figure.Figure at 0x117557f28>"
      ]
     },
     "metadata": {},
     "output_type": "display_data"
    },
    {
     "name": "stdout",
     "output_type": "stream",
     "text": [
      "None\n",
      "\n",
      "total_comments: 1 --- city name: Glendale\n"
     ]
    },
    {
     "data": {
      "image/png": "[encoded data removed]",
      "text/plain": [
       "<matplotlib.figure.Figure at 0x1172a90b8>"
      ]
     },
     "metadata": {},
     "output_type": "display_data"
    },
    {
     "name": "stdout",
     "output_type": "stream",
     "text": [
      "None\n",
      "positive sentence: Cheers for this!\n",
      "positive sentence: Awesome!\n",
      "\n",
      "total_comments: 2 --- city name: Nashville\n"
     ]
    },
    {
     "data": {
      "image/png": "[encoded data removed]",
      "text/plain": [
       "<matplotlib.figure.Figure at 0x116820b38>"
      ]
     },
     "metadata": {},
     "output_type": "display_data"
    },
    {
     "name": "stdout",
     "output_type": "stream",
     "text": [
      "None\n",
      "positive sentence: redundant - protect & sensitive are ultimately the same\n",
      "\n",
      "total_comments: 10 --- city name: Syracuse\n"
     ]
    },
    {
     "data": {
      "image/png": "[encoded data removed]",
      "text/plain": [
       "<matplotlib.figure.Figure at 0x11731b0f0>"
      ]
     },
     "metadata": {},
     "output_type": "display_data"
    },
    {
     "name": "stdout",
     "output_type": "stream",
     "text": [
      "None\n",
      "\n",
      "total_comments: 6 --- city name: Naperville\n"
     ]
    },
    {
     "data": {
      "image/png": "[encoded data removed]",
      "text/plain": [
       "<matplotlib.figure.Figure at 0x1176b8898>"
      ]
     },
     "metadata": {},
     "output_type": "display_data"
    },
    {
     "name": "stdout",
     "output_type": "stream",
     "text": [
      "None\n",
      "\n",
      "total_comments: 1 --- city name: San Francisco\n"
     ]
    },
    {
     "data": {
      "image/png": "[encoded data removed]",
      "text/plain": [
       "<matplotlib.figure.Figure at 0x11616bf60>"
      ]
     },
     "metadata": {},
     "output_type": "display_data"
    },
    {
     "name": "stdout",
     "output_type": "stream",
     "text": [
      "None\n"
     ]
    }
   ],
   "source": [
    "sentimental_analysis_graphs_1 = top_policy_sections_commented(all_madison_dfs, \"most_common_policy\", 3)"
   ]
  },
  {
   "cell_type": "markdown",
   "metadata": {},
   "source": [
    "## b) sentiment analysis graphs for each city for all comments"
   ]
  },
  {
   "cell_type": "code",
   "execution_count": 270,
   "metadata": {},
   "outputs": [
    {
     "name": "stdout",
     "output_type": "stream",
     "text": [
      "positive sentence: equitable access to opportunity (open data can help move us closer to this goal)\n",
      "positive sentence: Promote open data that informs increases in government efficiency, improvements in the quality of life of its citizens, and more equal opportunities for all residents.\n",
      "negative sentence: risks to the public\n",
      "positive sentence: this is amazing. Very important.\n",
      "positive sentence: protected information\n",
      "positive sentence: A central location is a good idea, IMHO\n",
      "positive sentence: That would be super helpful :)\n",
      "\n",
      "total_comments: 66 --- city name: Buffalo\n"
     ]
    },
    {
     "data": {
      "image/png": "[encoded data removed]",
      "text/plain": [
       "<matplotlib.figure.Figure at 0x1167f3da0>"
      ]
     },
     "metadata": {},
     "output_type": "display_data"
    },
    {
     "name": "stdout",
     "output_type": "stream",
     "text": [
      "None\n",
      "\n",
      "total_comments: 1 --- city name: Durham\n"
     ]
    },
    {
     "data": {
      "image/png": "[encoded data removed]",
      "text/plain": [
       "<matplotlib.figure.Figure at 0x116765978>"
      ]
     },
     "metadata": {},
     "output_type": "display_data"
    },
    {
     "name": "stdout",
     "output_type": "stream",
     "text": [
      "None\n",
      "\n",
      "total_comments: 4 --- city name: Tyler\n"
     ]
    },
    {
     "data": {
      "image/png": "[encoded data removed]",
      "text/plain": [
       "<matplotlib.figure.Figure at 0x116810978>"
      ]
     },
     "metadata": {},
     "output_type": "display_data"
    },
    {
     "name": "stdout",
     "output_type": "stream",
     "text": [
      "None\n",
      "positive sentence: This resource would be of great value to the Human Resources Commission.  The demographic information would help serve as a guide to commission activities.  Kudos for the concept.\n",
      "\n",
      "total_comments: 10 --- city name: Glendale\n"
     ]
    },
    {
     "data": {
      "image/png": "[encoded data removed]",
      "text/plain": [
       "<matplotlib.figure.Figure at 0x116810828>"
      ]
     },
     "metadata": {},
     "output_type": "display_data"
    },
    {
     "name": "stdout",
     "output_type": "stream",
     "text": [
      "None\n",
      "positive sentence: Awesome!\n",
      "positive sentence: Cheers for this!\n",
      "\n",
      "total_comments: 6 --- city name: Nashville\n"
     ]
    },
    {
     "data": {
      "image/png": "[encoded data removed]",
      "text/plain": [
       "<matplotlib.figure.Figure at 0x11728af98>"
      ]
     },
     "metadata": {},
     "output_type": "display_data"
    },
    {
     "name": "stdout",
     "output_type": "stream",
     "text": [
      "None\n",
      "positive sentence: \"Permanence\" is a strong guarantee a priori, and could imply quadratically growing storage costs (e.g., if you save a bunch of snapshots). Also, publishing \"with permanence\" is a weird phrase. :)\n",
      "positive sentence: redundant - protect & sensitive are ultimately the same\n",
      "positive sentence: YES\n",
      "positive sentence: This is terrific. A solid policy that will serve the city well and provide important guidance to city departments for releasing open data.\n",
      "positive sentence: This would be a great opportunity for Syracuse to organize some community resources in a way that can increase civic engagement and generate transparency and accountability.\n",
      "\n",
      "total_comments: 50 --- city name: Syracuse\n"
     ]
    },
    {
     "data": {
      "image/png": "[encoded data removed]",
      "text/plain": [
       "<matplotlib.figure.Figure at 0x116797d68>"
      ]
     },
     "metadata": {},
     "output_type": "display_data"
    },
    {
     "name": "stdout",
     "output_type": "stream",
     "text": [
      "None\n",
      "positive sentence: Datasets should also be analyzed and improved to be customer friendly.\n",
      "positive sentence: Metadata helps users understand a dataset\n",
      "positive sentence: Great idea. I would like to see how data is classified into private and public.\n",
      "\n",
      "total_comments: 24 --- city name: Naperville\n"
     ]
    },
    {
     "data": {
      "image/png": "[encoded data removed]",
      "text/plain": [
       "<matplotlib.figure.Figure at 0x1179779e8>"
      ]
     },
     "metadata": {},
     "output_type": "display_data"
    },
    {
     "name": "stdout",
     "output_type": "stream",
     "text": [
      "None\n",
      "\n",
      "total_comments: 1 --- city name: Bart\n"
     ]
    },
    {
     "data": {
      "image/png": "[encoded data removed]",
      "text/plain": [
       "<matplotlib.figure.Figure at 0x1178d7a90>"
      ]
     },
     "metadata": {},
     "output_type": "display_data"
    },
    {
     "name": "stdout",
     "output_type": "stream",
     "text": [
      "None\n",
      "positive sentence: LOL\n",
      "\n",
      "total_comments: 2 --- city name: San Francisco\n"
     ]
    },
    {
     "data": {
      "image/png": "[encoded data removed]",
      "text/plain": [
       "<matplotlib.figure.Figure at 0x117373a20>"
      ]
     },
     "metadata": {},
     "output_type": "display_data"
    },
    {
     "name": "stdout",
     "output_type": "stream",
     "text": [
      "None\n"
     ]
    },
    {
     "data": {
      "image/png": "[encoded data removed]",
      "text/plain": [
       "<matplotlib.figure.Figure at 0x115179dd8>"
      ]
     },
     "metadata": {},
     "output_type": "display_data"
    },
    {
     "name": "stdout",
     "output_type": "stream",
     "text": [
      "None\n"
     ]
    }
   ],
   "source": [
    "sentimental_analysis_graphs_2 = top_policy_sections_commented(all_madison_dfs, \"all_common_comments\", 3)"
   ]
  },
  {
   "cell_type": "markdown",
   "metadata": {},
   "source": [
    "## c) sentiment analysis graphs for all the cities (aggregate) for most commonly quoted policy sections"
   ]
  },
  {
   "cell_type": "code",
   "execution_count": 271,
   "metadata": {},
   "outputs": [
    {
     "name": "stdout",
     "output_type": "stream",
     "text": [
      "positive sentence: Datasets should also be analyzed and improved to be customer friendly.\n",
      "\n",
      "total_comments: 13 --- city name: All Cities\n"
     ]
    },
    {
     "data": {
      "image/png": "[encoded data removed]",
      "text/plain": [
       "<matplotlib.figure.Figure at 0x11716f080>"
      ]
     },
     "metadata": {},
     "output_type": "display_data"
    }
   ],
   "source": [
    "sentimental_analysis_graphs_3 = top_policy_sections_commented(all_cities_dataframe, \"most_common_policy\", 4)"
   ]
  },
  {
   "cell_type": "markdown",
   "metadata": {},
   "source": [
    "## d) sentiment analysis for all the cities (aggregate) for all comments"
   ]
  },
  {
   "cell_type": "code",
   "execution_count": 272,
   "metadata": {},
   "outputs": [
    {
     "name": "stdout",
     "output_type": "stream",
     "text": [
      "positive sentence: equitable access to opportunity (open data can help move us closer to this goal)\n",
      "positive sentence: Promote open data that informs increases in government efficiency, improvements in the quality of life of its citizens, and more equal opportunities for all residents.\n",
      "negative sentence: risks to the public\n",
      "positive sentence: this is amazing. Very important.\n",
      "positive sentence: protected information\n",
      "positive sentence: A central location is a good idea, IMHO\n",
      "positive sentence: That would be super helpful :)\n",
      "positive sentence: This resource would be of great value to the Human Resources Commission.  The demographic information would help serve as a guide to commission activities.  Kudos for the concept.\n",
      "positive sentence: Awesome!\n",
      "positive sentence: Cheers for this!\n",
      "positive sentence: \"Permanence\" is a strong guarantee a priori, and could imply quadratically growing storage costs (e.g., if you save a bunch of snapshots). Also, publishing \"with permanence\" is a weird phrase. :)\n",
      "positive sentence: redundant - protect & sensitive are ultimately the same\n",
      "positive sentence: YES\n",
      "positive sentence: This is terrific. A solid policy that will serve the city well and provide important guidance to city departments for releasing open data.\n",
      "positive sentence: This would be a great opportunity for Syracuse to organize some community resources in a way that can increase civic engagement and generate transparency and accountability.\n",
      "positive sentence: Datasets should also be analyzed and improved to be customer friendly.\n",
      "positive sentence: Metadata helps users understand a dataset\n",
      "positive sentence: Great idea. I would like to see how data is classified into private and public.\n",
      "positive sentence: LOL\n",
      "\n",
      "total_comments: 164 --- city name: All Cities\n"
     ]
    },
    {
     "data": {
      "image/png": "[encoded data removed]",
      "text/plain": [
       "<matplotlib.figure.Figure at 0x11718c860>"
      ]
     },
     "metadata": {},
     "output_type": "display_data"
    }
   ],
   "source": [
    "sentimental_analysis_graphs_4 = top_policy_sections_commented(all_cities_dataframe, \"all_common_comments\", 3)"
   ]
  },
  {
   "cell_type": "markdown",
   "metadata": {},
   "source": [
    "# 3) Analyzing the most popular policy sections"
   ]
  },
  {
   "cell_type": "code",
   "execution_count": 288,
   "metadata": {},
   "outputs": [],
   "source": [
    "popular_sections = sentimental_analysis_graphs_3[3]\n",
    "filtered_pop_sections = pd.DataFrame()\n",
    "\n",
    "for phrase, count in popular_sections:\n",
    "    filtered_pop_sections = filtered_pop_sections.append(all_cities_dataframe[all_cities_dataframe['quoted_text'].astype(str).str.contains(phrase)])\n",
    "\n",
    "filtered_pop_sections = filtered_pop_sections.reset_index()"
   ]
  },
  {
   "cell_type": "code",
   "execution_count": 289,
   "metadata": {},
   "outputs": [
    {
     "data": {
      "text/plain": [
       "[('Open Data Governance Committee', 5),\n",
       " ('protected and sensitive information', 4),\n",
       " ('and sensitive information ;', 3),\n",
       " ('Develop and implement a', 3),\n",
       " ('and implement a process', 3),\n",
       " ('the city ’ s', 3),\n",
       " ('the Open Data Governance', 3),\n",
       " ('implement a process for', 3),\n",
       " ('deny access pursuant to', 2),\n",
       " ('with no restrictions on', 2)]"
      ]
     },
     "execution_count": 289,
     "metadata": {},
     "output_type": "execute_result"
    }
   ],
   "source": [
    "popular_sections #popular sections phrases, number of times they are quoted"
   ]
  },
  {
   "cell_type": "code",
   "execution_count": 290,
   "metadata": {
    "collapsed": true
   },
   "outputs": [],
   "source": [
    "filtered_pop_sections = filtered_pop_sections.drop_duplicates(\"comment_text\")"
   ]
  },
  {
   "cell_type": "code",
   "execution_count": 291,
   "metadata": {},
   "outputs": [
    {
     "name": "stdout",
     "output_type": "stream",
     "text": [
      "\u001b[1mCity: Buffalo\n",
      "\u001b[0mPartial quoted text: Open Data Governance Committee\n",
      "\u001b[1mComment text: Minutes from any and all meetings of this committee should be made available in machine-readable formats in an easily-accessible location (including within the open data system)\n",
      "\n",
      "\u001b[1mCity: Buffalo\n",
      "\u001b[0mPartial quoted text: Open Data Governance Committee\n",
      "\u001b[1mComment text: How will this committee be formed?  Will it be comprised of community stakeholders or only government employees/officials?\n",
      "\n",
      "\u001b[1mCity: Buffalo\n",
      "\u001b[0mPartial quoted text: periodically update the data based on internal and external needs; serve on the Open Data Governance Committee; upon request, meet with the Open Data Governance Committee to discuss any matter pertaining to implementation of this Order; and assist in the preparation of the annual open data compliance report.\n",
      "\u001b[1mComment text: Would this liaison be the contact person if a dataset user (ie a student doing a project or a researcher) had questions about the set?\n",
      "\n",
      "\u001b[1mCity: Naperville\n",
      "\u001b[0mPartial quoted text: b. In order to increase and improve use of the City's open data, the Open Data Governance Committee will actively encourage City department, board and commission, City Council and public participation through providing regular opportunities for feedback and collaboration.\n",
      "\u001b[1mComment text: Excellent!  And you're off to a smashing start with Madison here. Would be great to have this be the living document and location for regular feedback loops between the public and the Naperville, IL city government.\n",
      "\n",
      "\u001b[1mCity: Buffalo\n",
      "\u001b[0mPartial quoted text: appropriately safeguarding protected and sensitive information;\n",
      "\u001b[1mComment text: Could trim this to just focus on the safeguarding of protected and sensitive information. Minimize limitations on the disclosure of public information doesn't really describe the role of the city in protecting sensitive information.\n",
      "\n",
      "\u001b[1mCity: Syracuse\n",
      "\u001b[0mPartial quoted text: exclude protected and sensitive information;\n",
      "\u001b[1mComment text: This information needs to be backed by hard business rules & defined in such a way that automated processes can detect/alert if sensitive information is ever detected in the \"release pipeline\"...\n",
      "\n",
      "\u001b[1mCity: Syracuse\n",
      "\u001b[0mPartial quoted text: Minimize limitations on the disclosure of public information while appropriately safeguarding protected and sensitive information; and\n",
      "\u001b[1mComment text: Redundant - view proactively release all publishable city data comment\n",
      "\n",
      "\u001b[1mCity: Naperville\n",
      "\u001b[0mPartial quoted text: Establish processes for publishing datasets to the open data portal, including processes for ensuring that datasets are high-quality, up-to-date, are in use-appropriate formats, and exclude protected and sensitive information.\n",
      "\u001b[1mComment text: Datasets should also be analyzed and improved to be customer friendly.\n",
      "\n",
      "\u001b[1mCity: Buffalo\n",
      "\u001b[0mPartial quoted text: Develop and implement a process for prioritizing the release of datasets\n",
      "\u001b[1mComment text: Perhaps a section of the central repository should host all the data that was released in response to FOIL requests. It would provide wider access to this data and could serve as a means to solicit public feedback on the relative priority of establishing a more formal release of the dataset (with relevant metadata and scheduled refreshes of the data).\n",
      "\n",
      "\u001b[1mCity: Buffalo\n",
      "\u001b[0mPartial quoted text: Develop and implement a process for prioritizing the release of datasets to the Open Data Portal which takes into account new and existing signals of interest from the public (such as the frequency of FOIL requests), the City's programmatic priorities, existing opportunities for data use in the public interest, and cost;\n",
      "\u001b[1mComment text: Maybe you should utilize a deliberative democratic process (like participatory budgeting, only without a budget as the end goal and maybe a bit briefer) to encourage public engagement?\n",
      "\n",
      "\u001b[1mCity: Syracuse\n",
      "\u001b[0mPartial quoted text: Develop and implement a process for determining the relative level of risk and public benefit associated with potentially sensitive, non-protected information so as to make a determination about whether and how to publish it;\n",
      "\u001b[1mComment text: This sounds like a 1x data classification process.  I'd suggest \"process\" is redefined as a documented operational process where the classification of data is stored & maintained in an evergreen state.\n",
      "\n",
      "\u001b[1mCity: Buffalo\n",
      "\u001b[0mPartial quoted text: may deny access pursuant to applicable privileges\n",
      "\u001b[1mComment text: What exactly are examples of \"applicable privileges\"?\n",
      "\n",
      "\u001b[1mCity: Syracuse\n",
      "\u001b[0mPartial quoted text: “Protected information” means any dataset or portion thereof to which an agency may deny access pursuant to New York State’s Freedom of Information Laws or any other law or rule or regulation.\n",
      "\u001b[1mComment text: I would prefer to define protected information as something which raises privacy, confidentiality or security concerns.\n",
      "\n",
      "\u001b[1mCity: Naperville\n",
      "\u001b[0mPartial quoted text: All published data will be placed into the public domain on an open license basis with no restrictions on publishing, copying, further distribution, or modification of said data.\n",
      "\u001b[1mComment text: What about citation?\n",
      "\n",
      "\u001b[1mCity: Naperville\n",
      "\u001b[0mPartial quoted text: b. All published data will be placed into the public domain on an open license basis with no restrictions on publishing, copying, further distribution, or modification of said data.\n",
      "\u001b[1mComment text: Yes!  Great language here.  For the city's laws and legal codes, we do not see any copyright restrictions posted on the city's vendor website (https://www.municode.com/library/il/naperville/codes/code_of_ordinances?nodeId=14853) but this language will make doubly sure that no private-sector company or government entity or publisher can or will restrict public access.\n",
      "\n"
     ]
    }
   ],
   "source": [
    "for index, row in filtered_pop_sections.iterrows():\n",
    "    print('\\033[1m' + \"City:\", row['city_name'])\n",
    "    print('\\033[0m' + \"Partial quoted text:\", row['quoted_text'])\n",
    "    print('\\033[1m' + \"Comment text:\", row['comment_text'])\n",
    "    print()"
   ]
  },
  {
   "cell_type": "code",
   "execution_count": 419,
   "metadata": {
    "collapsed": true
   },
   "outputs": [],
   "source": [
    "# hand-made (this needs eye-balling)\n",
    "main_policies = ['Open Data Governance Committee', \"Opportunities for Citizen Feedback\", 'Privacy and Security', 'Useful, quality and timely data', \"Prioritizing the release of open data\", \"Bulk Download\"]\n",
    "count_pop_policies = [3, 1, 5, 2, 2, 2]"
   ]
  },
  {
   "cell_type": "code",
   "execution_count": 420,
   "metadata": {},
   "outputs": [
    {
     "data": {
      "image/png": "[encoded data removed]",
      "text/plain": [
       "<matplotlib.figure.Figure at 0x115482358>"
      ]
     },
     "metadata": {},
     "output_type": "display_data"
    }
   ],
   "source": [
    "horizontal_bar(main_policies, count_pop_policies, \"Number of comments\", \"Popular Policies\")"
   ]
  },
  {
   "cell_type": "markdown",
   "metadata": {},
   "source": [
    "# 4) Analyzing positive and negative sentiments"
   ]
  },
  {
   "cell_type": "code",
   "execution_count": 346,
   "metadata": {},
   "outputs": [],
   "source": [
    "neg_count = sentimental_analysis_graphs_4[0][1]\n",
    "neu_count = sentimental_analysis_graphs_4[0][3]\n",
    "pos_count = sentimental_analysis_graphs_4[0][5]"
   ]
  },
  {
   "cell_type": "code",
   "execution_count": 347,
   "metadata": {},
   "outputs": [
    {
     "name": "stderr",
     "output_type": "stream",
     "text": [
      "/Users/summerfellow/anaconda/envs/py35/lib/python3.5/site-packages/matplotlib/legend.py:326: UserWarning: Unrecognized location \"upper corner\". Falling back on \"best\"; valid locations are\n",
      "\tlower right\n",
      "\tcenter\n",
      "\tright\n",
      "\tcenter left\n",
      "\tlower left\n",
      "\tcenter right\n",
      "\tupper left\n",
      "\tlower center\n",
      "\tupper center\n",
      "\tupper right\n",
      "\tbest\n",
      "\n",
      "  six.iterkeys(self.codes))))\n"
     ]
    },
    {
     "data": {
      "image/png": "[encoded data removed]",
      "text/plain": [
       "<matplotlib.figure.Figure at 0x115ad3198>"
      ]
     },
     "metadata": {},
     "output_type": "display_data"
    }
   ],
   "source": [
    "labels = ['negative comments', 'neutral comments', 'positive comments']\n",
    "sizes = [neg_count, neu_count, pos_count]\n",
    "\n",
    "pie_chart(sizes, labels, 'sentiment-analysis-pie-chart')"
   ]
  },
  {
   "cell_type": "markdown",
   "metadata": {},
   "source": [
    "### a) Positive comments"
   ]
  },
  {
   "cell_type": "code",
   "execution_count": 351,
   "metadata": {
    "collapsed": true
   },
   "outputs": [],
   "source": [
    "pos_comments = sentimental_analysis_graphs_4[2]"
   ]
  },
  {
   "cell_type": "code",
   "execution_count": 352,
   "metadata": {
    "collapsed": true
   },
   "outputs": [],
   "source": [
    "pos_comments_dict = all_cities_dataframe[all_cities_dataframe['comment_text'].isin(pos_comments)].reset_index()"
   ]
  },
  {
   "cell_type": "code",
   "execution_count": 353,
   "metadata": {
    "scrolled": true
   },
   "outputs": [
    {
     "data": {
      "text/html": [
       "<div>\n",
       "<style>\n",
       "    .dataframe thead tr:only-child th {\n",
       "        text-align: right;\n",
       "    }\n",
       "\n",
       "    .dataframe thead th {\n",
       "        text-align: left;\n",
       "    }\n",
       "\n",
       "    .dataframe tbody tr th {\n",
       "        vertical-align: top;\n",
       "    }\n",
       "</style>\n",
       "<table border=\"1\" class=\"dataframe\">\n",
       "  <thead>\n",
       "    <tr style=\"text-align: right;\">\n",
       "      <th></th>\n",
       "      <th>index</th>\n",
       "      <th>comment_id</th>\n",
       "      <th>author</th>\n",
       "      <th>datetime</th>\n",
       "      <th>num_likes</th>\n",
       "      <th>quoted_text</th>\n",
       "      <th>comment_text</th>\n",
       "      <th>comment_text_aux</th>\n",
       "      <th>reply_ids</th>\n",
       "      <th>city_name</th>\n",
       "    </tr>\n",
       "  </thead>\n",
       "  <tbody>\n",
       "    <tr>\n",
       "      <th>0</th>\n",
       "      <td>8</td>\n",
       "      <td>E4-XFm_mHqw</td>\n",
       "      <td>Aaron Krolikowski</td>\n",
       "      <td>2017-01-24 22:35:13</td>\n",
       "      <td>0</td>\n",
       "      <td>opportunity</td>\n",
       "      <td>equitable access to opportunity (open data can...</td>\n",
       "      <td>&lt;p&gt;equitable access to opportunity (open data ...</td>\n",
       "      <td>[]</td>\n",
       "      <td>Buffalo</td>\n",
       "    </tr>\n",
       "    <tr>\n",
       "      <th>1</th>\n",
       "      <td>33</td>\n",
       "      <td>E4-XFiejO_4</td>\n",
       "      <td>Kelly Dodd</td>\n",
       "      <td>2017-01-24 03:04:56</td>\n",
       "      <td>2</td>\n",
       "      <td>Provide open data that increases government ef...</td>\n",
       "      <td>Promote open data that informs increases in go...</td>\n",
       "      <td>&lt;p&gt;Promote open data that informs increases in...</td>\n",
       "      <td>[E4-XFiiGPbw, E4-XFjIXTLs, E4-XFkIuyUs]</td>\n",
       "      <td>Buffalo</td>\n",
       "    </tr>\n",
       "    <tr>\n",
       "      <th>2</th>\n",
       "      <td>49</td>\n",
       "      <td>E4-XFe4h4Dg</td>\n",
       "      <td>Andrew Nicklin</td>\n",
       "      <td>2017-01-17 02:56:54</td>\n",
       "      <td>1</td>\n",
       "      <td>including the records of third-party agency co...</td>\n",
       "      <td>this is amazing. Very important.</td>\n",
       "      <td>&lt;p&gt;this is amazing. Very important.&lt;/p&gt;</td>\n",
       "      <td>[E4-XFhzeuLI, E4-XFh74V00, E4-XFibN984, E4-XFm...</td>\n",
       "      <td>Buffalo</td>\n",
       "    </tr>\n",
       "    <tr>\n",
       "      <th>3</th>\n",
       "      <td>50</td>\n",
       "      <td>E4-XFesw1OU</td>\n",
       "      <td>Andrew Nicklin</td>\n",
       "      <td>2017-01-17 02:51:48</td>\n",
       "      <td>0</td>\n",
       "      <td>protected</td>\n",
       "      <td>protected information</td>\n",
       "      <td>&lt;p&gt;protected information&lt;/p&gt;</td>\n",
       "      <td>[E4-XFexnyeI]</td>\n",
       "      <td>Buffalo</td>\n",
       "    </tr>\n",
       "    <tr>\n",
       "      <th>4</th>\n",
       "      <td>55</td>\n",
       "      <td>E4-XFeauO2Q</td>\n",
       "      <td>Chris Slocum</td>\n",
       "      <td>2017-01-17 02:09:14</td>\n",
       "      <td>1</td>\n",
       "      <td>Maintain an open data portal that provides a c...</td>\n",
       "      <td>A central location is a good idea, IMHO</td>\n",
       "      <td>&lt;p&gt;A central location is a good idea, IMHO&lt;/p&gt;</td>\n",
       "      <td>[E4-XFe2EPUI, E4-XFgWX6pU, E4-XFgo3z-w, E4-XFi...</td>\n",
       "      <td>Buffalo</td>\n",
       "    </tr>\n",
       "  </tbody>\n",
       "</table>\n",
       "</div>"
      ],
      "text/plain": [
       "   index   comment_id             author            datetime num_likes  \\\n",
       "0      8  E4-XFm_mHqw  Aaron Krolikowski 2017-01-24 22:35:13         0   \n",
       "1     33  E4-XFiejO_4         Kelly Dodd 2017-01-24 03:04:56         2   \n",
       "2     49  E4-XFe4h4Dg     Andrew Nicklin 2017-01-17 02:56:54         1   \n",
       "3     50  E4-XFesw1OU     Andrew Nicklin 2017-01-17 02:51:48         0   \n",
       "4     55  E4-XFeauO2Q       Chris Slocum 2017-01-17 02:09:14         1   \n",
       "\n",
       "                                         quoted_text  \\\n",
       "0                                        opportunity   \n",
       "1  Provide open data that increases government ef...   \n",
       "2  including the records of third-party agency co...   \n",
       "3                                          protected   \n",
       "4  Maintain an open data portal that provides a c...   \n",
       "\n",
       "                                        comment_text  \\\n",
       "0  equitable access to opportunity (open data can...   \n",
       "1  Promote open data that informs increases in go...   \n",
       "2                   this is amazing. Very important.   \n",
       "3                              protected information   \n",
       "4            A central location is a good idea, IMHO   \n",
       "\n",
       "                                    comment_text_aux  \\\n",
       "0  <p>equitable access to opportunity (open data ...   \n",
       "1  <p>Promote open data that informs increases in...   \n",
       "2            <p>this is amazing. Very important.</p>   \n",
       "3                       <p>protected information</p>   \n",
       "4     <p>A central location is a good idea, IMHO</p>   \n",
       "\n",
       "                                           reply_ids city_name  \n",
       "0                                                 []   Buffalo  \n",
       "1            [E4-XFiiGPbw, E4-XFjIXTLs, E4-XFkIuyUs]   Buffalo  \n",
       "2  [E4-XFhzeuLI, E4-XFh74V00, E4-XFibN984, E4-XFm...   Buffalo  \n",
       "3                                      [E4-XFexnyeI]   Buffalo  \n",
       "4  [E4-XFe2EPUI, E4-XFgWX6pU, E4-XFgo3z-w, E4-XFi...   Buffalo  "
      ]
     },
     "execution_count": 353,
     "metadata": {},
     "output_type": "execute_result"
    }
   ],
   "source": [
    "pos_comments_dict.head()"
   ]
  },
  {
   "cell_type": "code",
   "execution_count": 354,
   "metadata": {
    "collapsed": true
   },
   "outputs": [],
   "source": [
    "# hard-coded - needs eye-balling\n",
    "\n",
    "pos_main_policies = ['Open Data Governance Committee', \"Open Data Access\", \"Opportunities for Citizen Feedback\", 'Privacy and Security', 'Useful, quality and timely data', \"Prioritizing the release of open data\", \"Bulk Download\"]\n",
    "count_pos_policies = [1, 2, 1, 0, 5, 1, 0]"
   ]
  },
  {
   "cell_type": "code",
   "execution_count": 421,
   "metadata": {},
   "outputs": [
    {
     "data": {
      "image/png": "[encoded data removed]",
      "text/plain": [
       "<matplotlib.figure.Figure at 0x1157544e0>"
      ]
     },
     "metadata": {},
     "output_type": "display_data"
    }
   ],
   "source": [
    "horizontal_bar(pos_main_policies, count_pos_policies, \"Number of positive comments\", \"Policy issues with positive comments\")"
   ]
  },
  {
   "cell_type": "code",
   "execution_count": 356,
   "metadata": {},
   "outputs": [
    {
     "name": "stdout",
     "output_type": "stream",
     "text": [
      "\u001b[1mCity: Buffalo\n",
      "\u001b[0mPartial quoted text: opportunity\n",
      "\u001b[1mComment text: equitable access to opportunity (open data can help move us closer to this goal)\n",
      "\n",
      "\u001b[1mCity: Buffalo\n",
      "\u001b[0mPartial quoted text: Provide open data that increases government efficiency, improves the quality of life of its citizens, and ensures opportunity for all residents.\n",
      "\u001b[1mComment text: Promote open data that informs increases in government efficiency, improvements in the quality of life of its citizens, and more equal opportunities for all residents.\n",
      "\n",
      "\u001b[1mCity: Buffalo\n",
      "\u001b[0mPartial quoted text: including the records of third-party agency contractors that create or acquire information, records, or data on behalf of a City division/department\n",
      "\u001b[1mComment text: this is amazing. Very important.\n",
      "\n",
      "\u001b[1mCity: Buffalo\n",
      "\u001b[0mPartial quoted text: protected\n",
      "\u001b[1mComment text: protected information\n",
      "\n",
      "\u001b[1mCity: Buffalo\n",
      "\u001b[0mPartial quoted text: Maintain an open data portal that provides a central location for published City data\n",
      "\u001b[1mComment text: A central location is a good idea, IMHO\n",
      "\n",
      "\u001b[1mCity: Buffalo\n",
      "\u001b[0mPartial quoted text: Provide for a future means of digitizing archived material that was in existence prior to the development of the Open Data Program;\n",
      "\u001b[1mComment text: That would be super helpful :)\n",
      "\n",
      "\u001b[1mCity: Glendale\n",
      "\u001b[0mPartial quoted text: None\n",
      "\u001b[1mComment text: This resource would be of great value to the Human Resources Commission.  The demographic information would help serve as a guide to commission activities.  Kudos for the concept.\n",
      "\n",
      "\u001b[1mCity: Nashville\n",
      "\u001b[0mPartial quoted text: ITS and the Office of the Mayor shall have the authority to explore agreements with external partners to publish and maintain Datasets that are open and freely available while respecting the privacy and security of Protected Information\n",
      "\u001b[1mComment text: Awesome!\n",
      "\n",
      "\u001b[1mCity: Nashville\n",
      "\u001b[0mPartial quoted text: nor image files, such as designs, drawings, photos or scanned copies of original documents\n",
      "\u001b[1mComment text: Cheers for this!\n",
      "\n",
      "\u001b[1mCity: Syracuse\n",
      "\u001b[0mPartial quoted text: permanence\n",
      "\u001b[1mComment text: \"Permanence\" is a strong guarantee a priori, and could imply quadratically growing storage costs (e.g., if you save a bunch of snapshots). Also, publishing \"with permanence\" is a weird phrase. :)\n",
      "\n",
      "\u001b[1mCity: Syracuse\n",
      "\u001b[0mPartial quoted text: Sensitive information” means any data which, if published by the city online, could raise privacy, confidentiality or security concerns or have the potential to jeopardize public health, safety or welfare to an extent that is greater than the potential public benefit of publishing that data.\n",
      "\u001b[1mComment text: redundant - protect & sensitive are ultimately the same\n",
      "\n",
      "\u001b[1mCity: Syracuse\n",
      "\u001b[0mPartial quoted text: with contact information for the appropriate manager\n",
      "\u001b[1mComment text: YES\n",
      "\n",
      "\u001b[1mCity: Syracuse\n",
      "\u001b[0mPartial quoted text: None\n",
      "\u001b[1mComment text: This is terrific. A solid policy that will serve the city well and provide important guidance to city departments for releasing open data.\n",
      "\n",
      "\u001b[1mCity: Syracuse\n",
      "\u001b[0mPartial quoted text: None\n",
      "\u001b[1mComment text: This would be a great opportunity for Syracuse to organize some community resources in a way that can increase civic engagement and generate transparency and accountability.\n",
      "\n",
      "\u001b[1mCity: Naperville\n",
      "\u001b[0mPartial quoted text: Establish processes for publishing datasets to the open data portal, including processes for ensuring that datasets are high-quality, up-to-date, are in use-appropriate formats, and exclude protected and sensitive information.\n",
      "\u001b[1mComment text: Datasets should also be analyzed and improved to be customer friendly.\n",
      "\n",
      "\u001b[1mCity: Naperville\n",
      "\u001b[0mPartial quoted text: Metadata\n",
      "\u001b[1mComment text: Metadata helps users understand a dataset\n",
      "\n",
      "\u001b[1mCity: Naperville\n",
      "\u001b[0mPartial quoted text: None\n",
      "\u001b[1mComment text: Great idea. I would like to see how data is classified into private and public.\n",
      "\n",
      "\u001b[1mCity: San Francisco\n",
      "\u001b[0mPartial quoted text: transparency\n",
      "\u001b[1mComment text: LOL\n",
      "\n"
     ]
    }
   ],
   "source": [
    "for index, row in pos_comments_dict.iterrows():\n",
    "    print('\\033[1m' + \"City:\", row['city_name'])\n",
    "    print('\\033[0m' + \"Partial quoted text:\", row['quoted_text'])\n",
    "    print('\\033[1m' + \"Comment text:\", row['comment_text'])\n",
    "    print()"
   ]
  },
  {
   "cell_type": "markdown",
   "metadata": {},
   "source": [
    "### b) Negative Comments"
   ]
  },
  {
   "cell_type": "code",
   "execution_count": 357,
   "metadata": {
    "collapsed": true
   },
   "outputs": [],
   "source": [
    "neg_comments = sentimental_analysis_graphs_4[1]"
   ]
  },
  {
   "cell_type": "code",
   "execution_count": 358,
   "metadata": {
    "collapsed": true
   },
   "outputs": [],
   "source": [
    "neg_comments_dict = all_cities_dataframe[all_cities_dataframe['comment_text'].isin(neg_comments)]"
   ]
  },
  {
   "cell_type": "code",
   "execution_count": 360,
   "metadata": {},
   "outputs": [
    {
     "name": "stderr",
     "output_type": "stream",
     "text": [
      "/Users/summerfellow/anaconda/envs/py35/lib/python3.5/site-packages/ipykernel_launcher.py:1: SettingWithCopyWarning: \n",
      "A value is trying to be set on a copy of a slice from a DataFrame.\n",
      "Try using .loc[row_indexer,col_indexer] = value instead\n",
      "\n",
      "See the caveats in the documentation: http://pandas.pydata.org/pandas-docs/stable/indexing.html#indexing-view-versus-copy\n",
      "  \"\"\"Entry point for launching an IPython kernel.\n"
     ]
    },
    {
     "data": {
      "text/html": [
       "<div>\n",
       "<style>\n",
       "    .dataframe thead tr:only-child th {\n",
       "        text-align: right;\n",
       "    }\n",
       "\n",
       "    .dataframe thead th {\n",
       "        text-align: left;\n",
       "    }\n",
       "\n",
       "    .dataframe tbody tr th {\n",
       "        vertical-align: top;\n",
       "    }\n",
       "</style>\n",
       "<table border=\"1\" class=\"dataframe\">\n",
       "  <thead>\n",
       "    <tr style=\"text-align: right;\">\n",
       "      <th></th>\n",
       "      <th>comment_id</th>\n",
       "      <th>author</th>\n",
       "      <th>datetime</th>\n",
       "      <th>num_likes</th>\n",
       "      <th>quoted_text</th>\n",
       "      <th>comment_text</th>\n",
       "      <th>comment_text_aux</th>\n",
       "      <th>reply_ids</th>\n",
       "      <th>city_name</th>\n",
       "      <th>full_quoted_text</th>\n",
       "    </tr>\n",
       "  </thead>\n",
       "  <tbody>\n",
       "    <tr>\n",
       "      <th>46</th>\n",
       "      <td>E4-XFfET0X4</td>\n",
       "      <td>Andrew Nicklin</td>\n",
       "      <td>2017-01-17 03:03:41</td>\n",
       "      <td>0</td>\n",
       "      <td>policy concerns</td>\n",
       "      <td>risks to the public</td>\n",
       "      <td>&lt;p&gt;risks to the public&lt;/p&gt;</td>\n",
       "      <td>[E4-XFfIhTHE]</td>\n",
       "      <td>Buffalo</td>\n",
       "      <td>Ensure that access to restricted data is block...</td>\n",
       "    </tr>\n",
       "  </tbody>\n",
       "</table>\n",
       "</div>"
      ],
      "text/plain": [
       "     comment_id          author            datetime num_likes  \\\n",
       "46  E4-XFfET0X4  Andrew Nicklin 2017-01-17 03:03:41         0   \n",
       "\n",
       "        quoted_text         comment_text            comment_text_aux  \\\n",
       "46  policy concerns  risks to the public  <p>risks to the public</p>   \n",
       "\n",
       "        reply_ids city_name                                   full_quoted_text  \n",
       "46  [E4-XFfIhTHE]   Buffalo  Ensure that access to restricted data is block...  "
      ]
     },
     "execution_count": 360,
     "metadata": {},
     "output_type": "execute_result"
    }
   ],
   "source": [
    "neg_comments_dict['full_quoted_text'] = full_quoted_text_neg\n",
    "neg_comments_dict"
   ]
  },
  {
   "cell_type": "code",
   "execution_count": 361,
   "metadata": {},
   "outputs": [
    {
     "name": "stdout",
     "output_type": "stream",
     "text": [
      "\u001b[1mCity: Buffalo\n",
      "\u001b[0mFull quoted text: Ensure that access to restricted data is blocked, but make it possible to extract non-protected information from restricted sources and remove any data that represents policy concerns for publication, where feasible;\n",
      "\u001b[1mComment text: risks to the public\n",
      "\n"
     ]
    }
   ],
   "source": [
    "for index, row in neg_comments_dict.iterrows():\n",
    "    print('\\033[1m' + \"City:\", row['city_name'])\n",
    "    print('\\033[0m' + \"Full quoted text:\", row['full_quoted_text'])\n",
    "    print('\\033[1m' + \"Comment text:\", row['comment_text'])\n",
    "    print()"
   ]
  },
  {
   "cell_type": "markdown",
   "metadata": {
    "collapsed": true
   },
   "source": [
    "# 5) likes and replies analysis (popular comments extended)"
   ]
  },
  {
   "cell_type": "markdown",
   "metadata": {},
   "source": [
    "### a) analysis of comments *with more than 2 likes*"
   ]
  },
  {
   "cell_type": "code",
   "execution_count": 26,
   "metadata": {},
   "outputs": [
    {
     "name": "stdout",
     "output_type": "stream",
     "text": [
      "\n",
      "\u001b[1mcomment:\n",
      "\n",
      "\u001b[0mI strongly support the proposed policy, with a recognition of the outstanding contributions that have already been made by other residents, citizens, and interested parties.Many thanks to the City of Buffalo for leading this effort. Most of my comments are within the document itself, but I do agree with other comments below that emphasize the need for substantial citizen involvement in governance, application, and oversight. During the RFP process, I would encourage the city to include not only requirements for a portal, but also an iterative feedback/improvement process with residents and regular data users so that the city's investment in this system can produce tangible use cases and real benefits to our city and its people.The Department of Citizen Services should also be commended for their use of the collaborative policymaking platform. In the age of the internet, this is an excellent way to increase public participation in these types of processes. Many thanks for this opportunity.\n",
      "\n",
      "\u001b[1mcomment:\n",
      "\n",
      "\u001b[0mThank you to the City of Buffalo!  My comments are regarding the geospatial (GIS) data. We often build tools for local government, and open data portals are our go-to standard to accessing data.  Please also consider including open access to live data such as webservices. Downloadable data, such as xmls, shapefiles or even file geodatabases are necessary for local processing and analysis.  However, most of our support to local government agencies is by functioning as tool and system developers. It makes us incredibly more productive (and accurate) to have access to live data.  I agree with Sean Meyers and support the distribution of the webservices and mapservices in web standard formats.  -Karyn Tareen CEO, Geocove\n",
      "\n",
      "\u001b[1mcomment:\n",
      "\n",
      "\u001b[0mThank you City of Buffalo for taking on this initiative. I have two comments:\n",
      "\n",
      "I think one one of the stated goals of the program should be to promote active participation by the community including civic technologists, civic activists, programmers, and database specialists to develop tools that turn data into insight for some of the city's pressing issues.\n",
      "\n",
      "\n",
      "I think it is very important to ensure that the technical definition of open data goes beyond the definitions provided by the vendors of the platforms currently in use by the city. We are in a web-based world so web-based standards must take precedence (e.g. JSON, geoJSON).\n",
      "\n",
      "\n",
      "\n",
      "\u001b[1mcomment:\n",
      "\n",
      "\u001b[0mMy comments are rather lengthy. In addition to the comments below I've provided a copy inside a google doc. http://bit.ly/BuffaloOpenDataCommentsI commend Oswaldo Mestre and Kirk McLean for putting forward a draft Open Data Policy. Such policies work to make Buffalo government more effective, transparent, accountable, and responsive. This draft document is an important step forward. With all aspects of government we ought to strive for continual improvement. As improvement pertains to the draft Open Data Policy, I hope you find these suggestions amenable.The draft policy establishes an “Open Data Governance Committee”. As the committee currently stands, oversight and implementation is held entirely within the executive branch of city government. Given that the data provided would primarily originate from the executive branch, it is sensible to seek its representation. However, in the spirit of an open democratic society, the policy ought to seek independence and accountability through checks and balances from other institutions.The stated purpose of the policy, “creates value for residents, government leaders, businesses, researchers, and the media. ” With the exception of government leaders, none of these groups appear to be formally required by the draft policy.  The policy ought to move the governance committee to include these stated groups.In creating an independent governance committee, the policy ought to seek representation from co-equal branches of government, e.g. the Common Council and City Comptroller. Ensuring appointment via other branches would go a long way toward promoting the Open Data Governance Committee as an independent body.Additionally, the structure of the committee ought to ensure that those appointed to the committee via the executive branch do not hold an automatic majority of voting eligible members. Seeking the “input” of the public is perhaps the lowest form of democracy. Input can be trivial, power is not.The draft policy does not specify how decisions made by the governance committee are to be made public. In ensuring that the governance committee is making decisions for the public good, record of said decisions ought to be publicly available.To the effect of the stated concerns, the governance committee ought to be adopted into the city charter subject to a vote by the common council.The draft policy attempts to cast a broad net over the institutions subject to it. Stated in the document, the policy “will apply to any City department, office, administrative unit, commission, board, advisory committee or other division/department of the City government including the records of third-party agency contractors that create or acquire information, records, or data on behalf of a City division/department.”Reading the draft, it is unclear as to the policy’s applicability to quasi-governmental agencies such as public benefit corporations, e.g. Buffalo Urban Renewal Agency, Buffalo Urban Development Agency, and the Buffalo Municipal Housing Authority. A small language tweak could incorporate such entities under the scope of the draft policy.Open data is a strong tool for open and transparent government. However, open data is only one of many tools regarding open government. FOIL is another tool that can help to move governments towards transparency and accountability. However, the state of FOIL in Buffalo is dismal. The shortcomings of the City of Buffalo as it pertains to FOIL have been well reported in the press. City departments routinely disregard the law as it relates to FOIL. In this author's experience, above 90% of FOIL requests submitted are not responded to with the requested documentation, or an agency determination explaining why such documents are not available.An open data policy cannot be the sole remedy for city officials unwillingness to follow the law. However, it can take steps toward holding those officials accountable. Inclusion into the draft policy of a centralized system for submitting, tracking, and responding to FOIL requests would be an incredible step forward. Such a measure would provide residents and city officials with an effective way to manage requests and comply with the relevant statutes. When conflict over FOIL requests do arise, the conflict would be publicly available and documented. Such a system would prevent FOIL requests from getting lost inside civic bureaucracy due to malfeasance or human error.The advancement of Open Data in Buffalo is an important step. I applaud the Division of Citizen Services for being forward thinking in this regard. That being said, the comments provided here ought not be seen as window dressing to the draft policy. These comments speak to structural concerns of strengthening democracy. The nature of power and human institutions is that they change over time. I hope that these comments are able to extended the drafted policy such that when institutions change the effect and intentions of the draft Buffalo Open Data Policy do not.\n",
      "\n",
      "\u001b[1mcomment:\n",
      "\n",
      "\u001b[0mMetadata is the key to making sure that the data is used correctly and enables the data to be used in as many different (yet appropriate) ways possible.\n",
      "\n",
      "\u001b[1mcomment:\n",
      "\n",
      "\u001b[0mThis document fails to require the sharing of the source code of the open data tools. \"Require Code Sharing Or Publishing Open Source\" is a recommendation of Sunlight Foundation https://sunlightfoundation.com/opendataguidelines/#open-code . Sharing the source code allows citizens to help contribute to the tools making the data public, allows citizens access to the tools for which they are paying, and allows other government agencies as well citizens to benefit from improvements made on behalf of Buffalo.\n",
      "\n",
      "\u001b[1mcomment:\n",
      "\n",
      "\u001b[0mSome cities use an appointed board with members of the public and other stakeholders to provide support and recommendations to the CDO.\n",
      "\n",
      "\u001b[1mcomment:\n",
      "\n",
      "\u001b[0mThis is important, as the Chief Data officer will have first hand knowledge of what is working, and what isn't. This could be a good opportunity for the CDO to outline areas for improvement, and things that have not yet gone particularly well in the open data program.\n",
      "\n",
      "\u001b[1mcomment:\n",
      "\n",
      "\u001b[0mGreat idea. I would like to see how data is classified into private and public.\n"
     ]
    }
   ],
   "source": [
    "high_likes_comments = likes_replies_analysis(\"3\", 'num_likes', all_cities_dataframe)"
   ]
  },
  {
   "cell_type": "code",
   "execution_count": 27,
   "metadata": {},
   "outputs": [
    {
     "data": {
      "text/html": [
       "<div>\n",
       "<style>\n",
       "    .dataframe thead tr:only-child th {\n",
       "        text-align: right;\n",
       "    }\n",
       "\n",
       "    .dataframe thead th {\n",
       "        text-align: left;\n",
       "    }\n",
       "\n",
       "    .dataframe tbody tr th {\n",
       "        vertical-align: top;\n",
       "    }\n",
       "</style>\n",
       "<table border=\"1\" class=\"dataframe\">\n",
       "  <thead>\n",
       "    <tr style=\"text-align: right;\">\n",
       "      <th></th>\n",
       "      <th>index</th>\n",
       "      <th>comment_id</th>\n",
       "      <th>author</th>\n",
       "      <th>datetime</th>\n",
       "      <th>num_likes</th>\n",
       "      <th>quoted_text</th>\n",
       "      <th>comment_text</th>\n",
       "      <th>comment_text_aux</th>\n",
       "      <th>reply_ids</th>\n",
       "      <th>city_name</th>\n",
       "      <th>Position</th>\n",
       "      <th>Company_name</th>\n",
       "      <th>Category_work</th>\n",
       "    </tr>\n",
       "  </thead>\n",
       "  <tbody>\n",
       "    <tr>\n",
       "      <th>0</th>\n",
       "      <td>3</td>\n",
       "      <td>E4-XFnQhy2g</td>\n",
       "      <td>Aaron Krolikowski</td>\n",
       "      <td>2017-01-24 22:56:17</td>\n",
       "      <td>3</td>\n",
       "      <td>None</td>\n",
       "      <td>I strongly support the proposed policy, with a...</td>\n",
       "      <td>&lt;p&gt;I strongly support the proposed policy, wit...</td>\n",
       "      <td>[]</td>\n",
       "      <td>Buffalo</td>\n",
       "      <td>Researcher</td>\n",
       "      <td>Freelance</td>\n",
       "      <td>Academia (private)</td>\n",
       "    </tr>\n",
       "    <tr>\n",
       "      <th>1</th>\n",
       "      <td>21</td>\n",
       "      <td>E4-XFj2bu7o</td>\n",
       "      <td>Karyn Tareen</td>\n",
       "      <td>2017-01-24 14:55:16</td>\n",
       "      <td>4</td>\n",
       "      <td>None</td>\n",
       "      <td>Thank you to the City of Buffalo!  My comments...</td>\n",
       "      <td>&lt;p&gt;Thank you to the City of Buffalo!  My comme...</td>\n",
       "      <td>[]</td>\n",
       "      <td>Buffalo</td>\n",
       "      <td>President &amp; CEO</td>\n",
       "      <td>Geocove</td>\n",
       "      <td>Private</td>\n",
       "    </tr>\n",
       "    <tr>\n",
       "      <th>2</th>\n",
       "      <td>24</td>\n",
       "      <td>E4-XFjdEn7k</td>\n",
       "      <td>Sean Myers</td>\n",
       "      <td>2017-01-24 11:27:42</td>\n",
       "      <td>7</td>\n",
       "      <td>None</td>\n",
       "      <td>Thank you City of Buffalo for taking on this i...</td>\n",
       "      <td>&lt;p&gt;Thank you City of Buffalo for taking on thi...</td>\n",
       "      <td>[]</td>\n",
       "      <td>Buffalo</td>\n",
       "      <td>Co-Founder</td>\n",
       "      <td>NBT Solutions</td>\n",
       "      <td>Government</td>\n",
       "    </tr>\n",
       "    <tr>\n",
       "      <th>3</th>\n",
       "      <td>35</td>\n",
       "      <td>E4-XFhv7L1k</td>\n",
       "      <td>Brian Borncamp</td>\n",
       "      <td>2017-01-23 03:48:27</td>\n",
       "      <td>3</td>\n",
       "      <td>None</td>\n",
       "      <td>My comments are rather lengthy. In addition to...</td>\n",
       "      <td>&lt;p&gt;My comments are rather lengthy. In addition...</td>\n",
       "      <td>[]</td>\n",
       "      <td>Buffalo</td>\n",
       "      <td>Civic Technologist</td>\n",
       "      <td>Unknown</td>\n",
       "      <td>Unknown</td>\n",
       "    </tr>\n",
       "    <tr>\n",
       "      <th>4</th>\n",
       "      <td>39</td>\n",
       "      <td>E4-XFg5jX48</td>\n",
       "      <td>Joseph Ghosen</td>\n",
       "      <td>2017-01-19 13:14:53</td>\n",
       "      <td>4</td>\n",
       "      <td>metadata</td>\n",
       "      <td>Metadata is the key to making sure that the da...</td>\n",
       "      <td>&lt;p&gt;Metadata is the key to making sure that the...</td>\n",
       "      <td>[E4-XFhkrg2M, E4-XFh56vbw]</td>\n",
       "      <td>Buffalo</td>\n",
       "      <td>Routing Specialist</td>\n",
       "      <td>Buffalo Board of Education</td>\n",
       "      <td>Public</td>\n",
       "    </tr>\n",
       "  </tbody>\n",
       "</table>\n",
       "</div>"
      ],
      "text/plain": [
       "   index   comment_id             author            datetime num_likes  \\\n",
       "0      3  E4-XFnQhy2g  Aaron Krolikowski 2017-01-24 22:56:17         3   \n",
       "1     21  E4-XFj2bu7o       Karyn Tareen 2017-01-24 14:55:16         4   \n",
       "2     24  E4-XFjdEn7k         Sean Myers 2017-01-24 11:27:42         7   \n",
       "3     35  E4-XFhv7L1k     Brian Borncamp 2017-01-23 03:48:27         3   \n",
       "4     39  E4-XFg5jX48      Joseph Ghosen 2017-01-19 13:14:53         4   \n",
       "\n",
       "  quoted_text                                       comment_text  \\\n",
       "0        None  I strongly support the proposed policy, with a...   \n",
       "1        None  Thank you to the City of Buffalo!  My comments...   \n",
       "2        None  Thank you City of Buffalo for taking on this i...   \n",
       "3        None  My comments are rather lengthy. In addition to...   \n",
       "4    metadata  Metadata is the key to making sure that the da...   \n",
       "\n",
       "                                    comment_text_aux  \\\n",
       "0  <p>I strongly support the proposed policy, wit...   \n",
       "1  <p>Thank you to the City of Buffalo!  My comme...   \n",
       "2  <p>Thank you City of Buffalo for taking on thi...   \n",
       "3  <p>My comments are rather lengthy. In addition...   \n",
       "4  <p>Metadata is the key to making sure that the...   \n",
       "\n",
       "                    reply_ids city_name            Position  \\\n",
       "0                          []   Buffalo          Researcher   \n",
       "1                          []   Buffalo     President & CEO   \n",
       "2                          []   Buffalo          Co-Founder   \n",
       "3                          []   Buffalo  Civic Technologist   \n",
       "4  [E4-XFhkrg2M, E4-XFh56vbw]   Buffalo  Routing Specialist   \n",
       "\n",
       "                 Company_name       Category_work  \n",
       "0                   Freelance  Academia (private)  \n",
       "1                     Geocove             Private  \n",
       "2               NBT Solutions          Government  \n",
       "3                     Unknown             Unknown  \n",
       "4  Buffalo Board of Education              Public  "
      ]
     },
     "execution_count": 27,
     "metadata": {},
     "output_type": "execute_result"
    }
   ],
   "source": [
    "high_likes_comments.head()"
   ]
  },
  {
   "cell_type": "code",
   "execution_count": 28,
   "metadata": {
    "collapsed": true
   },
   "outputs": [],
   "source": [
    "high_likes_comments_count_city = high_likes_comments.groupby(['city_name']).size().reset_index().rename(columns={0:'count'})"
   ]
  },
  {
   "cell_type": "code",
   "execution_count": 29,
   "metadata": {},
   "outputs": [
    {
     "data": {
      "text/html": [
       "<div>\n",
       "<style>\n",
       "    .dataframe thead tr:only-child th {\n",
       "        text-align: right;\n",
       "    }\n",
       "\n",
       "    .dataframe thead th {\n",
       "        text-align: left;\n",
       "    }\n",
       "\n",
       "    .dataframe tbody tr th {\n",
       "        vertical-align: top;\n",
       "    }\n",
       "</style>\n",
       "<table border=\"1\" class=\"dataframe\">\n",
       "  <thead>\n",
       "    <tr style=\"text-align: right;\">\n",
       "      <th></th>\n",
       "      <th>city_name</th>\n",
       "      <th>count</th>\n",
       "    </tr>\n",
       "  </thead>\n",
       "  <tbody>\n",
       "    <tr>\n",
       "      <th>0</th>\n",
       "      <td>Buffalo</td>\n",
       "      <td>6</td>\n",
       "    </tr>\n",
       "    <tr>\n",
       "      <th>1</th>\n",
       "      <td>Naperville</td>\n",
       "      <td>1</td>\n",
       "    </tr>\n",
       "    <tr>\n",
       "      <th>2</th>\n",
       "      <td>Syracuse</td>\n",
       "      <td>2</td>\n",
       "    </tr>\n",
       "  </tbody>\n",
       "</table>\n",
       "</div>"
      ],
      "text/plain": [
       "    city_name  count\n",
       "0     Buffalo      6\n",
       "1  Naperville      1\n",
       "2    Syracuse      2"
      ]
     },
     "execution_count": 29,
     "metadata": {},
     "output_type": "execute_result"
    }
   ],
   "source": [
    "high_likes_comments_count_city"
   ]
  },
  {
   "cell_type": "code",
   "execution_count": 30,
   "metadata": {},
   "outputs": [],
   "source": [
    "likes_x = high_likes_comments_count_city['city_name'].tolist()\n",
    "likes_y = high_likes_comments_count_city['count'].tolist()"
   ]
  },
  {
   "cell_type": "markdown",
   "metadata": {
    "collapsed": true
   },
   "source": [
    "### b) analysis of comments with *more than 2 replies*"
   ]
  },
  {
   "cell_type": "code",
   "execution_count": 31,
   "metadata": {
    "collapsed": true
   },
   "outputs": [],
   "source": [
    "#all_cities_dataframe['reply_ids'].size\n",
    "all_cities_dataframe['reply_ids_count'] = all_cities_dataframe['reply_ids'].str.len()"
   ]
  },
  {
   "cell_type": "code",
   "execution_count": 32,
   "metadata": {},
   "outputs": [
    {
     "name": "stdout",
     "output_type": "stream",
     "text": [
      "\n",
      "\u001b[1mcomment:\n",
      "\n",
      "\u001b[0mOther options being explored? Bulk dataset download is still very common and effective, especially for those users who may not be comfortable accessing an API.\n",
      "\n",
      "\u001b[1mcomment:\n",
      "\n",
      "\u001b[0mPromote open data that informs increases in government efficiency, improvements in the quality of life of its citizens, and more equal opportunities for all residents.\n",
      "Commit to data driven decision making especially in areas of policy.\n",
      "\n",
      "\n",
      "\u001b[1mcomment:\n",
      "\n",
      "\u001b[0mWill data be shared if it is not regularly maintained?  Perhaps \"date of update\" could be identified in the metadata.  Will adopting an OpenData policy encourage the city to more regularly maintain datasets or will this clause be used to skirt sharing policies?  Historical data (not regularly maintained) is still data.\n",
      "\n",
      "\u001b[1mcomment:\n",
      "\n",
      "\u001b[0mI am 100% supportive of open data and anything that improves citizen participation, however I opposed this document as it seems the Mayor implementing his own Open Data is a waste of funds and a duplication of efforts since this already exists for the City of Buffalo with the Comptroller's Open Book.  If the purpose of this document is to have one centralized location for citizens to access data, it seems the Mayor should work to promote the Open Book and any expansion of data be incorporated into that site.\n",
      "\n",
      "\u001b[1mcomment:\n",
      "\n",
      "\u001b[0mis or will be\n",
      "\n",
      "\u001b[1mcomment:\n",
      "\n",
      "\u001b[0mthis is amazing. Very important.\n",
      "\n",
      "\u001b[1mcomment:\n",
      "\n",
      "\u001b[0mA central location is a good idea, IMHO\n",
      "\n",
      "\u001b[1mcomment:\n",
      "\n",
      "\u001b[0mI would recommend that it include members of the public with technical expertise and interest in publicly available data sets too instead of just receiving input.\n",
      "\n",
      "\u001b[1mcomment:\n",
      "\n",
      "\u001b[0mI would hope the city uses GitHub for this task, instead of building a centralized location of it's own.\n",
      "\n",
      "\u001b[1mcomment:\n",
      "\n",
      "\u001b[0mI usually think of \"structured data\" in opposition to \"free text data.\" But I'd think that there are instances where you'd want to make \"unstructured\" data open, e.g., minutes from meetings or notes from an inspection.\n",
      "\n",
      "\u001b[1mcomment:\n",
      "\n",
      "\u001b[0mContradiction - Policies are not guidelines, IMO they are mandatory... guidelines are not mandatory\n",
      "\n",
      "\u001b[1mcomment:\n",
      "\n",
      "\u001b[0mI believe we should be more agile & publish major accomplishments every quarter - waiting 1 year for a formal report of all blockers, issues, failures, and successes eliminates the very transparency the program is aiming to achieve\n",
      "\n",
      "\u001b[1mcomment:\n",
      "\n",
      "\u001b[0mGiven most modern web development relies on APIs and given that most APIs return JSON, a dataset in JSON would receive more interactions than an XML dataset.\n"
     ]
    }
   ],
   "source": [
    "high_replies = likes_replies_analysis(3, 'reply_ids_count', all_cities_dataframe)"
   ]
  },
  {
   "cell_type": "code",
   "execution_count": 44,
   "metadata": {},
   "outputs": [
    {
     "data": {
      "text/html": [
       "<div>\n",
       "<style>\n",
       "    .dataframe thead tr:only-child th {\n",
       "        text-align: right;\n",
       "    }\n",
       "\n",
       "    .dataframe thead th {\n",
       "        text-align: left;\n",
       "    }\n",
       "\n",
       "    .dataframe tbody tr th {\n",
       "        vertical-align: top;\n",
       "    }\n",
       "</style>\n",
       "<table border=\"1\" class=\"dataframe\">\n",
       "  <thead>\n",
       "    <tr style=\"text-align: right;\">\n",
       "      <th></th>\n",
       "      <th>index</th>\n",
       "      <th>comment_id</th>\n",
       "      <th>author</th>\n",
       "      <th>datetime</th>\n",
       "      <th>num_likes</th>\n",
       "      <th>quoted_text</th>\n",
       "      <th>comment_text</th>\n",
       "      <th>comment_text_aux</th>\n",
       "      <th>reply_ids</th>\n",
       "      <th>city_name</th>\n",
       "      <th>Position</th>\n",
       "      <th>Company_name</th>\n",
       "      <th>Category_work</th>\n",
       "      <th>reply_ids_count</th>\n",
       "    </tr>\n",
       "  </thead>\n",
       "  <tbody>\n",
       "    <tr>\n",
       "      <th>0</th>\n",
       "      <td>30</td>\n",
       "      <td>E4-XFix9HHY</td>\n",
       "      <td>Peter Johnson</td>\n",
       "      <td>2017-01-24 04:01:27</td>\n",
       "      <td>2</td>\n",
       "      <td>Application Programming Interfaces (API</td>\n",
       "      <td>Other options being explored? Bulk dataset dow...</td>\n",
       "      <td>&lt;p&gt;Other options being explored? Bulk dataset ...</td>\n",
       "      <td>[E4-XFj-asew, E4-XFkAnfVE, E4-XFl22vv8, E4-XFn...</td>\n",
       "      <td>Buffalo</td>\n",
       "      <td>Researcher</td>\n",
       "      <td>University of Waterloo</td>\n",
       "      <td>Academia (private)</td>\n",
       "      <td>4</td>\n",
       "    </tr>\n",
       "    <tr>\n",
       "      <th>1</th>\n",
       "      <td>33</td>\n",
       "      <td>E4-XFiejO_4</td>\n",
       "      <td>Kelly Dodd</td>\n",
       "      <td>2017-01-24 03:04:56</td>\n",
       "      <td>2</td>\n",
       "      <td>Provide open data that increases government ef...</td>\n",
       "      <td>Promote open data that informs increases in go...</td>\n",
       "      <td>&lt;p&gt;Promote open data that informs increases in...</td>\n",
       "      <td>[E4-XFiiGPbw, E4-XFjIXTLs, E4-XFkIuyUs]</td>\n",
       "      <td>Buffalo</td>\n",
       "      <td>Unknown</td>\n",
       "      <td>Unknown</td>\n",
       "      <td>Unknown</td>\n",
       "      <td>3</td>\n",
       "    </tr>\n",
       "    <tr>\n",
       "      <th>2</th>\n",
       "      <td>34</td>\n",
       "      <td>E4-XFiRBEvg</td>\n",
       "      <td>Monica Stephens</td>\n",
       "      <td>2017-01-24 01:35:33</td>\n",
       "      <td>2</td>\n",
       "      <td>regularly maintained</td>\n",
       "      <td>Will data be shared if it is not regularly mai...</td>\n",
       "      <td>&lt;p&gt;Will data be shared if it is not regularly ...</td>\n",
       "      <td>[E4-XFiXvZqU, E4-XFiotKgk, E4-XFmBOIfc]</td>\n",
       "      <td>Buffalo</td>\n",
       "      <td>Assistant Professor</td>\n",
       "      <td>University of Buffalo</td>\n",
       "      <td>Academia (private)</td>\n",
       "      <td>3</td>\n",
       "    </tr>\n",
       "    <tr>\n",
       "      <th>3</th>\n",
       "      <td>41</td>\n",
       "      <td>E4-XFghnJBc</td>\n",
       "      <td>Aubrey Hlavaty</td>\n",
       "      <td>2017-01-17 14:15:17</td>\n",
       "      <td>0</td>\n",
       "      <td>None</td>\n",
       "      <td>I am 100% supportive of open data and anything...</td>\n",
       "      <td>&lt;p&gt;I am 100% supportive of open data and anyth...</td>\n",
       "      <td>[E4-XFgi7irs, E4-XFgm8f0U, E4-XFgo3uV8]</td>\n",
       "      <td>Buffalo</td>\n",
       "      <td>Unknown</td>\n",
       "      <td>Unknown</td>\n",
       "      <td>Unknown</td>\n",
       "      <td>3</td>\n",
       "    </tr>\n",
       "    <tr>\n",
       "      <th>4</th>\n",
       "      <td>48</td>\n",
       "      <td>E4-XFe7hjYs</td>\n",
       "      <td>Andrew Nicklin</td>\n",
       "      <td>2017-01-17 02:59:19</td>\n",
       "      <td>1</td>\n",
       "      <td>is</td>\n",
       "      <td>is or will be</td>\n",
       "      <td>&lt;p&gt;is or will be&lt;/p&gt;</td>\n",
       "      <td>[E4-XFe_YcM8, E4-XFgFMLWA, E4-XFgfoN6c, E4-XFj...</td>\n",
       "      <td>Buffalo</td>\n",
       "      <td>Technology, Data, and Open Government Strategist</td>\n",
       "      <td>GovEx</td>\n",
       "      <td>Academia (private)</td>\n",
       "      <td>5</td>\n",
       "    </tr>\n",
       "  </tbody>\n",
       "</table>\n",
       "</div>"
      ],
      "text/plain": [
       "   index   comment_id           author            datetime num_likes  \\\n",
       "0     30  E4-XFix9HHY    Peter Johnson 2017-01-24 04:01:27         2   \n",
       "1     33  E4-XFiejO_4       Kelly Dodd 2017-01-24 03:04:56         2   \n",
       "2     34  E4-XFiRBEvg  Monica Stephens 2017-01-24 01:35:33         2   \n",
       "3     41  E4-XFghnJBc   Aubrey Hlavaty 2017-01-17 14:15:17         0   \n",
       "4     48  E4-XFe7hjYs   Andrew Nicklin 2017-01-17 02:59:19         1   \n",
       "\n",
       "                                         quoted_text  \\\n",
       "0            Application Programming Interfaces (API   \n",
       "1  Provide open data that increases government ef...   \n",
       "2                               regularly maintained   \n",
       "3                                               None   \n",
       "4                                                 is   \n",
       "\n",
       "                                        comment_text  \\\n",
       "0  Other options being explored? Bulk dataset dow...   \n",
       "1  Promote open data that informs increases in go...   \n",
       "2  Will data be shared if it is not regularly mai...   \n",
       "3  I am 100% supportive of open data and anything...   \n",
       "4                                      is or will be   \n",
       "\n",
       "                                    comment_text_aux  \\\n",
       "0  <p>Other options being explored? Bulk dataset ...   \n",
       "1  <p>Promote open data that informs increases in...   \n",
       "2  <p>Will data be shared if it is not regularly ...   \n",
       "3  <p>I am 100% supportive of open data and anyth...   \n",
       "4                               <p>is or will be</p>   \n",
       "\n",
       "                                           reply_ids city_name  \\\n",
       "0  [E4-XFj-asew, E4-XFkAnfVE, E4-XFl22vv8, E4-XFn...   Buffalo   \n",
       "1            [E4-XFiiGPbw, E4-XFjIXTLs, E4-XFkIuyUs]   Buffalo   \n",
       "2            [E4-XFiXvZqU, E4-XFiotKgk, E4-XFmBOIfc]   Buffalo   \n",
       "3            [E4-XFgi7irs, E4-XFgm8f0U, E4-XFgo3uV8]   Buffalo   \n",
       "4  [E4-XFe_YcM8, E4-XFgFMLWA, E4-XFgfoN6c, E4-XFj...   Buffalo   \n",
       "\n",
       "                                           Position            Company_name  \\\n",
       "0                                        Researcher  University of Waterloo   \n",
       "1                                           Unknown                 Unknown   \n",
       "2                               Assistant Professor   University of Buffalo   \n",
       "3                                           Unknown                 Unknown   \n",
       "4  Technology, Data, and Open Government Strategist                   GovEx   \n",
       "\n",
       "        Category_work  reply_ids_count  \n",
       "0  Academia (private)                4  \n",
       "1             Unknown                3  \n",
       "2  Academia (private)                3  \n",
       "3             Unknown                3  \n",
       "4  Academia (private)                5  "
      ]
     },
     "execution_count": 44,
     "metadata": {},
     "output_type": "execute_result"
    }
   ],
   "source": [
    "high_replies.head()"
   ]
  },
  {
   "cell_type": "code",
   "execution_count": 45,
   "metadata": {
    "collapsed": true
   },
   "outputs": [],
   "source": [
    "high_replies_comments_count_city = high_replies.groupby(['city_name']).size().reset_index().rename(columns={0:'count'})"
   ]
  },
  {
   "cell_type": "code",
   "execution_count": 46,
   "metadata": {},
   "outputs": [
    {
     "data": {
      "text/html": [
       "<div>\n",
       "<style>\n",
       "    .dataframe thead tr:only-child th {\n",
       "        text-align: right;\n",
       "    }\n",
       "\n",
       "    .dataframe thead th {\n",
       "        text-align: left;\n",
       "    }\n",
       "\n",
       "    .dataframe tbody tr th {\n",
       "        vertical-align: top;\n",
       "    }\n",
       "</style>\n",
       "<table border=\"1\" class=\"dataframe\">\n",
       "  <thead>\n",
       "    <tr style=\"text-align: right;\">\n",
       "      <th></th>\n",
       "      <th>city_name</th>\n",
       "      <th>count</th>\n",
       "    </tr>\n",
       "  </thead>\n",
       "  <tbody>\n",
       "    <tr>\n",
       "      <th>0</th>\n",
       "      <td>Buffalo</td>\n",
       "      <td>8</td>\n",
       "    </tr>\n",
       "    <tr>\n",
       "      <th>1</th>\n",
       "      <td>Syracuse</td>\n",
       "      <td>5</td>\n",
       "    </tr>\n",
       "  </tbody>\n",
       "</table>\n",
       "</div>"
      ],
      "text/plain": [
       "  city_name  count\n",
       "0   Buffalo      8\n",
       "1  Syracuse      5"
      ]
     },
     "execution_count": 46,
     "metadata": {},
     "output_type": "execute_result"
    }
   ],
   "source": [
    "high_replies_comments_count_city"
   ]
  },
  {
   "cell_type": "code",
   "execution_count": 47,
   "metadata": {
    "collapsed": true
   },
   "outputs": [],
   "source": [
    "replies_x = high_replies_comments_count_city['city_name'].tolist()\n",
    "replies_y = high_replies_comments_count_city['count'].tolist()"
   ]
  },
  {
   "cell_type": "markdown",
   "metadata": {},
   "source": [
    "#### stacked chart"
   ]
  },
  {
   "cell_type": "code",
   "execution_count": 55,
   "metadata": {},
   "outputs": [
    {
     "data": {
      "image/png": "[encoded data removed]",
      "text/plain": [
       "<matplotlib.figure.Figure at 0x10ccd7908>"
      ]
     },
     "metadata": {},
     "output_type": "display_data"
    }
   ],
   "source": [
    "likes_replies_chart('Number of comments', 'Number of comments with 3 or more likes/replies', likes_x, likes_y, replies_x, replies_y, all_madison_dfs)"
   ]
  },
  {
   "cell_type": "markdown",
   "metadata": {
    "collapsed": true
   },
   "source": [
    "# 6) Authors' analysis"
   ]
  },
  {
   "cell_type": "markdown",
   "metadata": {},
   "source": [
    "##### the following analysis was done after finding out details of the authors' on the internet"
   ]
  },
  {
   "cell_type": "code",
   "execution_count": 13,
   "metadata": {},
   "outputs": [],
   "source": [
    "authors_details_df = authors_details_dataframe(all_cities_dataframe)"
   ]
  },
  {
   "cell_type": "code",
   "execution_count": 14,
   "metadata": {},
   "outputs": [
    {
     "data": {
      "text/html": [
       "<div>\n",
       "<style>\n",
       "    .dataframe thead tr:only-child th {\n",
       "        text-align: right;\n",
       "    }\n",
       "\n",
       "    .dataframe thead th {\n",
       "        text-align: left;\n",
       "    }\n",
       "\n",
       "    .dataframe tbody tr th {\n",
       "        vertical-align: top;\n",
       "    }\n",
       "</style>\n",
       "<table border=\"1\" class=\"dataframe\">\n",
       "  <thead>\n",
       "    <tr style=\"text-align: right;\">\n",
       "      <th></th>\n",
       "      <th>comment_id</th>\n",
       "      <th>author</th>\n",
       "      <th>Position</th>\n",
       "      <th>Company_name</th>\n",
       "      <th>Category_work</th>\n",
       "      <th>datetime</th>\n",
       "      <th>num_likes</th>\n",
       "      <th>quoted_text</th>\n",
       "      <th>comment_text</th>\n",
       "      <th>comment_text_aux</th>\n",
       "      <th>reply_ids</th>\n",
       "      <th>city_name</th>\n",
       "    </tr>\n",
       "  </thead>\n",
       "  <tbody>\n",
       "    <tr>\n",
       "      <th>1</th>\n",
       "      <td>E4-XFnl1uKc</td>\n",
       "      <td>Aaron Lee</td>\n",
       "      <td>Software Developer</td>\n",
       "      <td>Solace Systems</td>\n",
       "      <td>Private</td>\n",
       "      <td>2017-01-25 04:32:19</td>\n",
       "      <td>2</td>\n",
       "      <td>None</td>\n",
       "      <td>I am in support of the proposed policy to furt...</td>\n",
       "      <td>&lt;p&gt;I am in support of the proposed policy to f...</td>\n",
       "      <td>[]</td>\n",
       "      <td>Buffalo</td>\n",
       "    </tr>\n",
       "    <tr>\n",
       "      <th>2</th>\n",
       "      <td>E4-XFnjG3Ac</td>\n",
       "      <td>Aaron Lee</td>\n",
       "      <td>Software Developer</td>\n",
       "      <td>Solace Systems</td>\n",
       "      <td>Private</td>\n",
       "      <td>2017-01-25 04:25:20</td>\n",
       "      <td>0</td>\n",
       "      <td>public participation by providing regular oppo...</td>\n",
       "      <td>I would be interested to see this more finely ...</td>\n",
       "      <td>&lt;p&gt;I would be interested to see this more fine...</td>\n",
       "      <td>[]</td>\n",
       "      <td>Buffalo</td>\n",
       "    </tr>\n",
       "    <tr>\n",
       "      <th>3</th>\n",
       "      <td>E4-XFnQhy2g</td>\n",
       "      <td>Aaron Krolikowski</td>\n",
       "      <td>Researcher</td>\n",
       "      <td>Freelance</td>\n",
       "      <td>Academia (private)</td>\n",
       "      <td>2017-01-24 22:56:17</td>\n",
       "      <td>3</td>\n",
       "      <td>None</td>\n",
       "      <td>I strongly support the proposed policy, with a...</td>\n",
       "      <td>&lt;p&gt;I strongly support the proposed policy, wit...</td>\n",
       "      <td>[]</td>\n",
       "      <td>Buffalo</td>\n",
       "    </tr>\n",
       "    <tr>\n",
       "      <th>4</th>\n",
       "      <td>E4-XFnNQNY8</td>\n",
       "      <td>Aaron Krolikowski</td>\n",
       "      <td>Researcher</td>\n",
       "      <td>Freelance</td>\n",
       "      <td>Academia (private)</td>\n",
       "      <td>2017-01-24 22:46:57</td>\n",
       "      <td>0</td>\n",
       "      <td>Publish high quality, updated data with docume...</td>\n",
       "      <td>Can the portal include an option for community...</td>\n",
       "      <td>&lt;p&gt;Can the portal include an option for commun...</td>\n",
       "      <td>[]</td>\n",
       "      <td>Buffalo</td>\n",
       "    </tr>\n",
       "    <tr>\n",
       "      <th>5</th>\n",
       "      <td>E4-XFnJHPCA</td>\n",
       "      <td>Aaron Krolikowski</td>\n",
       "      <td>Researcher</td>\n",
       "      <td>Freelance</td>\n",
       "      <td>Academia (private)</td>\n",
       "      <td>2017-01-24 22:45:58</td>\n",
       "      <td>0</td>\n",
       "      <td>limitations on the disclosure of public inform...</td>\n",
       "      <td>It may be a helpful option to include a reposi...</td>\n",
       "      <td>&lt;p&gt;It may be a helpful option to include a rep...</td>\n",
       "      <td>[]</td>\n",
       "      <td>Buffalo</td>\n",
       "    </tr>\n",
       "  </tbody>\n",
       "</table>\n",
       "</div>"
      ],
      "text/plain": [
       "    comment_id             author            Position    Company_name  \\\n",
       "1  E4-XFnl1uKc          Aaron Lee  Software Developer  Solace Systems   \n",
       "2  E4-XFnjG3Ac          Aaron Lee  Software Developer  Solace Systems   \n",
       "3  E4-XFnQhy2g  Aaron Krolikowski          Researcher       Freelance   \n",
       "4  E4-XFnNQNY8  Aaron Krolikowski          Researcher       Freelance   \n",
       "5  E4-XFnJHPCA  Aaron Krolikowski          Researcher       Freelance   \n",
       "\n",
       "        Category_work            datetime num_likes  \\\n",
       "1             Private 2017-01-25 04:32:19         2   \n",
       "2             Private 2017-01-25 04:25:20         0   \n",
       "3  Academia (private) 2017-01-24 22:56:17         3   \n",
       "4  Academia (private) 2017-01-24 22:46:57         0   \n",
       "5  Academia (private) 2017-01-24 22:45:58         0   \n",
       "\n",
       "                                         quoted_text  \\\n",
       "1                                               None   \n",
       "2  public participation by providing regular oppo...   \n",
       "3                                               None   \n",
       "4  Publish high quality, updated data with docume...   \n",
       "5  limitations on the disclosure of public inform...   \n",
       "\n",
       "                                        comment_text  \\\n",
       "1  I am in support of the proposed policy to furt...   \n",
       "2  I would be interested to see this more finely ...   \n",
       "3  I strongly support the proposed policy, with a...   \n",
       "4  Can the portal include an option for community...   \n",
       "5  It may be a helpful option to include a reposi...   \n",
       "\n",
       "                                    comment_text_aux reply_ids city_name  \n",
       "1  <p>I am in support of the proposed policy to f...        []   Buffalo  \n",
       "2  <p>I would be interested to see this more fine...        []   Buffalo  \n",
       "3  <p>I strongly support the proposed policy, wit...        []   Buffalo  \n",
       "4  <p>Can the portal include an option for commun...        []   Buffalo  \n",
       "5  <p>It may be a helpful option to include a rep...        []   Buffalo  "
      ]
     },
     "execution_count": 14,
     "metadata": {},
     "output_type": "execute_result"
    }
   ],
   "source": [
    "authors_details_df.head()"
   ]
  },
  {
   "cell_type": "markdown",
   "metadata": {},
   "source": [
    "##### count just positions"
   ]
  },
  {
   "cell_type": "code",
   "execution_count": 15,
   "metadata": {},
   "outputs": [
    {
     "data": {
      "text/html": [
       "<div>\n",
       "<style>\n",
       "    .dataframe thead tr:only-child th {\n",
       "        text-align: right;\n",
       "    }\n",
       "\n",
       "    .dataframe thead th {\n",
       "        text-align: left;\n",
       "    }\n",
       "\n",
       "    .dataframe tbody tr th {\n",
       "        vertical-align: top;\n",
       "    }\n",
       "</style>\n",
       "<table border=\"1\" class=\"dataframe\">\n",
       "  <thead>\n",
       "    <tr style=\"text-align: right;\">\n",
       "      <th></th>\n",
       "      <th>index</th>\n",
       "      <th>Position</th>\n",
       "      <th>count</th>\n",
       "    </tr>\n",
       "  </thead>\n",
       "  <tbody>\n",
       "    <tr>\n",
       "      <th>0</th>\n",
       "      <td>27</td>\n",
       "      <td>Unknown</td>\n",
       "      <td>27</td>\n",
       "    </tr>\n",
       "    <tr>\n",
       "      <th>1</th>\n",
       "      <td>21</td>\n",
       "      <td>Software Developer</td>\n",
       "      <td>7</td>\n",
       "    </tr>\n",
       "    <tr>\n",
       "      <th>2</th>\n",
       "      <td>3</td>\n",
       "      <td>Civic Technologist</td>\n",
       "      <td>4</td>\n",
       "    </tr>\n",
       "    <tr>\n",
       "      <th>3</th>\n",
       "      <td>19</td>\n",
       "      <td>Researcher</td>\n",
       "      <td>2</td>\n",
       "    </tr>\n",
       "    <tr>\n",
       "      <th>4</th>\n",
       "      <td>1</td>\n",
       "      <td>Assistant Professor</td>\n",
       "      <td>2</td>\n",
       "    </tr>\n",
       "  </tbody>\n",
       "</table>\n",
       "</div>"
      ],
      "text/plain": [
       "   index             Position  count\n",
       "0     27              Unknown     27\n",
       "1     21   Software Developer      7\n",
       "2      3   Civic Technologist      4\n",
       "3     19           Researcher      2\n",
       "4      1  Assistant Professor      2"
      ]
     },
     "execution_count": 15,
     "metadata": {},
     "output_type": "execute_result"
    }
   ],
   "source": [
    "count_positions = authors_details_df.drop_duplicates('author').reset_index()\n",
    "count_just_positions = authors_details_analysis('Position', count_positions)\n",
    "count_just_positions.head()"
   ]
  },
  {
   "cell_type": "code",
   "execution_count": 16,
   "metadata": {},
   "outputs": [
    {
     "data": {
      "image/png": "[encoded data removed]",
      "text/plain": [
       "<matplotlib.figure.Figure at 0x10d8d7438>"
      ]
     },
     "metadata": {},
     "output_type": "display_data"
    }
   ],
   "source": [
    "horizontal_bar_from_dataframe(count_just_positions.head(5), \"Position\", \"count\", \"Number of people\")"
   ]
  },
  {
   "cell_type": "markdown",
   "metadata": {},
   "source": [
    " ##### count just categories"
   ]
  },
  {
   "cell_type": "code",
   "execution_count": 17,
   "metadata": {},
   "outputs": [
    {
     "data": {
      "text/html": [
       "<div>\n",
       "<style>\n",
       "    .dataframe thead tr:only-child th {\n",
       "        text-align: right;\n",
       "    }\n",
       "\n",
       "    .dataframe thead th {\n",
       "        text-align: left;\n",
       "    }\n",
       "\n",
       "    .dataframe tbody tr th {\n",
       "        vertical-align: top;\n",
       "    }\n",
       "</style>\n",
       "<table border=\"1\" class=\"dataframe\">\n",
       "  <thead>\n",
       "    <tr style=\"text-align: right;\">\n",
       "      <th></th>\n",
       "      <th>index</th>\n",
       "      <th>Category_work</th>\n",
       "      <th>count</th>\n",
       "    </tr>\n",
       "  </thead>\n",
       "  <tbody>\n",
       "    <tr>\n",
       "      <th>0</th>\n",
       "      <td>6</td>\n",
       "      <td>Unknown</td>\n",
       "      <td>28</td>\n",
       "    </tr>\n",
       "    <tr>\n",
       "      <th>1</th>\n",
       "      <td>3</td>\n",
       "      <td>Private</td>\n",
       "      <td>13</td>\n",
       "    </tr>\n",
       "    <tr>\n",
       "      <th>2</th>\n",
       "      <td>1</td>\n",
       "      <td>Government</td>\n",
       "      <td>10</td>\n",
       "    </tr>\n",
       "    <tr>\n",
       "      <th>3</th>\n",
       "      <td>0</td>\n",
       "      <td>Academia (private)</td>\n",
       "      <td>7</td>\n",
       "    </tr>\n",
       "    <tr>\n",
       "      <th>4</th>\n",
       "      <td>2</td>\n",
       "      <td>Not-for-profit</td>\n",
       "      <td>4</td>\n",
       "    </tr>\n",
       "    <tr>\n",
       "      <th>5</th>\n",
       "      <td>5</td>\n",
       "      <td>Public</td>\n",
       "      <td>2</td>\n",
       "    </tr>\n",
       "    <tr>\n",
       "      <th>6</th>\n",
       "      <td>4</td>\n",
       "      <td>Private/Cybersecurity</td>\n",
       "      <td>1</td>\n",
       "    </tr>\n",
       "  </tbody>\n",
       "</table>\n",
       "</div>"
      ],
      "text/plain": [
       "   index          Category_work  count\n",
       "0      6                Unknown     28\n",
       "1      3                Private     13\n",
       "2      1             Government     10\n",
       "3      0     Academia (private)      7\n",
       "4      2         Not-for-profit      4\n",
       "5      5                 Public      2\n",
       "6      4  Private/Cybersecurity      1"
      ]
     },
     "execution_count": 17,
     "metadata": {},
     "output_type": "execute_result"
    }
   ],
   "source": [
    "count_just_categories = authors_details_analysis('Category_work', count_positions)\n",
    "count_just_categories"
   ]
  },
  {
   "cell_type": "code",
   "execution_count": 18,
   "metadata": {},
   "outputs": [
    {
     "data": {
      "image/png": "[encoded data removed]",
      "text/plain": [
       "<matplotlib.figure.Figure at 0x10d85bb38>"
      ]
     },
     "metadata": {},
     "output_type": "display_data"
    }
   ],
   "source": [
    "horizontal_bar_from_dataframe(count_just_categories, \"Category_work\", \"count\", \"Number of people\")"
   ]
  },
  {
   "cell_type": "markdown",
   "metadata": {},
   "source": [
    "####  Position with city-wise analysis"
   ]
  },
  {
   "cell_type": "code",
   "execution_count": 449,
   "metadata": {
    "collapsed": true
   },
   "outputs": [],
   "source": [
    "count_positions1 = count_positions.groupby(['Position', 'city_name']).size().reset_index().rename(columns={0:'count'})"
   ]
  },
  {
   "cell_type": "code",
   "execution_count": 450,
   "metadata": {},
   "outputs": [],
   "source": [
    "count_positions2 = count_positions1.sort_values(['city_name', 'count'], ascending=False)"
   ]
  },
  {
   "cell_type": "code",
   "execution_count": 452,
   "metadata": {
    "collapsed": true
   },
   "outputs": [],
   "source": [
    "count_positions3 = count_positions2.groupby('city_name').head(2)"
   ]
  },
  {
   "cell_type": "code",
   "execution_count": 453,
   "metadata": {},
   "outputs": [
    {
     "data": {
      "text/html": [
       "<div>\n",
       "<style>\n",
       "    .dataframe thead tr:only-child th {\n",
       "        text-align: right;\n",
       "    }\n",
       "\n",
       "    .dataframe thead th {\n",
       "        text-align: left;\n",
       "    }\n",
       "\n",
       "    .dataframe tbody tr th {\n",
       "        vertical-align: top;\n",
       "    }\n",
       "</style>\n",
       "<table border=\"1\" class=\"dataframe\">\n",
       "  <thead>\n",
       "    <tr style=\"text-align: right;\">\n",
       "      <th></th>\n",
       "      <th>Position</th>\n",
       "      <th>city_name</th>\n",
       "      <th>count</th>\n",
       "    </tr>\n",
       "  </thead>\n",
       "  <tbody>\n",
       "    <tr>\n",
       "      <th>37</th>\n",
       "      <td>Unknown</td>\n",
       "      <td>Tyler</td>\n",
       "      <td>3</td>\n",
       "    </tr>\n",
       "    <tr>\n",
       "      <th>36</th>\n",
       "      <td>Unknown</td>\n",
       "      <td>Syracuse</td>\n",
       "      <td>5</td>\n",
       "    </tr>\n",
       "    <tr>\n",
       "      <th>25</th>\n",
       "      <td>Software Developer</td>\n",
       "      <td>Syracuse</td>\n",
       "      <td>2</td>\n",
       "    </tr>\n",
       "    <tr>\n",
       "      <th>10</th>\n",
       "      <td>Director for Open Participation and Communities</td>\n",
       "      <td>San Francisco</td>\n",
       "      <td>1</td>\n",
       "    </tr>\n",
       "    <tr>\n",
       "      <th>35</th>\n",
       "      <td>Unknown</td>\n",
       "      <td>San Francisco</td>\n",
       "      <td>1</td>\n",
       "    </tr>\n",
       "    <tr>\n",
       "      <th>24</th>\n",
       "      <td>Software Developer</td>\n",
       "      <td>Nashville</td>\n",
       "      <td>1</td>\n",
       "    </tr>\n",
       "    <tr>\n",
       "      <th>28</th>\n",
       "      <td>Statistician</td>\n",
       "      <td>Nashville</td>\n",
       "      <td>1</td>\n",
       "    </tr>\n",
       "    <tr>\n",
       "      <th>5</th>\n",
       "      <td>Civic Technologist</td>\n",
       "      <td>Naperville</td>\n",
       "      <td>3</td>\n",
       "    </tr>\n",
       "    <tr>\n",
       "      <th>3</th>\n",
       "      <td>Chief Data Officer</td>\n",
       "      <td>Naperville</td>\n",
       "      <td>1</td>\n",
       "    </tr>\n",
       "    <tr>\n",
       "      <th>32</th>\n",
       "      <td>Unknown</td>\n",
       "      <td>Glendale</td>\n",
       "      <td>7</td>\n",
       "    </tr>\n",
       "    <tr>\n",
       "      <th>7</th>\n",
       "      <td>Data Journalist</td>\n",
       "      <td>Glendale</td>\n",
       "      <td>1</td>\n",
       "    </tr>\n",
       "    <tr>\n",
       "      <th>15</th>\n",
       "      <td>Open Data Program Manager</td>\n",
       "      <td>Durham</td>\n",
       "      <td>1</td>\n",
       "    </tr>\n",
       "    <tr>\n",
       "      <th>31</th>\n",
       "      <td>Unknown</td>\n",
       "      <td>Buffalo</td>\n",
       "      <td>9</td>\n",
       "    </tr>\n",
       "    <tr>\n",
       "      <th>23</th>\n",
       "      <td>Software Developer</td>\n",
       "      <td>Buffalo</td>\n",
       "      <td>4</td>\n",
       "    </tr>\n",
       "    <tr>\n",
       "      <th>9</th>\n",
       "      <td>Director</td>\n",
       "      <td>Bart</td>\n",
       "      <td>1</td>\n",
       "    </tr>\n",
       "  </tbody>\n",
       "</table>\n",
       "</div>"
      ],
      "text/plain": [
       "                                           Position      city_name  count\n",
       "37                                          Unknown          Tyler      3\n",
       "36                                          Unknown       Syracuse      5\n",
       "25                               Software Developer       Syracuse      2\n",
       "10  Director for Open Participation and Communities  San Francisco      1\n",
       "35                                          Unknown  San Francisco      1\n",
       "24                               Software Developer      Nashville      1\n",
       "28                                     Statistician      Nashville      1\n",
       "5                                Civic Technologist     Naperville      3\n",
       "3                                Chief Data Officer     Naperville      1\n",
       "32                                          Unknown       Glendale      7\n",
       "7                                   Data Journalist       Glendale      1\n",
       "15                        Open Data Program Manager         Durham      1\n",
       "31                                          Unknown        Buffalo      9\n",
       "23                               Software Developer        Buffalo      4\n",
       "9                                          Director           Bart      1"
      ]
     },
     "execution_count": 453,
     "metadata": {},
     "output_type": "execute_result"
    }
   ],
   "source": [
    "count_positions3"
   ]
  },
  {
   "cell_type": "code",
   "execution_count": 49,
   "metadata": {
    "collapsed": true
   },
   "outputs": [],
   "source": [
    "position_list = count_positions3['Position'].tolist()\n",
    "city_list = count_positions['city_name'].unique().tolist()"
   ]
  },
  {
   "cell_type": "code",
   "execution_count": 462,
   "metadata": {},
   "outputs": [
    {
     "data": {
      "image/png": "[encoded data removed]",
      "text/plain": [
       "<matplotlib.figure.Figure at 0x1165daf98>"
      ]
     },
     "metadata": {},
     "output_type": "display_data"
    }
   ],
   "source": [
    "horizontal_stacked_bar_from_dataframe(count_positions3, \"city_name\", \"Position\", \"count\", \"Number of people\", \"who-comments-the-most\")"
   ]
  }
 ],
 "metadata": {
  "kernelspec": {
   "display_name": "Python 3",
   "language": "python",
   "name": "python3"
  },
  "language_info": {
   "codemirror_mode": {
    "name": "ipython",
    "version": 3
   },
   "file_extension": ".py",
   "mimetype": "text/x-python",
   "name": "python",
   "nbconvert_exporter": "python",
   "pygments_lexer": "ipython3",
   "version": "3.5.3"
  }
 },
 "nbformat": 4,
 "nbformat_minor": 2
}
