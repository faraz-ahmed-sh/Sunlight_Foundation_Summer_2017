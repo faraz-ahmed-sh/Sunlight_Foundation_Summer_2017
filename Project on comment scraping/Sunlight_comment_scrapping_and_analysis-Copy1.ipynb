{
 "cells": [
  {
   "cell_type": "code",
   "execution_count": 4,
   "metadata": {
    "collapsed": true
   },
   "outputs": [],
   "source": [
    "# loading the scrapper & analysis functions\n",
    "from comment_crawler import *\n",
    "from comment_crawler_analysis import *\n",
    "from graphs_and_charts import *\n",
    "from authors_names import *"
   ]
  },
  {
   "cell_type": "code",
   "execution_count": 5,
   "metadata": {
    "collapsed": true
   },
   "outputs": [],
   "source": [
    "%run comment_crawler.py\n",
    "%run comment_crawler_analysis.py\n",
    "%run graphs_and_charts.py\n",
    "%run authors_names.py"
   ]
  },
  {
   "cell_type": "markdown",
   "metadata": {},
   "source": [
    "#### Define the starting urls list:"
   ]
  },
  {
   "cell_type": "code",
   "execution_count": 6,
   "metadata": {},
   "outputs": [
    {
     "data": {
      "text/plain": [
       "['https://mymadison.io/documents/city-of-buffalo-open-data-policy',\n",
       " 'https://mymadison.io/documents/durham-open-data-policy',\n",
       " 'https://mymadison.io/documents/city-of-tyler-data-policy',\n",
       " 'https://mymadison.io/documents/city-of-glendale-draft-open-data-resolution',\n",
       " 'https://mymadison.io/documents/metro-nashville-government-open-data-policy',\n",
       " 'https://mymadison.io/documents/city-of-syracuse-open-data-policy',\n",
       " 'https://mymadison.io/documents/napervilleopendatapolicy',\n",
       " 'https://mymadison.io/documents/bart-open-data-policy',\n",
       " 'https://mymadison.io/documents/san-francisco-open-data-legislation-2014']"
      ]
     },
     "execution_count": 6,
     "metadata": {},
     "output_type": "execute_result"
    }
   ],
   "source": [
    "starting_urls_list"
   ]
  },
  {
   "cell_type": "markdown",
   "metadata": {},
   "source": [
    "### Scrapping all the open data policy comments and policy texts for all Madison websites and putting them into dataframes"
   ]
  },
  {
   "cell_type": "code",
   "execution_count": 7,
   "metadata": {},
   "outputs": [
    {
     "name": "stderr",
     "output_type": "stream",
     "text": [
      "/Users/summerfellow/anaconda/envs/py35/lib/python3.5/site-packages/bs4/__init__.py:181: UserWarning: No parser was explicitly specified, so I'm using the best available HTML parser for this system (\"html5lib\"). This usually isn't a problem, but if you run this code on another system, or in a different virtual environment, it may use a different parser and behave differently.\n",
      "\n",
      "The code that caused this warning is on line 193 of the file /Users/summerfellow/anaconda/envs/py35/lib/python3.5/runpy.py. To get rid of this warning, change code that looks like this:\n",
      "\n",
      " BeautifulSoup(YOUR_MARKUP})\n",
      "\n",
      "to this:\n",
      "\n",
      " BeautifulSoup(YOUR_MARKUP, \"html5lib\")\n",
      "\n",
      "  markup_type=markup_type))\n"
     ]
    }
   ],
   "source": [
    "all_madison_dfs, all_cities_dataframe, full_policy_text = go_all_madison_websites(starting_urls_list);"
   ]
  },
  {
   "cell_type": "code",
   "execution_count": 11,
   "metadata": {},
   "outputs": [
    {
     "name": "stdout",
     "output_type": "stream",
     "text": [
      "Names of cities under analysis:\n",
      "\n",
      "Buffalo\n",
      "Durham\n",
      "Tyler\n",
      "Glendale\n",
      "Nashville\n",
      "Syracuse\n",
      "Naperville\n",
      "Bart\n",
      "San Francisco\n"
     ]
    }
   ],
   "source": [
    "print (\"Names of cities under analysis:\")\n",
    "print()\n",
    "for name, city, policy, support in all_madison_dfs:\n",
    "    print(name)"
   ]
  },
  {
   "cell_type": "markdown",
   "metadata": {},
   "source": [
    " "
   ]
  },
  {
   "cell_type": "markdown",
   "metadata": {},
   "source": [
    "# --- Analysis ----"
   ]
  },
  {
   "cell_type": "markdown",
   "metadata": {},
   "source": [
    "# 1.1) Most frequent words"
   ]
  },
  {
   "cell_type": "markdown",
   "metadata": {},
   "source": [
    "## a) most common words in quoted texts (policy sections)"
   ]
  },
  {
   "cell_type": "markdown",
   "metadata": {},
   "source": [
    "### (top 20 words) for all the cities combined\n"
   ]
  },
  {
   "cell_type": "code",
   "execution_count": 12,
   "metadata": {},
   "outputs": [
    {
     "data": {
      "image/png": "[encoded data removed]",
      "text/plain": [
       "<matplotlib.figure.Figure at 0x10c2c7908>"
      ]
     },
     "metadata": {},
     "output_type": "display_data"
    },
    {
     "data": {
      "text/html": [
       "<div>\n",
       "<style>\n",
       "    .dataframe thead tr:only-child th {\n",
       "        text-align: right;\n",
       "    }\n",
       "\n",
       "    .dataframe thead th {\n",
       "        text-align: left;\n",
       "    }\n",
       "\n",
       "    .dataframe tbody tr th {\n",
       "        vertical-align: top;\n",
       "    }\n",
       "</style>\n",
       "<table border=\"1\" class=\"dataframe\">\n",
       "  <thead>\n",
       "    <tr style=\"text-align: right;\">\n",
       "      <th></th>\n",
       "      <th>word</th>\n",
       "      <th>quoted_text_freq</th>\n",
       "    </tr>\n",
       "  </thead>\n",
       "  <tbody>\n",
       "    <tr>\n",
       "      <th>0</th>\n",
       "      <td>data</td>\n",
       "      <td>49</td>\n",
       "    </tr>\n",
       "    <tr>\n",
       "      <th>1</th>\n",
       "      <td>open</td>\n",
       "      <td>27</td>\n",
       "    </tr>\n",
       "    <tr>\n",
       "      <th>2</th>\n",
       "      <td>city</td>\n",
       "      <td>22</td>\n",
       "    </tr>\n",
       "    <tr>\n",
       "      <th>3</th>\n",
       "      <td>public</td>\n",
       "      <td>20</td>\n",
       "    </tr>\n",
       "    <tr>\n",
       "      <th>4</th>\n",
       "      <td>information</td>\n",
       "      <td>16</td>\n",
       "    </tr>\n",
       "  </tbody>\n",
       "</table>\n",
       "</div>"
      ],
      "text/plain": [
       "          word  quoted_text_freq\n",
       "0         data                49\n",
       "1         open                27\n",
       "2         city                22\n",
       "3       public                20\n",
       "4  information                16"
      ]
     },
     "execution_count": 12,
     "metadata": {},
     "output_type": "execute_result"
    }
   ],
   "source": [
    "common_words_quoted_texts(\"quoted_text\", \"All cities\", all_cities_dataframe, 20, \"both\").head()"
   ]
  },
  {
   "cell_type": "markdown",
   "metadata": {},
   "source": [
    " "
   ]
  },
  {
   "cell_type": "markdown",
   "metadata": {},
   "source": [
    "## b) most common words in actual comments"
   ]
  },
  {
   "cell_type": "markdown",
   "metadata": {},
   "source": [
    "### (top 20 words) for all the cities combined\n"
   ]
  },
  {
   "cell_type": "code",
   "execution_count": 13,
   "metadata": {},
   "outputs": [
    {
     "data": {
      "image/png": "[encoded data removed]",
      "text/plain": [
       "<matplotlib.figure.Figure at 0x10c1a5978>"
      ]
     },
     "metadata": {},
     "output_type": "display_data"
    },
    {
     "data": {
      "text/html": [
       "<div>\n",
       "<style>\n",
       "    .dataframe thead tr:only-child th {\n",
       "        text-align: right;\n",
       "    }\n",
       "\n",
       "    .dataframe thead th {\n",
       "        text-align: left;\n",
       "    }\n",
       "\n",
       "    .dataframe tbody tr th {\n",
       "        vertical-align: top;\n",
       "    }\n",
       "</style>\n",
       "<table border=\"1\" class=\"dataframe\">\n",
       "  <thead>\n",
       "    <tr style=\"text-align: right;\">\n",
       "      <th></th>\n",
       "      <th>word</th>\n",
       "      <th>comment_text_freq</th>\n",
       "    </tr>\n",
       "  </thead>\n",
       "  <tbody>\n",
       "    <tr>\n",
       "      <th>0</th>\n",
       "      <td>data</td>\n",
       "      <td>213</td>\n",
       "    </tr>\n",
       "    <tr>\n",
       "      <th>1</th>\n",
       "      <td>open</td>\n",
       "      <td>102</td>\n",
       "    </tr>\n",
       "    <tr>\n",
       "      <th>2</th>\n",
       "      <td>city</td>\n",
       "      <td>84</td>\n",
       "    </tr>\n",
       "    <tr>\n",
       "      <th>3</th>\n",
       "      <td>public</td>\n",
       "      <td>60</td>\n",
       "    </tr>\n",
       "    <tr>\n",
       "      <th>4</th>\n",
       "      <td>policy</td>\n",
       "      <td>59</td>\n",
       "    </tr>\n",
       "  </tbody>\n",
       "</table>\n",
       "</div>"
      ],
      "text/plain": [
       "     word  comment_text_freq\n",
       "0    data                213\n",
       "1    open                102\n",
       "2    city                 84\n",
       "3  public                 60\n",
       "4  policy                 59"
      ]
     },
     "execution_count": 13,
     "metadata": {},
     "output_type": "execute_result"
    }
   ],
   "source": [
    "common_words_quoted_texts(\"comment_text\", \"All cities\", all_cities_dataframe, 20, \"both\").head()"
   ]
  },
  {
   "cell_type": "markdown",
   "metadata": {},
   "source": [
    " There is a lot of noise just by counting the word frequency. For instance, words that are *expected* to occur frequently such as \"data\" and \"open\" don't add much to our understanding of which policy sections residents quote the least or most often."
   ]
  },
  {
   "cell_type": "markdown",
   "metadata": {},
   "source": [
    "# 1.2) compare quoted-text frequency with the policy-text frequency"
   ]
  },
  {
   "cell_type": "markdown",
   "metadata": {},
   "source": [
    "### for all cities"
   ]
  },
  {
   "cell_type": "code",
   "execution_count": 20,
   "metadata": {},
   "outputs": [
    {
     "data": {
      "image/png": "[encoded data removed]",
      "text/plain": [
       "<matplotlib.figure.Figure at 0x10bed4828>"
      ]
     },
     "metadata": {},
     "output_type": "display_data"
    },
    {
     "data": {
      "text/html": [
       "<div>\n",
       "<style>\n",
       "    .dataframe thead tr:only-child th {\n",
       "        text-align: right;\n",
       "    }\n",
       "\n",
       "    .dataframe thead th {\n",
       "        text-align: left;\n",
       "    }\n",
       "\n",
       "    .dataframe tbody tr th {\n",
       "        vertical-align: top;\n",
       "    }\n",
       "</style>\n",
       "<table border=\"1\" class=\"dataframe\">\n",
       "  <thead>\n",
       "    <tr style=\"text-align: right;\">\n",
       "      <th></th>\n",
       "      <th>word</th>\n",
       "      <th>policy_text_freq</th>\n",
       "      <th>quoted_text_freq</th>\n",
       "      <th>ratio</th>\n",
       "    </tr>\n",
       "  </thead>\n",
       "  <tbody>\n",
       "    <tr>\n",
       "      <th>0</th>\n",
       "      <td>governance</td>\n",
       "      <td>2</td>\n",
       "      <td>5</td>\n",
       "      <td>2.50</td>\n",
       "    </tr>\n",
       "    <tr>\n",
       "      <th>1</th>\n",
       "      <td>committee</td>\n",
       "      <td>6</td>\n",
       "      <td>5</td>\n",
       "      <td>0.83</td>\n",
       "    </tr>\n",
       "    <tr>\n",
       "      <th>2</th>\n",
       "      <td>city</td>\n",
       "      <td>44</td>\n",
       "      <td>22</td>\n",
       "      <td>0.50</td>\n",
       "    </tr>\n",
       "    <tr>\n",
       "      <th>3</th>\n",
       "      <td>agency</td>\n",
       "      <td>13</td>\n",
       "      <td>6</td>\n",
       "      <td>0.46</td>\n",
       "    </tr>\n",
       "    <tr>\n",
       "      <th>4</th>\n",
       "      <td>participation</td>\n",
       "      <td>11</td>\n",
       "      <td>5</td>\n",
       "      <td>0.45</td>\n",
       "    </tr>\n",
       "    <tr>\n",
       "      <th>5</th>\n",
       "      <td>protected</td>\n",
       "      <td>20</td>\n",
       "      <td>7</td>\n",
       "      <td>0.35</td>\n",
       "    </tr>\n",
       "    <tr>\n",
       "      <th>6</th>\n",
       "      <td>ensure</td>\n",
       "      <td>16</td>\n",
       "      <td>5</td>\n",
       "      <td>0.31</td>\n",
       "    </tr>\n",
       "    <tr>\n",
       "      <th>7</th>\n",
       "      <td>new</td>\n",
       "      <td>17</td>\n",
       "      <td>5</td>\n",
       "      <td>0.29</td>\n",
       "    </tr>\n",
       "    <tr>\n",
       "      <th>8</th>\n",
       "      <td>sensitive</td>\n",
       "      <td>22</td>\n",
       "      <td>6</td>\n",
       "      <td>0.27</td>\n",
       "    </tr>\n",
       "    <tr>\n",
       "      <th>9</th>\n",
       "      <td>dataset</td>\n",
       "      <td>20</td>\n",
       "      <td>5</td>\n",
       "      <td>0.25</td>\n",
       "    </tr>\n",
       "    <tr>\n",
       "      <th>10</th>\n",
       "      <td>restrictions</td>\n",
       "      <td>16</td>\n",
       "      <td>4</td>\n",
       "      <td>0.25</td>\n",
       "    </tr>\n",
       "    <tr>\n",
       "      <th>11</th>\n",
       "      <td>open</td>\n",
       "      <td>114</td>\n",
       "      <td>27</td>\n",
       "      <td>0.24</td>\n",
       "    </tr>\n",
       "    <tr>\n",
       "      <th>12</th>\n",
       "      <td>processes</td>\n",
       "      <td>18</td>\n",
       "      <td>4</td>\n",
       "      <td>0.22</td>\n",
       "    </tr>\n",
       "    <tr>\n",
       "      <th>13</th>\n",
       "      <td>policy</td>\n",
       "      <td>33</td>\n",
       "      <td>7</td>\n",
       "      <td>0.21</td>\n",
       "    </tr>\n",
       "    <tr>\n",
       "      <th>14</th>\n",
       "      <td>datasets</td>\n",
       "      <td>54</td>\n",
       "      <td>11</td>\n",
       "      <td>0.20</td>\n",
       "    </tr>\n",
       "    <tr>\n",
       "      <th>15</th>\n",
       "      <td>published</td>\n",
       "      <td>47</td>\n",
       "      <td>8</td>\n",
       "      <td>0.17</td>\n",
       "    </tr>\n",
       "    <tr>\n",
       "      <th>16</th>\n",
       "      <td>data</td>\n",
       "      <td>310</td>\n",
       "      <td>49</td>\n",
       "      <td>0.16</td>\n",
       "    </tr>\n",
       "    <tr>\n",
       "      <th>17</th>\n",
       "      <td>public</td>\n",
       "      <td>135</td>\n",
       "      <td>20</td>\n",
       "      <td>0.15</td>\n",
       "    </tr>\n",
       "    <tr>\n",
       "      <th>18</th>\n",
       "      <td>including</td>\n",
       "      <td>36</td>\n",
       "      <td>5</td>\n",
       "      <td>0.14</td>\n",
       "    </tr>\n",
       "    <tr>\n",
       "      <th>19</th>\n",
       "      <td>information</td>\n",
       "      <td>124</td>\n",
       "      <td>16</td>\n",
       "      <td>0.13</td>\n",
       "    </tr>\n",
       "  </tbody>\n",
       "</table>\n",
       "</div>"
      ],
      "text/plain": [
       "             word  policy_text_freq  quoted_text_freq  ratio\n",
       "0      governance                 2                 5   2.50\n",
       "1       committee                 6                 5   0.83\n",
       "2            city                44                22   0.50\n",
       "3          agency                13                 6   0.46\n",
       "4   participation                11                 5   0.45\n",
       "5       protected                20                 7   0.35\n",
       "6          ensure                16                 5   0.31\n",
       "7             new                17                 5   0.29\n",
       "8       sensitive                22                 6   0.27\n",
       "9         dataset                20                 5   0.25\n",
       "10   restrictions                16                 4   0.25\n",
       "11           open               114                27   0.24\n",
       "12      processes                18                 4   0.22\n",
       "13         policy                33                 7   0.21\n",
       "14       datasets                54                11   0.20\n",
       "15      published                47                 8   0.17\n",
       "16           data               310                49   0.16\n",
       "17         public               135                20   0.15\n",
       "18      including                36                 5   0.14\n",
       "19    information               124                16   0.13"
      ]
     },
     "execution_count": 20,
     "metadata": {},
     "output_type": "execute_result"
    }
   ],
   "source": [
    "ratio_quoted_freq_with_policy_freq(\"single_line_graph\", \"quoted_text\", \"Ratio of quoted text-to-policy text\", all_cities_dataframe, 20, full_policy_text, \"single\", \"descending\")"
   ]
  },
  {
   "cell_type": "markdown",
   "metadata": {},
   "source": [
    "Words like \"governance\", \"committee\", \"protected\", \"sensitive\" and so on are quoted more often relative to the number of times they are mentioned in the policy. This shows that people are talking and engaging more closely with topics on *governance*, *privacy* and *utility*."
   ]
  },
  {
   "cell_type": "markdown",
   "metadata": {},
   "source": [
    "# 1.3) compare commented-word frequency with in-the-whole-policy word frequency"
   ]
  },
  {
   "cell_type": "markdown",
   "metadata": {},
   "source": [
    "### for all cities"
   ]
  },
  {
   "cell_type": "code",
   "execution_count": 19,
   "metadata": {},
   "outputs": [
    {
     "data": {
      "image/png": "[encoded data removed]",
      "text/plain": [
       "<matplotlib.figure.Figure at 0x10c340978>"
      ]
     },
     "metadata": {},
     "output_type": "display_data"
    },
    {
     "data": {
      "text/html": [
       "<div>\n",
       "<style>\n",
       "    .dataframe thead tr:only-child th {\n",
       "        text-align: right;\n",
       "    }\n",
       "\n",
       "    .dataframe thead th {\n",
       "        text-align: left;\n",
       "    }\n",
       "\n",
       "    .dataframe tbody tr th {\n",
       "        vertical-align: top;\n",
       "    }\n",
       "</style>\n",
       "<table border=\"1\" class=\"dataframe\">\n",
       "  <thead>\n",
       "    <tr style=\"text-align: right;\">\n",
       "      <th></th>\n",
       "      <th>word</th>\n",
       "      <th>policy_text_freq</th>\n",
       "      <th>comment_text_freq</th>\n",
       "      <th>ratio</th>\n",
       "    </tr>\n",
       "  </thead>\n",
       "  <tbody>\n",
       "    <tr>\n",
       "      <th>0</th>\n",
       "      <td>governance</td>\n",
       "      <td>2</td>\n",
       "      <td>15</td>\n",
       "      <td>7.50</td>\n",
       "    </tr>\n",
       "    <tr>\n",
       "      <th>1</th>\n",
       "      <td>document</td>\n",
       "      <td>3</td>\n",
       "      <td>21</td>\n",
       "      <td>7.00</td>\n",
       "    </tr>\n",
       "    <tr>\n",
       "      <th>2</th>\n",
       "      <td>committee</td>\n",
       "      <td>6</td>\n",
       "      <td>21</td>\n",
       "      <td>3.50</td>\n",
       "    </tr>\n",
       "    <tr>\n",
       "      <th>3</th>\n",
       "      <td>support</td>\n",
       "      <td>7</td>\n",
       "      <td>20</td>\n",
       "      <td>2.86</td>\n",
       "    </tr>\n",
       "    <tr>\n",
       "      <th>4</th>\n",
       "      <td>community</td>\n",
       "      <td>8</td>\n",
       "      <td>20</td>\n",
       "      <td>2.50</td>\n",
       "    </tr>\n",
       "    <tr>\n",
       "      <th>5</th>\n",
       "      <td>city</td>\n",
       "      <td>44</td>\n",
       "      <td>84</td>\n",
       "      <td>1.91</td>\n",
       "    </tr>\n",
       "    <tr>\n",
       "      <th>6</th>\n",
       "      <td>policy</td>\n",
       "      <td>33</td>\n",
       "      <td>59</td>\n",
       "      <td>1.79</td>\n",
       "    </tr>\n",
       "    <tr>\n",
       "      <th>7</th>\n",
       "      <td>transparency</td>\n",
       "      <td>13</td>\n",
       "      <td>22</td>\n",
       "      <td>1.69</td>\n",
       "    </tr>\n",
       "    <tr>\n",
       "      <th>8</th>\n",
       "      <td>process</td>\n",
       "      <td>17</td>\n",
       "      <td>26</td>\n",
       "      <td>1.53</td>\n",
       "    </tr>\n",
       "    <tr>\n",
       "      <th>9</th>\n",
       "      <td>requests</td>\n",
       "      <td>15</td>\n",
       "      <td>18</td>\n",
       "      <td>1.20</td>\n",
       "    </tr>\n",
       "    <tr>\n",
       "      <th>10</th>\n",
       "      <td>government</td>\n",
       "      <td>30</td>\n",
       "      <td>31</td>\n",
       "      <td>1.03</td>\n",
       "    </tr>\n",
       "    <tr>\n",
       "      <th>11</th>\n",
       "      <td>open</td>\n",
       "      <td>114</td>\n",
       "      <td>102</td>\n",
       "      <td>0.89</td>\n",
       "    </tr>\n",
       "    <tr>\n",
       "      <th>12</th>\n",
       "      <td>data</td>\n",
       "      <td>310</td>\n",
       "      <td>213</td>\n",
       "      <td>0.69</td>\n",
       "    </tr>\n",
       "    <tr>\n",
       "      <th>13</th>\n",
       "      <td>include</td>\n",
       "      <td>29</td>\n",
       "      <td>19</td>\n",
       "      <td>0.66</td>\n",
       "    </tr>\n",
       "    <tr>\n",
       "      <th>14</th>\n",
       "      <td>access</td>\n",
       "      <td>32</td>\n",
       "      <td>17</td>\n",
       "      <td>0.53</td>\n",
       "    </tr>\n",
       "    <tr>\n",
       "      <th>15</th>\n",
       "      <td>public</td>\n",
       "      <td>135</td>\n",
       "      <td>60</td>\n",
       "      <td>0.44</td>\n",
       "    </tr>\n",
       "    <tr>\n",
       "      <th>16</th>\n",
       "      <td>portal</td>\n",
       "      <td>38</td>\n",
       "      <td>16</td>\n",
       "      <td>0.42</td>\n",
       "    </tr>\n",
       "    <tr>\n",
       "      <th>17</th>\n",
       "      <td>information</td>\n",
       "      <td>124</td>\n",
       "      <td>44</td>\n",
       "      <td>0.35</td>\n",
       "    </tr>\n",
       "  </tbody>\n",
       "</table>\n",
       "</div>"
      ],
      "text/plain": [
       "            word  policy_text_freq  comment_text_freq  ratio\n",
       "0     governance                 2                 15   7.50\n",
       "1       document                 3                 21   7.00\n",
       "2      committee                 6                 21   3.50\n",
       "3        support                 7                 20   2.86\n",
       "4      community                 8                 20   2.50\n",
       "5           city                44                 84   1.91\n",
       "6         policy                33                 59   1.79\n",
       "7   transparency                13                 22   1.69\n",
       "8        process                17                 26   1.53\n",
       "9       requests                15                 18   1.20\n",
       "10    government                30                 31   1.03\n",
       "11          open               114                102   0.89\n",
       "12          data               310                213   0.69\n",
       "13       include                29                 19   0.66\n",
       "14        access                32                 17   0.53\n",
       "15        public               135                 60   0.44\n",
       "16        portal                38                 16   0.42\n",
       "17   information               124                 44   0.35"
      ]
     },
     "execution_count": 19,
     "metadata": {},
     "output_type": "execute_result"
    }
   ],
   "source": [
    "ratio_quoted_freq_with_policy_freq(\"single_line_graph\", \"comment_text\", \"Ratio of commented text-to-policy text\", all_cities_dataframe, 20, full_policy_text, \"single\", \"descending\")"
   ]
  },
  {
   "cell_type": "markdown",
   "metadata": {},
   "source": [
    "# 2) Sentiment Analysis"
   ]
  },
  {
   "cell_type": "markdown",
   "metadata": {},
   "source": [
    "## a) sentiment analysis graphs for each city for comments of most commonly quoted policy sections"
   ]
  },
  {
   "cell_type": "code",
   "execution_count": 106,
   "metadata": {
    "collapsed": true
   },
   "outputs": [],
   "source": [
    "# ???\n",
    "#sentimental_analysis_graphs_1 = top_policy_sections_commented(all_madison_dfs, \"most_common_policy\", 3)"
   ]
  },
  {
   "cell_type": "markdown",
   "metadata": {},
   "source": [
    "## b) sentiment analysis graphs for each city for all comments"
   ]
  },
  {
   "cell_type": "code",
   "execution_count": 72,
   "metadata": {},
   "outputs": [
    {
     "name": "stdout",
     "output_type": "stream",
     "text": [
      "positive sentence: I am in support of the proposed policy to further enable data and subsequent knowledge sharing. I agree with fellow contributors that it would be beneficial to see more detailed outlines for the specific process that is going to enable community members to contribute to the Open Data portal by creating, uploading and verifying data sets to be published. Myself and colleagues have created a number of valuable data sets that could be beneficial across city departments, community organizations and individual interests. Understanding that only data sets meeting the standards set forth as a result of this policy will be accepted, we can collaboratively drive the understanding of our community from all perspectives.\n",
      "positive sentence: I would be interested to see this more finely documented. It would be great to have a living, breathering process that community members could submit data sets that they have created (required to meet the data standards set forth by the Open Data Policy) for verification and publication to the open data portal within a timely manner. Individuals in the community may have greater flexibility and time to produce unique data sets pertinent to acute challenges and enable broader understanding in a more timely manner.\n",
      "positive sentence: I strongly support the proposed policy, with a recognition of the outstanding contributions that have already been made by other residents, citizens, and interested parties.Many thanks to the City of Buffalo for leading this effort. Most of my comments are within the document itself, but I do agree with other comments below that emphasize the need for substantial citizen involvement in governance, application, and oversight. During the RFP process, I would encourage the city to include not only requirements for a portal, but also an iterative feedback/improvement process with residents and regular data users so that the city's investment in this system can produce tangible use cases and real benefits to our city and its people.The Department of Citizen Services should also be commended for their use of the collaborative policymaking platform. In the age of the internet, this is an excellent way to increase public participation in these types of processes. Many thanks for this opportunity.\n",
      "positive sentence: It may be a helpful option to include a repository of FOIL requests and responses (whatever is able to be centralized), as well as an option to automate or streamline the FOIL request process via the portal interface.\n",
      "positive sentence: A Citizens Advisory Committee can be designated (appointments by mayor, council members) to support the Governance Committee in the areas of reviewing datasets to be published, hosting events for public feedback and participation, facilitating collaborations, facilitating use of the portal, expanding awareness of open data resources and applications, as well as defining and regularly reviewing the data standards governance document.\n",
      "positive sentence: equitable access to opportunity (open data can help move us closer to this goal)\n",
      "positive sentence: This part of the reporting should make specific reference to the three goals articulated in Section \"Open Data Program\", part 6: government efficiency, improved quality of life, and expanded economic opportunities.\n",
      "positive sentence: Remove \"paramount.\" Privacy, confidentiality and security should be considerations when determining whether data should be open, but they should not be presumed to be paramount and therefore superior to the public's right to know.\n",
      "positive sentence: I strongly support the spirit of this policy and the efforts made toward ensuring free public access to data information and government transparency. As a private citizen and freelance writer and researcher, I support the timely adoption and implementation of this policy.The following are my concerns with the policy as it now stands:The policy should encourage and, when possible, mandate the collection and dissemination of information collected by non-city and quasi-governmental agencies such as the NFTA, BMHA, Buffalo Place, the Buffalo Olmsted Parks Conservancy, hospital campuses, institutions of higher education and other organizations providing public services such as park maintenance, policing and security, transportation and education services. In particular, public safety information from police and security forces managed by Buffalo Place, medical and college campuses and the NFTA should be subject to the open data policy.When information is unavailable due to its privileged status, it should be made available in the aggregate whenever possible. e.g., motor vehicle incident reports are not public per NYS law but should be presented to the public in an anonymized or aggregate form.\n",
      "positive sentence: The following comment is submitted on behalf of the Public Accountability Initiative:The Public Accountability Initiative (PAI) is a non-profit educational group focused on transparency and accountability headquartered in the City of Buffalo. PAI operates a research platform, LittleSis.org, that brings together information obtained through public records for use by journalists, academics, and activists as well as the general public. Access to current government information is paramount to PAI’s work and to meaningful participation in a democracy. As such, PAI endorses the goals of the Open Data proposal.Below we have highlighted what feel are the most commendable inclusions in the proposal as currently drafted, made suggestions for further improvement, and raised concerns with certain provisions of the proposal.By providing access to public information proactively and for free, the Open Data proposal addresses two significant burdens to public access to information: failure to respond to freedom of information requests in a timely fashion and undue copying fees levied by public agencies. According to MuckRock, a non-profit organization that facilitates the filing and analysis of freedom of information requests, the City of Buffalo takes an average of 63 days to respond to freedom of information requests and charges an average fee of $4.13 per request. PAI has had considerable difficulty obtaining public records from city agencies, most notably the Buffalo Police Department (see e.g. “FOIL by inches: The slow-drip transparency of Buffalo PD” by Caitlin Russell of MuckRock).If these burdens are truly shifted from requesters to the City, Buffalo will be making a commendable commitment to transparency. To even further improve access to public records, PAI seconds Brian Borncamp’s recommendation that the Open Data Policy provide for a “centralized system for submitting, tracking, and responding to FOIL requests.” By centralizing all requests and by making requests and responses publicly available, the City can dramatically increase its responsiveness to public requests for information and reduce instances of non-compliance with the Freedom of Information Law that result in costly attorneys’ fees.PAI also highlights and applauds the inclusion of “records of third-party agency contractors that create or acquire information, records, or data on behalf of a City division/department” as an especially meaningful and important component of the Open Data proposal. Public entities are increasingly reliant on non-governmental or quasi-governmental non-profits to perform governmental services. If unchecked, those third-party contractors can act as a “black box” where important information can be kept secret from the public, leading to suspicion and, at times, scandal. The State University at New York system is currently dealing with this issue within its nominally private campus-related foundations at the center of the United States Attorney investigation into Buffalo Billion contracting.Explicitly holding third-party contractors to the same transparency standard as the public agencies they’re working for both honors the letter of New York’s Freedom of Information Law and serves as a proactive measure to avoid actual or apparent corruption. This provision should be taken further to explicitly include records of all city-related public benefit corporations and other quasi-governmental entities.Finally, as PAI is involved with technology development in addition to producing original research, we call attention to the proposed availability of City of Buffalo data via an Application Programming Interface (API). Providing data this way allows developers to interact with data in new and unexpected ways and facilitates analysis of that data. For example, PAI’s research platform LittleSis interacts with the OpenSecrets database maintained by the Center for Responsive Politics via an API to incorporate campaign finance as soon as it is uploaded. In addition to making City of Buffalo data available via an API, PAI also recommends that datasets be available for bulk download in various relevant formats to permit analysis using Microsoft Excel or other programs.PAI has significant concerns about the oversight of Buffalo’s Open Data portal. As currently stipulated in the proposal, development and implementation of the Open Data practices will be delegated to appointees of the Mayor with “input from the public.” It is crucial for the Open Data Governance Committee to be free from the influence of politics and to not be beholden to any one political representative. As such, the Open Data Governance Committee should include representatives from the City as well as from independent organizations working in the public interest, such as the residents, businesses, researchers, and media mentioned in the policy’s statement of purpose, and independent members should comprise a majority of the committee’s votes.Alongside the existing Open Book Buffalo portal, this Open Data policy represents a praiseworthy commitment to transparency and accountability for the City of Buffalo. For this, the Public Accountability Initiative again commends the city government and welcomes any further opportunity for input on this important initiative. By adopting a policy that addresses the above-stated concerns addressed – especially those about oversight and the centralization of freedom of information requests and responses – the City of Buffalo will take a great stride in advancing transparency and accountability to its residents.\n",
      "positive sentence: I assume this would be funding for training the support staff.  I would like to also recommend that a portion of the funding be allocated for training residents, community groups and nonprofits on how to access information and analyze it to inform their work.\n"
     ]
    },
    {
     "name": "stdout",
     "output_type": "stream",
     "text": [
      "positive sentence: It is important to include all members of the local community that can benefit from this information; including nonprofits and foundations.\n",
      "positive sentence: Thank you to the City of Buffalo!  My comments are regarding the geospatial (GIS) data. We often build tools for local government, and open data portals are our go-to standard to accessing data.  Please also consider including open access to live data such as webservices. Downloadable data, such as xmls, shapefiles or even file geodatabases are necessary for local processing and analysis.  However, most of our support to local government agencies is by functioning as tool and system developers. It makes us incredibly more productive (and accurate) to have access to live data.  I agree with Sean Meyers and support the distribution of the webservices and mapservices in web standard formats.  -Karyn Tareen CEO, Geocove\n",
      "positive sentence: I'm glad this issue came to the forefront for the city, as these have been great resources in other cities across the country and world.My only primary concern is that often times these portals are more civic gestures than meaningful contributions to the data community.  I would just ask that, should the city give its approval, there be some assurance that the data will be actionable and easily legible.  Often times, spreadsheets are put out that contain codes and numerical systems that make sense for people working in offices that have the keys and necessary maps to use the data, but ultimately for the normal citizen, these are just collections of numbers that mean nothing in relation to the spatial understanding of the city.  I ask that the city and Open Data Buffalo take care to translate spreadsheets so that the headings of tables and the layout of information is concise, sorted and legible.  In addition to other added comments describing the value of GIS shape files and inter-application connectivity, simply making data logical and readable will go a long way to helping organizations across the city use the information.  If the information is not useable, it is not useful.\n",
      "positive sentence: Thank you to the City of Buffalo for making open data a priority! I agree with the point made previously that the open data portal should include a repository of GIS shapefiles. As someone who works in the community development field, I often struggle to find the appropriate files and often have to cobble together data from various sources or create files from scratch. Having a centralized resource would make grant writing, needs assessments, and neighborhood planning efforts a lot easier. The UB Regional Institute has developed an ArcGIS-based database tracking a number of different environmental and demographic indicators as part of their work on One Region Forward, a regional plan for sustainable development in the Buffalo Niagara region: http://www.oneregionforward.org/data-tools/mappingmetrics/ This might be a good place to start, although as previously mentioned, the ability to export this data in a usable file format is paramount. Excited to follow the progress of this initiative!\n",
      "positive sentence: Thank you City of Buffalo for taking on this initiative. I have two comments:\n",
      "\n",
      "I think one one of the stated goals of the program should be to promote active participation by the community including civic technologists, civic activists, programmers, and database specialists to develop tools that turn data into insight for some of the city's pressing issues.\n",
      "\n",
      "\n",
      "I think it is very important to ensure that the technical definition of open data goes beyond the definitions provided by the vendors of the platforms currently in use by the city. We are in a web-based world so web-based standards must take precedence (e.g. JSON, geoJSON).\n",
      "\n",
      "\n",
      "positive sentence: I want to thank Oswaldo Mestre and Kirk McLean for providing such a transparent forum for discussing and adopting an Open Data policy. Buffalo is taking advantage of data as a driver of economic and social change by providing it to the citizenry without restrictions.I’m curious about what platform Buffalo will use for the Open Data portal.  I hope public comments will continue through the RFP process and in choosing a portal provider. Many platforms restrict the exchange of data so it’s a top-down process (i.e. Buffalo would create and provide all the data), however it would be beneficial to the city to host data from the non-profit and academic partners alongside municipal data.  In addition, the efficacy of the portal would increase if municipal data could be supplemented with crowdsourced and citizen scientist created data.I hope the city will air on the side of transparency as it selects which datasets constitute “publishable city data” and will share many of the datasets that make the NYC data portal so rich (parking tickets, tree cover, vehicle collisions, building by year of construction, 311 data, etc..)Thanks again for providing such an open forum for discussing open data.  I look forward to more productive community discussions.-Dr. Monica Stephens, University at Buffalo\n",
      "positive sentence: Could trim this to just focus on the safeguarding of protected and sensitive information. Minimize limitations on the disclosure of public information doesn't really describe the role of the city in protecting sensitive information.\n",
      "positive sentence: These are great - the update frequency question below is somewhat covered here.\n",
      "positive sentence: Promote open data that informs increases in government efficiency, improvements in the quality of life of its citizens, and more equal opportunities for all residents.\n",
      "Commit to data driven decision making especially in areas of policy.\n",
      "\n",
      "positive sentence: Will data be shared if it is not regularly maintained?  Perhaps \"date of update\" could be identified in the metadata.  Will adopting an OpenData policy encourage the city to more regularly maintain datasets or will this clause be used to skirt sharing policies?  Historical data (not regularly maintained) is still data.\n",
      "positive sentence: My comments are rather lengthy. In addition to the comments below I've provided a copy inside a google doc. http://bit.ly/BuffaloOpenDataCommentsI commend Oswaldo Mestre and Kirk McLean for putting forward a draft Open Data Policy. Such policies work to make Buffalo government more effective, transparent, accountable, and responsive. This draft document is an important step forward. With all aspects of government we ought to strive for continual improvement. As improvement pertains to the draft Open Data Policy, I hope you find these suggestions amenable.The draft policy establishes an “Open Data Governance Committee”. As the committee currently stands, oversight and implementation is held entirely within the executive branch of city government. Given that the data provided would primarily originate from the executive branch, it is sensible to seek its representation. However, in the spirit of an open democratic society, the policy ought to seek independence and accountability through checks and balances from other institutions.The stated purpose of the policy, “creates value for residents, government leaders, businesses, researchers, and the media. ” With the exception of government leaders, none of these groups appear to be formally required by the draft policy.  The policy ought to move the governance committee to include these stated groups.In creating an independent governance committee, the policy ought to seek representation from co-equal branches of government, e.g. the Common Council and City Comptroller. Ensuring appointment via other branches would go a long way toward promoting the Open Data Governance Committee as an independent body.Additionally, the structure of the committee ought to ensure that those appointed to the committee via the executive branch do not hold an automatic majority of voting eligible members. Seeking the “input” of the public is perhaps the lowest form of democracy. Input can be trivial, power is not.The draft policy does not specify how decisions made by the governance committee are to be made public. In ensuring that the governance committee is making decisions for the public good, record of said decisions ought to be publicly available.To the effect of the stated concerns, the governance committee ought to be adopted into the city charter subject to a vote by the common council.The draft policy attempts to cast a broad net over the institutions subject to it. Stated in the document, the policy “will apply to any City department, office, administrative unit, commission, board, advisory committee or other division/department of the City government including the records of third-party agency contractors that create or acquire information, records, or data on behalf of a City division/department.”Reading the draft, it is unclear as to the policy’s applicability to quasi-governmental agencies such as public benefit corporations, e.g. Buffalo Urban Renewal Agency, Buffalo Urban Development Agency, and the Buffalo Municipal Housing Authority. A small language tweak could incorporate such entities under the scope of the draft policy.Open data is a strong tool for open and transparent government. However, open data is only one of many tools regarding open government. FOIL is another tool that can help to move governments towards transparency and accountability. However, the state of FOIL in Buffalo is dismal. The shortcomings of the City of Buffalo as it pertains to FOIL have been well reported in the press. City departments routinely disregard the law as it relates to FOIL. In this author's experience, above 90% of FOIL requests submitted are not responded to with the requested documentation, or an agency determination explaining why such documents are not available.An open data policy cannot be the sole remedy for city officials unwillingness to follow the law. However, it can take steps toward holding those officials accountable. Inclusion into the draft policy of a centralized system for submitting, tracking, and responding to FOIL requests would be an incredible step forward. Such a measure would provide residents and city officials with an effective way to manage requests and comply with the relevant statutes. When conflict over FOIL requests do arise, the conflict would be publicly available and documented. Such a system would prevent FOIL requests from getting lost inside civic bureaucracy due to malfeasance or human error.The advancement of Open Data in Buffalo is an important step. I applaud the Division of Citizen Services for being forward thinking in this regard. That being said, the comments provided here ought not be seen as window dressing to the draft policy. These comments speak to structural concerns of strengthening democracy. The nature of power and human institutions is that they change over time. I hope that these comments are able to extended the drafted policy such that when institutions change the effect and intentions of the draft Buffalo Open Data Policy do not.\n",
      "positive sentence: It may be useful to have a participatory aspect that prioritizes data updates/releases based on demand (e.g. a certain number of requests triggers an update/response).\n",
      "positive sentence: I support the effort to make data accessible to the public. The NYC Open Data portal is a good example of an existing resource with a similar intention. I recommend including environmental and geographic data in the form of GIS shapefiles which can be downloaded, as opposed to 'view-only' results or more traditional pdf or Excel files. I also recommend partnering with local higher education entities, such as the University at Buffalo, to provide research data in additional to official City of Buffalo owned/managed data.\n",
      "positive sentence: I am 100% supportive of open data and anything that improves citizen participation, however I opposed this document as it seems the Mayor implementing his own Open Data is a waste of funds and a duplication of efforts since this already exists for the City of Buffalo with the Comptroller's Open Book.  If the purpose of this document is to have one centralized location for citizens to access data, it seems the Mayor should work to promote the Open Book and any expansion of data be incorporated into that site.\n",
      "positive sentence: What authority does the Open Data Governance Committee have to do this? Does it derive from one or more specific members of the committee? The paragraph above which describes the membership doesn't specifically designate someone which has budget authority. Ideally this policy should address that concern somehow.\n",
      "positive sentence: this is amazing. Very important.\n",
      "positive sentence: The City of Buffalo is to be commended for taking steps to move towards normalizing the sharing of data with the public. As a researcher in the non-profits, I see this as a tool to better serve my city. As a resident, I'm excited to see more transparency.Comments:\n",
      "-The Open Data Governance Board should also include residents of the City of Buffalo with technical expertise in data management or interest in government transparency. These should be people who apply to it (and maybe the government members vote?) as opposed to being appointed. There are some tips on engaging the civic tech community here: https://www.civichacking.guide though there are likely interested parties outside that community. However it’s structured, it should be as a dialog with city residents.-I agree with Aaron that the source code of the open data tools should be available.-I’d recommend a citizen-heavy deliberative democracy process (think participatory budgeting without the budget) to figure out some of the specifics of what to release and how often. I suspect that most residents of the city, including myself, don’t know what is available. Della Rucker, an economic development consultant based in Akron, suggests that when such processes are engaged, inform all parties of limitations and that can often lead to better outcomes.-Would there be a listserv announcing new releases, the way that HUD or the Census does?-My employer manages a client-level database that has input from over 100 users. We've found that if you do not enforce strict requirements of timeliness, data quality suffers as it becomes perpetually delayed. Since there were no explicit timelines mentioned here (our requirement is that data needs to be entered within 72 hours of the event), I worry this very valuable effort could suffer from similar backburner issues.Thank you for sharing this with the public for feedback! I thought this was a really useful format!\n",
      "positive sentence: That would be super helpful :)\n",
      "positive sentence: I would recommend that it include members of the public with technical expertise and interest in publicly available data sets too instead of just receiving input.\n",
      "positive sentence: Maybe you should utilize a deliberative democratic process (like participatory budgeting, only without a budget as the end goal and maybe a bit briefer) to encourage public engagement?\n",
      "positive sentence: This document fails to require the sharing of the source code of the open data tools. \"Require Code Sharing Or Publishing Open Source\" is a recommendation of Sunlight Foundation https://sunlightfoundation.com/opendataguidelines/#open-code . Sharing the source code allows citizens to help contribute to the tools making the data public, allows citizens access to the tools for which they are paying, and allows other government agencies as well citizens to benefit from improvements made on behalf of Buffalo.\n",
      "positive sentence: Welcome to the City of Buffalo’s public comment period on the Mayor’s draft Open Data policy. We’re looking forward to your feedback strengthening the governing document for our new Open Data program, which will make publishable City data more accessible to the public. After a brief and simple sign up, you’ll be able to do five things on the OpenGov Foundation’s Madison Project platform: read the document; let us know whether you support or oppose the document; leave a comment on the policy or open data, in general; highlight a bit of text and leave a note on that specific text; and respond to other people’s notes, starting a dialogue about a specific passage.Feel free to also leave a comment about what datasets you’d like to see the city publish in the future.The public comment period will be open from January 10th to 24th.Thank you for participating.\n",
      "positive sentence: Welcome to the City of Buffalo’s public comment period on the Mayor’s draft Open Data policy. We’re looking forward to your feedback strengthening the governing document for our new Open Data program, which will make publishable City data more accessible to the public. After a brief and simple sign up, you’ll be able to do five things on the OpenGov Foundation’s Madison Project platform: read the document; let us know whether you support or oppose the document; leave a comment on the policy or open data, in general; highlight a bit of text and leave a note on that specific text; and respond to other people’s notes, starting a dialogue about a specific passage.\n",
      "Feel free to also leave a comment about what datasets you’d like to see the city publish in the future.\n",
      "The public comment period will be open from January 10th to 24th.\n",
      "Thank you for participating.\n",
      "\n",
      "total_comments: 66 --- city name: Buffalo\n"
     ]
    },
    {
     "data": {
      "image/png": "[encoded data removed]",
      "text/plain": [
       "<matplotlib.figure.Figure at 0x110de21d0>"
      ]
     },
     "metadata": {},
     "output_type": "display_data"
    },
    {
     "name": "stdout",
     "output_type": "stream",
     "text": [
      "None\n",
      "positive sentence: From a quick read-through, this seems really good and seems to hit most major points that come to mind for me.  The only possible improvements that occur to me right now are:\n",
      "\n",
      "Good metadata is very important but also difficult/costly (in a general sense, not necessarily dollars).  You may want to lay out what your approaches will be.\n",
      "\n",
      "\n",
      "It may be implied but an explicit \"open by default\" policy can be very powerful.  What I mean by this is basically that anything not restricted from release is eligible for release.  This is, of course, not a commitment to release any particular dataset on any particular schedule since everyone has resource constraints but basically means it goes into whatever prioritization process (either formal or informal) you use, with an intention to publish if/when it rises to the top.\n",
      "\n",
      "\n",
      "\n",
      "total_comments: 1 --- city name: Durham\n"
     ]
    },
    {
     "data": {
      "image/png": "[encoded data removed]",
      "text/plain": [
       "<matplotlib.figure.Figure at 0x1113b78d0>"
      ]
     },
     "metadata": {},
     "output_type": "display_data"
    },
    {
     "name": "stdout",
     "output_type": "stream",
     "text": [
      "None\n",
      "positive sentence: I don't see any explanation of how this will affect FOIA requests. What is the timeline of dispute and who makes that decision when a request is not going to be granted under this policy?\n",
      "With many of our requests, we need the information as soon as possible. If the data coordinator deems an item sensitive, what is the timeline for their response? 24 hours, 48 hours, a week?\n",
      "I applaud the desire for more openness, but without a defined FOIA escalation policy, it could end up being another hurdle.\n",
      "positive sentence: Are the goals of the data project those listed in Section 11? You might want to consider identifying them as such so it is clear that the \"initiatives\"  are the \"goals\". If the goals are different, you may want to consider including them in this document.\n",
      "\n",
      "total_comments: 4 --- city name: Tyler\n"
     ]
    },
    {
     "data": {
      "image/png": "[encoded data removed]",
      "text/plain": [
       "<matplotlib.figure.Figure at 0x10fbfd390>"
      ]
     },
     "metadata": {},
     "output_type": "display_data"
    },
    {
     "name": "stdout",
     "output_type": "stream",
     "text": [
      "None\n",
      "positive sentence: Special thanks to everyone who took the time to provide feedback and comments on the draft resolution.  Your feedback was valuable to the process.  I am pleased to report that the City Council adopted a resolution in support of creating an Open Data program on Tuesday 6/27.  The final resolution language can be found here:  https://glendale-az.legistar.com/LegislationDetail.aspx?ID=3086887&GUID=68D243FB-66A3-4381-B963-2176AC97CEE9.  Special thanks to the What Works Cities and Sunlight Foundation teams for helping us make improvements for our community.  We are looking forward to the implementation phase of this project.\n",
      "positive sentence: This resource would be of great value to the Human Resources Commission.  The demographic information would help serve as a guide to commission activities.  Kudos for the concept.\n",
      "positive sentence: I have read the comments from others that have posted here and not to be redundant, I agree that there should be transparency and the process should be easy to find and user friendly.  the Mayor and Council are working hard to provide what is best for the City of Glendale, and so I am in support of this.\n",
      "positive sentence: Before any new data is added to the Glendale website, glendaleaz.com needs work so that it is easier to find information. For example Planning should be on the home page and readily accessible. A link to a site administrator or someone responsible for the website needs to be created. Presently there is no contact information if we have comments about the website.  All of this needs straightening out before adding \"open data\".\n",
      "positive sentence: This, to me, is a key aspect of the value proposition, and it deserves emphasizing. By having agencies upload data to a centralized repository, it allows mashups, composite takes and easy comparison.\n",
      "positive sentence: My first question is; How much is this going to cost to discover, create, implement & sustain. Transparency is great but not if it wastes my already overtaxed dollars so someone can get all warm and fuzzy about \"transparency\".\n",
      "\n",
      "total_comments: 10 --- city name: Glendale\n"
     ]
    },
    {
     "data": {
      "image/png": "[encoded data removed]",
      "text/plain": [
       "<matplotlib.figure.Figure at 0x10fb9f208>"
      ]
     },
     "metadata": {},
     "output_type": "display_data"
    },
    {
     "name": "stdout",
     "output_type": "stream",
     "text": [
      "None\n",
      "positive sentence: Section IX, item 4:\n",
      "Given the requirement to provide credit or attribution, this section is unclear on the acceptable forms of attribution and to whom the attribution applies.For example, would a user of the Street Sweeping Schedule dataset (https://data.nashville.gov/Beautification/Metro-Water-Services-Current-Street-Sweeping-Sched/p9iq-sxk3) should attribution marks/text say \"Metro Water Services\" or \"Metro Government\"?Possible Solution: Change Section IX, Item 4 to say: \"Metropolitan Government requests that when content, data, documentation, code, and related materials from https://data.nashville.gov is used, proper credit or attribution be given to the originating Department or 'Metropolitan Government of Nashville and Davidson County', whichever is the most specific and accurate.\"Moreover, it'll probably be a good idea to say that use of the 'Metropolitan Government of Nashville and Davidson County' seal is not an acceptable form of attribution.\n",
      "positive sentence: Will there be a follow-up document describing how best to give attribution?\n",
      "positive sentence: Awesome!\n",
      "positive sentence: I would encourage greater description of acceptable metadata in Section VII. The bare minimum should include:\n",
      "For tables, a description of what the data describe, how the data were collected, and for what purpose.\n",
      "For each table, there should be a list of the included variables, definitions of what each variable means, and (where applicable) a code list for each variable describing what each possible value means.\n",
      "For data sets, there should be a description of how the different tables relate to each other.\n",
      "I think it's important to add this level of detail to the data policy to ensure that folks don't cut corners on metadata. Without this type of information, it's very difficult to use public data well.\n",
      "positive sentence: I'm so glad that Metro is heading in a more open, transparent direction - and love the idea of Open Data Workshops and public/private partnerships.\n",
      "positive sentence: Cheers for this!\n",
      "\n",
      "total_comments: 6 --- city name: Nashville\n"
     ]
    },
    {
     "data": {
      "image/png": "[encoded data removed]",
      "text/plain": [
       "<matplotlib.figure.Figure at 0x10fb9f128>"
      ]
     },
     "metadata": {},
     "output_type": "display_data"
    },
    {
     "name": "stdout",
     "output_type": "stream",
     "text": [
      "None\n",
      "positive sentence: Announcements of data set publication when they are released would also encourage participation\n",
      "positive sentence: You probably want to (a) limit this to \"records created by third party agency contractors\" and not \"records of third party....\" Also, does this policy dispositively void all contract provisions what explicitly transfer ownership of records to a third party? Is that even possible from a \"policy\" and not a law? And if not, then is the enforcement aspect that you are directing agencies to include explicit provisions in their contracts. Is, e.g., the GC going to create model contract provisions?\n",
      "positive sentence: I don't understand what would make a dataset \"effective.\" Data is just data. Some data is more useful than other data. Is the implication that you want to prioritize more interesting data, e.g., bus routes or tax parcel data, that may have more immediate commercial or civic application?\n",
      "positive sentence: \"Permanence\" is a strong guarantee a priori, and could imply quadratically growing storage costs (e.g., if you save a bunch of snapshots). Also, publishing \"with permanence\" is a weird phrase. :)\n",
      "positive sentence: I usually think of \"structured data\" in opposition to \"free text data.\" But I'd think that there are instances where you'd want to make \"unstructured\" data open, e.g., minutes from meetings or notes from an inspection.\n",
      "positive sentence: I believe the underlying goal of this policy is to improve access to data and create transparency within our local government.  I openly support any attempt to achieve progress & create a better tomorrow - even if that means we are not successful on the first attempt.  I believe this document should be considered a living document w/ revisions made & published often.From an IT  Solutions Architect & IT Operations perspective, I have a few concerns noted in the document around undefined processes, undefined metrics to consistently measure success (e.g. constant metrics vs. a yearly summary), the lack of a defined set of initial priorities, a defined way to measure an ROI of the initiative (what do we get from this time/energy/resource/$ investment?).  My other major concern is that a policy is not a guideline - I believe a policy is a consistent mandate across an entire organization (e.g. City of Syracuse)Personally, I believe these open datasets to can be used to identify inefficient processes.  I believe the data will be used to improve & reduce the cost of services provided by the government.IMO - one of the best ways to improve is to incentives city employees -- This might not be the best document to outline an incentive program but if a city employee improves a process and creates a measurable ($) ROI which is sustainable (e.g. at least 1 year) then I support those employees getting a kick-back as part of the improvement.\n",
      "positive sentence: This sounds like a clearly defined process does not exist.  Suggestion: identify the top 10,20,50,xxx datasets now, get approval, set a reoccuring meeting w/ the mayor and counsel office but they shift full program accountability to the CDO.If they (Mayor / Counsel) are involved in (aka micromanaging) the approval process then I believe they need to be held under a measurable standard & revisited to confirm they are able to meet the expectations of the open data initiative\n",
      "positive sentence: Would it be better to define clearly what this policy does not apply to?  Note the proactively release all data note\n",
      "positive sentence: The city has many ways to \"support\" and do nothing - a clearly defined investment in a \"support program\" enhances the importance this program & the return it would like to obtain\n",
      "positive sentence: Proactive to me is having the Mayor & Corp Counsel clearly define what is NOT allowed prior to the start of the initiative.\n",
      "positive sentence: It will have to be a requirement to have I clearly defined \"operational\" process which all departments MUST adapt to publish their data.  I believe this process needs to be defined on Day 1 & adapt operationally to constantly adapt.  The ability to measure total-time to deliver a \"publishable dataset\" milestone will be key to operational efficiency & there is no indicator that process even has a framework\n",
      "positive sentence: I would prefer to define protected information as something which raises privacy, confidentiality or security concerns.\n",
      "positive sentence: As Vice-Chair and Westside Board Delegate for Tomorrow's Neighborhoods Today, I personally whole-heatedly support this, and hope that the TNT organization and sectors can be effective in helping the public access the data.\n",
      "positive sentence: This is really important, but I would be interested to see practically how these can be measured against departmental goals and targets, etc.\n",
      "positive sentence: Fantastic, forward thinking idea. This data was collected at public expense and should be available as freely usable public domain data. Jumping through an information gatekeeper like FOIA was never a good idea.\n",
      "positive sentence: Very excited to hear this is happening!  To get the most out of this open data initiative, it would be nice to see, 1) Data provided in its most raw form without aggregation (allows for more flexibility in analysis), and 2) A list of issues/challenges/topics the City is trying to address.  Equipping the public with these two things could lead to highly creative solutions.\n",
      "positive sentence: An implementation of this as a RESTful API that returns JSON would attract the most software developers.\n",
      "positive sentence: This will be incredibly useful for effective policy of all sorts! I can only hope that someday Onondaga County will have a similar initiative, with the capacity for interface and data synthesis.\n",
      "positive sentence: This is terrific. A solid policy that will serve the city well and provide important guidance to city departments for releasing open data.\n",
      "positive sentence: This is important, as the Chief Data officer will have first hand knowledge of what is working, and what isn't. This could be a good opportunity for the CDO to outline areas for improvement, and things that have not yet gone particularly well in the open data program.\n",
      "positive sentence: This would be a great opportunity for Syracuse to organize some community resources in a way that can increase civic engagement and generate transparency and accountability.\n",
      "positive sentence: This is an auspicious initiative with a tremendous amount of potential. Developers are hungry to get their hands on this data. The more open data we can provide to our local developer community, the more opportunities we'll have to uncover creative solutions to challenging problems.\n",
      "\n",
      "total_comments: 50 --- city name: Syracuse\n"
     ]
    },
    {
     "data": {
      "image/png": "[encoded data removed]",
      "text/plain": [
       "<matplotlib.figure.Figure at 0x1102db2e8>"
      ]
     },
     "metadata": {},
     "output_type": "display_data"
    },
    {
     "name": "stdout",
     "output_type": "stream",
     "text": [
      "None\n",
      "positive sentence: Datasets should also be analyzed and improved to be customer friendly.\n",
      "positive sentence: I really like this.  The one overall suggestion I would make is to strengthen the protections of transparency.  (By the way, putting this document out for public review and comment is a great start.)  Unlike such goals as economic development, collaboration with the private sector, and so on, transparency has a built-in danger because it sometimes calls for those with power to act against their own interests.  There will be things that people would rather not make public and they can always come up with legitimate reasons to withhold the information so you want institutional safeguards.  It is a tough problem but some ideas to consider are:Again, all of this is really tough and if you achieve even some of it, especially at first, you will be doing well.Good luck!\n",
      "positive sentence: Excellent!  And you're off to a smashing start with Madison here. Would be great to have this be the living document and location for regular feedback loops between the public and the Naperville, IL city government.\n",
      "positive sentence: Will this \"open data champion\" have a staff and budget to execute their duties? We have seen the efficacy of language like this diluted if someone is forced to have a job like this without buying into open data and the mission, and without extra resources to accomplish the mission.\n",
      "positive sentence: How often will there be opportunities for feedback and collaboration? Will opportunities for feedback and collaboration take place online and in-person?\n",
      "positive sentence: Could be good to include example of an open license, as some that are considered \"open\"  will still contain some restrictions. Being more explicit could be good! Perhaps a Creative Commons CC0 Universal License?\n",
      "positive sentence: Great reasoning. I think this is more reason to explicitly include laws, legal codes, rules and regulations.  That's the data on which all democracies always \"work collaboratively\" through various policy making processes.\n",
      "positive sentence: Does this include textual and narrative data, such as the city's laws, legal codes, rules and regulations?  Thank you!\n",
      "positive sentence: Additionally, as part of the process, can we capture timelines for key milestones as well? Upon review of the open data policy, it seems like there are several key milestones involved - e.g., launch open data portal, decide initial data-sets, frequently update data on portal, invite citizen input, etc. It would be helpful to know when some of these key activities will be done. For example, it was very helpful to have the policy say clearly that annual report will be released no later than Feb-15 2018. Likewise, would be great to know timeline of important events from now till the time annual report is published.\n",
      "positive sentence: At some appropriate section of the policy or maybe as part of the process, would it be possible to showcase examples (perhaps success stories from other cities, if available) demonstrating how data can/has-been used to solve city challenges? Ofcourse, each city is different and the top issue of another city may or may not be relevant to Naperville but this will give the public a practical sense of application of data and hopefully spur innovation to create Naperville-specific solutions from the data being released\n",
      "positive sentence: Great initiative by City leadership to champion the open data program and catapult Naperville into an exclusive group of cities across the world that support opendata principles of transparency, accessibility and collaboration with citizensAs with any open data program, while data is important, it remains an enabler to the end result. The end result is usually a solution to a complex challenge(s) (e.g., traffic, etc.) that matters to the community and the data then becomes an enabler to solve that challenge by facilitating fact-based / data-driven decision making:\n",
      "\t- What do we think are the biggest challenges facing the community?\n",
      "\t- Use #naperer_opendata on twitter to share your thoughts on the key challenges that need to be addressed\n",
      "positive sentence: Great idea. I would like to see how data is classified into private and public.\n",
      "\n",
      "total_comments: 24 --- city name: Naperville\n"
     ]
    },
    {
     "data": {
      "image/png": "[encoded data removed]",
      "text/plain": [
       "<matplotlib.figure.Figure at 0x10fc24828>"
      ]
     },
     "metadata": {},
     "output_type": "display_data"
    },
    {
     "name": "stdout",
     "output_type": "stream",
     "text": [
      "None\n",
      "positive sentence: From an open data expert:\n",
      "\"If you haven't already, please take a look at M-13-13, the formal Open Data Policy for the Federal Government (https://www.whitehouse.gov/sites/default/files/omb/memoranda/2013/m-13-13.pdf)Is there any particular reason you limited your definition of \"data\" so strictly for BART? I'd advocate for a broader definition so that you can't be hemmed in later by opposition. Data, at its most basic level, is simply information that is structured in some human or machine-readable format. Also, this definition really doesn't apply to source code (some of which is covered under open source licenses with their own legal restrictions), which you reference later.In an opposite manner, I believe your definition of \"open data\" is too broad. Open data, if not properly documented and managed, can lead to useless files hanging out there on the Internet without being \"discoverable\" or \"searchable\". I'd definitely look to M-13-13 for at least a few examples of what makes data truly open, such as: Described, Complete, Timely, and Managed. In terms of overhead, there are literally only 3 Government employees I know managing data.gov, and that's for at least the 24 major CFO-Act agencies.This section actually has me a bit worried: \"Release publishable, non-private, District data, making it freely available in open formats, license free and fully accessible to the broadest range of users;\" -- Open source licenses are a good thing. They allow users to reuse and redistribute without having to ask if someone owns the data first. If you publish code or data without a license (the good ones are \"lax-permissive\" in my book: CC0, MIT, BSD, etc.) you run the risk of the public having to ask \"who owns this\"? How do they know without some license or AT LEAST a public domain waiver attached?\"Employ open source software solutions whenever possible\" almost goes too far. Some open source solutions are actually weaker than their proprietary counterparts (although not often). I'd say \"Employ open source solutions that fit within the mission, operational, and budgetary objectives of BART\" or something similar.In general, I would disambiguate Open Data from Open Source Code. For one, you'll almost definitely want them on separate web portals, as the audiences for each are quire disparate. Also, Open Source Code has legal implications for international reuse unless you apply a CC0 waiver.\"\n",
      "\n",
      "total_comments: 1 --- city name: Bart\n"
     ]
    },
    {
     "data": {
      "image/png": "[encoded data removed]",
      "text/plain": [
       "<matplotlib.figure.Figure at 0x10f55a6a0>"
      ]
     },
     "metadata": {},
     "output_type": "display_data"
    },
    {
     "name": "stdout",
     "output_type": "stream",
     "text": [
      "None\n",
      "\n",
      "total_comments: 2 --- city name: San Francisco\n"
     ]
    },
    {
     "data": {
      "image/png": "[encoded data removed]",
      "text/plain": [
       "<matplotlib.figure.Figure at 0x10fbb2eb8>"
      ]
     },
     "metadata": {},
     "output_type": "display_data"
    },
    {
     "name": "stdout",
     "output_type": "stream",
     "text": [
      "None\n"
     ]
    },
    {
     "data": {
      "image/png": "[encoded data removed]",
      "text/plain": [
       "<matplotlib.figure.Figure at 0x10f55ef98>"
      ]
     },
     "metadata": {},
     "output_type": "display_data"
    },
    {
     "name": "stdout",
     "output_type": "stream",
     "text": [
      "None\n"
     ]
    }
   ],
   "source": [
    "sentimental_analysis_graphs_2 = top_policy_sections_commented(all_madison_dfs, \"all_common_comments\", 3)"
   ]
  },
  {
   "cell_type": "markdown",
   "metadata": {},
   "source": [
    "## c) sentiment analysis graphs for all the cities (aggregate) for most commonly quoted policy sections"
   ]
  },
  {
   "cell_type": "code",
   "execution_count": 107,
   "metadata": {
    "collapsed": true
   },
   "outputs": [],
   "source": [
    "# ???\n",
    "#sentimental_analysis_graphs_3 = top_policy_sections_commented(all_cities_dataframe, \"most_common_policy\", 4)"
   ]
  },
  {
   "cell_type": "markdown",
   "metadata": {},
   "source": [
    "## d) sentiment analysis for all the cities (aggregate) for all comments"
   ]
  },
  {
   "cell_type": "code",
   "execution_count": 206,
   "metadata": {},
   "outputs": [
    {
     "name": "stdout",
     "output_type": "stream",
     "text": [
      "positive sentence: I am in support of the proposed policy to further enable data and subsequent knowledge sharing. I agree with fellow contributors that it would be beneficial to see more detailed outlines for the specific process that is going to enable community members to contribute to the Open Data portal by creating, uploading and verifying data sets to be published. Myself and colleagues have created a number of valuable data sets that could be beneficial across city departments, community organizations and individual interests. Understanding that only data sets meeting the standards set forth as a result of this policy will be accepted, we can collaboratively drive the understanding of our community from all perspectives.\n",
      "\n",
      "positive sentence: I would be interested to see this more finely documented. It would be great to have a living, breathering process that community members could submit data sets that they have created (required to meet the data standards set forth by the Open Data Policy) for verification and publication to the open data portal within a timely manner. Individuals in the community may have greater flexibility and time to produce unique data sets pertinent to acute challenges and enable broader understanding in a more timely manner.\n",
      "\n",
      "positive sentence: I strongly support the proposed policy, with a recognition of the outstanding contributions that have already been made by other residents, citizens, and interested parties.Many thanks to the City of Buffalo for leading this effort. Most of my comments are within the document itself, but I do agree with other comments below that emphasize the need for substantial citizen involvement in governance, application, and oversight. During the RFP process, I would encourage the city to include not only requirements for a portal, but also an iterative feedback/improvement process with residents and regular data users so that the city's investment in this system can produce tangible use cases and real benefits to our city and its people.The Department of Citizen Services should also be commended for their use of the collaborative policymaking platform. In the age of the internet, this is an excellent way to increase public participation in these types of processes. Many thanks for this opportunity.\n",
      "\n",
      "neutral sentence: Can the portal include an option for community members/partners to publish their own data to a section of the site? Provided it adheres to a set of minimum standards and passes review.\n",
      "\n",
      "neutral sentence: It may be a helpful option to include a repository of FOIL requests and responses (whatever is able to be centralized), as well as an option to automate or streamline the FOIL request process via the portal interface.\n",
      "\n",
      "neutral sentence: Minutes from any and all meetings of this committee should be made available in machine-readable formats in an easily-accessible location (including within the open data system)\n",
      "\n",
      "neutral sentence: A Citizens Advisory Committee can be designated (appointments by mayor, council members) to support the Governance Committee in the areas of reviewing datasets to be published, hosting events for public feedback and participation, facilitating collaborations, facilitating use of the portal, expanding awareness of open data resources and applications, as well as defining and regularly reviewing the data standards governance document.\n",
      "\n",
      "neutral sentence: equitable access to opportunity (open data can help move us closer to this goal)\n",
      "\n",
      "positive sentence: This part of the reporting should make specific reference to the three goals articulated in Section \"Open Data Program\", part 6: government efficiency, improved quality of life, and expanded economic opportunities.\n",
      "\n",
      "neutral sentence: The open data system should include a space for showcasing the innovative ways in which city data are used by these various stakeholders.\n",
      "\n",
      "positive sentence: Remove \"paramount.\" Privacy, confidentiality and security should be considerations when determining whether data should be open, but they should not be presumed to be paramount and therefore superior to the public's right to know.\n",
      "\n",
      "positive sentence: I strongly support the spirit of this policy and the efforts made toward ensuring free public access to data information and government transparency. As a private citizen and freelance writer and researcher, I support the timely adoption and implementation of this policy.The following are my concerns with the policy as it now stands:The policy should encourage and, when possible, mandate the collection and dissemination of information collected by non-city and quasi-governmental agencies such as the NFTA, BMHA, Buffalo Place, the Buffalo Olmsted Parks Conservancy, hospital campuses, institutions of higher education and other organizations providing public services such as park maintenance, policing and security, transportation and education services. In particular, public safety information from police and security forces managed by Buffalo Place, medical and college campuses and the NFTA should be subject to the open data policy.When information is unavailable due to its privileged status, it should be made available in the aggregate whenever possible. e.g., motor vehicle incident reports are not public per NYS law but should be presented to the public in an anonymized or aggregate form.\n",
      "\n",
      "positive sentence: The following comment is submitted on behalf of the Public Accountability Initiative:The Public Accountability Initiative (PAI) is a non-profit educational group focused on transparency and accountability headquartered in the City of Buffalo. PAI operates a research platform, LittleSis.org, that brings together information obtained through public records for use by journalists, academics, and activists as well as the general public. Access to current government information is paramount to PAI’s work and to meaningful participation in a democracy. As such, PAI endorses the goals of the Open Data proposal.Below we have highlighted what feel are the most commendable inclusions in the proposal as currently drafted, made suggestions for further improvement, and raised concerns with certain provisions of the proposal.By providing access to public information proactively and for free, the Open Data proposal addresses two significant burdens to public access to information: failure to respond to freedom of information requests in a timely fashion and undue copying fees levied by public agencies. According to MuckRock, a non-profit organization that facilitates the filing and analysis of freedom of information requests, the City of Buffalo takes an average of 63 days to respond to freedom of information requests and charges an average fee of $4.13 per request. PAI has had considerable difficulty obtaining public records from city agencies, most notably the Buffalo Police Department (see e.g. “FOIL by inches: The slow-drip transparency of Buffalo PD” by Caitlin Russell of MuckRock).If these burdens are truly shifted from requesters to the City, Buffalo will be making a commendable commitment to transparency. To even further improve access to public records, PAI seconds Brian Borncamp’s recommendation that the Open Data Policy provide for a “centralized system for submitting, tracking, and responding to FOIL requests.” By centralizing all requests and by making requests and responses publicly available, the City can dramatically increase its responsiveness to public requests for information and reduce instances of non-compliance with the Freedom of Information Law that result in costly attorneys’ fees.PAI also highlights and applauds the inclusion of “records of third-party agency contractors that create or acquire information, records, or data on behalf of a City division/department” as an especially meaningful and important component of the Open Data proposal. Public entities are increasingly reliant on non-governmental or quasi-governmental non-profits to perform governmental services. If unchecked, those third-party contractors can act as a “black box” where important information can be kept secret from the public, leading to suspicion and, at times, scandal. The State University at New York system is currently dealing with this issue within its nominally private campus-related foundations at the center of the United States Attorney investigation into Buffalo Billion contracting.Explicitly holding third-party contractors to the same transparency standard as the public agencies they’re working for both honors the letter of New York’s Freedom of Information Law and serves as a proactive measure to avoid actual or apparent corruption. This provision should be taken further to explicitly include records of all city-related public benefit corporations and other quasi-governmental entities.Finally, as PAI is involved with technology development in addition to producing original research, we call attention to the proposed availability of City of Buffalo data via an Application Programming Interface (API). Providing data this way allows developers to interact with data in new and unexpected ways and facilitates analysis of that data. For example, PAI’s research platform LittleSis interacts with the OpenSecrets database maintained by the Center for Responsive Politics via an API to incorporate campaign finance as soon as it is uploaded. In addition to making City of Buffalo data available via an API, PAI also recommends that datasets be available for bulk download in various relevant formats to permit analysis using Microsoft Excel or other programs.PAI has significant concerns about the oversight of Buffalo’s Open Data portal. As currently stipulated in the proposal, development and implementation of the Open Data practices will be delegated to appointees of the Mayor with “input from the public.” It is crucial for the Open Data Governance Committee to be free from the influence of politics and to not be beholden to any one political representative. As such, the Open Data Governance Committee should include representatives from the City as well as from independent organizations working in the public interest, such as the residents, businesses, researchers, and media mentioned in the policy’s statement of purpose, and independent members should comprise a majority of the committee’s votes.Alongside the existing Open Book Buffalo portal, this Open Data policy represents a praiseworthy commitment to transparency and accountability for the City of Buffalo. For this, the Public Accountability Initiative again commends the city government and welcomes any further opportunity for input on this important initiative. By adopting a policy that addresses the above-stated concerns addressed – especially those about oversight and the centralization of freedom of information requests and responses – the City of Buffalo will take a great stride in advancing transparency and accountability to its residents.\n",
      "\n",
      "positive sentence: I assume this would be funding for training the support staff.  I would like to also recommend that a portion of the funding be allocated for training residents, community groups and nonprofits on how to access information and analyze it to inform their work.\n",
      "\n",
      "neutral sentence: It is important to include all members of the local community that can benefit from this information; including nonprofits and foundations.\n",
      "\n",
      "neutral sentence: How will this committee be formed?  Will it be comprised of community stakeholders or only government employees/officials?\n",
      "\n",
      "neutral sentence: residents, government leaders, businesses, nonprofits, foundations, researchers, and the media,\n",
      "\n",
      "neutral sentence: foundations, nonprofits\n",
      "\n",
      "neutral sentence: Any additional data that is made available would be very helpful.\n",
      "\n",
      "neutral sentence: \"records\" seems overly broad here.\n",
      "\n",
      "positive sentence: Thank you to the City of Buffalo!  My comments are regarding the geospatial (GIS) data. We often build tools for local government, and open data portals are our go-to standard to accessing data.  Please also consider including open access to live data such as webservices. Downloadable data, such as xmls, shapefiles or even file geodatabases are necessary for local processing and analysis.  However, most of our support to local government agencies is by functioning as tool and system developers. It makes us incredibly more productive (and accurate) to have access to live data.  I agree with Sean Meyers and support the distribution of the webservices and mapservices in web standard formats.  -Karyn Tareen CEO, Geocove\n",
      "\n",
      "positive sentence: I'm glad this issue came to the forefront for the city, as these have been great resources in other cities across the country and world.My only primary concern is that often times these portals are more civic gestures than meaningful contributions to the data community.  I would just ask that, should the city give its approval, there be some assurance that the data will be actionable and easily legible.  Often times, spreadsheets are put out that contain codes and numerical systems that make sense for people working in offices that have the keys and necessary maps to use the data, but ultimately for the normal citizen, these are just collections of numbers that mean nothing in relation to the spatial understanding of the city.  I ask that the city and Open Data Buffalo take care to translate spreadsheets so that the headings of tables and the layout of information is concise, sorted and legible.  In addition to other added comments describing the value of GIS shape files and inter-application connectivity, simply making data logical and readable will go a long way to helping organizations across the city use the information.  If the information is not useable, it is not useful.\n",
      "\n",
      "positive sentence: Thank you to the City of Buffalo for making open data a priority! I agree with the point made previously that the open data portal should include a repository of GIS shapefiles. As someone who works in the community development field, I often struggle to find the appropriate files and often have to cobble together data from various sources or create files from scratch. Having a centralized resource would make grant writing, needs assessments, and neighborhood planning efforts a lot easier. The UB Regional Institute has developed an ArcGIS-based database tracking a number of different environmental and demographic indicators as part of their work on One Region Forward, a regional plan for sustainable development in the Buffalo Niagara region: http://www.oneregionforward.org/data-tools/mappingmetrics/ This might be a good place to start, although as previously mentioned, the ability to export this data in a usable file format is paramount. Excited to follow the progress of this initiative!\n",
      "\n",
      "positive sentence: Thank you City of Buffalo for taking on this initiative. I have two comments:\n",
      "\n",
      "I think one one of the stated goals of the program should be to promote active participation by the community including civic technologists, civic activists, programmers, and database specialists to develop tools that turn data into insight for some of the city's pressing issues.\n",
      "\n",
      "\n",
      "I think it is very important to ensure that the technical definition of open data goes beyond the definitions provided by the vendors of the platforms currently in use by the city. We are in a web-based world so web-based standards must take precedence (e.g. JSON, geoJSON).\n",
      "\n",
      "\n",
      "\n",
      "neutral sentence: Wait, where were the goals? Were they #'s 1-6 above? If so, the term 'goals' should be used there, just to make it clear.\n",
      "\n",
      "positive sentence: I want to thank Oswaldo Mestre and Kirk McLean for providing such a transparent forum for discussing and adopting an Open Data policy. Buffalo is taking advantage of data as a driver of economic and social change by providing it to the citizenry without restrictions.I’m curious about what platform Buffalo will use for the Open Data portal.  I hope public comments will continue through the RFP process and in choosing a portal provider. Many platforms restrict the exchange of data so it’s a top-down process (i.e. Buffalo would create and provide all the data), however it would be beneficial to the city to host data from the non-profit and academic partners alongside municipal data.  In addition, the efficacy of the portal would increase if municipal data could be supplemented with crowdsourced and citizen scientist created data.I hope the city will air on the side of transparency as it selects which datasets constitute “publishable city data” and will share many of the datasets that make the NYC data portal so rich (parking tickets, tree cover, vehicle collisions, building by year of construction, 311 data, etc..)Thanks again for providing such an open forum for discussing open data.  I look forward to more productive community discussions.-Dr. Monica Stephens, University at Buffalo\n",
      "\n",
      "neutral sentence: Could trim this to just focus on the safeguarding of protected and sensitive information. Minimize limitations on the disclosure of public information doesn't really describe the role of the city in protecting sensitive information.\n",
      "\n",
      "neutral sentence: There will likely be a license, so yes, there will be a restriction on use/reuse (even something like acknowledging the source of the data). Maybe 'minimal restrictions on use'? Doesn't sound as good though!\n",
      "\n",
      "neutral sentence: Not sure what this means for formats such as the ESRI shapefile (proprietary GIS format). I'm assuming that much of the infrastructure data will be in this format. All things being equal, having data in a proprietary format would be better than no data.\n",
      "\n",
      "neutral sentence: Other options being explored? Bulk dataset download is still very common and effective, especially for those users who may not be comfortable accessing an API.\n",
      "\n",
      "neutral sentence: will have the potential to improve? Probably want to leave the impact of open data provision a bit more open\n",
      "\n",
      "neutral sentence: These are great - the update frequency question below is somewhat covered here.\n",
      "\n",
      "positive sentence: Promote open data that informs increases in government efficiency, improvements in the quality of life of its citizens, and more equal opportunities for all residents.\n",
      "Commit to data driven decision making especially in areas of policy.\n",
      "\n",
      "\n",
      "positive sentence: Will data be shared if it is not regularly maintained?  Perhaps \"date of update\" could be identified in the metadata.  Will adopting an OpenData policy encourage the city to more regularly maintain datasets or will this clause be used to skirt sharing policies?  Historical data (not regularly maintained) is still data.\n",
      "\n",
      "positive sentence: My comments are rather lengthy. In addition to the comments below I've provided a copy inside a google doc. http://bit.ly/BuffaloOpenDataCommentsI commend Oswaldo Mestre and Kirk McLean for putting forward a draft Open Data Policy. Such policies work to make Buffalo government more effective, transparent, accountable, and responsive. This draft document is an important step forward. With all aspects of government we ought to strive for continual improvement. As improvement pertains to the draft Open Data Policy, I hope you find these suggestions amenable.The draft policy establishes an “Open Data Governance Committee”. As the committee currently stands, oversight and implementation is held entirely within the executive branch of city government. Given that the data provided would primarily originate from the executive branch, it is sensible to seek its representation. However, in the spirit of an open democratic society, the policy ought to seek independence and accountability through checks and balances from other institutions.The stated purpose of the policy, “creates value for residents, government leaders, businesses, researchers, and the media. ” With the exception of government leaders, none of these groups appear to be formally required by the draft policy.  The policy ought to move the governance committee to include these stated groups.In creating an independent governance committee, the policy ought to seek representation from co-equal branches of government, e.g. the Common Council and City Comptroller. Ensuring appointment via other branches would go a long way toward promoting the Open Data Governance Committee as an independent body.Additionally, the structure of the committee ought to ensure that those appointed to the committee via the executive branch do not hold an automatic majority of voting eligible members. Seeking the “input” of the public is perhaps the lowest form of democracy. Input can be trivial, power is not.The draft policy does not specify how decisions made by the governance committee are to be made public. In ensuring that the governance committee is making decisions for the public good, record of said decisions ought to be publicly available.To the effect of the stated concerns, the governance committee ought to be adopted into the city charter subject to a vote by the common council.The draft policy attempts to cast a broad net over the institutions subject to it. Stated in the document, the policy “will apply to any City department, office, administrative unit, commission, board, advisory committee or other division/department of the City government including the records of third-party agency contractors that create or acquire information, records, or data on behalf of a City division/department.”Reading the draft, it is unclear as to the policy’s applicability to quasi-governmental agencies such as public benefit corporations, e.g. Buffalo Urban Renewal Agency, Buffalo Urban Development Agency, and the Buffalo Municipal Housing Authority. A small language tweak could incorporate such entities under the scope of the draft policy.Open data is a strong tool for open and transparent government. However, open data is only one of many tools regarding open government. FOIL is another tool that can help to move governments towards transparency and accountability. However, the state of FOIL in Buffalo is dismal. The shortcomings of the City of Buffalo as it pertains to FOIL have been well reported in the press. City departments routinely disregard the law as it relates to FOIL. In this author's experience, above 90% of FOIL requests submitted are not responded to with the requested documentation, or an agency determination explaining why such documents are not available.An open data policy cannot be the sole remedy for city officials unwillingness to follow the law. However, it can take steps toward holding those officials accountable. Inclusion into the draft policy of a centralized system for submitting, tracking, and responding to FOIL requests would be an incredible step forward. Such a measure would provide residents and city officials with an effective way to manage requests and comply with the relevant statutes. When conflict over FOIL requests do arise, the conflict would be publicly available and documented. Such a system would prevent FOIL requests from getting lost inside civic bureaucracy due to malfeasance or human error.The advancement of Open Data in Buffalo is an important step. I applaud the Division of Citizen Services for being forward thinking in this regard. That being said, the comments provided here ought not be seen as window dressing to the draft policy. These comments speak to structural concerns of strengthening democracy. The nature of power and human institutions is that they change over time. I hope that these comments are able to extended the drafted policy such that when institutions change the effect and intentions of the draft Buffalo Open Data Policy do not.\n",
      "\n"
     ]
    },
    {
     "name": "stdout",
     "output_type": "stream",
     "text": [
      "neutral sentence: Does this position currently exist in City Hall? If not, who would take on this role?\n",
      "\n",
      "neutral sentence: It may be useful to have a participatory aspect that prioritizes data updates/releases based on demand (e.g. a certain number of requests triggers an update/response).\n",
      "\n",
      "neutral sentence: Perhaps a section of the central repository should host all the data that was released in response to FOIL requests. It would provide wider access to this data and could serve as a means to solicit public feedback on the relative priority of establishing a more formal release of the dataset (with relevant metadata and scheduled refreshes of the data).\n",
      "\n",
      "neutral sentence: Metadata is the key to making sure that the data is used correctly and enables the data to be used in as many different (yet appropriate) ways possible.\n",
      "\n",
      "positive sentence: I support the effort to make data accessible to the public. The NYC Open Data portal is a good example of an existing resource with a similar intention. I recommend including environmental and geographic data in the form of GIS shapefiles which can be downloaded, as opposed to 'view-only' results or more traditional pdf or Excel files. I also recommend partnering with local higher education entities, such as the University at Buffalo, to provide research data in additional to official City of Buffalo owned/managed data.\n",
      "\n",
      "neutral sentence: I am 100% supportive of open data and anything that improves citizen participation, however I opposed this document as it seems the Mayor implementing his own Open Data is a waste of funds and a duplication of efforts since this already exists for the City of Buffalo with the Comptroller's Open Book.  If the purpose of this document is to have one centralized location for citizens to access data, it seems the Mayor should work to promote the Open Book and any expansion of data be incorporated into that site.\n",
      "\n",
      "neutral sentence: \n",
      "\n",
      "neutral sentence: City departments, and\n",
      "\n",
      "neutral sentence: What authority does the Open Data Governance Committee have to do this? Does it derive from one or more specific members of the committee? The paragraph above which describes the membership doesn't specifically designate someone which has budget authority. Ideally this policy should address that concern somehow.\n",
      "\n",
      "neutral sentence: this seems like an unnecessary distinction which is covered by other language. Is the idea here to say that using an application programming interface (API) to access data is not sufficient?\n",
      "\n",
      "negative sentence: risks to the public\n",
      "\n",
      "neutral sentence: This can probably be combined with #1\n",
      "\n",
      "neutral sentence: is or will be\n",
      "\n",
      "positive sentence: this is amazing. Very important.\n",
      "\n",
      "neutral sentence: protected information\n",
      "\n",
      "negative sentence: If limiting the City's liability for how the data is used is considered a legal encumbrance then this phrase should be removed or modified. It's also conceivable you want Terms & Conditions on your open data which prohibit the use of data when committing a crime, etc.\n",
      "\n",
      "neutral sentence: \n",
      "\n",
      "positive sentence: The City of Buffalo is to be commended for taking steps to move towards normalizing the sharing of data with the public. As a researcher in the non-profits, I see this as a tool to better serve my city. As a resident, I'm excited to see more transparency.Comments:\n",
      "-The Open Data Governance Board should also include residents of the City of Buffalo with technical expertise in data management or interest in government transparency. These should be people who apply to it (and maybe the government members vote?) as opposed to being appointed. There are some tips on engaging the civic tech community here: https://www.civichacking.guide though there are likely interested parties outside that community. However it’s structured, it should be as a dialog with city residents.-I agree with Aaron that the source code of the open data tools should be available.-I’d recommend a citizen-heavy deliberative democracy process (think participatory budgeting without the budget) to figure out some of the specifics of what to release and how often. I suspect that most residents of the city, including myself, don’t know what is available. Della Rucker, an economic development consultant based in Akron, suggests that when such processes are engaged, inform all parties of limitations and that can often lead to better outcomes.-Would there be a listserv announcing new releases, the way that HUD or the Census does?-My employer manages a client-level database that has input from over 100 users. We've found that if you do not enforce strict requirements of timeliness, data quality suffers as it becomes perpetually delayed. Since there were no explicit timelines mentioned here (our requirement is that data needs to be entered within 72 hours of the event), I worry this very valuable effort could suffer from similar backburner issues.Thank you for sharing this with the public for feedback! I thought this was a really useful format!\n",
      "\n",
      "neutral sentence: What exactly are examples of \"applicable privileges\"?\n",
      "\n",
      "neutral sentence: A central location is a good idea, IMHO\n",
      "\n",
      "negative sentence: There should be a publicly available list of what is blocked and why. Having this list facilitates transparency and understanding of how the government operates.\n",
      "\n",
      "neutral sentence: Since this is a service to the residents of Buffalo, there should be resident participation in the governance committee as there may be dis-concordance between what residents and city employees consider \"appropriately ambitious\".\n",
      "\n",
      "positive sentence: That would be super helpful :)\n",
      "\n",
      "neutral sentence: To be honest, I'm not entirely certain what this is trying to say.\n",
      "\n",
      "neutral sentence: Would this liaison be the contact person if a dataset user (ie a student doing a project or a researcher) had questions about the set?\n",
      "\n",
      "neutral sentence: I would recommend that it include members of the public with technical expertise and interest in publicly available data sets too instead of just receiving input.\n",
      "\n",
      "neutral sentence: By whom? Who has the last say for that and how would they be held accountable to the public?\n",
      "\n",
      "positive sentence: Maybe you should utilize a deliberative democratic process (like participatory budgeting, only without a budget as the end goal and maybe a bit briefer) to encourage public engagement?\n",
      "\n",
      "positive sentence: This document fails to require the sharing of the source code of the open data tools. \"Require Code Sharing Or Publishing Open Source\" is a recommendation of Sunlight Foundation https://sunlightfoundation.com/opendataguidelines/#open-code . Sharing the source code allows citizens to help contribute to the tools making the data public, allows citizens access to the tools for which they are paying, and allows other government agencies as well citizens to benefit from improvements made on behalf of Buffalo.\n",
      "\n",
      "positive sentence: Welcome to the City of Buffalo’s public comment period on the Mayor’s draft Open Data policy. We’re looking forward to your feedback strengthening the governing document for our new Open Data program, which will make publishable City data more accessible to the public. After a brief and simple sign up, you’ll be able to do five things on the OpenGov Foundation’s Madison Project platform: read the document; let us know whether you support or oppose the document; leave a comment on the policy or open data, in general; highlight a bit of text and leave a note on that specific text; and respond to other people’s notes, starting a dialogue about a specific passage.Feel free to also leave a comment about what datasets you’d like to see the city publish in the future.The public comment period will be open from January 10th to 24th.Thank you for participating.\n",
      "\n",
      "positive sentence: Welcome to the City of Buffalo’s public comment period on the Mayor’s draft Open Data policy. We’re looking forward to your feedback strengthening the governing document for our new Open Data program, which will make publishable City data more accessible to the public. After a brief and simple sign up, you’ll be able to do five things on the OpenGov Foundation’s Madison Project platform: read the document; let us know whether you support or oppose the document; leave a comment on the policy or open data, in general; highlight a bit of text and leave a note on that specific text; and respond to other people’s notes, starting a dialogue about a specific passage.\n",
      "Feel free to also leave a comment about what datasets you’d like to see the city publish in the future.\n",
      "The public comment period will be open from January 10th to 24th.\n",
      "Thank you for participating.\n",
      "\n",
      "positive sentence: From a quick read-through, this seems really good and seems to hit most major points that come to mind for me.  The only possible improvements that occur to me right now are:\n",
      "\n",
      "Good metadata is very important but also difficult/costly (in a general sense, not necessarily dollars).  You may want to lay out what your approaches will be.\n",
      "\n",
      "\n",
      "It may be implied but an explicit \"open by default\" policy can be very powerful.  What I mean by this is basically that anything not restricted from release is eligible for release.  This is, of course, not a commitment to release any particular dataset on any particular schedule since everyone has resource constraints but basically means it goes into whatever prioritization process (either formal or informal) you use, with an intention to publish if/when it rises to the top.\n",
      "\n",
      "\n",
      "\n",
      "neutral sentence: I don't see any explanation of how this will affect FOIA requests. What is the timeline of dispute and who makes that decision when a request is not going to be granted under this policy?\n",
      "With many of our requests, we need the information as soon as possible. If the data coordinator deems an item sensitive, what is the timeline for their response? 24 hours, 48 hours, a week?\n",
      "I applaud the desire for more openness, but without a defined FOIA escalation policy, it could end up being another hurdle.\n",
      "\n",
      "neutral sentence: Are the goals of the data project those listed in Section 11? You might want to consider identifying them as such so it is clear that the \"initiatives\"  are the \"goals\". If the goals are different, you may want to consider including them in this document.\n",
      "\n",
      "neutral sentence: Will a specific professional person be identified to lead this project within the City Managers office or will this be managed by a clerical person?\n",
      "\n",
      "neutral sentence: Will the data be \"view only\" and if not, will there be a way to ensure that the data is not editable if downloaded/printed?\n",
      "\n",
      "positive sentence: Special thanks to everyone who took the time to provide feedback and comments on the draft resolution.  Your feedback was valuable to the process.  I am pleased to report that the City Council adopted a resolution in support of creating an Open Data program on Tuesday 6/27.  The final resolution language can be found here:  https://glendale-az.legistar.com/LegislationDetail.aspx?ID=3086887&GUID=68D243FB-66A3-4381-B963-2176AC97CEE9.  Special thanks to the What Works Cities and Sunlight Foundation teams for helping us make improvements for our community.  We are looking forward to the implementation phase of this project.\n",
      "\n",
      "positive sentence: This resource would be of great value to the Human Resources Commission.  The demographic information would help serve as a guide to commission activities.  Kudos for the concept.\n",
      "\n",
      "neutral sentence: I am concerned about approving citizen information on a public forum particularly since this proposal does not indicate what data will be posted and whether there will be people identified by the data.  If there will be personal citizen information will there be a method for that person to know who is accessing their information and can they approve access to that information to the requester?\n",
      "\n",
      "neutral sentence: This resolution would serve the residents of the City of Glendale well. Two questions: 1) Is there room for it in the budget? And, 2) Are there any examples of city websites already doing something similar for review? Jeff\n",
      "\n",
      "positive sentence: I have read the comments from others that have posted here and not to be redundant, I agree that there should be transparency and the process should be easy to find and user friendly.  the Mayor and Council are working hard to provide what is best for the City of Glendale, and so I am in support of this.\n",
      "\n",
      "neutral sentence: Before any new data is added to the Glendale website, glendaleaz.com needs work so that it is easier to find information. For example Planning should be on the home page and readily accessible. A link to a site administrator or someone responsible for the website needs to be created. Presently there is no contact information if we have comments about the website.  All of this needs straightening out before adding \"open data\".\n",
      "\n",
      "neutral sentence: This, to me, is a key aspect of the value proposition, and it deserves emphasizing. By having agencies upload data to a centralized repository, it allows mashups, composite takes and easy comparison.\n",
      "\n",
      "negative sentence: This is way past due. The current system is awful and discourages citizen evolvement.\n",
      "Please continue on with this vital upgrade.\n",
      "\n",
      "neutral sentence: \n",
      "\n",
      "neutral sentence: My first question is; How much is this going to cost to discover, create, implement & sustain. Transparency is great but not if it wastes my already overtaxed dollars so someone can get all warm and fuzzy about \"transparency\".\n",
      "\n",
      "positive sentence: Section IX, item 4:\n",
      "Given the requirement to provide credit or attribution, this section is unclear on the acceptable forms of attribution and to whom the attribution applies.For example, would a user of the Street Sweeping Schedule dataset (https://data.nashville.gov/Beautification/Metro-Water-Services-Current-Street-Sweeping-Sched/p9iq-sxk3) should attribution marks/text say \"Metro Water Services\" or \"Metro Government\"?Possible Solution: Change Section IX, Item 4 to say: \"Metropolitan Government requests that when content, data, documentation, code, and related materials from https://data.nashville.gov is used, proper credit or attribution be given to the originating Department or 'Metropolitan Government of Nashville and Davidson County', whichever is the most specific and accurate.\"Moreover, it'll probably be a good idea to say that use of the 'Metropolitan Government of Nashville and Davidson County' seal is not an acceptable form of attribution.\n",
      "\n",
      "neutral sentence: Will there be a follow-up document describing how best to give attribution?\n",
      "\n",
      "neutral sentence: Awesome!\n",
      "\n",
      "positive sentence: I would encourage greater description of acceptable metadata in Section VII. The bare minimum should include:\n",
      "For tables, a description of what the data describe, how the data were collected, and for what purpose.\n",
      "For each table, there should be a list of the included variables, definitions of what each variable means, and (where applicable) a code list for each variable describing what each possible value means.\n",
      "For data sets, there should be a description of how the different tables relate to each other.\n",
      "I think it's important to add this level of detail to the data policy to ensure that folks don't cut corners on metadata. Without this type of information, it's very difficult to use public data well.\n",
      "\n",
      "positive sentence: I'm so glad that Metro is heading in a more open, transparent direction - and love the idea of Open Data Workshops and public/private partnerships.\n",
      "\n",
      "neutral sentence: Cheers for this!\n",
      "\n",
      "neutral sentence: Announcements of data set publication when they are released would also encourage participation\n",
      "\n",
      "neutral sentence: I would hope the city uses GitHub for this task, instead of building a centralized location of it's own.\n",
      "\n",
      "positive sentence: You probably want to (a) limit this to \"records created by third party agency contractors\" and not \"records of third party....\" Also, does this policy dispositively void all contract provisions what explicitly transfer ownership of records to a third party? Is that even possible from a \"policy\" and not a law? And if not, then is the enforcement aspect that you are directing agencies to include explicit provisions in their contracts. Is, e.g., the GC going to create model contract provisions?\n",
      "\n",
      "positive sentence: I don't understand what would make a dataset \"effective.\" Data is just data. Some data is more useful than other data. Is the implication that you want to prioritize more interesting data, e.g., bus routes or tax parcel data, that may have more immediate commercial or civic application?\n",
      "\n",
      "neutral sentence: How does the intent of \"historical archives\" interact with \"permanence\" above?\n",
      "\n",
      "positive sentence: \"Permanence\" is a strong guarantee a priori, and could imply quadratically growing storage costs (e.g., if you save a bunch of snapshots). Also, publishing \"with permanence\" is a weird phrase. :)\n",
      "\n",
      "neutral sentence: \"Accessible\" has ADA connotations, especially when paired with \"broadest range\". Are you committing to something here? Is this whole clause after \"and\" actually necessary?\n",
      "\n",
      "neutral sentence: See note above about the finality of \"no\" and whether there is some sort of implicit license you actually want to set up\n",
      "\n",
      "negative sentence: \"Open formats\" wasn't defined above. I assume you mean \"not Excel\" or some such?\n",
      "\n",
      "neutral sentence: From my experience, some \"publishable\" city data is still in notebooks in a back office. Does this policy also set a goal of digitizing that information? Or is there a hidden \"reasonable\" here?\n",
      "\n",
      "neutral sentence: Does \"dataset\" include the data dictionary?\n",
      "\n",
      "neutral sentence: I usually think of \"structured data\" in opposition to \"free text data.\" But I'd think that there are instances where you'd want to make \"unstructured\" data open, e.g., minutes from meetings or notes from an inspection.\n",
      "\n",
      "negative sentence: I'm not a lawyer, but usually there is an \"as is\" or \"no warranties\" clause in open source licenses. (e.g., Section 5 here https://creativecommons.org/licenses/by/4.0/legalcode ). Is this a thing that you'd want to include in your data policy?\n",
      "\n",
      "neutral sentence: Should this policy include a note about how contracts should, by default, insist that data created on behalf of an agency be owned by an agency?\n",
      "\n",
      "neutral sentence: Does this only cover data released after this policy goes into effect, or is this retroactive to a certain point in time?\n",
      "\n",
      "positive sentence: I believe the underlying goal of this policy is to improve access to data and create transparency within our local government.  I openly support any attempt to achieve progress & create a better tomorrow - even if that means we are not successful on the first attempt.  I believe this document should be considered a living document w/ revisions made & published often.From an IT  Solutions Architect & IT Operations perspective, I have a few concerns noted in the document around undefined processes, undefined metrics to consistently measure success (e.g. constant metrics vs. a yearly summary), the lack of a defined set of initial priorities, a defined way to measure an ROI of the initiative (what do we get from this time/energy/resource/$ investment?).  My other major concern is that a policy is not a guideline - I believe a policy is a consistent mandate across an entire organization (e.g. City of Syracuse)Personally, I believe these open datasets to can be used to identify inefficient processes.  I believe the data will be used to improve & reduce the cost of services provided by the government.IMO - one of the best ways to improve is to incentives city employees -- This might not be the best document to outline an incentive program but if a city employee improves a process and creates a measurable ($) ROI which is sustainable (e.g. at least 1 year) then I support those employees getting a kick-back as part of the improvement.\n",
      "\n",
      "negative sentence: Contradiction - Policies are not guidelines, IMO they are mandatory... guidelines are not mandatory\n",
      "\n",
      "negative sentence: Very well said. I think this not only clearly identifies the mission of Syracuse's Open Data Policy, it also makes a concise argument for it.\n",
      "\n",
      "neutral sentence: I believe we should be more agile & publish major accomplishments every quarter - waiting 1 year for a formal report of all blockers, issues, failures, and successes eliminates the very transparency the program is aiming to achieve\n",
      "\n",
      "neutral sentence: This information needs to be backed by hard business rules & defined in such a way that automated processes can detect/alert if sensitive information is ever detected in the \"release pipeline\"...\n",
      "\n",
      "neutral sentence: Establish Automated Solutions not processes...\n",
      "\n",
      "neutral sentence: a transparent process?\n",
      "\n",
      "neutral sentence: This sounds like a 1x data classification process.  I'd suggest \"process\" is redefined as a documented operational process where the classification of data is stored & maintained in an evergreen state.\n",
      "\n",
      "neutral sentence: Who's Accountable for... identifying data, designing ETL automation & or manual extract processes, outlining operational business logic & metadata correlation, etc...\n",
      "\n",
      "neutral sentence: AUTOMATE AUTOMATE AUTOMATE!!!!!\n",
      "\n",
      "positive sentence: This sounds like a clearly defined process does not exist.  Suggestion: identify the top 10,20,50,xxx datasets now, get approval, set a reoccuring meeting w/ the mayor and counsel office but they shift full program accountability to the CDO.If they (Mayor / Counsel) are involved in (aka micromanaging) the approval process then I believe they need to be held under a measurable standard & revisited to confirm they are able to meet the expectations of the open data initiative\n",
      "\n",
      "neutral sentence: Would it be better to define clearly what this policy does not apply to?  Note the proactively release all data note\n",
      "\n",
      "neutral sentence: The city has many ways to \"support\" and do nothing - a clearly defined investment in a \"support program\" enhances the importance this program & the return it would like to obtain\n",
      "\n",
      "neutral sentence: Redundant - view proactively release all publishable city data comment\n",
      "\n",
      "neutral sentence: WAY too subjective - High-quality needs to be defined & measured against (e.g. - exactly how is this data providing transparency into how data is driving gov't decisions & policy adoption).\n",
      "\n",
      "neutral sentence: Proactive to me is having the Mayor & Corp Counsel clearly define what is NOT allowed prior to the start of the initiative.\n",
      "\n",
      "neutral sentence: It will have to be a requirement to have I clearly defined \"operational\" process which all departments MUST adapt to publish their data.  I believe this process needs to be defined on Day 1 & adapt operationally to constantly adapt.  The ability to measure total-time to deliver a \"publishable dataset\" milestone will be key to operational efficiency & there is no indicator that process even has a framework\n",
      "\n",
      "neutral sentence: redundant - protect & sensitive are ultimately the same\n",
      "\n",
      "neutral sentence: I would prefer to define protected information as something which raises privacy, confidentiality or security concerns.\n",
      "\n",
      "positive sentence: As Vice-Chair and Westside Board Delegate for Tomorrow's Neighborhoods Today, I personally whole-heatedly support this, and hope that the TNT organization and sectors can be effective in helping the public access the data.\n",
      "\n",
      "neutral sentence: This is really important, but I would be interested to see practically how these can be measured against departmental goals and targets, etc.\n",
      "\n",
      "neutral sentence: YES\n",
      "\n",
      "neutral sentence: Should this be CDO? Or does it refer to departments/agencies/public spoken about above?\n",
      "\n",
      "neutral sentence: Processes for this will be key.\n",
      "\n",
      "positive sentence: Fantastic, forward thinking idea. This data was collected at public expense and should be available as freely usable public domain data. Jumping through an information gatekeeper like FOIA was never a good idea.\n",
      "\n",
      "negative sentence: Data may not need to be published to a repository. Link to existing location. See Play it where it lies (1, 1.5) http://chriswhong.com/open-data/thoughts-on-open-data-part-1/\n",
      "My experience has been when files require exporting from a Dept then imported to Open Data (manual process), data gets old because employees stop exporting or corrupted because new employees don't know process.\n",
      "Location of data/database is not important if the link to it or an API is available on central location.\n",
      "\n",
      "positive sentence: Very excited to hear this is happening!  To get the most out of this open data initiative, it would be nice to see, 1) Data provided in its most raw form without aggregation (allows for more flexibility in analysis), and 2) A list of issues/challenges/topics the City is trying to address.  Equipping the public with these two things could lead to highly creative solutions.\n",
      "\n",
      "neutral sentence: An implementation of this as a RESTful API that returns JSON would attract the most software developers.\n",
      "\n",
      "neutral sentence: Given most modern web development relies on APIs and given that most APIs return JSON, a dataset in JSON would receive more interactions than an XML dataset.\n",
      "\n",
      "positive sentence: This will be incredibly useful for effective policy of all sorts! I can only hope that someday Onondaga County will have a similar initiative, with the capacity for interface and data synthesis.\n",
      "\n",
      "positive sentence: This is terrific. A solid policy that will serve the city well and provide important guidance to city departments for releasing open data.\n",
      "\n",
      "neutral sentence: Some cities use an appointed board with members of the public and other stakeholders to provide support and recommendations to the CDO.\n",
      "\n",
      "positive sentence: This is important, as the Chief Data officer will have first hand knowledge of what is working, and what isn't. This could be a good opportunity for the CDO to outline areas for improvement, and things that have not yet gone particularly well in the open data program.\n",
      "\n",
      "positive sentence: This would be a great opportunity for Syracuse to organize some community resources in a way that can increase civic engagement and generate transparency and accountability.\n",
      "\n",
      "neutral sentence: This is an auspicious initiative with a tremendous amount of potential. Developers are hungry to get their hands on this data. The more open data we can provide to our local developer community, the more opportunities we'll have to uncover creative solutions to challenging problems.\n",
      "\n",
      "neutral sentence: What about citation?\n",
      "\n",
      "positive sentence: Datasets should also be analyzed and improved to be customer friendly.\n",
      "\n",
      "neutral sentence: Measure \"and publicly report\"\n",
      "\n",
      "neutral sentence: Metadata helps users understand a dataset\n",
      "\n",
      "neutral sentence: API's are not a data format.\n",
      "\n",
      "positive sentence: I really like this.  The one overall suggestion I would make is to strengthen the protections of transparency.  (By the way, putting this document out for public review and comment is a great start.)  Unlike such goals as economic development, collaboration with the private sector, and so on, transparency has a built-in danger because it sometimes calls for those with power to act against their own interests.  There will be things that people would rather not make public and they can always come up with legitimate reasons to withhold the information so you want institutional safeguards.  It is a tough problem but some ideas to consider are:Again, all of this is really tough and if you achieve even some of it, especially at first, you will be doing well.Good luck!\n",
      "\n",
      "neutral sentence: You may want something short of \"paramount.\" That means that it trumps all else.  Privacy, confidentiality, and security are very important but you inevitably will have to make trade offs between them and openness.  In the extreme, the only way to make them paramount (even assuming no conflicts between them) would be to publish nothing at all.\n",
      "\n",
      "neutral sentence: Transparency is a noun.  The adjective form is transparent.\n",
      "\n",
      "neutral sentence: Yes!  Great language here.  For the city's laws and legal codes, we do not see any copyright restrictions posted on the city's vendor website (https://www.municode.com/library/il/naperville/codes/code_of_ordinances?nodeId=14853) but this language will make doubly sure that no private-sector company or government entity or publisher can or will restrict public access.\n",
      "\n",
      "positive sentence: Excellent!  And you're off to a smashing start with Madison here. Would be great to have this be the living document and location for regular feedback loops between the public and the Naperville, IL city government.\n",
      "\n",
      "neutral sentence: \n",
      "\n",
      "positive sentence: Will this \"open data champion\" have a staff and budget to execute their duties? We have seen the efficacy of language like this diluted if someone is forced to have a job like this without buying into open data and the mission, and without extra resources to accomplish the mission.\n",
      "\n",
      "neutral sentence: How often will there be opportunities for feedback and collaboration? Will opportunities for feedback and collaboration take place online and in-person?\n",
      "\n",
      "positive sentence: Could be good to include example of an open license, as some that are considered \"open\"  will still contain some restrictions. Being more explicit could be good! Perhaps a Creative Commons CC0 Universal License?\n",
      "\n",
      "neutral sentence: Note that API is not a file format. Other format examples could be JSON and XML. An API is a means of obtaining the data.\n",
      "\n",
      "neutral sentence: Great reasoning. I think this is more reason to explicitly include laws, legal codes, rules and regulations.  That's the data on which all democracies always \"work collaboratively\" through various policy making processes.\n",
      "\n",
      "neutral sentence: describe governments\n",
      "\n",
      "neutral sentence: Data - Statistical, factual, quantitative, textual, narrative or qualitative information that is regularly maintained or created by or on behalf of the City.\n",
      "\n",
      "neutral sentence: Does this include textual and narrative data, such as the city's laws, legal codes, rules and regulations?  Thank you!\n",
      "\n",
      "positive sentence: Additionally, as part of the process, can we capture timelines for key milestones as well? Upon review of the open data policy, it seems like there are several key milestones involved - e.g., launch open data portal, decide initial data-sets, frequently update data on portal, invite citizen input, etc. It would be helpful to know when some of these key activities will be done. For example, it was very helpful to have the policy say clearly that annual report will be released no later than Feb-15 2018. Likewise, would be great to know timeline of important events from now till the time annual report is published.\n",
      "\n",
      "positive sentence: At some appropriate section of the policy or maybe as part of the process, would it be possible to showcase examples (perhaps success stories from other cities, if available) demonstrating how data can/has-been used to solve city challenges? Ofcourse, each city is different and the top issue of another city may or may not be relevant to Naperville but this will give the public a practical sense of application of data and hopefully spur innovation to create Naperville-specific solutions from the data being released\n",
      "\n",
      "positive sentence: Great initiative by City leadership to champion the open data program and catapult Naperville into an exclusive group of cities across the world that support opendata principles of transparency, accessibility and collaboration with citizensAs with any open data program, while data is important, it remains an enabler to the end result. The end result is usually a solution to a complex challenge(s) (e.g., traffic, etc.) that matters to the community and the data then becomes an enabler to solve that challenge by facilitating fact-based / data-driven decision making:\n",
      "\t- What do we think are the biggest challenges facing the community?\n",
      "\t- Use #naperer_opendata on twitter to share your thoughts on the key challenges that need to be addressed\n",
      "\n",
      "neutral sentence: So will I finally be able to find out which of my neighbors own guns?\n",
      "\n",
      "positive sentence: Great idea. I would like to see how data is classified into private and public.\n",
      "\n",
      "positive sentence: From an open data expert:\n",
      "\"If you haven't already, please take a look at M-13-13, the formal Open Data Policy for the Federal Government (https://www.whitehouse.gov/sites/default/files/omb/memoranda/2013/m-13-13.pdf)Is there any particular reason you limited your definition of \"data\" so strictly for BART? I'd advocate for a broader definition so that you can't be hemmed in later by opposition. Data, at its most basic level, is simply information that is structured in some human or machine-readable format. Also, this definition really doesn't apply to source code (some of which is covered under open source licenses with their own legal restrictions), which you reference later.In an opposite manner, I believe your definition of \"open data\" is too broad. Open data, if not properly documented and managed, can lead to useless files hanging out there on the Internet without being \"discoverable\" or \"searchable\". I'd definitely look to M-13-13 for at least a few examples of what makes data truly open, such as: Described, Complete, Timely, and Managed. In terms of overhead, there are literally only 3 Government employees I know managing data.gov, and that's for at least the 24 major CFO-Act agencies.This section actually has me a bit worried: \"Release publishable, non-private, District data, making it freely available in open formats, license free and fully accessible to the broadest range of users;\" -- Open source licenses are a good thing. They allow users to reuse and redistribute without having to ask if someone owns the data first. If you publish code or data without a license (the good ones are \"lax-permissive\" in my book: CC0, MIT, BSD, etc.) you run the risk of the public having to ask \"who owns this\"? How do they know without some license or AT LEAST a public domain waiver attached?\"Employ open source software solutions whenever possible\" almost goes too far. Some open source solutions are actually weaker than their proprietary counterparts (although not often). I'd say \"Employ open source solutions that fit within the mission, operational, and budgetary objectives of BART\" or something similar.In general, I would disambiguate Open Data from Open Source Code. For one, you'll almost definitely want them on separate web portals, as the audiences for each are quire disparate. Also, Open Source Code has legal implications for international reuse unless you apply a CC0 waiver.\"\n",
      "\n",
      "neutral sentence: Administrative Code - Timelines and Procedures for Releasing Open Data\n",
      "\n",
      "neutral sentence: LOL\n",
      "\n",
      "\n",
      "total_comments: 164 --- city name: All Cities\n"
     ]
    },
    {
     "data": {
      "image/png": "[encoded data removed]",
      "text/plain": [
       "<matplotlib.figure.Figure at 0x10f753fd0>"
      ]
     },
     "metadata": {},
     "output_type": "display_data"
    }
   ],
   "source": [
    "sentimental_analysis_graphs_4 = top_policy_sections_commented(all_cities_dataframe, \"all_common_comments\", 3)"
   ]
  },
  {
   "cell_type": "markdown",
   "metadata": {},
   "source": [
    "# 3) Analyzing the most popular policy sections"
   ]
  },
  {
   "cell_type": "code",
   "execution_count": 112,
   "metadata": {
    "collapsed": true
   },
   "outputs": [],
   "source": [
    "popular_sections = sentimental_analysis_graphs_3[3]\n",
    "filtered_pop_sections = pd.DataFrame()\n",
    "\n",
    "for phrase, count in popular_sections:\n",
    "    filtered_pop_sections = filtered_pop_sections.append(all_cities_dataframe[all_cities_dataframe['quoted_text'].astype(str).str.contains(phrase)])\n",
    "\n",
    "filtered_pop_sections_4 = filtered_pop_sections.reset_index()"
   ]
  },
  {
   "cell_type": "code",
   "execution_count": 113,
   "metadata": {},
   "outputs": [
    {
     "data": {
      "text/plain": [
       "[('Open Data Governance Committee', 5),\n",
       " ('protected and sensitive information', 4),\n",
       " ('and implement a process', 3),\n",
       " ('implement a process for', 3),\n",
       " ('the Open Data Governance', 3),\n",
       " ('the city ’ s', 3),\n",
       " ('and sensitive information ;', 3),\n",
       " ('Develop and implement a', 3),\n",
       " ('on the disclosure of', 2),\n",
       " ('quantitative , or qualitative', 2)]"
      ]
     },
     "execution_count": 113,
     "metadata": {},
     "output_type": "execute_result"
    }
   ],
   "source": [
    "popular_sections #popular sections phrases, number of times they are quoted"
   ]
  },
  {
   "cell_type": "code",
   "execution_count": 114,
   "metadata": {
    "collapsed": true
   },
   "outputs": [],
   "source": [
    "filtered_pop_sections_4 = filtered_pop_sections_4.drop_duplicates(\"comment_text\")"
   ]
  },
  {
   "cell_type": "code",
   "execution_count": 80,
   "metadata": {},
   "outputs": [
    {
     "name": "stdout",
     "output_type": "stream",
     "text": [
      "\u001b[1mCity: Buffalo\n",
      "\u001b[0mPartial quoted text: Open Data Governance Committee\n",
      "\u001b[1mComment text: Minutes from any and all meetings of this committee should be made available in machine-readable formats in an easily-accessible location (including within the open data system)\n",
      "\u001b[1mNumber of likes: 1\n",
      "\n",
      "\u001b[1mCity: Buffalo\n",
      "\u001b[0mPartial quoted text: Open Data Governance Committee\n",
      "\u001b[1mComment text: How will this committee be formed?  Will it be comprised of community stakeholders or only government employees/officials?\n",
      "\u001b[1mNumber of likes: 0\n",
      "\n",
      "\u001b[1mCity: Buffalo\n",
      "\u001b[0mPartial quoted text: periodically update the data based on internal and external needs; serve on the Open Data Governance Committee; upon request, meet with the Open Data Governance Committee to discuss any matter pertaining to implementation of this Order; and assist in the preparation of the annual open data compliance report.\n",
      "\u001b[1mComment text: Would this liaison be the contact person if a dataset user (ie a student doing a project or a researcher) had questions about the set?\n",
      "\u001b[1mNumber of likes: 1\n",
      "\n",
      "\u001b[1mCity: Naperville\n",
      "\u001b[0mPartial quoted text: b. In order to increase and improve use of the City's open data, the Open Data Governance Committee will actively encourage City department, board and commission, City Council and public participation through providing regular opportunities for feedback and collaboration.\n",
      "\u001b[1mComment text: Excellent!  And you're off to a smashing start with Madison here. Would be great to have this be the living document and location for regular feedback loops between the public and the Naperville, IL city government.\n",
      "\u001b[1mNumber of likes: 0\n",
      "\n",
      "\u001b[1mCity: Buffalo\n",
      "\u001b[0mPartial quoted text: appropriately safeguarding protected and sensitive information;\n",
      "\u001b[1mComment text: Could trim this to just focus on the safeguarding of protected and sensitive information. Minimize limitations on the disclosure of public information doesn't really describe the role of the city in protecting sensitive information.\n",
      "\u001b[1mNumber of likes: 1\n",
      "\n",
      "\u001b[1mCity: Syracuse\n",
      "\u001b[0mPartial quoted text: exclude protected and sensitive information;\n",
      "\u001b[1mComment text: This information needs to be backed by hard business rules & defined in such a way that automated processes can detect/alert if sensitive information is ever detected in the \"release pipeline\"...\n",
      "\u001b[1mNumber of likes: 0\n",
      "\n",
      "\u001b[1mCity: Syracuse\n",
      "\u001b[0mPartial quoted text: Minimize limitations on the disclosure of public information while appropriately safeguarding protected and sensitive information; and\n",
      "\u001b[1mComment text: Redundant - view proactively release all publishable city data comment\n",
      "\u001b[1mNumber of likes: 0\n",
      "\n",
      "\u001b[1mCity: Naperville\n",
      "\u001b[0mPartial quoted text: Establish processes for publishing datasets to the open data portal, including processes for ensuring that datasets are high-quality, up-to-date, are in use-appropriate formats, and exclude protected and sensitive information.\n",
      "\u001b[1mComment text: Datasets should also be analyzed and improved to be customer friendly.\n",
      "\u001b[1mNumber of likes: 0\n",
      "\n",
      "\u001b[1mCity: Buffalo\n",
      "\u001b[0mPartial quoted text: Develop and implement a process for prioritizing the release of datasets\n",
      "\u001b[1mComment text: Perhaps a section of the central repository should host all the data that was released in response to FOIL requests. It would provide wider access to this data and could serve as a means to solicit public feedback on the relative priority of establishing a more formal release of the dataset (with relevant metadata and scheduled refreshes of the data).\n",
      "\u001b[1mNumber of likes: 2\n",
      "\n",
      "\u001b[1mCity: Buffalo\n",
      "\u001b[0mPartial quoted text: Develop and implement a process for prioritizing the release of datasets to the Open Data Portal which takes into account new and existing signals of interest from the public (such as the frequency of FOIL requests), the City's programmatic priorities, existing opportunities for data use in the public interest, and cost;\n",
      "\u001b[1mComment text: Maybe you should utilize a deliberative democratic process (like participatory budgeting, only without a budget as the end goal and maybe a bit briefer) to encourage public engagement?\n",
      "\u001b[1mNumber of likes: 0\n",
      "\n",
      "\u001b[1mCity: Syracuse\n",
      "\u001b[0mPartial quoted text: Develop and implement a process for determining the relative level of risk and public benefit associated with potentially sensitive, non-protected information so as to make a determination about whether and how to publish it;\n",
      "\u001b[1mComment text: This sounds like a 1x data classification process.  I'd suggest \"process\" is redefined as a documented operational process where the classification of data is stored & maintained in an evergreen state.\n",
      "\u001b[1mNumber of likes: 0\n",
      "\n",
      "\u001b[1mCity: Syracuse\n",
      "\u001b[0mPartial quoted text: all publishable city data\n",
      "\u001b[1mComment text: From my experience, some \"publishable\" city data is still in notebooks in a back office. Does this policy also set a goal of digitizing that information? Or is there a hidden \"reasonable\" here?\n",
      "\u001b[1mNumber of likes: 0\n",
      "\n",
      "\u001b[1mCity: Syracuse\n",
      "\u001b[0mPartial quoted text: Proactively release all publishable city data\n",
      "\u001b[1mComment text: Proactive to me is having the Mayor & Corp Counsel clearly define what is NOT allowed prior to the start of the initiative.\n",
      "\u001b[1mNumber of likes: 0\n",
      "\n"
     ]
    }
   ],
   "source": [
    "for index, row in filtered_pop_sections_4.iterrows():\n",
    "    print('\\033[1m' + \"City:\", row['city_name'])\n",
    "    print('\\033[0m' + \"Partial quoted text:\", row['quoted_text'])\n",
    "    print('\\033[1m' + \"Comment text:\", row['comment_text'])\n",
    "    print()"
   ]
  },
  {
   "cell_type": "code",
   "execution_count": 125,
   "metadata": {
    "collapsed": true
   },
   "outputs": [],
   "source": [
    "# hand-made (this needs eye-balling)\n",
    "main_policies = ['Open Data Governance Committee', \"Opportunities for Citizen Feedback\", 'Privacy and Security', 'Useful, quality and timely data', \"Prioritizing the release of open data\", 'Open Data Access']\n",
    "count_pop_policies = [3, 2, 3, 3, 1, 0]"
   ]
  },
  {
   "cell_type": "code",
   "execution_count": 177,
   "metadata": {},
   "outputs": [
    {
     "data": {
      "image/png": "[encoded data removed]",
      "text/plain": [
       "<matplotlib.figure.Figure at 0x10f75b390>"
      ]
     },
     "metadata": {},
     "output_type": "display_data"
    }
   ],
   "source": [
    "horizontal_bar(main_policies, count_pop_policies, \"Number of comments\", \"Popular Policies\")"
   ]
  },
  {
   "cell_type": "markdown",
   "metadata": {},
   "source": [
    "### 3-word long quoted policy text"
   ]
  },
  {
   "cell_type": "code",
   "execution_count": 181,
   "metadata": {},
   "outputs": [
    {
     "name": "stdout",
     "output_type": "stream",
     "text": [
      "positive sentence: That would be super helpful :)\n",
      "\n",
      "positive sentence: Maybe you should utilize a deliberative democratic process (like participatory budgeting, only without a budget as the end goal and maybe a bit briefer) to encourage public engagement?\n",
      "\n",
      "neutral sentence: This is really important, but I would be interested to see practically how these can be measured against departmental goals and targets, etc.\n",
      "\n",
      "positive sentence: Excellent!  And you're off to a smashing start with Madison here. Would be great to have this be the living document and location for regular feedback loops between the public and the Naperville, IL city government.\n",
      "\n",
      "neutral sentence: The open data system should include a space for showcasing the innovative ways in which city data are used by these various stakeholders.\n",
      "\n",
      "neutral sentence: Data - Statistical, factual, quantitative, textual, narrative or qualitative information that is regularly maintained or created by or on behalf of the City.\n",
      "\n",
      "neutral sentence: Does this include textual and narrative data, such as the city's laws, legal codes, rules and regulations?  Thank you!\n",
      "\n",
      "neutral sentence: Could trim this to just focus on the safeguarding of protected and sensitive information. Minimize limitations on the disclosure of public information doesn't really describe the role of the city in protecting sensitive information.\n",
      "\n",
      "positive sentence: Datasets should also be analyzed and improved to be customer friendly.\n",
      "\n",
      "positive sentence: this is amazing. Very important.\n",
      "\n",
      "neutral sentence: Should this policy include a note about how contracts should, by default, insist that data created on behalf of an agency be owned by an agency?\n",
      "\n",
      "neutral sentence: This sounds like a 1x data classification process.  I'd suggest \"process\" is redefined as a documented operational process where the classification of data is stored & maintained in an evergreen state.\n",
      "\n",
      "neutral sentence: A Citizens Advisory Committee can be designated (appointments by mayor, council members) to support the Governance Committee in the areas of reviewing datasets to be published, hosting events for public feedback and participation, facilitating collaborations, facilitating use of the portal, expanding awareness of open data resources and applications, as well as defining and regularly reviewing the data standards governance document.\n",
      "\n",
      "neutral sentence: I would recommend that it include members of the public with technical expertise and interest in publicly available data sets too instead of just receiving input.\n",
      "\n",
      "positive sentence: Could be good to include example of an open license, as some that are considered \"open\"  will still contain some restrictions. Being more explicit could be good! Perhaps a Creative Commons CC0 Universal License?\n",
      "\n",
      "\n",
      "total_comments: 23 --- city name: All Cities\n"
     ]
    },
    {
     "data": {
      "image/png": "[encoded data removed]",
      "text/plain": [
       "<matplotlib.figure.Figure at 0x10f9720b8>"
      ]
     },
     "metadata": {},
     "output_type": "display_data"
    }
   ],
   "source": [
    "sentimental_analysis_graphs_5 = top_policy_sections_commented(all_cities_dataframe, \"most_common_policy\", 3)"
   ]
  },
  {
   "cell_type": "code",
   "execution_count": 182,
   "metadata": {
    "collapsed": true
   },
   "outputs": [],
   "source": [
    "popular_sections_3 = sentimental_analysis_graphs_5[3]\n",
    "filtered_pop_sections_3 = pd.DataFrame()\n",
    "\n",
    "for phrase, count in popular_sections_3:\n",
    "    filtered_pop_sections_3 = filtered_pop_sections_3.append(all_cities_dataframe[all_cities_dataframe['quoted_text'].astype(str).str.contains(phrase)])\n",
    "\n",
    "filtered_pop_sections_3 = filtered_pop_sections_3.reset_index()"
   ]
  },
  {
   "cell_type": "code",
   "execution_count": 183,
   "metadata": {},
   "outputs": [
    {
     "data": {
      "text/plain": [
       "[('the Open Data', 6),\n",
       " ('Open Data Governance', 5),\n",
       " ('Data Governance Committee', 5),\n",
       " ('of the City', 4),\n",
       " ('protected and sensitive', 4),\n",
       " ('and sensitive information', 4),\n",
       " ('on behalf of', 4),\n",
       " ('Develop and implement', 3),\n",
       " ('from the public', 3),\n",
       " ('open license basis', 3)]"
      ]
     },
     "execution_count": 183,
     "metadata": {},
     "output_type": "execute_result"
    }
   ],
   "source": [
    "popular_sections_3 #popular sections phrases, number of times they are quoted"
   ]
  },
  {
   "cell_type": "code",
   "execution_count": 184,
   "metadata": {
    "collapsed": true
   },
   "outputs": [],
   "source": [
    "filtered_pop_sections_3 = filtered_pop_sections_3.drop_duplicates(\"comment_text\")"
   ]
  },
  {
   "cell_type": "code",
   "execution_count": 185,
   "metadata": {},
   "outputs": [
    {
     "name": "stdout",
     "output_type": "stream",
     "text": [
      "\u001b[1mCity: Buffalo\n",
      "\u001b[0mPartial quoted text: Provide for a future means of digitizing archived material that was in existence prior to the development of the Open Data Program;\n",
      "\u001b[1mComment text: That would be super helpful :)\n",
      "\n",
      "\u001b[1mCity: Buffalo\n",
      "\u001b[0mPartial quoted text: periodically update the data based on internal and external needs; serve on the Open Data Governance Committee; upon request, meet with the Open Data Governance Committee to discuss any matter pertaining to implementation of this Order; and assist in the preparation of the annual open data compliance report.\n",
      "\u001b[1mComment text: Would this liaison be the contact person if a dataset user (ie a student doing a project or a researcher) had questions about the set?\n",
      "\n",
      "\u001b[1mCity: Buffalo\n",
      "\u001b[0mPartial quoted text: Develop and implement a process for prioritizing the release of datasets to the Open Data Portal which takes into account new and existing signals of interest from the public (such as the frequency of FOIL requests), the City's programmatic priorities, existing opportunities for data use in the public interest, and cost;\n",
      "\u001b[1mComment text: Maybe you should utilize a deliberative democratic process (like participatory budgeting, only without a budget as the end goal and maybe a bit briefer) to encourage public engagement?\n",
      "\n",
      "\u001b[1mCity: Syracuse\n",
      "\u001b[0mPartial quoted text: Measure the effectiveness of datasets made available through the Open Data Program by connecting open data efforts to the city’s programmatic priorities;\n",
      "\u001b[1mComment text: This is really important, but I would be interested to see practically how these can be measured against departmental goals and targets, etc.\n",
      "\n",
      "\u001b[1mCity: Naperville\n",
      "\u001b[0mPartial quoted text: b. In order to increase and improve use of the City's open data, the Open Data Governance Committee will actively encourage City department, board and commission, City Council and public participation through providing regular opportunities for feedback and collaboration.\n",
      "\u001b[1mComment text: Excellent!  And you're off to a smashing start with Madison here. Would be great to have this be the living document and location for regular feedback loops between the public and the Naperville, IL city government.\n",
      "\n",
      "\u001b[1mCity: Buffalo\n",
      "\u001b[0mPartial quoted text: Open Data Governance Committee\n",
      "\u001b[1mComment text: Minutes from any and all meetings of this committee should be made available in machine-readable formats in an easily-accessible location (including within the open data system)\n",
      "\n",
      "\u001b[1mCity: Buffalo\n",
      "\u001b[0mPartial quoted text: Open Data Governance Committee\n",
      "\u001b[1mComment text: How will this committee be formed?  Will it be comprised of community stakeholders or only government employees/officials?\n",
      "\n",
      "\u001b[1mCity: Buffalo\n",
      "\u001b[0mPartial quoted text: Encourage innovative uses of the City's publishable non-privileged and non-confidential data by departments, the public, and other partners; and\n",
      "\u001b[1mComment text: The open data system should include a space for showcasing the innovative ways in which city data are used by these various stakeholders.\n",
      "\n",
      "\u001b[1mCity: Naperville\n",
      "\u001b[0mPartial quoted text: Data - Statistical, factual, quantitative, or qualitative information that is regularly maintained or created by or on behalf of the City.\n",
      "\u001b[1mComment text: Data - Statistical, factual, quantitative, textual, narrative or qualitative information that is regularly maintained or created by or on behalf of the City.\n",
      "\n",
      "\u001b[1mCity: Naperville\n",
      "\u001b[0mPartial quoted text: Data - Statistical, factual, quantitative, or qualitative information that is regularly maintained or created by or on behalf of the City.\n",
      "\u001b[1mComment text: Does this include textual and narrative data, such as the city's laws, legal codes, rules and regulations?  Thank you!\n",
      "\n",
      "\u001b[1mCity: Buffalo\n",
      "\u001b[0mPartial quoted text: appropriately safeguarding protected and sensitive information;\n",
      "\u001b[1mComment text: Could trim this to just focus on the safeguarding of protected and sensitive information. Minimize limitations on the disclosure of public information doesn't really describe the role of the city in protecting sensitive information.\n",
      "\n",
      "\u001b[1mCity: Syracuse\n",
      "\u001b[0mPartial quoted text: exclude protected and sensitive information;\n",
      "\u001b[1mComment text: This information needs to be backed by hard business rules & defined in such a way that automated processes can detect/alert if sensitive information is ever detected in the \"release pipeline\"...\n",
      "\n",
      "\u001b[1mCity: Syracuse\n",
      "\u001b[0mPartial quoted text: Minimize limitations on the disclosure of public information while appropriately safeguarding protected and sensitive information; and\n",
      "\u001b[1mComment text: Redundant - view proactively release all publishable city data comment\n",
      "\n",
      "\u001b[1mCity: Naperville\n",
      "\u001b[0mPartial quoted text: Establish processes for publishing datasets to the open data portal, including processes for ensuring that datasets are high-quality, up-to-date, are in use-appropriate formats, and exclude protected and sensitive information.\n",
      "\u001b[1mComment text: Datasets should also be analyzed and improved to be customer friendly.\n",
      "\n",
      "\u001b[1mCity: Buffalo\n",
      "\u001b[0mPartial quoted text: including the records of third-party agency contractors that create or acquire information, records, or data on behalf of a City division/department\n",
      "\u001b[1mComment text: this is amazing. Very important.\n",
      "\n",
      "\u001b[1mCity: Syracuse\n",
      "\u001b[0mPartial quoted text: on behalf of\n",
      "\u001b[1mComment text: Should this policy include a note about how contracts should, by default, insist that data created on behalf of an agency be owned by an agency?\n",
      "\n",
      "\u001b[1mCity: Buffalo\n",
      "\u001b[0mPartial quoted text: Develop and implement a process for prioritizing the release of datasets\n",
      "\u001b[1mComment text: Perhaps a section of the central repository should host all the data that was released in response to FOIL requests. It would provide wider access to this data and could serve as a means to solicit public feedback on the relative priority of establishing a more formal release of the dataset (with relevant metadata and scheduled refreshes of the data).\n",
      "\n",
      "\u001b[1mCity: Syracuse\n",
      "\u001b[0mPartial quoted text: Develop and implement a process for determining the relative level of risk and public benefit associated with potentially sensitive, non-protected information so as to make a determination about whether and how to publish it;\n",
      "\u001b[1mComment text: This sounds like a 1x data classification process.  I'd suggest \"process\" is redefined as a documented operational process where the classification of data is stored & maintained in an evergreen state.\n",
      "\n",
      "\u001b[1mCity: Buffalo\n",
      "\u001b[0mPartial quoted text: and will include input from the public.\n",
      "\u001b[1mComment text: A Citizens Advisory Committee can be designated (appointments by mayor, council members) to support the Governance Committee in the areas of reviewing datasets to be published, hosting events for public feedback and participation, facilitating collaborations, facilitating use of the portal, expanding awareness of open data resources and applications, as well as defining and regularly reviewing the data standards governance document.\n",
      "\n",
      "\u001b[1mCity: Buffalo\n",
      "\u001b[0mPartial quoted text: and will include input from the public.\n",
      "\u001b[1mComment text: I would recommend that it include members of the public with technical expertise and interest in publicly available data sets too instead of just receiving input.\n",
      "\n",
      "\u001b[1mCity: Naperville\n",
      "\u001b[0mPartial quoted text: All published data will be placed into the public domain on an open license basis with no restrictions on publishing, copying, further distribution, or modification of said data.\n",
      "\u001b[1mComment text: What about citation?\n",
      "\n",
      "\u001b[1mCity: Naperville\n",
      "\u001b[0mPartial quoted text: b. All published data will be placed into the public domain on an open license basis with no restrictions on publishing, copying, further distribution, or modification of said data.\n",
      "\u001b[1mComment text: Yes!  Great language here.  For the city's laws and legal codes, we do not see any copyright restrictions posted on the city's vendor website (https://www.municode.com/library/il/naperville/codes/code_of_ordinances?nodeId=14853) but this language will make doubly sure that no private-sector company or government entity or publisher can or will restrict public access.\n",
      "\n",
      "\u001b[1mCity: Naperville\n",
      "\u001b[0mPartial quoted text: open license basis\n",
      "\u001b[1mComment text: Could be good to include example of an open license, as some that are considered \"open\"  will still contain some restrictions. Being more explicit could be good! Perhaps a Creative Commons CC0 Universal License?\n",
      "\n"
     ]
    }
   ],
   "source": [
    "for index, row in filtered_pop_sections_3.iterrows():\n",
    "    print('\\033[1m' + \"City:\", row['city_name'])\n",
    "    print('\\033[0m' + \"Partial quoted text:\", row['quoted_text'])\n",
    "    print('\\033[1m' + \"Comment text:\", row['comment_text'])\n",
    "    print()"
   ]
  },
  {
   "cell_type": "code",
   "execution_count": 188,
   "metadata": {
    "collapsed": true
   },
   "outputs": [],
   "source": [
    "# hand-made (this needs eye-balling)\n",
    "main_policies_3 = ['Open Data Governance Committee', \"Opportunities for Citizen Feedback\", 'Privacy and Security', 'Useful, quality and timely data', \"Prioritizing the release of open data\", 'Open Data Access']\n",
    "count_pop_policies_3 = [6, 2, 5, 5, 2, 0]"
   ]
  },
  {
   "cell_type": "code",
   "execution_count": 195,
   "metadata": {},
   "outputs": [
    {
     "data": {
      "image/png": "[encoded data removed]",
      "text/plain": [
       "<matplotlib.figure.Figure at 0x10f6964a8>"
      ]
     },
     "metadata": {},
     "output_type": "display_data"
    }
   ],
   "source": [
    "horizontal_bar(main_policies_3, count_pop_policies_3, \"Number of comments\", \"Popular Policies\")"
   ]
  },
  {
   "cell_type": "markdown",
   "metadata": {},
   "source": [
    "# 4) Analyzing positive and negative sentiments"
   ]
  },
  {
   "cell_type": "code",
   "execution_count": 207,
   "metadata": {
    "collapsed": true
   },
   "outputs": [],
   "source": [
    "neg_count = sentimental_analysis_graphs_4[0][1]\n",
    "neu_count = sentimental_analysis_graphs_4[0][3]\n",
    "pos_count = sentimental_analysis_graphs_4[0][5]"
   ]
  },
  {
   "cell_type": "code",
   "execution_count": 208,
   "metadata": {},
   "outputs": [
    {
     "name": "stderr",
     "output_type": "stream",
     "text": [
      "/Users/summerfellow/anaconda/envs/py35/lib/python3.5/site-packages/matplotlib/legend.py:326: UserWarning: Unrecognized location \"upper corner\". Falling back on \"best\"; valid locations are\n",
      "\tupper center\n",
      "\tcenter right\n",
      "\tcenter\n",
      "\tupper left\n",
      "\tupper right\n",
      "\tlower right\n",
      "\tright\n",
      "\tlower center\n",
      "\tbest\n",
      "\tcenter left\n",
      "\tlower left\n",
      "\n",
      "  six.iterkeys(self.codes))))\n"
     ]
    },
    {
     "data": {
      "image/png": "[encoded data removed]",
      "text/plain": [
       "<matplotlib.figure.Figure at 0x10f58d828>"
      ]
     },
     "metadata": {},
     "output_type": "display_data"
    }
   ],
   "source": [
    "labels = ['negative comments', 'neutral comments', 'positive comments']\n",
    "sizes = [neg_count, neu_count, pos_count]\n",
    "\n",
    "pie_chart(sizes, labels, 'sentiment-analysis-pie-chart')"
   ]
  },
  {
   "cell_type": "markdown",
   "metadata": {},
   "source": [
    "### a) Positive comments"
   ]
  },
  {
   "cell_type": "code",
   "execution_count": 209,
   "metadata": {
    "collapsed": true
   },
   "outputs": [],
   "source": [
    "pos_comments = sentimental_analysis_graphs_4[2]"
   ]
  },
  {
   "cell_type": "code",
   "execution_count": 210,
   "metadata": {
    "collapsed": true
   },
   "outputs": [],
   "source": [
    "pos_comments_dict = all_cities_dataframe[all_cities_dataframe['comment_text'].isin(pos_comments)].reset_index()"
   ]
  },
  {
   "cell_type": "code",
   "execution_count": 211,
   "metadata": {
    "scrolled": true
   },
   "outputs": [
    {
     "data": {
      "text/html": [
       "<div>\n",
       "<style>\n",
       "    .dataframe thead tr:only-child th {\n",
       "        text-align: right;\n",
       "    }\n",
       "\n",
       "    .dataframe thead th {\n",
       "        text-align: left;\n",
       "    }\n",
       "\n",
       "    .dataframe tbody tr th {\n",
       "        vertical-align: top;\n",
       "    }\n",
       "</style>\n",
       "<table border=\"1\" class=\"dataframe\">\n",
       "  <thead>\n",
       "    <tr style=\"text-align: right;\">\n",
       "      <th></th>\n",
       "      <th>index</th>\n",
       "      <th>comment_id</th>\n",
       "      <th>author</th>\n",
       "      <th>datetime</th>\n",
       "      <th>num_likes</th>\n",
       "      <th>quoted_text</th>\n",
       "      <th>comment_text</th>\n",
       "      <th>comment_text_aux</th>\n",
       "      <th>reply_ids</th>\n",
       "      <th>reply_ids_count</th>\n",
       "      <th>city_name</th>\n",
       "      <th>Position</th>\n",
       "      <th>Company_name</th>\n",
       "      <th>Category_work</th>\n",
       "    </tr>\n",
       "  </thead>\n",
       "  <tbody>\n",
       "    <tr>\n",
       "      <th>0</th>\n",
       "      <td>1</td>\n",
       "      <td>E4-XFnl1uKc</td>\n",
       "      <td>Aaron Lee</td>\n",
       "      <td>2017-01-25 04:32:19</td>\n",
       "      <td>2</td>\n",
       "      <td>None</td>\n",
       "      <td>I am in support of the proposed policy to furt...</td>\n",
       "      <td>&lt;p&gt;I am in support of the proposed policy to f...</td>\n",
       "      <td>[]</td>\n",
       "      <td>0</td>\n",
       "      <td>Buffalo</td>\n",
       "      <td>Software Developer</td>\n",
       "      <td>Solace Systems</td>\n",
       "      <td>Private</td>\n",
       "    </tr>\n",
       "    <tr>\n",
       "      <th>1</th>\n",
       "      <td>2</td>\n",
       "      <td>E4-XFnjG3Ac</td>\n",
       "      <td>Aaron Lee</td>\n",
       "      <td>2017-01-25 04:25:20</td>\n",
       "      <td>0</td>\n",
       "      <td>public participation by providing regular oppo...</td>\n",
       "      <td>I would be interested to see this more finely ...</td>\n",
       "      <td>&lt;p&gt;I would be interested to see this more fine...</td>\n",
       "      <td>[]</td>\n",
       "      <td>0</td>\n",
       "      <td>Buffalo</td>\n",
       "      <td>Software Developer</td>\n",
       "      <td>Solace Systems</td>\n",
       "      <td>Private</td>\n",
       "    </tr>\n",
       "    <tr>\n",
       "      <th>2</th>\n",
       "      <td>3</td>\n",
       "      <td>E4-XFnQhy2g</td>\n",
       "      <td>Aaron Krolikowski</td>\n",
       "      <td>2017-01-24 22:56:17</td>\n",
       "      <td>3</td>\n",
       "      <td>None</td>\n",
       "      <td>I strongly support the proposed policy, with a...</td>\n",
       "      <td>&lt;p&gt;I strongly support the proposed policy, wit...</td>\n",
       "      <td>[]</td>\n",
       "      <td>0</td>\n",
       "      <td>Buffalo</td>\n",
       "      <td>Researcher</td>\n",
       "      <td>Freelance</td>\n",
       "      <td>Academia (private)</td>\n",
       "    </tr>\n",
       "  </tbody>\n",
       "</table>\n",
       "</div>"
      ],
      "text/plain": [
       "   index   comment_id             author            datetime num_likes  \\\n",
       "0      1  E4-XFnl1uKc          Aaron Lee 2017-01-25 04:32:19         2   \n",
       "1      2  E4-XFnjG3Ac          Aaron Lee 2017-01-25 04:25:20         0   \n",
       "2      3  E4-XFnQhy2g  Aaron Krolikowski 2017-01-24 22:56:17         3   \n",
       "\n",
       "                                         quoted_text  \\\n",
       "0                                               None   \n",
       "1  public participation by providing regular oppo...   \n",
       "2                                               None   \n",
       "\n",
       "                                        comment_text  \\\n",
       "0  I am in support of the proposed policy to furt...   \n",
       "1  I would be interested to see this more finely ...   \n",
       "2  I strongly support the proposed policy, with a...   \n",
       "\n",
       "                                    comment_text_aux reply_ids  \\\n",
       "0  <p>I am in support of the proposed policy to f...        []   \n",
       "1  <p>I would be interested to see this more fine...        []   \n",
       "2  <p>I strongly support the proposed policy, wit...        []   \n",
       "\n",
       "   reply_ids_count city_name            Position    Company_name  \\\n",
       "0                0   Buffalo  Software Developer  Solace Systems   \n",
       "1                0   Buffalo  Software Developer  Solace Systems   \n",
       "2                0   Buffalo          Researcher       Freelance   \n",
       "\n",
       "        Category_work  \n",
       "0             Private  \n",
       "1             Private  \n",
       "2  Academia (private)  "
      ]
     },
     "execution_count": 211,
     "metadata": {},
     "output_type": "execute_result"
    }
   ],
   "source": [
    "pos_comments_dict.head(3)"
   ]
  },
  {
   "cell_type": "code",
   "execution_count": 216,
   "metadata": {
    "collapsed": true
   },
   "outputs": [],
   "source": [
    "# hard-coded - (needs eye-balling)\n",
    "\n",
    "pos_main_policies = ['Open Data Governance Committee', \"Opportunities for Citizen Feedback\", 'Privacy and Security', 'Useful, quality and timely data', \"Prioritizing the release of open data\", \"Open Data Access\"]\n",
    "count_pos_policies = [2,5,1,8,4,4]\n",
    "# release of historical data, how can other people host datasets on their platform, budget for data literacy, keep the document a living document so there are feedback loops"
   ]
  },
  {
   "cell_type": "code",
   "execution_count": 217,
   "metadata": {},
   "outputs": [
    {
     "data": {
      "image/png": "[encoded data removed]",
      "text/plain": [
       "<matplotlib.figure.Figure at 0x110d81ef0>"
      ]
     },
     "metadata": {},
     "output_type": "display_data"
    }
   ],
   "source": [
    "horizontal_bar(pos_main_policies, count_pos_policies, \"Number of positive comments\", \"Policy issues with positive comments\")"
   ]
  },
  {
   "cell_type": "code",
   "execution_count": 218,
   "metadata": {},
   "outputs": [
    {
     "name": "stdout",
     "output_type": "stream",
     "text": [
      "\u001b[1mCity: Buffalo\n",
      "\u001b[0mPartial quoted text: None\n",
      "\u001b[1mComment text: I am in support of the proposed policy to further enable data and subsequent knowledge sharing. I agree with fellow contributors that it would be beneficial to see more detailed outlines for the specific process that is going to enable community members to contribute to the Open Data portal by creating, uploading and verifying data sets to be published. Myself and colleagues have created a number of valuable data sets that could be beneficial across city departments, community organizations and individual interests. Understanding that only data sets meeting the standards set forth as a result of this policy will be accepted, we can collaboratively drive the understanding of our community from all perspectives.\n",
      "\u001b[1mNumber of likes: 2\n",
      "\u001b[1mCount of replies: 0\n",
      "\n",
      "\u001b[1mCity: Buffalo\n",
      "\u001b[0mPartial quoted text: public participation by providing regular opportunities for feedback and collaboration\n",
      "\u001b[1mComment text: I would be interested to see this more finely documented. It would be great to have a living, breathering process that community members could submit data sets that they have created (required to meet the data standards set forth by the Open Data Policy) for verification and publication to the open data portal within a timely manner. Individuals in the community may have greater flexibility and time to produce unique data sets pertinent to acute challenges and enable broader understanding in a more timely manner.\n",
      "\u001b[1mNumber of likes: 0\n",
      "\u001b[1mCount of replies: 0\n",
      "\n",
      "\u001b[1mCity: Buffalo\n",
      "\u001b[0mPartial quoted text: None\n",
      "\u001b[1mComment text: I strongly support the proposed policy, with a recognition of the outstanding contributions that have already been made by other residents, citizens, and interested parties.Many thanks to the City of Buffalo for leading this effort. Most of my comments are within the document itself, but I do agree with other comments below that emphasize the need for substantial citizen involvement in governance, application, and oversight. During the RFP process, I would encourage the city to include not only requirements for a portal, but also an iterative feedback/improvement process with residents and regular data users so that the city's investment in this system can produce tangible use cases and real benefits to our city and its people.The Department of Citizen Services should also be commended for their use of the collaborative policymaking platform. In the age of the internet, this is an excellent way to increase public participation in these types of processes. Many thanks for this opportunity.\n",
      "\u001b[1mNumber of likes: 3\n",
      "\u001b[1mCount of replies: 0\n",
      "\n",
      "\u001b[1mCity: Buffalo\n",
      "\u001b[0mPartial quoted text: how the data is being used\n",
      "\u001b[1mComment text: This part of the reporting should make specific reference to the three goals articulated in Section \"Open Data Program\", part 6: government efficiency, improved quality of life, and expanded economic opportunities.\n",
      "\u001b[1mNumber of likes: 0\n",
      "\u001b[1mCount of replies: 0\n",
      "\n",
      "\u001b[1mCity: Buffalo\n",
      "\u001b[0mPartial quoted text: paramount\n",
      "\u001b[1mComment text: Remove \"paramount.\" Privacy, confidentiality and security should be considerations when determining whether data should be open, but they should not be presumed to be paramount and therefore superior to the public's right to know.\n",
      "\u001b[1mNumber of likes: 0\n",
      "\u001b[1mCount of replies: 2\n",
      "\n",
      "\u001b[1mCity: Buffalo\n",
      "\u001b[0mPartial quoted text: None\n",
      "\u001b[1mComment text: I strongly support the spirit of this policy and the efforts made toward ensuring free public access to data information and government transparency. As a private citizen and freelance writer and researcher, I support the timely adoption and implementation of this policy.The following are my concerns with the policy as it now stands:The policy should encourage and, when possible, mandate the collection and dissemination of information collected by non-city and quasi-governmental agencies such as the NFTA, BMHA, Buffalo Place, the Buffalo Olmsted Parks Conservancy, hospital campuses, institutions of higher education and other organizations providing public services such as park maintenance, policing and security, transportation and education services. In particular, public safety information from police and security forces managed by Buffalo Place, medical and college campuses and the NFTA should be subject to the open data policy.When information is unavailable due to its privileged status, it should be made available in the aggregate whenever possible. e.g., motor vehicle incident reports are not public per NYS law but should be presented to the public in an anonymized or aggregate form.\n",
      "\u001b[1mNumber of likes: 1\n",
      "\u001b[1mCount of replies: 0\n",
      "\n",
      "\u001b[1mCity: Buffalo\n",
      "\u001b[0mPartial quoted text: None\n",
      "\u001b[1mComment text: The following comment is submitted on behalf of the Public Accountability Initiative:The Public Accountability Initiative (PAI) is a non-profit educational group focused on transparency and accountability headquartered in the City of Buffalo. PAI operates a research platform, LittleSis.org, that brings together information obtained through public records for use by journalists, academics, and activists as well as the general public. Access to current government information is paramount to PAI’s work and to meaningful participation in a democracy. As such, PAI endorses the goals of the Open Data proposal.Below we have highlighted what feel are the most commendable inclusions in the proposal as currently drafted, made suggestions for further improvement, and raised concerns with certain provisions of the proposal.By providing access to public information proactively and for free, the Open Data proposal addresses two significant burdens to public access to information: failure to respond to freedom of information requests in a timely fashion and undue copying fees levied by public agencies. According to MuckRock, a non-profit organization that facilitates the filing and analysis of freedom of information requests, the City of Buffalo takes an average of 63 days to respond to freedom of information requests and charges an average fee of $4.13 per request. PAI has had considerable difficulty obtaining public records from city agencies, most notably the Buffalo Police Department (see e.g. “FOIL by inches: The slow-drip transparency of Buffalo PD” by Caitlin Russell of MuckRock).If these burdens are truly shifted from requesters to the City, Buffalo will be making a commendable commitment to transparency. To even further improve access to public records, PAI seconds Brian Borncamp’s recommendation that the Open Data Policy provide for a “centralized system for submitting, tracking, and responding to FOIL requests.” By centralizing all requests and by making requests and responses publicly available, the City can dramatically increase its responsiveness to public requests for information and reduce instances of non-compliance with the Freedom of Information Law that result in costly attorneys’ fees.PAI also highlights and applauds the inclusion of “records of third-party agency contractors that create or acquire information, records, or data on behalf of a City division/department” as an especially meaningful and important component of the Open Data proposal. Public entities are increasingly reliant on non-governmental or quasi-governmental non-profits to perform governmental services. If unchecked, those third-party contractors can act as a “black box” where important information can be kept secret from the public, leading to suspicion and, at times, scandal. The State University at New York system is currently dealing with this issue within its nominally private campus-related foundations at the center of the United States Attorney investigation into Buffalo Billion contracting.Explicitly holding third-party contractors to the same transparency standard as the public agencies they’re working for both honors the letter of New York’s Freedom of Information Law and serves as a proactive measure to avoid actual or apparent corruption. This provision should be taken further to explicitly include records of all city-related public benefit corporations and other quasi-governmental entities.Finally, as PAI is involved with technology development in addition to producing original research, we call attention to the proposed availability of City of Buffalo data via an Application Programming Interface (API). Providing data this way allows developers to interact with data in new and unexpected ways and facilitates analysis of that data. For example, PAI’s research platform LittleSis interacts with the OpenSecrets database maintained by the Center for Responsive Politics via an API to incorporate campaign finance as soon as it is uploaded. In addition to making City of Buffalo data available via an API, PAI also recommends that datasets be available for bulk download in various relevant formats to permit analysis using Microsoft Excel or other programs.PAI has significant concerns about the oversight of Buffalo’s Open Data portal. As currently stipulated in the proposal, development and implementation of the Open Data practices will be delegated to appointees of the Mayor with “input from the public.” It is crucial for the Open Data Governance Committee to be free from the influence of politics and to not be beholden to any one political representative. As such, the Open Data Governance Committee should include representatives from the City as well as from independent organizations working in the public interest, such as the residents, businesses, researchers, and media mentioned in the policy’s statement of purpose, and independent members should comprise a majority of the committee’s votes.Alongside the existing Open Book Buffalo portal, this Open Data policy represents a praiseworthy commitment to transparency and accountability for the City of Buffalo. For this, the Public Accountability Initiative again commends the city government and welcomes any further opportunity for input on this important initiative. By adopting a policy that addresses the above-stated concerns addressed – especially those about oversight and the centralization of freedom of information requests and responses – the City of Buffalo will take a great stride in advancing transparency and accountability to its residents.\n",
      "\u001b[1mNumber of likes: 2\n",
      "\u001b[1mCount of replies: 1\n",
      "\n",
      "\u001b[1mCity: Buffalo\n",
      "\u001b[0mPartial quoted text: training,\n",
      "\u001b[1mComment text: I assume this would be funding for training the support staff.  I would like to also recommend that a portion of the funding be allocated for training residents, community groups and nonprofits on how to access information and analyze it to inform their work.\n",
      "\u001b[1mNumber of likes: 0\n",
      "\u001b[1mCount of replies: 1\n",
      "\n",
      "\u001b[1mCity: Buffalo\n",
      "\u001b[0mPartial quoted text: None\n",
      "\u001b[1mComment text: Thank you to the City of Buffalo!  My comments are regarding the geospatial (GIS) data. We often build tools for local government, and open data portals are our go-to standard to accessing data.  Please also consider including open access to live data such as webservices. Downloadable data, such as xmls, shapefiles or even file geodatabases are necessary for local processing and analysis.  However, most of our support to local government agencies is by functioning as tool and system developers. It makes us incredibly more productive (and accurate) to have access to live data.  I agree with Sean Meyers and support the distribution of the webservices and mapservices in web standard formats.  -Karyn Tareen CEO, Geocove\n",
      "\u001b[1mNumber of likes: 4\n",
      "\u001b[1mCount of replies: 0\n",
      "\n",
      "\u001b[1mCity: Buffalo\n",
      "\u001b[0mPartial quoted text: None\n",
      "\u001b[1mComment text: I'm glad this issue came to the forefront for the city, as these have been great resources in other cities across the country and world.My only primary concern is that often times these portals are more civic gestures than meaningful contributions to the data community.  I would just ask that, should the city give its approval, there be some assurance that the data will be actionable and easily legible.  Often times, spreadsheets are put out that contain codes and numerical systems that make sense for people working in offices that have the keys and necessary maps to use the data, but ultimately for the normal citizen, these are just collections of numbers that mean nothing in relation to the spatial understanding of the city.  I ask that the city and Open Data Buffalo take care to translate spreadsheets so that the headings of tables and the layout of information is concise, sorted and legible.  In addition to other added comments describing the value of GIS shape files and inter-application connectivity, simply making data logical and readable will go a long way to helping organizations across the city use the information.  If the information is not useable, it is not useful.\n",
      "\u001b[1mNumber of likes: 1\n",
      "\u001b[1mCount of replies: 0\n",
      "\n",
      "\u001b[1mCity: Buffalo\n",
      "\u001b[0mPartial quoted text: None\n",
      "\u001b[1mComment text: Thank you to the City of Buffalo for making open data a priority! I agree with the point made previously that the open data portal should include a repository of GIS shapefiles. As someone who works in the community development field, I often struggle to find the appropriate files and often have to cobble together data from various sources or create files from scratch. Having a centralized resource would make grant writing, needs assessments, and neighborhood planning efforts a lot easier. The UB Regional Institute has developed an ArcGIS-based database tracking a number of different environmental and demographic indicators as part of their work on One Region Forward, a regional plan for sustainable development in the Buffalo Niagara region: http://www.oneregionforward.org/data-tools/mappingmetrics/ This might be a good place to start, although as previously mentioned, the ability to export this data in a usable file format is paramount. Excited to follow the progress of this initiative!\n",
      "\u001b[1mNumber of likes: 2\n",
      "\u001b[1mCount of replies: 0\n",
      "\n",
      "\u001b[1mCity: Buffalo\n",
      "\u001b[0mPartial quoted text: None\n",
      "\u001b[1mComment text: Thank you City of Buffalo for taking on this initiative. I have two comments:\n",
      "\n",
      "I think one one of the stated goals of the program should be to promote active participation by the community including civic technologists, civic activists, programmers, and database specialists to develop tools that turn data into insight for some of the city's pressing issues.\n",
      "\n",
      "\n",
      "I think it is very important to ensure that the technical definition of open data goes beyond the definitions provided by the vendors of the platforms currently in use by the city. We are in a web-based world so web-based standards must take precedence (e.g. JSON, geoJSON).\n",
      "\n",
      "\n",
      "\u001b[1mNumber of likes: 7\n",
      "\u001b[1mCount of replies: 0\n",
      "\n",
      "\u001b[1mCity: Buffalo\n",
      "\u001b[0mPartial quoted text: None\n",
      "\u001b[1mComment text: I want to thank Oswaldo Mestre and Kirk McLean for providing such a transparent forum for discussing and adopting an Open Data policy. Buffalo is taking advantage of data as a driver of economic and social change by providing it to the citizenry without restrictions.I’m curious about what platform Buffalo will use for the Open Data portal.  I hope public comments will continue through the RFP process and in choosing a portal provider. Many platforms restrict the exchange of data so it’s a top-down process (i.e. Buffalo would create and provide all the data), however it would be beneficial to the city to host data from the non-profit and academic partners alongside municipal data.  In addition, the efficacy of the portal would increase if municipal data could be supplemented with crowdsourced and citizen scientist created data.I hope the city will air on the side of transparency as it selects which datasets constitute “publishable city data” and will share many of the datasets that make the NYC data portal so rich (parking tickets, tree cover, vehicle collisions, building by year of construction, 311 data, etc..)Thanks again for providing such an open forum for discussing open data.  I look forward to more productive community discussions.-Dr. Monica Stephens, University at Buffalo\n",
      "\u001b[1mNumber of likes: 10\n",
      "\u001b[1mCount of replies: 0\n",
      "\n",
      "\u001b[1mCity: Buffalo\n",
      "\u001b[0mPartial quoted text: Provide open data that increases government efficiency, improves the quality of life of its citizens, and ensures opportunity for all residents.\n",
      "\u001b[1mComment text: Promote open data that informs increases in government efficiency, improvements in the quality of life of its citizens, and more equal opportunities for all residents.\n",
      "Commit to data driven decision making especially in areas of policy.\n",
      "\n",
      "\u001b[1mNumber of likes: 2\n",
      "\u001b[1mCount of replies: 3\n",
      "\n",
      "\u001b[1mCity: Buffalo\n",
      "\u001b[0mPartial quoted text: regularly maintained\n",
      "\u001b[1mComment text: Will data be shared if it is not regularly maintained?  Perhaps \"date of update\" could be identified in the metadata.  Will adopting an OpenData policy encourage the city to more regularly maintain datasets or will this clause be used to skirt sharing policies?  Historical data (not regularly maintained) is still data.\n",
      "\u001b[1mNumber of likes: 2\n",
      "\u001b[1mCount of replies: 3\n",
      "\n",
      "\u001b[1mCity: Buffalo\n",
      "\u001b[0mPartial quoted text: None\n",
      "\u001b[1mComment text: My comments are rather lengthy. In addition to the comments below I've provided a copy inside a google doc. http://bit.ly/BuffaloOpenDataCommentsI commend Oswaldo Mestre and Kirk McLean for putting forward a draft Open Data Policy. Such policies work to make Buffalo government more effective, transparent, accountable, and responsive. This draft document is an important step forward. With all aspects of government we ought to strive for continual improvement. As improvement pertains to the draft Open Data Policy, I hope you find these suggestions amenable.The draft policy establishes an “Open Data Governance Committee”. As the committee currently stands, oversight and implementation is held entirely within the executive branch of city government. Given that the data provided would primarily originate from the executive branch, it is sensible to seek its representation. However, in the spirit of an open democratic society, the policy ought to seek independence and accountability through checks and balances from other institutions.The stated purpose of the policy, “creates value for residents, government leaders, businesses, researchers, and the media. ” With the exception of government leaders, none of these groups appear to be formally required by the draft policy.  The policy ought to move the governance committee to include these stated groups.In creating an independent governance committee, the policy ought to seek representation from co-equal branches of government, e.g. the Common Council and City Comptroller. Ensuring appointment via other branches would go a long way toward promoting the Open Data Governance Committee as an independent body.Additionally, the structure of the committee ought to ensure that those appointed to the committee via the executive branch do not hold an automatic majority of voting eligible members. Seeking the “input” of the public is perhaps the lowest form of democracy. Input can be trivial, power is not.The draft policy does not specify how decisions made by the governance committee are to be made public. In ensuring that the governance committee is making decisions for the public good, record of said decisions ought to be publicly available.To the effect of the stated concerns, the governance committee ought to be adopted into the city charter subject to a vote by the common council.The draft policy attempts to cast a broad net over the institutions subject to it. Stated in the document, the policy “will apply to any City department, office, administrative unit, commission, board, advisory committee or other division/department of the City government including the records of third-party agency contractors that create or acquire information, records, or data on behalf of a City division/department.”Reading the draft, it is unclear as to the policy’s applicability to quasi-governmental agencies such as public benefit corporations, e.g. Buffalo Urban Renewal Agency, Buffalo Urban Development Agency, and the Buffalo Municipal Housing Authority. A small language tweak could incorporate such entities under the scope of the draft policy.Open data is a strong tool for open and transparent government. However, open data is only one of many tools regarding open government. FOIL is another tool that can help to move governments towards transparency and accountability. However, the state of FOIL in Buffalo is dismal. The shortcomings of the City of Buffalo as it pertains to FOIL have been well reported in the press. City departments routinely disregard the law as it relates to FOIL. In this author's experience, above 90% of FOIL requests submitted are not responded to with the requested documentation, or an agency determination explaining why such documents are not available.An open data policy cannot be the sole remedy for city officials unwillingness to follow the law. However, it can take steps toward holding those officials accountable. Inclusion into the draft policy of a centralized system for submitting, tracking, and responding to FOIL requests would be an incredible step forward. Such a measure would provide residents and city officials with an effective way to manage requests and comply with the relevant statutes. When conflict over FOIL requests do arise, the conflict would be publicly available and documented. Such a system would prevent FOIL requests from getting lost inside civic bureaucracy due to malfeasance or human error.The advancement of Open Data in Buffalo is an important step. I applaud the Division of Citizen Services for being forward thinking in this regard. That being said, the comments provided here ought not be seen as window dressing to the draft policy. These comments speak to structural concerns of strengthening democracy. The nature of power and human institutions is that they change over time. I hope that these comments are able to extended the drafted policy such that when institutions change the effect and intentions of the draft Buffalo Open Data Policy do not.\n",
      "\u001b[1mNumber of likes: 3\n",
      "\u001b[1mCount of replies: 0\n",
      "\n",
      "\u001b[1mCity: Buffalo\n",
      "\u001b[0mPartial quoted text: None\n",
      "\u001b[1mComment text: I support the effort to make data accessible to the public. The NYC Open Data portal is a good example of an existing resource with a similar intention. I recommend including environmental and geographic data in the form of GIS shapefiles which can be downloaded, as opposed to 'view-only' results or more traditional pdf or Excel files. I also recommend partnering with local higher education entities, such as the University at Buffalo, to provide research data in additional to official City of Buffalo owned/managed data.\n",
      "\u001b[1mNumber of likes: 2\n",
      "\u001b[1mCount of replies: 0\n",
      "\n",
      "\u001b[1mCity: Buffalo\n",
      "\u001b[0mPartial quoted text: including the records of third-party agency contractors that create or acquire information, records, or data on behalf of a City division/department\n",
      "\u001b[1mComment text: this is amazing. Very important.\n",
      "\u001b[1mNumber of likes: 1\n",
      "\u001b[1mCount of replies: 4\n",
      "\n",
      "\u001b[1mCity: Buffalo\n",
      "\u001b[0mPartial quoted text: None\n",
      "\u001b[1mComment text: The City of Buffalo is to be commended for taking steps to move towards normalizing the sharing of data with the public. As a researcher in the non-profits, I see this as a tool to better serve my city. As a resident, I'm excited to see more transparency.Comments:\n",
      "-The Open Data Governance Board should also include residents of the City of Buffalo with technical expertise in data management or interest in government transparency. These should be people who apply to it (and maybe the government members vote?) as opposed to being appointed. There are some tips on engaging the civic tech community here: https://www.civichacking.guide though there are likely interested parties outside that community. However it’s structured, it should be as a dialog with city residents.-I agree with Aaron that the source code of the open data tools should be available.-I’d recommend a citizen-heavy deliberative democracy process (think participatory budgeting without the budget) to figure out some of the specifics of what to release and how often. I suspect that most residents of the city, including myself, don’t know what is available. Della Rucker, an economic development consultant based in Akron, suggests that when such processes are engaged, inform all parties of limitations and that can often lead to better outcomes.-Would there be a listserv announcing new releases, the way that HUD or the Census does?-My employer manages a client-level database that has input from over 100 users. We've found that if you do not enforce strict requirements of timeliness, data quality suffers as it becomes perpetually delayed. Since there were no explicit timelines mentioned here (our requirement is that data needs to be entered within 72 hours of the event), I worry this very valuable effort could suffer from similar backburner issues.Thank you for sharing this with the public for feedback! I thought this was a really useful format!\n",
      "\u001b[1mNumber of likes: 2\n",
      "\u001b[1mCount of replies: 1\n",
      "\n",
      "\u001b[1mCity: Buffalo\n",
      "\u001b[0mPartial quoted text: Provide for a future means of digitizing archived material that was in existence prior to the development of the Open Data Program;\n",
      "\u001b[1mComment text: That would be super helpful :)\n",
      "\u001b[1mNumber of likes: 0\n",
      "\u001b[1mCount of replies: 1\n",
      "\n",
      "\u001b[1mCity: Buffalo\n",
      "\u001b[0mPartial quoted text: Develop and implement a process for prioritizing the release of datasets to the Open Data Portal which takes into account new and existing signals of interest from the public (such as the frequency of FOIL requests), the City's programmatic priorities, existing opportunities for data use in the public interest, and cost;\n",
      "\u001b[1mComment text: Maybe you should utilize a deliberative democratic process (like participatory budgeting, only without a budget as the end goal and maybe a bit briefer) to encourage public engagement?\n",
      "\u001b[1mNumber of likes: 0\n",
      "\u001b[1mCount of replies: 0\n",
      "\n",
      "\u001b[1mCity: Buffalo\n",
      "\u001b[0mPartial quoted text: None\n",
      "\u001b[1mComment text: This document fails to require the sharing of the source code of the open data tools. \"Require Code Sharing Or Publishing Open Source\" is a recommendation of Sunlight Foundation https://sunlightfoundation.com/opendataguidelines/#open-code . Sharing the source code allows citizens to help contribute to the tools making the data public, allows citizens access to the tools for which they are paying, and allows other government agencies as well citizens to benefit from improvements made on behalf of Buffalo.\n",
      "\u001b[1mNumber of likes: 5\n",
      "\u001b[1mCount of replies: 1\n",
      "\n",
      "\u001b[1mCity: Buffalo\n",
      "\u001b[0mPartial quoted text: None\n",
      "\u001b[1mComment text: Welcome to the City of Buffalo’s public comment period on the Mayor’s draft Open Data policy. We’re looking forward to your feedback strengthening the governing document for our new Open Data program, which will make publishable City data more accessible to the public. After a brief and simple sign up, you’ll be able to do five things on the OpenGov Foundation’s Madison Project platform: read the document; let us know whether you support or oppose the document; leave a comment on the policy or open data, in general; highlight a bit of text and leave a note on that specific text; and respond to other people’s notes, starting a dialogue about a specific passage.Feel free to also leave a comment about what datasets you’d like to see the city publish in the future.The public comment period will be open from January 10th to 24th.Thank you for participating.\n",
      "\u001b[1mNumber of likes: 1\n",
      "\u001b[1mCount of replies: 0\n",
      "\n",
      "\u001b[1mCity: Buffalo\n",
      "\u001b[0mPartial quoted text: City of Buffalo Open Data Policy\n",
      "\u001b[1mComment text: Welcome to the City of Buffalo’s public comment period on the Mayor’s draft Open Data policy. We’re looking forward to your feedback strengthening the governing document for our new Open Data program, which will make publishable City data more accessible to the public. After a brief and simple sign up, you’ll be able to do five things on the OpenGov Foundation’s Madison Project platform: read the document; let us know whether you support or oppose the document; leave a comment on the policy or open data, in general; highlight a bit of text and leave a note on that specific text; and respond to other people’s notes, starting a dialogue about a specific passage.\n",
      "Feel free to also leave a comment about what datasets you’d like to see the city publish in the future.\n",
      "The public comment period will be open from January 10th to 24th.\n",
      "Thank you for participating.\n",
      "\u001b[1mNumber of likes: 0\n",
      "\u001b[1mCount of replies: 0\n",
      "\n",
      "\u001b[1mCity: Durham\n",
      "\u001b[0mPartial quoted text: None\n",
      "\u001b[1mComment text: From a quick read-through, this seems really good and seems to hit most major points that come to mind for me.  The only possible improvements that occur to me right now are:\n",
      "\n",
      "Good metadata is very important but also difficult/costly (in a general sense, not necessarily dollars).  You may want to lay out what your approaches will be.\n",
      "\n",
      "\n",
      "It may be implied but an explicit \"open by default\" policy can be very powerful.  What I mean by this is basically that anything not restricted from release is eligible for release.  This is, of course, not a commitment to release any particular dataset on any particular schedule since everyone has resource constraints but basically means it goes into whatever prioritization process (either formal or informal) you use, with an intention to publish if/when it rises to the top.\n",
      "\n",
      "\n",
      "\u001b[1mNumber of likes: 0\n",
      "\u001b[1mCount of replies: 0\n",
      "\n",
      "\u001b[1mCity: Glendale\n",
      "\u001b[0mPartial quoted text: None\n",
      "\u001b[1mComment text: Special thanks to everyone who took the time to provide feedback and comments on the draft resolution.  Your feedback was valuable to the process.  I am pleased to report that the City Council adopted a resolution in support of creating an Open Data program on Tuesday 6/27.  The final resolution language can be found here:  https://glendale-az.legistar.com/LegislationDetail.aspx?ID=3086887&GUID=68D243FB-66A3-4381-B963-2176AC97CEE9.  Special thanks to the What Works Cities and Sunlight Foundation teams for helping us make improvements for our community.  We are looking forward to the implementation phase of this project.\n",
      "\u001b[1mNumber of likes: 0\n",
      "\u001b[1mCount of replies: 0\n",
      "\n",
      "\u001b[1mCity: Glendale\n",
      "\u001b[0mPartial quoted text: None\n",
      "\u001b[1mComment text: This resource would be of great value to the Human Resources Commission.  The demographic information would help serve as a guide to commission activities.  Kudos for the concept.\n",
      "\u001b[1mNumber of likes: 0\n",
      "\u001b[1mCount of replies: 1\n",
      "\n",
      "\u001b[1mCity: Glendale\n",
      "\u001b[0mPartial quoted text: None\n",
      "\u001b[1mComment text: I have read the comments from others that have posted here and not to be redundant, I agree that there should be transparency and the process should be easy to find and user friendly.  the Mayor and Council are working hard to provide what is best for the City of Glendale, and so I am in support of this.\n",
      "\u001b[1mNumber of likes: 0\n",
      "\u001b[1mCount of replies: 1\n",
      "\n",
      "\u001b[1mCity: Nashville\n",
      "\u001b[0mPartial quoted text: None\n",
      "\u001b[1mComment text: Section IX, item 4:\n",
      "Given the requirement to provide credit or attribution, this section is unclear on the acceptable forms of attribution and to whom the attribution applies.For example, would a user of the Street Sweeping Schedule dataset (https://data.nashville.gov/Beautification/Metro-Water-Services-Current-Street-Sweeping-Sched/p9iq-sxk3) should attribution marks/text say \"Metro Water Services\" or \"Metro Government\"?Possible Solution: Change Section IX, Item 4 to say: \"Metropolitan Government requests that when content, data, documentation, code, and related materials from https://data.nashville.gov is used, proper credit or attribution be given to the originating Department or 'Metropolitan Government of Nashville and Davidson County', whichever is the most specific and accurate.\"Moreover, it'll probably be a good idea to say that use of the 'Metropolitan Government of Nashville and Davidson County' seal is not an acceptable form of attribution.\n",
      "\u001b[1mNumber of likes: 0\n",
      "\u001b[1mCount of replies: 0\n",
      "\n",
      "\u001b[1mCity: Nashville\n",
      "\u001b[0mPartial quoted text: None\n",
      "\u001b[1mComment text: I would encourage greater description of acceptable metadata in Section VII. The bare minimum should include:\n",
      "For tables, a description of what the data describe, how the data were collected, and for what purpose.\n",
      "For each table, there should be a list of the included variables, definitions of what each variable means, and (where applicable) a code list for each variable describing what each possible value means.\n",
      "For data sets, there should be a description of how the different tables relate to each other.\n",
      "I think it's important to add this level of detail to the data policy to ensure that folks don't cut corners on metadata. Without this type of information, it's very difficult to use public data well.\n",
      "\u001b[1mNumber of likes: 1\n",
      "\u001b[1mCount of replies: 0\n",
      "\n",
      "\u001b[1mCity: Nashville\n",
      "\u001b[0mPartial quoted text: None\n",
      "\u001b[1mComment text: I'm so glad that Metro is heading in a more open, transparent direction - and love the idea of Open Data Workshops and public/private partnerships.\n",
      "\u001b[1mNumber of likes: 0\n",
      "\u001b[1mCount of replies: 0\n",
      "\n",
      "\u001b[1mCity: Syracuse\n",
      "\u001b[0mPartial quoted text: including the records\n",
      "\u001b[1mComment text: You probably want to (a) limit this to \"records created by third party agency contractors\" and not \"records of third party....\" Also, does this policy dispositively void all contract provisions what explicitly transfer ownership of records to a third party? Is that even possible from a \"policy\" and not a law? And if not, then is the enforcement aspect that you are directing agencies to include explicit provisions in their contracts. Is, e.g., the GC going to create model contract provisions?\n",
      "\u001b[1mNumber of likes: 1\n",
      "\u001b[1mCount of replies: 0\n",
      "\n",
      "\u001b[1mCity: Syracuse\n",
      "\u001b[0mPartial quoted text: effectiveness of datasets\n",
      "\u001b[1mComment text: I don't understand what would make a dataset \"effective.\" Data is just data. Some data is more useful than other data. Is the implication that you want to prioritize more interesting data, e.g., bus routes or tax parcel data, that may have more immediate commercial or civic application?\n",
      "\u001b[1mNumber of likes: 0\n",
      "\u001b[1mCount of replies: 1\n",
      "\n",
      "\u001b[1mCity: Syracuse\n",
      "\u001b[0mPartial quoted text: permanence\n",
      "\u001b[1mComment text: \"Permanence\" is a strong guarantee a priori, and could imply quadratically growing storage costs (e.g., if you save a bunch of snapshots). Also, publishing \"with permanence\" is a weird phrase. :)\n",
      "\u001b[1mNumber of likes: 0\n",
      "\u001b[1mCount of replies: 0\n",
      "\n",
      "\u001b[1mCity: Syracuse\n",
      "\u001b[0mPartial quoted text: None\n",
      "\u001b[1mComment text: I believe the underlying goal of this policy is to improve access to data and create transparency within our local government.  I openly support any attempt to achieve progress & create a better tomorrow - even if that means we are not successful on the first attempt.  I believe this document should be considered a living document w/ revisions made & published often.From an IT  Solutions Architect & IT Operations perspective, I have a few concerns noted in the document around undefined processes, undefined metrics to consistently measure success (e.g. constant metrics vs. a yearly summary), the lack of a defined set of initial priorities, a defined way to measure an ROI of the initiative (what do we get from this time/energy/resource/$ investment?).  My other major concern is that a policy is not a guideline - I believe a policy is a consistent mandate across an entire organization (e.g. City of Syracuse)Personally, I believe these open datasets to can be used to identify inefficient processes.  I believe the data will be used to improve & reduce the cost of services provided by the government.IMO - one of the best ways to improve is to incentives city employees -- This might not be the best document to outline an incentive program but if a city employee improves a process and creates a measurable ($) ROI which is sustainable (e.g. at least 1 year) then I support those employees getting a kick-back as part of the improvement.\n",
      "\u001b[1mNumber of likes: 0\n",
      "\u001b[1mCount of replies: 0\n",
      "\n",
      "\u001b[1mCity: Syracuse\n",
      "\u001b[0mPartial quoted text: and ultimately approval by the corporation counsel’s office and the Mayor or another top-level administration designee.\n",
      "\u001b[1mComment text: This sounds like a clearly defined process does not exist.  Suggestion: identify the top 10,20,50,xxx datasets now, get approval, set a reoccuring meeting w/ the mayor and counsel office but they shift full program accountability to the CDO.If they (Mayor / Counsel) are involved in (aka micromanaging) the approval process then I believe they need to be held under a measurable standard & revisited to confirm they are able to meet the expectations of the open data initiative\n",
      "\u001b[1mNumber of likes: 0\n",
      "\u001b[1mCount of replies: 0\n",
      "\n",
      "\u001b[1mCity: Syracuse\n",
      "\u001b[0mPartial quoted text: None\n",
      "\u001b[1mComment text: As Vice-Chair and Westside Board Delegate for Tomorrow's Neighborhoods Today, I personally whole-heatedly support this, and hope that the TNT organization and sectors can be effective in helping the public access the data.\n",
      "\u001b[1mNumber of likes: 0\n",
      "\u001b[1mCount of replies: 0\n",
      "\n",
      "\u001b[1mCity: Syracuse\n",
      "\u001b[0mPartial quoted text: None\n",
      "\u001b[1mComment text: Fantastic, forward thinking idea. This data was collected at public expense and should be available as freely usable public domain data. Jumping through an information gatekeeper like FOIA was never a good idea.\n",
      "\u001b[1mNumber of likes: 0\n",
      "\u001b[1mCount of replies: 0\n",
      "\n",
      "\u001b[1mCity: Syracuse\n",
      "\u001b[0mPartial quoted text: None\n",
      "\u001b[1mComment text: Very excited to hear this is happening!  To get the most out of this open data initiative, it would be nice to see, 1) Data provided in its most raw form without aggregation (allows for more flexibility in analysis), and 2) A list of issues/challenges/topics the City is trying to address.  Equipping the public with these two things could lead to highly creative solutions.\n",
      "\u001b[1mNumber of likes: 1\n",
      "\u001b[1mCount of replies: 0\n",
      "\n",
      "\u001b[1mCity: Syracuse\n",
      "\u001b[0mPartial quoted text: None\n",
      "\u001b[1mComment text: This will be incredibly useful for effective policy of all sorts! I can only hope that someday Onondaga County will have a similar initiative, with the capacity for interface and data synthesis.\n",
      "\u001b[1mNumber of likes: 2\n",
      "\u001b[1mCount of replies: 0\n",
      "\n",
      "\u001b[1mCity: Syracuse\n",
      "\u001b[0mPartial quoted text: None\n",
      "\u001b[1mComment text: This is terrific. A solid policy that will serve the city well and provide important guidance to city departments for releasing open data.\n",
      "\u001b[1mNumber of likes: 2\n",
      "\u001b[1mCount of replies: 0\n",
      "\n",
      "\u001b[1mCity: Syracuse\n",
      "\u001b[0mPartial quoted text: During the review and reporting period, the Chief Data Officer should also make suggestions for improving the city’s open data management processes in order to ensure that the city continues to move towards the achievement of the policy’s goals.\n",
      "\u001b[1mComment text: This is important, as the Chief Data officer will have first hand knowledge of what is working, and what isn't. This could be a good opportunity for the CDO to outline areas for improvement, and things that have not yet gone particularly well in the open data program.\n",
      "\u001b[1mNumber of likes: 3\n",
      "\u001b[1mCount of replies: 0\n",
      "\n",
      "\u001b[1mCity: Syracuse\n",
      "\u001b[0mPartial quoted text: None\n",
      "\u001b[1mComment text: This would be a great opportunity for Syracuse to organize some community resources in a way that can increase civic engagement and generate transparency and accountability.\n",
      "\u001b[1mNumber of likes: 2\n",
      "\u001b[1mCount of replies: 0\n",
      "\n",
      "\u001b[1mCity: Naperville\n",
      "\u001b[0mPartial quoted text: Establish processes for publishing datasets to the open data portal, including processes for ensuring that datasets are high-quality, up-to-date, are in use-appropriate formats, and exclude protected and sensitive information.\n",
      "\u001b[1mComment text: Datasets should also be analyzed and improved to be customer friendly.\n",
      "\u001b[1mNumber of likes: 0\n",
      "\u001b[1mCount of replies: 0\n",
      "\n",
      "\u001b[1mCity: Naperville\n",
      "\u001b[0mPartial quoted text: None\n",
      "\u001b[1mComment text: I really like this.  The one overall suggestion I would make is to strengthen the protections of transparency.  (By the way, putting this document out for public review and comment is a great start.)  Unlike such goals as economic development, collaboration with the private sector, and so on, transparency has a built-in danger because it sometimes calls for those with power to act against their own interests.  There will be things that people would rather not make public and they can always come up with legitimate reasons to withhold the information so you want institutional safeguards.  It is a tough problem but some ideas to consider are:Again, all of this is really tough and if you achieve even some of it, especially at first, you will be doing well.Good luck!\n",
      "\u001b[1mNumber of likes: 0\n",
      "\u001b[1mCount of replies: 1\n",
      "\n",
      "\u001b[1mCity: Naperville\n",
      "\u001b[0mPartial quoted text: b. In order to increase and improve use of the City's open data, the Open Data Governance Committee will actively encourage City department, board and commission, City Council and public participation through providing regular opportunities for feedback and collaboration.\n",
      "\u001b[1mComment text: Excellent!  And you're off to a smashing start with Madison here. Would be great to have this be the living document and location for regular feedback loops between the public and the Naperville, IL city government.\n",
      "\u001b[1mNumber of likes: 0\n",
      "\u001b[1mCount of replies: 0\n",
      "\n",
      "\u001b[1mCity: Naperville\n",
      "\u001b[0mPartial quoted text: Identify an open data champion for each City department who will be responsible for managing that department's participation in the open data program.\n",
      "\u001b[1mComment text: Will this \"open data champion\" have a staff and budget to execute their duties? We have seen the efficacy of language like this diluted if someone is forced to have a job like this without buying into open data and the mission, and without extra resources to accomplish the mission.\n",
      "\u001b[1mNumber of likes: 2\n",
      "\u001b[1mCount of replies: 1\n",
      "\n",
      "\u001b[1mCity: Naperville\n",
      "\u001b[0mPartial quoted text: open license basis\n",
      "\u001b[1mComment text: Could be good to include example of an open license, as some that are considered \"open\"  will still contain some restrictions. Being more explicit could be good! Perhaps a Creative Commons CC0 Universal License?\n",
      "\u001b[1mNumber of likes: 0\n",
      "\u001b[1mCount of replies: 0\n",
      "\n",
      "\u001b[1mCity: Naperville\n",
      "\u001b[0mPartial quoted text: public timeline for new dataset publication\n",
      "\u001b[1mComment text: Additionally, as part of the process, can we capture timelines for key milestones as well? Upon review of the open data policy, it seems like there are several key milestones involved - e.g., launch open data portal, decide initial data-sets, frequently update data on portal, invite citizen input, etc. It would be helpful to know when some of these key activities will be done. For example, it was very helpful to have the policy say clearly that annual report will be released no later than Feb-15 2018. Likewise, would be great to know timeline of important events from now till the time annual report is published.\n",
      "\u001b[1mNumber of likes: 0\n",
      "\u001b[1mCount of replies: 0\n",
      "\n",
      "\u001b[1mCity: Naperville\n",
      "\u001b[0mPartial quoted text: Open Data Policy\n",
      "\u001b[1mComment text: At some appropriate section of the policy or maybe as part of the process, would it be possible to showcase examples (perhaps success stories from other cities, if available) demonstrating how data can/has-been used to solve city challenges? Ofcourse, each city is different and the top issue of another city may or may not be relevant to Naperville but this will give the public a practical sense of application of data and hopefully spur innovation to create Naperville-specific solutions from the data being released\n",
      "\u001b[1mNumber of likes: 0\n",
      "\u001b[1mCount of replies: 0\n",
      "\n",
      "\u001b[1mCity: Naperville\n",
      "\u001b[0mPartial quoted text: None\n",
      "\u001b[1mComment text: Great initiative by City leadership to champion the open data program and catapult Naperville into an exclusive group of cities across the world that support opendata principles of transparency, accessibility and collaboration with citizensAs with any open data program, while data is important, it remains an enabler to the end result. The end result is usually a solution to a complex challenge(s) (e.g., traffic, etc.) that matters to the community and the data then becomes an enabler to solve that challenge by facilitating fact-based / data-driven decision making:\n",
      "\t- What do we think are the biggest challenges facing the community?\n",
      "\t- Use #naperer_opendata on twitter to share your thoughts on the key challenges that need to be addressed\n"
     ]
    },
    {
     "name": "stdout",
     "output_type": "stream",
     "text": [
      "\u001b[1mNumber of likes: 0\n",
      "\u001b[1mCount of replies: 1\n",
      "\n",
      "\u001b[1mCity: Naperville\n",
      "\u001b[0mPartial quoted text: None\n",
      "\u001b[1mComment text: Great idea. I would like to see how data is classified into private and public.\n",
      "\u001b[1mNumber of likes: 3\n",
      "\u001b[1mCount of replies: 2\n",
      "\n",
      "\u001b[1mCity: Bart\n",
      "\u001b[0mPartial quoted text: None\n",
      "\u001b[1mComment text: From an open data expert:\n",
      "\"If you haven't already, please take a look at M-13-13, the formal Open Data Policy for the Federal Government (https://www.whitehouse.gov/sites/default/files/omb/memoranda/2013/m-13-13.pdf)Is there any particular reason you limited your definition of \"data\" so strictly for BART? I'd advocate for a broader definition so that you can't be hemmed in later by opposition. Data, at its most basic level, is simply information that is structured in some human or machine-readable format. Also, this definition really doesn't apply to source code (some of which is covered under open source licenses with their own legal restrictions), which you reference later.In an opposite manner, I believe your definition of \"open data\" is too broad. Open data, if not properly documented and managed, can lead to useless files hanging out there on the Internet without being \"discoverable\" or \"searchable\". I'd definitely look to M-13-13 for at least a few examples of what makes data truly open, such as: Described, Complete, Timely, and Managed. In terms of overhead, there are literally only 3 Government employees I know managing data.gov, and that's for at least the 24 major CFO-Act agencies.This section actually has me a bit worried: \"Release publishable, non-private, District data, making it freely available in open formats, license free and fully accessible to the broadest range of users;\" -- Open source licenses are a good thing. They allow users to reuse and redistribute without having to ask if someone owns the data first. If you publish code or data without a license (the good ones are \"lax-permissive\" in my book: CC0, MIT, BSD, etc.) you run the risk of the public having to ask \"who owns this\"? How do they know without some license or AT LEAST a public domain waiver attached?\"Employ open source software solutions whenever possible\" almost goes too far. Some open source solutions are actually weaker than their proprietary counterparts (although not often). I'd say \"Employ open source solutions that fit within the mission, operational, and budgetary objectives of BART\" or something similar.In general, I would disambiguate Open Data from Open Source Code. For one, you'll almost definitely want them on separate web portals, as the audiences for each are quire disparate. Also, Open Source Code has legal implications for international reuse unless you apply a CC0 waiver.\"\n",
      "\u001b[1mNumber of likes: 1\n",
      "\u001b[1mCount of replies: 0\n",
      "\n"
     ]
    }
   ],
   "source": [
    "for index, row in pos_comments_dict.iterrows():\n",
    "    print('\\033[1m' + \"City:\", row['city_name'])\n",
    "    print('\\033[0m' + \"Partial quoted text:\", row['quoted_text'])\n",
    "    print('\\033[1m' + \"Comment text:\", row['comment_text'])\n",
    "    print('\\033[1m' + \"Number of likes:\", row['num_likes'])\n",
    "    print('\\033[1m' + \"Count of replies:\", row['reply_ids_count'])\n",
    "    print()"
   ]
  },
  {
   "cell_type": "markdown",
   "metadata": {},
   "source": [
    "### b) Negative Comments"
   ]
  },
  {
   "cell_type": "code",
   "execution_count": 219,
   "metadata": {
    "collapsed": true
   },
   "outputs": [],
   "source": [
    "neg_comments = sentimental_analysis_graphs_4[1]"
   ]
  },
  {
   "cell_type": "code",
   "execution_count": 220,
   "metadata": {
    "collapsed": true
   },
   "outputs": [],
   "source": [
    "neg_comments_dict = all_cities_dataframe[all_cities_dataframe['comment_text'].isin(neg_comments)]"
   ]
  },
  {
   "cell_type": "code",
   "execution_count": 221,
   "metadata": {},
   "outputs": [
    {
     "data": {
      "text/html": [
       "<div>\n",
       "<style>\n",
       "    .dataframe thead tr:only-child th {\n",
       "        text-align: right;\n",
       "    }\n",
       "\n",
       "    .dataframe thead th {\n",
       "        text-align: left;\n",
       "    }\n",
       "\n",
       "    .dataframe tbody tr th {\n",
       "        vertical-align: top;\n",
       "    }\n",
       "</style>\n",
       "<table border=\"1\" class=\"dataframe\">\n",
       "  <thead>\n",
       "    <tr style=\"text-align: right;\">\n",
       "      <th></th>\n",
       "      <th>comment_id</th>\n",
       "      <th>author</th>\n",
       "      <th>datetime</th>\n",
       "      <th>num_likes</th>\n",
       "      <th>quoted_text</th>\n",
       "      <th>comment_text</th>\n",
       "      <th>comment_text_aux</th>\n",
       "      <th>reply_ids</th>\n",
       "      <th>reply_ids_count</th>\n",
       "      <th>city_name</th>\n",
       "      <th>Position</th>\n",
       "      <th>Company_name</th>\n",
       "      <th>Category_work</th>\n",
       "    </tr>\n",
       "  </thead>\n",
       "  <tbody>\n",
       "    <tr>\n",
       "      <th>46</th>\n",
       "      <td>E4-XFfET0X4</td>\n",
       "      <td>Andrew Nicklin</td>\n",
       "      <td>2017-01-17 03:03:41</td>\n",
       "      <td>0</td>\n",
       "      <td>policy concerns</td>\n",
       "      <td>risks to the public</td>\n",
       "      <td>&lt;p&gt;risks to the public&lt;/p&gt;</td>\n",
       "      <td>[E4-XFfIhTHE]</td>\n",
       "      <td>1</td>\n",
       "      <td>Buffalo</td>\n",
       "      <td>Technology, Data, and Open Government Strategist</td>\n",
       "      <td>GovEx</td>\n",
       "      <td>Academia (private)</td>\n",
       "    </tr>\n",
       "    <tr>\n",
       "      <th>51</th>\n",
       "      <td>E4-XFepJkRo</td>\n",
       "      <td>Andrew Nicklin</td>\n",
       "      <td>2017-01-17 02:49:03</td>\n",
       "      <td>0</td>\n",
       "      <td>no legal encumbrances on use or reuse</td>\n",
       "      <td>If limiting the City's liability for how the d...</td>\n",
       "      <td>&lt;p&gt;If limiting the City's liability for how th...</td>\n",
       "      <td>[E4-XFinM1no]</td>\n",
       "      <td>1</td>\n",
       "      <td>Buffalo</td>\n",
       "      <td>Technology, Data, and Open Government Strategist</td>\n",
       "      <td>GovEx</td>\n",
       "      <td>Academia (private)</td>\n",
       "    </tr>\n",
       "  </tbody>\n",
       "</table>\n",
       "</div>"
      ],
      "text/plain": [
       "     comment_id          author            datetime num_likes  \\\n",
       "46  E4-XFfET0X4  Andrew Nicklin 2017-01-17 03:03:41         0   \n",
       "51  E4-XFepJkRo  Andrew Nicklin 2017-01-17 02:49:03         0   \n",
       "\n",
       "                              quoted_text  \\\n",
       "46                        policy concerns   \n",
       "51  no legal encumbrances on use or reuse   \n",
       "\n",
       "                                         comment_text  \\\n",
       "46                                risks to the public   \n",
       "51  If limiting the City's liability for how the d...   \n",
       "\n",
       "                                     comment_text_aux      reply_ids  \\\n",
       "46                         <p>risks to the public</p>  [E4-XFfIhTHE]   \n",
       "51  <p>If limiting the City's liability for how th...  [E4-XFinM1no]   \n",
       "\n",
       "    reply_ids_count city_name  \\\n",
       "46                1   Buffalo   \n",
       "51                1   Buffalo   \n",
       "\n",
       "                                            Position Company_name  \\\n",
       "46  Technology, Data, and Open Government Strategist        GovEx   \n",
       "51  Technology, Data, and Open Government Strategist        GovEx   \n",
       "\n",
       "         Category_work  \n",
       "46  Academia (private)  \n",
       "51  Academia (private)  "
      ]
     },
     "execution_count": 221,
     "metadata": {},
     "output_type": "execute_result"
    }
   ],
   "source": [
    "neg_comments_dict.head(2)"
   ]
  },
  {
   "cell_type": "code",
   "execution_count": 222,
   "metadata": {
    "scrolled": true
   },
   "outputs": [
    {
     "name": "stdout",
     "output_type": "stream",
     "text": [
      "\u001b[1mCity: Buffalo\n",
      "\u001b[0mPartial quoted text: policy concerns\n",
      "\u001b[1mComment text: risks to the public\n",
      "\n",
      "\u001b[1mCity: Buffalo\n",
      "\u001b[0mPartial quoted text: no legal encumbrances on use or reuse\n",
      "\u001b[1mComment text: If limiting the City's liability for how the data is used is considered a legal encumbrance then this phrase should be removed or modified. It's also conceivable you want Terms & Conditions on your open data which prohibit the use of data when committing a crime, etc.\n",
      "\n",
      "\u001b[1mCity: Buffalo\n",
      "\u001b[0mPartial quoted text: Ensure that access to restricted data is blocked,\n",
      "\u001b[1mComment text: There should be a publicly available list of what is blocked and why. Having this list facilitates transparency and understanding of how the government operates.\n",
      "\n",
      "\u001b[1mCity: Glendale\n",
      "\u001b[0mPartial quoted text: None\n",
      "\u001b[1mComment text: This is way past due. The current system is awful and discourages citizen evolvement.\n",
      "Please continue on with this vital upgrade.\n",
      "\n",
      "\u001b[1mCity: Syracuse\n",
      "\u001b[0mPartial quoted text: open formats\n",
      "\u001b[1mComment text: \"Open formats\" wasn't defined above. I assume you mean \"not Excel\" or some such?\n",
      "\n",
      "\u001b[1mCity: Syracuse\n",
      "\u001b[0mPartial quoted text: how or under what conditions a dataset may be used\n",
      "\u001b[1mComment text: I'm not a lawyer, but usually there is an \"as is\" or \"no warranties\" clause in open source licenses. (e.g., Section 5 here https://creativecommons.org/licenses/by/4.0/legalcode ). Is this a thing that you'd want to include in your data policy?\n",
      "\n",
      "\u001b[1mCity: Syracuse\n",
      "\u001b[0mPartial quoted text: policy establishes guidelines\n",
      "\u001b[1mComment text: Contradiction - Policies are not guidelines, IMO they are mandatory... guidelines are not mandatory\n",
      "\n",
      "\u001b[1mCity: Syracuse\n",
      "\u001b[0mPartial quoted text: Section 1: Purpose\n",
      "\u001b[1mComment text: Very well said. I think this not only clearly identifies the mission of Syracuse's Open Data Policy, it also makes a concise argument for it.\n",
      "\n",
      "\u001b[1mCity: Syracuse\n",
      "\u001b[0mPartial quoted text: held by each city agency which is published to the central open data location and is regularly updated;\n",
      "\u001b[1mComment text: Data may not need to be published to a repository. Link to existing location. See Play it where it lies (1, 1.5) http://chriswhong.com/open-data/thoughts-on-open-data-part-1/\n",
      "My experience has been when files require exporting from a Dept then imported to Open Data (manual process), data gets old because employees stop exporting or corrupted because new employees don't know process.\n",
      "Location of data/database is not important if the link to it or an API is available on central location.\n",
      "\n"
     ]
    }
   ],
   "source": [
    "for index, row in neg_comments_dict.iterrows():\n",
    "    print('\\033[1m' + \"City:\", row['city_name'])\n",
    "    print('\\033[0m' + \"Partial quoted text:\", row['quoted_text'])\n",
    "    print('\\033[1m' + \"Comment text:\", row['comment_text'])\n",
    "    print()"
   ]
  },
  {
   "cell_type": "code",
   "execution_count": 223,
   "metadata": {
    "collapsed": true
   },
   "outputs": [],
   "source": [
    "# hard-coded (needs eye-balling)\n",
    "\n",
    "neg_main_policies = ['Open Data Governance Committee', \"Opportunities for Citizen Feedback\", 'Privacy and Security', 'Useful, quality and timely data', \"Prioritizing the release of open data\", \"Open Data Access\"]\n",
    "count_neg_policies = []"
   ]
  },
  {
   "cell_type": "code",
   "execution_count": 224,
   "metadata": {},
   "outputs": [
    {
     "ename": "ValueError",
     "evalue": "incompatible sizes: argument 'width' must be length 6 or scalar",
     "output_type": "error",
     "traceback": [
      "\u001b[0;31m---------------------------------------------------------------------------\u001b[0m",
      "\u001b[0;31mValueError\u001b[0m                                Traceback (most recent call last)",
      "\u001b[0;32m<ipython-input-224-7aa03cc9b212>\u001b[0m in \u001b[0;36m<module>\u001b[0;34m()\u001b[0m\n\u001b[0;32m----> 1\u001b[0;31m \u001b[0mhorizontal_bar\u001b[0m\u001b[0;34m(\u001b[0m\u001b[0mneg_main_policies\u001b[0m\u001b[0;34m,\u001b[0m \u001b[0mcount_neg_policies\u001b[0m\u001b[0;34m,\u001b[0m \u001b[0;34m\"Number of negative comments\"\u001b[0m\u001b[0;34m,\u001b[0m \u001b[0;34m\"Policy issues with negative comments\"\u001b[0m\u001b[0;34m)\u001b[0m\u001b[0;34m\u001b[0m\u001b[0m\n\u001b[0m",
      "\u001b[0;32m~/Desktop/Sunlight_Foundation_Summer_2017/Project on comment scraping/graphs_and_charts.py\u001b[0m in \u001b[0;36mhorizontal_bar\u001b[0;34m(x_objects, y_objects, xlabel, title)\u001b[0m\n\u001b[1;32m     59\u001b[0m     \u001b[0mfig\u001b[0m \u001b[0;34m=\u001b[0m \u001b[0mplt\u001b[0m\u001b[0;34m.\u001b[0m\u001b[0mfigure\u001b[0m\u001b[0;34m(\u001b[0m\u001b[0;34m)\u001b[0m\u001b[0;34m\u001b[0m\u001b[0m\n\u001b[1;32m     60\u001b[0m     \u001b[0my_pos\u001b[0m \u001b[0;34m=\u001b[0m \u001b[0mnp\u001b[0m\u001b[0;34m.\u001b[0m\u001b[0marange\u001b[0m\u001b[0;34m(\u001b[0m\u001b[0mlen\u001b[0m\u001b[0;34m(\u001b[0m\u001b[0mx_objects\u001b[0m\u001b[0;34m)\u001b[0m\u001b[0;34m)\u001b[0m\u001b[0;34m\u001b[0m\u001b[0m\n\u001b[0;32m---> 61\u001b[0;31m     \u001b[0mplt\u001b[0m\u001b[0;34m.\u001b[0m\u001b[0mbarh\u001b[0m\u001b[0;34m(\u001b[0m\u001b[0my_pos\u001b[0m\u001b[0;34m,\u001b[0m \u001b[0my_objects\u001b[0m\u001b[0;34m,\u001b[0m \u001b[0malign\u001b[0m\u001b[0;34m=\u001b[0m\u001b[0;34m'center'\u001b[0m\u001b[0;34m,\u001b[0m \u001b[0malpha\u001b[0m\u001b[0;34m=\u001b[0m\u001b[0;36m0.7\u001b[0m\u001b[0;34m,\u001b[0m \u001b[0mcolor\u001b[0m\u001b[0;34m=\u001b[0m\u001b[0;34m\"red\"\u001b[0m\u001b[0;34m)\u001b[0m\u001b[0;34m\u001b[0m\u001b[0m\n\u001b[0m\u001b[1;32m     62\u001b[0m     \u001b[0mplt\u001b[0m\u001b[0;34m.\u001b[0m\u001b[0mxticks\u001b[0m\u001b[0;34m(\u001b[0m\u001b[0my_objects\u001b[0m\u001b[0;34m)\u001b[0m\u001b[0;34m\u001b[0m\u001b[0m\n\u001b[1;32m     63\u001b[0m     \u001b[0mplt\u001b[0m\u001b[0;34m.\u001b[0m\u001b[0myticks\u001b[0m\u001b[0;34m(\u001b[0m\u001b[0my_pos\u001b[0m\u001b[0;34m,\u001b[0m \u001b[0mx_objects\u001b[0m\u001b[0;34m)\u001b[0m\u001b[0;34m\u001b[0m\u001b[0m\n",
      "\u001b[0;32m~/anaconda/envs/py35/lib/python3.5/site-packages/matplotlib/pyplot.py\u001b[0m in \u001b[0;36mbarh\u001b[0;34m(bottom, width, height, left, hold, **kwargs)\u001b[0m\n\u001b[1;32m   2723\u001b[0m                       mplDeprecation)\n\u001b[1;32m   2724\u001b[0m     \u001b[0;32mtry\u001b[0m\u001b[0;34m:\u001b[0m\u001b[0;34m\u001b[0m\u001b[0m\n\u001b[0;32m-> 2725\u001b[0;31m         \u001b[0mret\u001b[0m \u001b[0;34m=\u001b[0m \u001b[0max\u001b[0m\u001b[0;34m.\u001b[0m\u001b[0mbarh\u001b[0m\u001b[0;34m(\u001b[0m\u001b[0mbottom\u001b[0m\u001b[0;34m,\u001b[0m \u001b[0mwidth\u001b[0m\u001b[0;34m,\u001b[0m \u001b[0mheight\u001b[0m\u001b[0;34m=\u001b[0m\u001b[0mheight\u001b[0m\u001b[0;34m,\u001b[0m \u001b[0mleft\u001b[0m\u001b[0;34m=\u001b[0m\u001b[0mleft\u001b[0m\u001b[0;34m,\u001b[0m \u001b[0;34m**\u001b[0m\u001b[0mkwargs\u001b[0m\u001b[0;34m)\u001b[0m\u001b[0;34m\u001b[0m\u001b[0m\n\u001b[0m\u001b[1;32m   2726\u001b[0m     \u001b[0;32mfinally\u001b[0m\u001b[0;34m:\u001b[0m\u001b[0;34m\u001b[0m\u001b[0m\n\u001b[1;32m   2727\u001b[0m         \u001b[0max\u001b[0m\u001b[0;34m.\u001b[0m\u001b[0m_hold\u001b[0m \u001b[0;34m=\u001b[0m \u001b[0mwashold\u001b[0m\u001b[0;34m\u001b[0m\u001b[0m\n",
      "\u001b[0;32m~/anaconda/envs/py35/lib/python3.5/site-packages/matplotlib/axes/_axes.py\u001b[0m in \u001b[0;36mbarh\u001b[0;34m(self, bottom, width, height, left, **kwargs)\u001b[0m\n\u001b[1;32m   2283\u001b[0m \u001b[0;34m\u001b[0m\u001b[0m\n\u001b[1;32m   2284\u001b[0m         patches = self.bar(left=left, height=height, width=width,\n\u001b[0;32m-> 2285\u001b[0;31m                            bottom=bottom, orientation='horizontal', **kwargs)\n\u001b[0m\u001b[1;32m   2286\u001b[0m         \u001b[0;32mreturn\u001b[0m \u001b[0mpatches\u001b[0m\u001b[0;34m\u001b[0m\u001b[0m\n\u001b[1;32m   2287\u001b[0m \u001b[0;34m\u001b[0m\u001b[0m\n",
      "\u001b[0;32m~/anaconda/envs/py35/lib/python3.5/site-packages/matplotlib/__init__.py\u001b[0m in \u001b[0;36minner\u001b[0;34m(ax, *args, **kwargs)\u001b[0m\n\u001b[1;32m   1896\u001b[0m                     warnings.warn(msg % (label_namer, func.__name__),\n\u001b[1;32m   1897\u001b[0m                                   RuntimeWarning, stacklevel=2)\n\u001b[0;32m-> 1898\u001b[0;31m             \u001b[0;32mreturn\u001b[0m \u001b[0mfunc\u001b[0m\u001b[0;34m(\u001b[0m\u001b[0max\u001b[0m\u001b[0;34m,\u001b[0m \u001b[0;34m*\u001b[0m\u001b[0margs\u001b[0m\u001b[0;34m,\u001b[0m \u001b[0;34m**\u001b[0m\u001b[0mkwargs\u001b[0m\u001b[0;34m)\u001b[0m\u001b[0;34m\u001b[0m\u001b[0m\n\u001b[0m\u001b[1;32m   1899\u001b[0m         \u001b[0mpre_doc\u001b[0m \u001b[0;34m=\u001b[0m \u001b[0minner\u001b[0m\u001b[0;34m.\u001b[0m\u001b[0m__doc__\u001b[0m\u001b[0;34m\u001b[0m\u001b[0m\n\u001b[1;32m   1900\u001b[0m         \u001b[0;32mif\u001b[0m \u001b[0mpre_doc\u001b[0m \u001b[0;32mis\u001b[0m \u001b[0;32mNone\u001b[0m\u001b[0;34m:\u001b[0m\u001b[0;34m\u001b[0m\u001b[0m\n",
      "\u001b[0;32m~/anaconda/envs/py35/lib/python3.5/site-packages/matplotlib/axes/_axes.py\u001b[0m in \u001b[0;36mbar\u001b[0;34m(self, left, height, width, bottom, **kwargs)\u001b[0m\n\u001b[1;32m   2080\u001b[0m         \u001b[0;32mif\u001b[0m \u001b[0mlen\u001b[0m\u001b[0;34m(\u001b[0m\u001b[0mwidth\u001b[0m\u001b[0;34m)\u001b[0m \u001b[0;34m!=\u001b[0m \u001b[0mnbars\u001b[0m\u001b[0;34m:\u001b[0m\u001b[0;34m\u001b[0m\u001b[0m\n\u001b[1;32m   2081\u001b[0m             raise ValueError(\"incompatible sizes: argument 'width' \"\n\u001b[0;32m-> 2082\u001b[0;31m                              \"must be length %d or scalar\" % nbars)\n\u001b[0m\u001b[1;32m   2083\u001b[0m         \u001b[0;32mif\u001b[0m \u001b[0mlen\u001b[0m\u001b[0;34m(\u001b[0m\u001b[0mbottom\u001b[0m\u001b[0;34m)\u001b[0m \u001b[0;34m!=\u001b[0m \u001b[0mnbars\u001b[0m\u001b[0;34m:\u001b[0m\u001b[0;34m\u001b[0m\u001b[0m\n\u001b[1;32m   2084\u001b[0m             raise ValueError(\"incompatible sizes: argument 'bottom' \"\n",
      "\u001b[0;31mValueError\u001b[0m: incompatible sizes: argument 'width' must be length 6 or scalar"
     ]
    }
   ],
   "source": [
    "horizontal_bar(neg_main_policies, count_neg_policies, \"Number of negative comments\", \"Policy issues with negative comments\")"
   ]
  },
  {
   "cell_type": "markdown",
   "metadata": {
    "collapsed": true
   },
   "source": [
    "# 5) likes and replies analysis (popular comments extended)"
   ]
  },
  {
   "cell_type": "markdown",
   "metadata": {},
   "source": [
    "### a) analysis of comments *2 likes or more*"
   ]
  },
  {
   "cell_type": "code",
   "execution_count": 156,
   "metadata": {},
   "outputs": [
    {
     "name": "stdout",
     "output_type": "stream",
     "text": [
      "\n",
      "\u001b[1mcomment:\n",
      "\n",
      "\u001b[0mI am in support of the proposed policy to further enable data and subsequent knowledge sharing. I agree with fellow contributors that it would be beneficial to see more detailed outlines for the specific process that is going to enable community members to contribute to the Open Data portal by creating, uploading and verifying data sets to be published. Myself and colleagues have created a number of valuable data sets that could be beneficial across city departments, community organizations and individual interests. Understanding that only data sets meeting the standards set forth as a result of this policy will be accepted, we can collaboratively drive the understanding of our community from all perspectives.\n",
      "\n",
      "\u001b[1mcomment:\n",
      "\n",
      "\u001b[0mI strongly support the proposed policy, with a recognition of the outstanding contributions that have already been made by other residents, citizens, and interested parties.Many thanks to the City of Buffalo for leading this effort. Most of my comments are within the document itself, but I do agree with other comments below that emphasize the need for substantial citizen involvement in governance, application, and oversight. During the RFP process, I would encourage the city to include not only requirements for a portal, but also an iterative feedback/improvement process with residents and regular data users so that the city's investment in this system can produce tangible use cases and real benefits to our city and its people.The Department of Citizen Services should also be commended for their use of the collaborative policymaking platform. In the age of the internet, this is an excellent way to increase public participation in these types of processes. Many thanks for this opportunity.\n",
      "\n",
      "\u001b[1mcomment:\n",
      "\n",
      "\u001b[0mThe following comment is submitted on behalf of the Public Accountability Initiative:The Public Accountability Initiative (PAI) is a non-profit educational group focused on transparency and accountability headquartered in the City of Buffalo. PAI operates a research platform, LittleSis.org, that brings together information obtained through public records for use by journalists, academics, and activists as well as the general public. Access to current government information is paramount to PAI’s work and to meaningful participation in a democracy. As such, PAI endorses the goals of the Open Data proposal.Below we have highlighted what feel are the most commendable inclusions in the proposal as currently drafted, made suggestions for further improvement, and raised concerns with certain provisions of the proposal.By providing access to public information proactively and for free, the Open Data proposal addresses two significant burdens to public access to information: failure to respond to freedom of information requests in a timely fashion and undue copying fees levied by public agencies. According to MuckRock, a non-profit organization that facilitates the filing and analysis of freedom of information requests, the City of Buffalo takes an average of 63 days to respond to freedom of information requests and charges an average fee of $4.13 per request. PAI has had considerable difficulty obtaining public records from city agencies, most notably the Buffalo Police Department (see e.g. “FOIL by inches: The slow-drip transparency of Buffalo PD” by Caitlin Russell of MuckRock).If these burdens are truly shifted from requesters to the City, Buffalo will be making a commendable commitment to transparency. To even further improve access to public records, PAI seconds Brian Borncamp’s recommendation that the Open Data Policy provide for a “centralized system for submitting, tracking, and responding to FOIL requests.” By centralizing all requests and by making requests and responses publicly available, the City can dramatically increase its responsiveness to public requests for information and reduce instances of non-compliance with the Freedom of Information Law that result in costly attorneys’ fees.PAI also highlights and applauds the inclusion of “records of third-party agency contractors that create or acquire information, records, or data on behalf of a City division/department” as an especially meaningful and important component of the Open Data proposal. Public entities are increasingly reliant on non-governmental or quasi-governmental non-profits to perform governmental services. If unchecked, those third-party contractors can act as a “black box” where important information can be kept secret from the public, leading to suspicion and, at times, scandal. The State University at New York system is currently dealing with this issue within its nominally private campus-related foundations at the center of the United States Attorney investigation into Buffalo Billion contracting.Explicitly holding third-party contractors to the same transparency standard as the public agencies they’re working for both honors the letter of New York’s Freedom of Information Law and serves as a proactive measure to avoid actual or apparent corruption. This provision should be taken further to explicitly include records of all city-related public benefit corporations and other quasi-governmental entities.Finally, as PAI is involved with technology development in addition to producing original research, we call attention to the proposed availability of City of Buffalo data via an Application Programming Interface (API). Providing data this way allows developers to interact with data in new and unexpected ways and facilitates analysis of that data. For example, PAI’s research platform LittleSis interacts with the OpenSecrets database maintained by the Center for Responsive Politics via an API to incorporate campaign finance as soon as it is uploaded. In addition to making City of Buffalo data available via an API, PAI also recommends that datasets be available for bulk download in various relevant formats to permit analysis using Microsoft Excel or other programs.PAI has significant concerns about the oversight of Buffalo’s Open Data portal. As currently stipulated in the proposal, development and implementation of the Open Data practices will be delegated to appointees of the Mayor with “input from the public.” It is crucial for the Open Data Governance Committee to be free from the influence of politics and to not be beholden to any one political representative. As such, the Open Data Governance Committee should include representatives from the City as well as from independent organizations working in the public interest, such as the residents, businesses, researchers, and media mentioned in the policy’s statement of purpose, and independent members should comprise a majority of the committee’s votes.Alongside the existing Open Book Buffalo portal, this Open Data policy represents a praiseworthy commitment to transparency and accountability for the City of Buffalo. For this, the Public Accountability Initiative again commends the city government and welcomes any further opportunity for input on this important initiative. By adopting a policy that addresses the above-stated concerns addressed – especially those about oversight and the centralization of freedom of information requests and responses – the City of Buffalo will take a great stride in advancing transparency and accountability to its residents.\n",
      "\n",
      "\u001b[1mcomment:\n",
      "\n",
      "\u001b[0mresidents, government leaders, businesses, nonprofits, foundations, researchers, and the media,\n",
      "\n",
      "\u001b[1mcomment:\n",
      "\n",
      "\u001b[0mThank you to the City of Buffalo!  My comments are regarding the geospatial (GIS) data. We often build tools for local government, and open data portals are our go-to standard to accessing data.  Please also consider including open access to live data such as webservices. Downloadable data, such as xmls, shapefiles or even file geodatabases are necessary for local processing and analysis.  However, most of our support to local government agencies is by functioning as tool and system developers. It makes us incredibly more productive (and accurate) to have access to live data.  I agree with Sean Meyers and support the distribution of the webservices and mapservices in web standard formats.  -Karyn Tareen CEO, Geocove\n",
      "\n",
      "\u001b[1mcomment:\n",
      "\n",
      "\u001b[0mThank you to the City of Buffalo for making open data a priority! I agree with the point made previously that the open data portal should include a repository of GIS shapefiles. As someone who works in the community development field, I often struggle to find the appropriate files and often have to cobble together data from various sources or create files from scratch. Having a centralized resource would make grant writing, needs assessments, and neighborhood planning efforts a lot easier. The UB Regional Institute has developed an ArcGIS-based database tracking a number of different environmental and demographic indicators as part of their work on One Region Forward, a regional plan for sustainable development in the Buffalo Niagara region: http://www.oneregionforward.org/data-tools/mappingmetrics/ This might be a good place to start, although as previously mentioned, the ability to export this data in a usable file format is paramount. Excited to follow the progress of this initiative!\n",
      "\n",
      "\u001b[1mcomment:\n",
      "\n",
      "\u001b[0mThank you City of Buffalo for taking on this initiative. I have two comments:\n",
      "\n",
      "I think one one of the stated goals of the program should be to promote active participation by the community including civic technologists, civic activists, programmers, and database specialists to develop tools that turn data into insight for some of the city's pressing issues.\n",
      "\n",
      "\n",
      "I think it is very important to ensure that the technical definition of open data goes beyond the definitions provided by the vendors of the platforms currently in use by the city. We are in a web-based world so web-based standards must take precedence (e.g. JSON, geoJSON).\n",
      "\n",
      "\n",
      "\n",
      "\u001b[1mcomment:\n",
      "\n",
      "\u001b[0mOther options being explored? Bulk dataset download is still very common and effective, especially for those users who may not be comfortable accessing an API.\n",
      "\n",
      "\u001b[1mcomment:\n",
      "\n",
      "\u001b[0mPromote open data that informs increases in government efficiency, improvements in the quality of life of its citizens, and more equal opportunities for all residents.\n",
      "Commit to data driven decision making especially in areas of policy.\n",
      "\n",
      "\n",
      "\u001b[1mcomment:\n",
      "\n",
      "\u001b[0mWill data be shared if it is not regularly maintained?  Perhaps \"date of update\" could be identified in the metadata.  Will adopting an OpenData policy encourage the city to more regularly maintain datasets or will this clause be used to skirt sharing policies?  Historical data (not regularly maintained) is still data.\n",
      "\n",
      "\u001b[1mcomment:\n",
      "\n",
      "\u001b[0mMy comments are rather lengthy. In addition to the comments below I've provided a copy inside a google doc. http://bit.ly/BuffaloOpenDataCommentsI commend Oswaldo Mestre and Kirk McLean for putting forward a draft Open Data Policy. Such policies work to make Buffalo government more effective, transparent, accountable, and responsive. This draft document is an important step forward. With all aspects of government we ought to strive for continual improvement. As improvement pertains to the draft Open Data Policy, I hope you find these suggestions amenable.The draft policy establishes an “Open Data Governance Committee”. As the committee currently stands, oversight and implementation is held entirely within the executive branch of city government. Given that the data provided would primarily originate from the executive branch, it is sensible to seek its representation. However, in the spirit of an open democratic society, the policy ought to seek independence and accountability through checks and balances from other institutions.The stated purpose of the policy, “creates value for residents, government leaders, businesses, researchers, and the media. ” With the exception of government leaders, none of these groups appear to be formally required by the draft policy.  The policy ought to move the governance committee to include these stated groups.In creating an independent governance committee, the policy ought to seek representation from co-equal branches of government, e.g. the Common Council and City Comptroller. Ensuring appointment via other branches would go a long way toward promoting the Open Data Governance Committee as an independent body.Additionally, the structure of the committee ought to ensure that those appointed to the committee via the executive branch do not hold an automatic majority of voting eligible members. Seeking the “input” of the public is perhaps the lowest form of democracy. Input can be trivial, power is not.The draft policy does not specify how decisions made by the governance committee are to be made public. In ensuring that the governance committee is making decisions for the public good, record of said decisions ought to be publicly available.To the effect of the stated concerns, the governance committee ought to be adopted into the city charter subject to a vote by the common council.The draft policy attempts to cast a broad net over the institutions subject to it. Stated in the document, the policy “will apply to any City department, office, administrative unit, commission, board, advisory committee or other division/department of the City government including the records of third-party agency contractors that create or acquire information, records, or data on behalf of a City division/department.”Reading the draft, it is unclear as to the policy’s applicability to quasi-governmental agencies such as public benefit corporations, e.g. Buffalo Urban Renewal Agency, Buffalo Urban Development Agency, and the Buffalo Municipal Housing Authority. A small language tweak could incorporate such entities under the scope of the draft policy.Open data is a strong tool for open and transparent government. However, open data is only one of many tools regarding open government. FOIL is another tool that can help to move governments towards transparency and accountability. However, the state of FOIL in Buffalo is dismal. The shortcomings of the City of Buffalo as it pertains to FOIL have been well reported in the press. City departments routinely disregard the law as it relates to FOIL. In this author's experience, above 90% of FOIL requests submitted are not responded to with the requested documentation, or an agency determination explaining why such documents are not available.An open data policy cannot be the sole remedy for city officials unwillingness to follow the law. However, it can take steps toward holding those officials accountable. Inclusion into the draft policy of a centralized system for submitting, tracking, and responding to FOIL requests would be an incredible step forward. Such a measure would provide residents and city officials with an effective way to manage requests and comply with the relevant statutes. When conflict over FOIL requests do arise, the conflict would be publicly available and documented. Such a system would prevent FOIL requests from getting lost inside civic bureaucracy due to malfeasance or human error.The advancement of Open Data in Buffalo is an important step. I applaud the Division of Citizen Services for being forward thinking in this regard. That being said, the comments provided here ought not be seen as window dressing to the draft policy. These comments speak to structural concerns of strengthening democracy. The nature of power and human institutions is that they change over time. I hope that these comments are able to extended the drafted policy such that when institutions change the effect and intentions of the draft Buffalo Open Data Policy do not.\n",
      "\n",
      "\u001b[1mcomment:\n",
      "\n",
      "\u001b[0mDoes this position currently exist in City Hall? If not, who would take on this role?\n",
      "\n",
      "\u001b[1mcomment:\n",
      "\n",
      "\u001b[0mPerhaps a section of the central repository should host all the data that was released in response to FOIL requests. It would provide wider access to this data and could serve as a means to solicit public feedback on the relative priority of establishing a more formal release of the dataset (with relevant metadata and scheduled refreshes of the data).\n",
      "\n",
      "\u001b[1mcomment:\n",
      "\n",
      "\u001b[0mMetadata is the key to making sure that the data is used correctly and enables the data to be used in as many different (yet appropriate) ways possible.\n",
      "\n",
      "\u001b[1mcomment:\n",
      "\n",
      "\u001b[0mI support the effort to make data accessible to the public. The NYC Open Data portal is a good example of an existing resource with a similar intention. I recommend including environmental and geographic data in the form of GIS shapefiles which can be downloaded, as opposed to 'view-only' results or more traditional pdf or Excel files. I also recommend partnering with local higher education entities, such as the University at Buffalo, to provide research data in additional to official City of Buffalo owned/managed data.\n",
      "\n",
      "\u001b[1mcomment:\n",
      "\n",
      "\u001b[0mThe City of Buffalo is to be commended for taking steps to move towards normalizing the sharing of data with the public. As a researcher in the non-profits, I see this as a tool to better serve my city. As a resident, I'm excited to see more transparency.Comments:\n",
      "-The Open Data Governance Board should also include residents of the City of Buffalo with technical expertise in data management or interest in government transparency. These should be people who apply to it (and maybe the government members vote?) as opposed to being appointed. There are some tips on engaging the civic tech community here: https://www.civichacking.guide though there are likely interested parties outside that community. However it’s structured, it should be as a dialog with city residents.-I agree with Aaron that the source code of the open data tools should be available.-I’d recommend a citizen-heavy deliberative democracy process (think participatory budgeting without the budget) to figure out some of the specifics of what to release and how often. I suspect that most residents of the city, including myself, don’t know what is available. Della Rucker, an economic development consultant based in Akron, suggests that when such processes are engaged, inform all parties of limitations and that can often lead to better outcomes.-Would there be a listserv announcing new releases, the way that HUD or the Census does?-My employer manages a client-level database that has input from over 100 users. We've found that if you do not enforce strict requirements of timeliness, data quality suffers as it becomes perpetually delayed. Since there were no explicit timelines mentioned here (our requirement is that data needs to be entered within 72 hours of the event), I worry this very valuable effort could suffer from similar backburner issues.Thank you for sharing this with the public for feedback! I thought this was a really useful format!\n",
      "\n",
      "\u001b[1mcomment:\n",
      "\n",
      "\u001b[0mThis document fails to require the sharing of the source code of the open data tools. \"Require Code Sharing Or Publishing Open Source\" is a recommendation of Sunlight Foundation https://sunlightfoundation.com/opendataguidelines/#open-code . Sharing the source code allows citizens to help contribute to the tools making the data public, allows citizens access to the tools for which they are paying, and allows other government agencies as well citizens to benefit from improvements made on behalf of Buffalo.\n",
      "\n",
      "\u001b[1mcomment:\n",
      "\n",
      "\u001b[0mThis is really important, but I would be interested to see practically how these can be measured against departmental goals and targets, etc.\n",
      "\n",
      "\u001b[1mcomment:\n",
      "\n",
      "\u001b[0mThis will be incredibly useful for effective policy of all sorts! I can only hope that someday Onondaga County will have a similar initiative, with the capacity for interface and data synthesis.\n",
      "\n",
      "\u001b[1mcomment:\n",
      "\n",
      "\u001b[0mThis is terrific. A solid policy that will serve the city well and provide important guidance to city departments for releasing open data.\n",
      "\n",
      "\u001b[1mcomment:\n",
      "\n",
      "\u001b[0mSome cities use an appointed board with members of the public and other stakeholders to provide support and recommendations to the CDO.\n",
      "\n",
      "\u001b[1mcomment:\n",
      "\n",
      "\u001b[0mThis is important, as the Chief Data officer will have first hand knowledge of what is working, and what isn't. This could be a good opportunity for the CDO to outline areas for improvement, and things that have not yet gone particularly well in the open data program.\n",
      "\n",
      "\u001b[1mcomment:\n",
      "\n",
      "\u001b[0mThis would be a great opportunity for Syracuse to organize some community resources in a way that can increase civic engagement and generate transparency and accountability.\n",
      "\n",
      "\u001b[1mcomment:\n",
      "\n",
      "\u001b[0mThis is an auspicious initiative with a tremendous amount of potential. Developers are hungry to get their hands on this data. The more open data we can provide to our local developer community, the more opportunities we'll have to uncover creative solutions to challenging problems.\n",
      "\n",
      "\u001b[1mcomment:\n",
      "\n",
      "\u001b[0mWill this \"open data champion\" have a staff and budget to execute their duties? We have seen the efficacy of language like this diluted if someone is forced to have a job like this without buying into open data and the mission, and without extra resources to accomplish the mission.\n",
      "\n",
      "\u001b[1mcomment:\n",
      "\n",
      "\u001b[0mGreat idea. I would like to see how data is classified into private and public.\n"
     ]
    }
   ],
   "source": [
    "high_likes_comments = likes_replies_analysis(\"2\", 'num_likes', all_cities_dataframe)"
   ]
  },
  {
   "cell_type": "code",
   "execution_count": 157,
   "metadata": {},
   "outputs": [
    {
     "data": {
      "text/html": [
       "<div>\n",
       "<style>\n",
       "    .dataframe thead tr:only-child th {\n",
       "        text-align: right;\n",
       "    }\n",
       "\n",
       "    .dataframe thead th {\n",
       "        text-align: left;\n",
       "    }\n",
       "\n",
       "    .dataframe tbody tr th {\n",
       "        vertical-align: top;\n",
       "    }\n",
       "</style>\n",
       "<table border=\"1\" class=\"dataframe\">\n",
       "  <thead>\n",
       "    <tr style=\"text-align: right;\">\n",
       "      <th></th>\n",
       "      <th>index</th>\n",
       "      <th>comment_id</th>\n",
       "      <th>author</th>\n",
       "      <th>datetime</th>\n",
       "      <th>num_likes</th>\n",
       "      <th>quoted_text</th>\n",
       "      <th>comment_text</th>\n",
       "      <th>comment_text_aux</th>\n",
       "      <th>reply_ids</th>\n",
       "      <th>reply_ids_count</th>\n",
       "      <th>city_name</th>\n",
       "      <th>Position</th>\n",
       "      <th>Company_name</th>\n",
       "      <th>Category_work</th>\n",
       "    </tr>\n",
       "  </thead>\n",
       "  <tbody>\n",
       "    <tr>\n",
       "      <th>0</th>\n",
       "      <td>1</td>\n",
       "      <td>E4-XFnl1uKc</td>\n",
       "      <td>Aaron Lee</td>\n",
       "      <td>2017-01-25 04:32:19</td>\n",
       "      <td>2</td>\n",
       "      <td>None</td>\n",
       "      <td>I am in support of the proposed policy to furt...</td>\n",
       "      <td>&lt;p&gt;I am in support of the proposed policy to f...</td>\n",
       "      <td>[]</td>\n",
       "      <td>0</td>\n",
       "      <td>Buffalo</td>\n",
       "      <td>Software Developer</td>\n",
       "      <td>Solace Systems</td>\n",
       "      <td>Private</td>\n",
       "    </tr>\n",
       "    <tr>\n",
       "      <th>1</th>\n",
       "      <td>3</td>\n",
       "      <td>E4-XFnQhy2g</td>\n",
       "      <td>Aaron Krolikowski</td>\n",
       "      <td>2017-01-24 22:56:17</td>\n",
       "      <td>3</td>\n",
       "      <td>None</td>\n",
       "      <td>I strongly support the proposed policy, with a...</td>\n",
       "      <td>&lt;p&gt;I strongly support the proposed policy, wit...</td>\n",
       "      <td>[]</td>\n",
       "      <td>0</td>\n",
       "      <td>Buffalo</td>\n",
       "      <td>Researcher</td>\n",
       "      <td>Freelance</td>\n",
       "      <td>Academia (private)</td>\n",
       "    </tr>\n",
       "    <tr>\n",
       "      <th>2</th>\n",
       "      <td>13</td>\n",
       "      <td>E4-XFl5JXZo</td>\n",
       "      <td>Robert Galbraith</td>\n",
       "      <td>2017-01-24 20:30:42</td>\n",
       "      <td>2</td>\n",
       "      <td>None</td>\n",
       "      <td>The following comment is submitted on behalf o...</td>\n",
       "      <td>&lt;p&gt;The following comment is submitted on behal...</td>\n",
       "      <td>[E4-XFmHvN6E]</td>\n",
       "      <td>1</td>\n",
       "      <td>Buffalo</td>\n",
       "      <td>Unknown</td>\n",
       "      <td>Unknown</td>\n",
       "      <td>Unknown</td>\n",
       "    </tr>\n",
       "    <tr>\n",
       "      <th>3</th>\n",
       "      <td>17</td>\n",
       "      <td>E4-XFksGPRs</td>\n",
       "      <td>Curtis Robbins</td>\n",
       "      <td>2017-01-24 18:01:32</td>\n",
       "      <td>2</td>\n",
       "      <td>residents, government leaders, businesses, res...</td>\n",
       "      <td>residents, government leaders, businesses, non...</td>\n",
       "      <td>&lt;p&gt;residents, government leaders, businesses, ...</td>\n",
       "      <td>[E4-XFkw6sfw, E4-XFk-iSC4]</td>\n",
       "      <td>2</td>\n",
       "      <td>Buffalo</td>\n",
       "      <td>Unknown</td>\n",
       "      <td>Unknown</td>\n",
       "      <td>Unknown</td>\n",
       "    </tr>\n",
       "    <tr>\n",
       "      <th>4</th>\n",
       "      <td>21</td>\n",
       "      <td>E4-XFj2bu7o</td>\n",
       "      <td>Karyn Tareen</td>\n",
       "      <td>2017-01-24 14:55:16</td>\n",
       "      <td>4</td>\n",
       "      <td>None</td>\n",
       "      <td>Thank you to the City of Buffalo!  My comments...</td>\n",
       "      <td>&lt;p&gt;Thank you to the City of Buffalo!  My comme...</td>\n",
       "      <td>[]</td>\n",
       "      <td>0</td>\n",
       "      <td>Buffalo</td>\n",
       "      <td>President &amp; CEO</td>\n",
       "      <td>Geocove</td>\n",
       "      <td>Private</td>\n",
       "    </tr>\n",
       "  </tbody>\n",
       "</table>\n",
       "</div>"
      ],
      "text/plain": [
       "   index   comment_id             author            datetime num_likes  \\\n",
       "0      1  E4-XFnl1uKc          Aaron Lee 2017-01-25 04:32:19         2   \n",
       "1      3  E4-XFnQhy2g  Aaron Krolikowski 2017-01-24 22:56:17         3   \n",
       "2     13  E4-XFl5JXZo   Robert Galbraith 2017-01-24 20:30:42         2   \n",
       "3     17  E4-XFksGPRs     Curtis Robbins 2017-01-24 18:01:32         2   \n",
       "4     21  E4-XFj2bu7o       Karyn Tareen 2017-01-24 14:55:16         4   \n",
       "\n",
       "                                         quoted_text  \\\n",
       "0                                               None   \n",
       "1                                               None   \n",
       "2                                               None   \n",
       "3  residents, government leaders, businesses, res...   \n",
       "4                                               None   \n",
       "\n",
       "                                        comment_text  \\\n",
       "0  I am in support of the proposed policy to furt...   \n",
       "1  I strongly support the proposed policy, with a...   \n",
       "2  The following comment is submitted on behalf o...   \n",
       "3  residents, government leaders, businesses, non...   \n",
       "4  Thank you to the City of Buffalo!  My comments...   \n",
       "\n",
       "                                    comment_text_aux  \\\n",
       "0  <p>I am in support of the proposed policy to f...   \n",
       "1  <p>I strongly support the proposed policy, wit...   \n",
       "2  <p>The following comment is submitted on behal...   \n",
       "3  <p>residents, government leaders, businesses, ...   \n",
       "4  <p>Thank you to the City of Buffalo!  My comme...   \n",
       "\n",
       "                    reply_ids  reply_ids_count city_name            Position  \\\n",
       "0                          []                0   Buffalo  Software Developer   \n",
       "1                          []                0   Buffalo          Researcher   \n",
       "2               [E4-XFmHvN6E]                1   Buffalo             Unknown   \n",
       "3  [E4-XFkw6sfw, E4-XFk-iSC4]                2   Buffalo             Unknown   \n",
       "4                          []                0   Buffalo     President & CEO   \n",
       "\n",
       "     Company_name       Category_work  \n",
       "0  Solace Systems             Private  \n",
       "1       Freelance  Academia (private)  \n",
       "2         Unknown             Unknown  \n",
       "3         Unknown             Unknown  \n",
       "4         Geocove             Private  "
      ]
     },
     "execution_count": 157,
     "metadata": {},
     "output_type": "execute_result"
    }
   ],
   "source": [
    "high_likes_comments.head()"
   ]
  },
  {
   "cell_type": "code",
   "execution_count": 145,
   "metadata": {
    "collapsed": true
   },
   "outputs": [],
   "source": [
    "high_likes_comments_count_city = high_likes_comments.groupby(['city_name']).size().reset_index().rename(columns={0:'count'})"
   ]
  },
  {
   "cell_type": "code",
   "execution_count": 146,
   "metadata": {},
   "outputs": [
    {
     "data": {
      "text/html": [
       "<div>\n",
       "<style>\n",
       "    .dataframe thead tr:only-child th {\n",
       "        text-align: right;\n",
       "    }\n",
       "\n",
       "    .dataframe thead th {\n",
       "        text-align: left;\n",
       "    }\n",
       "\n",
       "    .dataframe tbody tr th {\n",
       "        vertical-align: top;\n",
       "    }\n",
       "</style>\n",
       "<table border=\"1\" class=\"dataframe\">\n",
       "  <thead>\n",
       "    <tr style=\"text-align: right;\">\n",
       "      <th></th>\n",
       "      <th>city_name</th>\n",
       "      <th>count</th>\n",
       "    </tr>\n",
       "  </thead>\n",
       "  <tbody>\n",
       "    <tr>\n",
       "      <th>0</th>\n",
       "      <td>Buffalo</td>\n",
       "      <td>17</td>\n",
       "    </tr>\n",
       "    <tr>\n",
       "      <th>1</th>\n",
       "      <td>Naperville</td>\n",
       "      <td>2</td>\n",
       "    </tr>\n",
       "    <tr>\n",
       "      <th>2</th>\n",
       "      <td>Syracuse</td>\n",
       "      <td>7</td>\n",
       "    </tr>\n",
       "  </tbody>\n",
       "</table>\n",
       "</div>"
      ],
      "text/plain": [
       "    city_name  count\n",
       "0     Buffalo     17\n",
       "1  Naperville      2\n",
       "2    Syracuse      7"
      ]
     },
     "execution_count": 146,
     "metadata": {},
     "output_type": "execute_result"
    }
   ],
   "source": [
    "high_likes_comments_count_city"
   ]
  },
  {
   "cell_type": "code",
   "execution_count": 147,
   "metadata": {
    "collapsed": true
   },
   "outputs": [],
   "source": [
    "likes_x = high_likes_comments_count_city['city_name'].tolist()\n",
    "likes_y = high_likes_comments_count_city['count'].tolist()"
   ]
  },
  {
   "cell_type": "markdown",
   "metadata": {
    "collapsed": true
   },
   "source": [
    "### b) analysis of comments with *2 replies or more*"
   ]
  },
  {
   "cell_type": "code",
   "execution_count": 148,
   "metadata": {},
   "outputs": [
    {
     "name": "stdout",
     "output_type": "stream",
     "text": [
      "\n",
      "\u001b[1mcomment:\n",
      "\n",
      "\u001b[0mRemove \"paramount.\" Privacy, confidentiality and security should be considerations when determining whether data should be open, but they should not be presumed to be paramount and therefore superior to the public's right to know.\n",
      "\n",
      "\u001b[1mcomment:\n",
      "\n",
      "\u001b[0mresidents, government leaders, businesses, nonprofits, foundations, researchers, and the media,\n",
      "\n",
      "\u001b[1mcomment:\n",
      "\n",
      "\u001b[0mNot sure what this means for formats such as the ESRI shapefile (proprietary GIS format). I'm assuming that much of the infrastructure data will be in this format. All things being equal, having data in a proprietary format would be better than no data.\n",
      "\n",
      "\u001b[1mcomment:\n",
      "\n",
      "\u001b[0mOther options being explored? Bulk dataset download is still very common and effective, especially for those users who may not be comfortable accessing an API.\n",
      "\n",
      "\u001b[1mcomment:\n",
      "\n",
      "\u001b[0mPromote open data that informs increases in government efficiency, improvements in the quality of life of its citizens, and more equal opportunities for all residents.\n",
      "Commit to data driven decision making especially in areas of policy.\n",
      "\n",
      "\n",
      "\u001b[1mcomment:\n",
      "\n",
      "\u001b[0mWill data be shared if it is not regularly maintained?  Perhaps \"date of update\" could be identified in the metadata.  Will adopting an OpenData policy encourage the city to more regularly maintain datasets or will this clause be used to skirt sharing policies?  Historical data (not regularly maintained) is still data.\n",
      "\n",
      "\u001b[1mcomment:\n",
      "\n",
      "\u001b[0mMetadata is the key to making sure that the data is used correctly and enables the data to be used in as many different (yet appropriate) ways possible.\n",
      "\n",
      "\u001b[1mcomment:\n",
      "\n",
      "\u001b[0mI am 100% supportive of open data and anything that improves citizen participation, however I opposed this document as it seems the Mayor implementing his own Open Data is a waste of funds and a duplication of efforts since this already exists for the City of Buffalo with the Comptroller's Open Book.  If the purpose of this document is to have one centralized location for citizens to access data, it seems the Mayor should work to promote the Open Book and any expansion of data be incorporated into that site.\n",
      "\n",
      "\u001b[1mcomment:\n",
      "\n",
      "\u001b[0mis or will be\n",
      "\n",
      "\u001b[1mcomment:\n",
      "\n",
      "\u001b[0mthis is amazing. Very important.\n",
      "\n",
      "\u001b[1mcomment:\n",
      "\n",
      "\u001b[0mWhat exactly are examples of \"applicable privileges\"?\n",
      "\n",
      "\u001b[1mcomment:\n",
      "\n",
      "\u001b[0mA central location is a good idea, IMHO\n",
      "\n",
      "\u001b[1mcomment:\n",
      "\n",
      "\u001b[0mI would recommend that it include members of the public with technical expertise and interest in publicly available data sets too instead of just receiving input.\n",
      "\n",
      "\u001b[1mcomment:\n",
      "\n",
      "\u001b[0mI would hope the city uses GitHub for this task, instead of building a centralized location of it's own.\n",
      "\n",
      "\u001b[1mcomment:\n",
      "\n",
      "\u001b[0mFrom my experience, some \"publishable\" city data is still in notebooks in a back office. Does this policy also set a goal of digitizing that information? Or is there a hidden \"reasonable\" here?\n",
      "\n",
      "\u001b[1mcomment:\n",
      "\n",
      "\u001b[0mI usually think of \"structured data\" in opposition to \"free text data.\" But I'd think that there are instances where you'd want to make \"unstructured\" data open, e.g., minutes from meetings or notes from an inspection.\n",
      "\n",
      "\u001b[1mcomment:\n",
      "\n",
      "\u001b[0mContradiction - Policies are not guidelines, IMO they are mandatory... guidelines are not mandatory\n",
      "\n",
      "\u001b[1mcomment:\n",
      "\n",
      "\u001b[0mI believe we should be more agile & publish major accomplishments every quarter - waiting 1 year for a formal report of all blockers, issues, failures, and successes eliminates the very transparency the program is aiming to achieve\n",
      "\n",
      "\u001b[1mcomment:\n",
      "\n",
      "\u001b[0mWAY too subjective - High-quality needs to be defined & measured against (e.g. - exactly how is this data providing transparency into how data is driving gov't decisions & policy adoption).\n",
      "\n",
      "\u001b[1mcomment:\n",
      "\n",
      "\u001b[0mThis is really important, but I would be interested to see practically how these can be measured against departmental goals and targets, etc.\n",
      "\n",
      "\u001b[1mcomment:\n",
      "\n",
      "\u001b[0mGiven most modern web development relies on APIs and given that most APIs return JSON, a dataset in JSON would receive more interactions than an XML dataset.\n",
      "\n",
      "\u001b[1mcomment:\n",
      "\n",
      "\u001b[0mSome cities use an appointed board with members of the public and other stakeholders to provide support and recommendations to the CDO.\n",
      "\n",
      "\u001b[1mcomment:\n",
      "\n",
      "\u001b[0mGreat idea. I would like to see how data is classified into private and public.\n"
     ]
    }
   ],
   "source": [
    "high_replies = likes_replies_analysis(2, 'reply_ids_count', all_cities_dataframe)"
   ]
  },
  {
   "cell_type": "code",
   "execution_count": 161,
   "metadata": {},
   "outputs": [
    {
     "data": {
      "text/html": [
       "<div>\n",
       "<style>\n",
       "    .dataframe thead tr:only-child th {\n",
       "        text-align: right;\n",
       "    }\n",
       "\n",
       "    .dataframe thead th {\n",
       "        text-align: left;\n",
       "    }\n",
       "\n",
       "    .dataframe tbody tr th {\n",
       "        vertical-align: top;\n",
       "    }\n",
       "</style>\n",
       "<table border=\"1\" class=\"dataframe\">\n",
       "  <thead>\n",
       "    <tr style=\"text-align: right;\">\n",
       "      <th></th>\n",
       "      <th>index</th>\n",
       "      <th>comment_id</th>\n",
       "      <th>author</th>\n",
       "      <th>datetime</th>\n",
       "      <th>num_likes</th>\n",
       "      <th>quoted_text</th>\n",
       "      <th>comment_text</th>\n",
       "      <th>comment_text_aux</th>\n",
       "      <th>reply_ids</th>\n",
       "      <th>reply_ids_count</th>\n",
       "      <th>city_name</th>\n",
       "      <th>Position</th>\n",
       "      <th>Company_name</th>\n",
       "      <th>Category_work</th>\n",
       "    </tr>\n",
       "  </thead>\n",
       "  <tbody>\n",
       "    <tr>\n",
       "      <th>0</th>\n",
       "      <td>11</td>\n",
       "      <td>E4-XFmN-hx8</td>\n",
       "      <td>Stephanie Perry</td>\n",
       "      <td>2017-01-24 21:35:45</td>\n",
       "      <td>0</td>\n",
       "      <td>paramount</td>\n",
       "      <td>Remove \"paramount.\" Privacy, confidentiality a...</td>\n",
       "      <td>&lt;p&gt;Remove \"paramount.\" Privacy, confidentialit...</td>\n",
       "      <td>[E4-XFmQX0U8, E4-XFmS4XPs]</td>\n",
       "      <td>2</td>\n",
       "      <td>Buffalo</td>\n",
       "      <td>Unknown</td>\n",
       "      <td>Unknown</td>\n",
       "      <td>Unknown</td>\n",
       "    </tr>\n",
       "    <tr>\n",
       "      <th>1</th>\n",
       "      <td>17</td>\n",
       "      <td>E4-XFksGPRs</td>\n",
       "      <td>Curtis Robbins</td>\n",
       "      <td>2017-01-24 18:01:32</td>\n",
       "      <td>2</td>\n",
       "      <td>residents, government leaders, businesses, res...</td>\n",
       "      <td>residents, government leaders, businesses, non...</td>\n",
       "      <td>&lt;p&gt;residents, government leaders, businesses, ...</td>\n",
       "      <td>[E4-XFkw6sfw, E4-XFk-iSC4]</td>\n",
       "      <td>2</td>\n",
       "      <td>Buffalo</td>\n",
       "      <td>Unknown</td>\n",
       "      <td>Unknown</td>\n",
       "      <td>Unknown</td>\n",
       "    </tr>\n",
       "    <tr>\n",
       "      <th>2</th>\n",
       "      <td>29</td>\n",
       "      <td>E4-XFi0e-l4</td>\n",
       "      <td>Peter Johnson</td>\n",
       "      <td>2017-01-24 04:06:27</td>\n",
       "      <td>0</td>\n",
       "      <td>nonproprietary</td>\n",
       "      <td>Not sure what this means for formats such as t...</td>\n",
       "      <td>&lt;p&gt;Not sure what this means for formats such a...</td>\n",
       "      <td>[E4-XFjtF_-E, E4-XFkB8kn4]</td>\n",
       "      <td>2</td>\n",
       "      <td>Buffalo</td>\n",
       "      <td>Researcher</td>\n",
       "      <td>University of Waterloo</td>\n",
       "      <td>Academia (private)</td>\n",
       "    </tr>\n",
       "  </tbody>\n",
       "</table>\n",
       "</div>"
      ],
      "text/plain": [
       "   index   comment_id           author            datetime num_likes  \\\n",
       "0     11  E4-XFmN-hx8  Stephanie Perry 2017-01-24 21:35:45         0   \n",
       "1     17  E4-XFksGPRs   Curtis Robbins 2017-01-24 18:01:32         2   \n",
       "2     29  E4-XFi0e-l4    Peter Johnson 2017-01-24 04:06:27         0   \n",
       "\n",
       "                                         quoted_text  \\\n",
       "0                                          paramount   \n",
       "1  residents, government leaders, businesses, res...   \n",
       "2                                     nonproprietary   \n",
       "\n",
       "                                        comment_text  \\\n",
       "0  Remove \"paramount.\" Privacy, confidentiality a...   \n",
       "1  residents, government leaders, businesses, non...   \n",
       "2  Not sure what this means for formats such as t...   \n",
       "\n",
       "                                    comment_text_aux  \\\n",
       "0  <p>Remove \"paramount.\" Privacy, confidentialit...   \n",
       "1  <p>residents, government leaders, businesses, ...   \n",
       "2  <p>Not sure what this means for formats such a...   \n",
       "\n",
       "                    reply_ids  reply_ids_count city_name    Position  \\\n",
       "0  [E4-XFmQX0U8, E4-XFmS4XPs]                2   Buffalo     Unknown   \n",
       "1  [E4-XFkw6sfw, E4-XFk-iSC4]                2   Buffalo     Unknown   \n",
       "2  [E4-XFjtF_-E, E4-XFkB8kn4]                2   Buffalo  Researcher   \n",
       "\n",
       "             Company_name       Category_work  \n",
       "0                 Unknown             Unknown  \n",
       "1                 Unknown             Unknown  \n",
       "2  University of Waterloo  Academia (private)  "
      ]
     },
     "execution_count": 161,
     "metadata": {},
     "output_type": "execute_result"
    }
   ],
   "source": [
    "high_replies.head(3)"
   ]
  },
  {
   "cell_type": "code",
   "execution_count": 150,
   "metadata": {
    "collapsed": true
   },
   "outputs": [],
   "source": [
    "high_replies_comments_count_city = high_replies.groupby(['city_name']).size().reset_index().rename(columns={0:'count'})"
   ]
  },
  {
   "cell_type": "code",
   "execution_count": 151,
   "metadata": {},
   "outputs": [
    {
     "data": {
      "text/html": [
       "<div>\n",
       "<style>\n",
       "    .dataframe thead tr:only-child th {\n",
       "        text-align: right;\n",
       "    }\n",
       "\n",
       "    .dataframe thead th {\n",
       "        text-align: left;\n",
       "    }\n",
       "\n",
       "    .dataframe tbody tr th {\n",
       "        vertical-align: top;\n",
       "    }\n",
       "</style>\n",
       "<table border=\"1\" class=\"dataframe\">\n",
       "  <thead>\n",
       "    <tr style=\"text-align: right;\">\n",
       "      <th></th>\n",
       "      <th>city_name</th>\n",
       "      <th>count</th>\n",
       "    </tr>\n",
       "  </thead>\n",
       "  <tbody>\n",
       "    <tr>\n",
       "      <th>0</th>\n",
       "      <td>Buffalo</td>\n",
       "      <td>13</td>\n",
       "    </tr>\n",
       "    <tr>\n",
       "      <th>1</th>\n",
       "      <td>Naperville</td>\n",
       "      <td>1</td>\n",
       "    </tr>\n",
       "    <tr>\n",
       "      <th>2</th>\n",
       "      <td>Syracuse</td>\n",
       "      <td>9</td>\n",
       "    </tr>\n",
       "  </tbody>\n",
       "</table>\n",
       "</div>"
      ],
      "text/plain": [
       "    city_name  count\n",
       "0     Buffalo     13\n",
       "1  Naperville      1\n",
       "2    Syracuse      9"
      ]
     },
     "execution_count": 151,
     "metadata": {},
     "output_type": "execute_result"
    }
   ],
   "source": [
    "high_replies_comments_count_city"
   ]
  },
  {
   "cell_type": "code",
   "execution_count": 152,
   "metadata": {
    "collapsed": true
   },
   "outputs": [],
   "source": [
    "replies_x = high_replies_comments_count_city['city_name'].tolist()\n",
    "replies_y = high_replies_comments_count_city['count'].tolist()"
   ]
  },
  {
   "cell_type": "markdown",
   "metadata": {},
   "source": [
    "#### stacked chart"
   ]
  },
  {
   "cell_type": "code",
   "execution_count": 199,
   "metadata": {},
   "outputs": [
    {
     "data": {
      "image/png": "[encoded data removed]",
      "text/plain": [
       "<matplotlib.figure.Figure at 0x10fc2b160>"
      ]
     },
     "metadata": {},
     "output_type": "display_data"
    }
   ],
   "source": [
    "likes_replies_chart('Number of comments', ('Likes', 'Replies'), 'Number of comments with 2 or more likes or replies', likes_x, likes_y, replies_x, replies_y, all_madison_dfs, \"likes_replies_analysis\")"
   ]
  },
  {
   "cell_type": "markdown",
   "metadata": {
    "collapsed": true
   },
   "source": [
    "# 6) Authors' analysis"
   ]
  },
  {
   "cell_type": "markdown",
   "metadata": {},
   "source": [
    "##### the following analysis was done after finding out details of the authors' on the internet (see authors_names.py)"
   ]
  },
  {
   "cell_type": "code",
   "execution_count": 43,
   "metadata": {
    "collapsed": true
   },
   "outputs": [],
   "source": [
    "authors_details_df = authors_details_dataframe(all_cities_dataframe)"
   ]
  },
  {
   "cell_type": "code",
   "execution_count": 44,
   "metadata": {},
   "outputs": [
    {
     "data": {
      "text/html": [
       "<div>\n",
       "<style>\n",
       "    .dataframe thead tr:only-child th {\n",
       "        text-align: right;\n",
       "    }\n",
       "\n",
       "    .dataframe thead th {\n",
       "        text-align: left;\n",
       "    }\n",
       "\n",
       "    .dataframe tbody tr th {\n",
       "        vertical-align: top;\n",
       "    }\n",
       "</style>\n",
       "<table border=\"1\" class=\"dataframe\">\n",
       "  <thead>\n",
       "    <tr style=\"text-align: right;\">\n",
       "      <th></th>\n",
       "      <th>comment_id</th>\n",
       "      <th>author</th>\n",
       "      <th>Position</th>\n",
       "      <th>Company_name</th>\n",
       "      <th>Category_work</th>\n",
       "      <th>datetime</th>\n",
       "      <th>num_likes</th>\n",
       "      <th>quoted_text</th>\n",
       "      <th>comment_text</th>\n",
       "      <th>comment_text_aux</th>\n",
       "      <th>reply_ids</th>\n",
       "      <th>city_name</th>\n",
       "    </tr>\n",
       "  </thead>\n",
       "  <tbody>\n",
       "    <tr>\n",
       "      <th>1</th>\n",
       "      <td>E4-XFnl1uKc</td>\n",
       "      <td>Aaron Lee</td>\n",
       "      <td>Software Developer</td>\n",
       "      <td>Solace Systems</td>\n",
       "      <td>Private</td>\n",
       "      <td>2017-01-25 04:32:19</td>\n",
       "      <td>2</td>\n",
       "      <td>None</td>\n",
       "      <td>I am in support of the proposed policy to furt...</td>\n",
       "      <td>&lt;p&gt;I am in support of the proposed policy to f...</td>\n",
       "      <td>[]</td>\n",
       "      <td>Buffalo</td>\n",
       "    </tr>\n",
       "    <tr>\n",
       "      <th>2</th>\n",
       "      <td>E4-XFnjG3Ac</td>\n",
       "      <td>Aaron Lee</td>\n",
       "      <td>Software Developer</td>\n",
       "      <td>Solace Systems</td>\n",
       "      <td>Private</td>\n",
       "      <td>2017-01-25 04:25:20</td>\n",
       "      <td>0</td>\n",
       "      <td>public participation by providing regular oppo...</td>\n",
       "      <td>I would be interested to see this more finely ...</td>\n",
       "      <td>&lt;p&gt;I would be interested to see this more fine...</td>\n",
       "      <td>[]</td>\n",
       "      <td>Buffalo</td>\n",
       "    </tr>\n",
       "  </tbody>\n",
       "</table>\n",
       "</div>"
      ],
      "text/plain": [
       "    comment_id     author            Position    Company_name Category_work  \\\n",
       "1  E4-XFnl1uKc  Aaron Lee  Software Developer  Solace Systems       Private   \n",
       "2  E4-XFnjG3Ac  Aaron Lee  Software Developer  Solace Systems       Private   \n",
       "\n",
       "             datetime num_likes  \\\n",
       "1 2017-01-25 04:32:19         2   \n",
       "2 2017-01-25 04:25:20         0   \n",
       "\n",
       "                                         quoted_text  \\\n",
       "1                                               None   \n",
       "2  public participation by providing regular oppo...   \n",
       "\n",
       "                                        comment_text  \\\n",
       "1  I am in support of the proposed policy to furt...   \n",
       "2  I would be interested to see this more finely ...   \n",
       "\n",
       "                                    comment_text_aux reply_ids city_name  \n",
       "1  <p>I am in support of the proposed policy to f...        []   Buffalo  \n",
       "2  <p>I would be interested to see this more fine...        []   Buffalo  "
      ]
     },
     "execution_count": 44,
     "metadata": {},
     "output_type": "execute_result"
    }
   ],
   "source": [
    "authors_details_df.head(2)"
   ]
  },
  {
   "cell_type": "markdown",
   "metadata": {},
   "source": [
    "##### count just positions"
   ]
  },
  {
   "cell_type": "code",
   "execution_count": 40,
   "metadata": {},
   "outputs": [
    {
     "data": {
      "text/html": [
       "<div>\n",
       "<style>\n",
       "    .dataframe thead tr:only-child th {\n",
       "        text-align: right;\n",
       "    }\n",
       "\n",
       "    .dataframe thead th {\n",
       "        text-align: left;\n",
       "    }\n",
       "\n",
       "    .dataframe tbody tr th {\n",
       "        vertical-align: top;\n",
       "    }\n",
       "</style>\n",
       "<table border=\"1\" class=\"dataframe\">\n",
       "  <thead>\n",
       "    <tr style=\"text-align: right;\">\n",
       "      <th></th>\n",
       "      <th>index</th>\n",
       "      <th>Position</th>\n",
       "      <th>count</th>\n",
       "    </tr>\n",
       "  </thead>\n",
       "  <tbody>\n",
       "    <tr>\n",
       "      <th>0</th>\n",
       "      <td>27</td>\n",
       "      <td>Unknown</td>\n",
       "      <td>27</td>\n",
       "    </tr>\n",
       "    <tr>\n",
       "      <th>1</th>\n",
       "      <td>21</td>\n",
       "      <td>Software Developer</td>\n",
       "      <td>7</td>\n",
       "    </tr>\n",
       "    <tr>\n",
       "      <th>2</th>\n",
       "      <td>3</td>\n",
       "      <td>Civic Technologist</td>\n",
       "      <td>4</td>\n",
       "    </tr>\n",
       "    <tr>\n",
       "      <th>3</th>\n",
       "      <td>19</td>\n",
       "      <td>Researcher</td>\n",
       "      <td>2</td>\n",
       "    </tr>\n",
       "    <tr>\n",
       "      <th>4</th>\n",
       "      <td>1</td>\n",
       "      <td>Assistant Professor</td>\n",
       "      <td>2</td>\n",
       "    </tr>\n",
       "  </tbody>\n",
       "</table>\n",
       "</div>"
      ],
      "text/plain": [
       "   index             Position  count\n",
       "0     27              Unknown     27\n",
       "1     21   Software Developer      7\n",
       "2      3   Civic Technologist      4\n",
       "3     19           Researcher      2\n",
       "4      1  Assistant Professor      2"
      ]
     },
     "execution_count": 40,
     "metadata": {},
     "output_type": "execute_result"
    }
   ],
   "source": [
    "count_positions = authors_details_df.drop_duplicates('author').reset_index()\n",
    "count_just_positions = authors_details_analysis('Position', count_positions)\n",
    "count_just_positions.head()"
   ]
  },
  {
   "cell_type": "code",
   "execution_count": 41,
   "metadata": {},
   "outputs": [
    {
     "data": {
      "image/png": "[encoded data removed]",
      "text/plain": [
       "<matplotlib.figure.Figure at 0x110d47d30>"
      ]
     },
     "metadata": {},
     "output_type": "display_data"
    }
   ],
   "source": [
    "horizontal_bar_from_dataframe(count_just_positions.head(7), \"Position\", \"count\", \"Number of people\")"
   ]
  },
  {
   "cell_type": "markdown",
   "metadata": {},
   "source": [
    " ##### count just categories"
   ]
  },
  {
   "cell_type": "code",
   "execution_count": 42,
   "metadata": {},
   "outputs": [
    {
     "data": {
      "text/html": [
       "<div>\n",
       "<style>\n",
       "    .dataframe thead tr:only-child th {\n",
       "        text-align: right;\n",
       "    }\n",
       "\n",
       "    .dataframe thead th {\n",
       "        text-align: left;\n",
       "    }\n",
       "\n",
       "    .dataframe tbody tr th {\n",
       "        vertical-align: top;\n",
       "    }\n",
       "</style>\n",
       "<table border=\"1\" class=\"dataframe\">\n",
       "  <thead>\n",
       "    <tr style=\"text-align: right;\">\n",
       "      <th></th>\n",
       "      <th>index</th>\n",
       "      <th>Category_work</th>\n",
       "      <th>count</th>\n",
       "    </tr>\n",
       "  </thead>\n",
       "  <tbody>\n",
       "    <tr>\n",
       "      <th>0</th>\n",
       "      <td>6</td>\n",
       "      <td>Unknown</td>\n",
       "      <td>28</td>\n",
       "    </tr>\n",
       "    <tr>\n",
       "      <th>1</th>\n",
       "      <td>3</td>\n",
       "      <td>Private</td>\n",
       "      <td>13</td>\n",
       "    </tr>\n",
       "    <tr>\n",
       "      <th>2</th>\n",
       "      <td>1</td>\n",
       "      <td>Government</td>\n",
       "      <td>10</td>\n",
       "    </tr>\n",
       "    <tr>\n",
       "      <th>3</th>\n",
       "      <td>0</td>\n",
       "      <td>Academia (private)</td>\n",
       "      <td>7</td>\n",
       "    </tr>\n",
       "    <tr>\n",
       "      <th>4</th>\n",
       "      <td>2</td>\n",
       "      <td>Not-for-profit</td>\n",
       "      <td>4</td>\n",
       "    </tr>\n",
       "    <tr>\n",
       "      <th>5</th>\n",
       "      <td>5</td>\n",
       "      <td>Public</td>\n",
       "      <td>2</td>\n",
       "    </tr>\n",
       "    <tr>\n",
       "      <th>6</th>\n",
       "      <td>4</td>\n",
       "      <td>Private/Cybersecurity</td>\n",
       "      <td>1</td>\n",
       "    </tr>\n",
       "  </tbody>\n",
       "</table>\n",
       "</div>"
      ],
      "text/plain": [
       "   index          Category_work  count\n",
       "0      6                Unknown     28\n",
       "1      3                Private     13\n",
       "2      1             Government     10\n",
       "3      0     Academia (private)      7\n",
       "4      2         Not-for-profit      4\n",
       "5      5                 Public      2\n",
       "6      4  Private/Cybersecurity      1"
      ]
     },
     "execution_count": 42,
     "metadata": {},
     "output_type": "execute_result"
    }
   ],
   "source": [
    "count_just_categories = authors_details_analysis('Category_work', count_positions)\n",
    "count_just_categories"
   ]
  },
  {
   "cell_type": "code",
   "execution_count": 43,
   "metadata": {},
   "outputs": [
    {
     "data": {
      "image/png": "[encoded data removed]",
      "text/plain": [
       "<matplotlib.figure.Figure at 0x110ad0da0>"
      ]
     },
     "metadata": {},
     "output_type": "display_data"
    }
   ],
   "source": [
    "horizontal_bar_from_dataframe(count_just_categories, \"Category_work\", \"count\", \"Number of people\")"
   ]
  },
  {
   "cell_type": "markdown",
   "metadata": {},
   "source": [
    "####  Position with city-wise analysis"
   ]
  },
  {
   "cell_type": "code",
   "execution_count": 44,
   "metadata": {
    "collapsed": true
   },
   "outputs": [],
   "source": [
    "count_positions1 = count_positions.groupby(['Position', 'city_name']).size().reset_index().rename(columns={0:'count'})"
   ]
  },
  {
   "cell_type": "code",
   "execution_count": 45,
   "metadata": {
    "collapsed": true
   },
   "outputs": [],
   "source": [
    "count_positions2 = count_positions1.sort_values(['city_name', 'count'], ascending=False)"
   ]
  },
  {
   "cell_type": "code",
   "execution_count": 46,
   "metadata": {
    "collapsed": true
   },
   "outputs": [],
   "source": [
    "# select only top two positions in each city\n",
    "count_positions3 = count_positions2.groupby('city_name').head(2)"
   ]
  },
  {
   "cell_type": "code",
   "execution_count": 47,
   "metadata": {},
   "outputs": [
    {
     "data": {
      "text/html": [
       "<div>\n",
       "<style>\n",
       "    .dataframe thead tr:only-child th {\n",
       "        text-align: right;\n",
       "    }\n",
       "\n",
       "    .dataframe thead th {\n",
       "        text-align: left;\n",
       "    }\n",
       "\n",
       "    .dataframe tbody tr th {\n",
       "        vertical-align: top;\n",
       "    }\n",
       "</style>\n",
       "<table border=\"1\" class=\"dataframe\">\n",
       "  <thead>\n",
       "    <tr style=\"text-align: right;\">\n",
       "      <th></th>\n",
       "      <th>Position</th>\n",
       "      <th>city_name</th>\n",
       "      <th>count</th>\n",
       "    </tr>\n",
       "  </thead>\n",
       "  <tbody>\n",
       "    <tr>\n",
       "      <th>37</th>\n",
       "      <td>Unknown</td>\n",
       "      <td>Tyler</td>\n",
       "      <td>3</td>\n",
       "    </tr>\n",
       "    <tr>\n",
       "      <th>36</th>\n",
       "      <td>Unknown</td>\n",
       "      <td>Syracuse</td>\n",
       "      <td>5</td>\n",
       "    </tr>\n",
       "    <tr>\n",
       "      <th>25</th>\n",
       "      <td>Software Developer</td>\n",
       "      <td>Syracuse</td>\n",
       "      <td>2</td>\n",
       "    </tr>\n",
       "    <tr>\n",
       "      <th>10</th>\n",
       "      <td>Director for Open Participation and Communities</td>\n",
       "      <td>San Francisco</td>\n",
       "      <td>1</td>\n",
       "    </tr>\n",
       "    <tr>\n",
       "      <th>35</th>\n",
       "      <td>Unknown</td>\n",
       "      <td>San Francisco</td>\n",
       "      <td>1</td>\n",
       "    </tr>\n",
       "    <tr>\n",
       "      <th>24</th>\n",
       "      <td>Software Developer</td>\n",
       "      <td>Nashville</td>\n",
       "      <td>1</td>\n",
       "    </tr>\n",
       "    <tr>\n",
       "      <th>28</th>\n",
       "      <td>Statistician</td>\n",
       "      <td>Nashville</td>\n",
       "      <td>1</td>\n",
       "    </tr>\n",
       "    <tr>\n",
       "      <th>5</th>\n",
       "      <td>Civic Technologist</td>\n",
       "      <td>Naperville</td>\n",
       "      <td>3</td>\n",
       "    </tr>\n",
       "    <tr>\n",
       "      <th>3</th>\n",
       "      <td>Chief Data Officer</td>\n",
       "      <td>Naperville</td>\n",
       "      <td>1</td>\n",
       "    </tr>\n",
       "    <tr>\n",
       "      <th>32</th>\n",
       "      <td>Unknown</td>\n",
       "      <td>Glendale</td>\n",
       "      <td>7</td>\n",
       "    </tr>\n",
       "    <tr>\n",
       "      <th>7</th>\n",
       "      <td>Data Journalist</td>\n",
       "      <td>Glendale</td>\n",
       "      <td>1</td>\n",
       "    </tr>\n",
       "    <tr>\n",
       "      <th>15</th>\n",
       "      <td>Open Data Program Manager</td>\n",
       "      <td>Durham</td>\n",
       "      <td>1</td>\n",
       "    </tr>\n",
       "    <tr>\n",
       "      <th>31</th>\n",
       "      <td>Unknown</td>\n",
       "      <td>Buffalo</td>\n",
       "      <td>9</td>\n",
       "    </tr>\n",
       "    <tr>\n",
       "      <th>23</th>\n",
       "      <td>Software Developer</td>\n",
       "      <td>Buffalo</td>\n",
       "      <td>4</td>\n",
       "    </tr>\n",
       "    <tr>\n",
       "      <th>9</th>\n",
       "      <td>Director</td>\n",
       "      <td>Bart</td>\n",
       "      <td>1</td>\n",
       "    </tr>\n",
       "  </tbody>\n",
       "</table>\n",
       "</div>"
      ],
      "text/plain": [
       "                                           Position      city_name  count\n",
       "37                                          Unknown          Tyler      3\n",
       "36                                          Unknown       Syracuse      5\n",
       "25                               Software Developer       Syracuse      2\n",
       "10  Director for Open Participation and Communities  San Francisco      1\n",
       "35                                          Unknown  San Francisco      1\n",
       "24                               Software Developer      Nashville      1\n",
       "28                                     Statistician      Nashville      1\n",
       "5                                Civic Technologist     Naperville      3\n",
       "3                                Chief Data Officer     Naperville      1\n",
       "32                                          Unknown       Glendale      7\n",
       "7                                   Data Journalist       Glendale      1\n",
       "15                        Open Data Program Manager         Durham      1\n",
       "31                                          Unknown        Buffalo      9\n",
       "23                               Software Developer        Buffalo      4\n",
       "9                                          Director           Bart      1"
      ]
     },
     "execution_count": 47,
     "metadata": {},
     "output_type": "execute_result"
    }
   ],
   "source": [
    "count_positions3"
   ]
  },
  {
   "cell_type": "code",
   "execution_count": 48,
   "metadata": {
    "collapsed": true
   },
   "outputs": [],
   "source": [
    "position_list = count_positions3['Position'].tolist()\n",
    "city_list = count_positions['city_name'].unique().tolist()"
   ]
  },
  {
   "cell_type": "code",
   "execution_count": 49,
   "metadata": {},
   "outputs": [
    {
     "data": {
      "image/png": "[encoded data removed]",
      "text/plain": [
       "<matplotlib.figure.Figure at 0x11117d080>"
      ]
     },
     "metadata": {},
     "output_type": "display_data"
    }
   ],
   "source": [
    "horizontal_stacked_bar_from_dataframe(count_positions3, \"city_name\", \"Position\", \"count\", \"Number of people\", \"who-comments-the-most\")"
   ]
  },
  {
   "cell_type": "markdown",
   "metadata": {},
   "source": [
    "### are technical authors saying only technical things?"
   ]
  },
  {
   "cell_type": "code",
   "execution_count": 54,
   "metadata": {
    "collapsed": true
   },
   "outputs": [],
   "source": [
    "technical_positions = ['Software Developer', 'Data Scientist', 'Statistician', 'Chief Data Officer', 'Data Journalist']"
   ]
  },
  {
   "cell_type": "code",
   "execution_count": 63,
   "metadata": {
    "scrolled": false
   },
   "outputs": [
    {
     "name": "stdout",
     "output_type": "stream",
     "text": [
      "\u001b[1mCity: Buffalo\n",
      "\u001b[0mPosition: Software Developer\n",
      "\u001b[1mComment text: I am in support of the proposed policy to further enable data and subsequent knowledge sharing. I agree with fellow contributors that it would be beneficial to see more detailed outlines for the specific process that is going to enable community members to contribute to the Open Data portal by creating, uploading and verifying data sets to be published. Myself and colleagues have created a number of valuable data sets that could be beneficial across city departments, community organizations and individual interests. Understanding that only data sets meeting the standards set forth as a result of this policy will be accepted, we can collaboratively drive the understanding of our community from all perspectives.\n",
      "\n",
      "\u001b[1mCity: Buffalo\n",
      "\u001b[0mPosition: Software Developer\n",
      "\u001b[1mComment text: I would be interested to see this more finely documented. It would be great to have a living, breathering process that community members could submit data sets that they have created (required to meet the data standards set forth by the Open Data Policy) for verification and publication to the open data portal within a timely manner. Individuals in the community may have greater flexibility and time to produce unique data sets pertinent to acute challenges and enable broader understanding in a more timely manner.\n",
      "\n",
      "\u001b[1mCity: Buffalo\n",
      "\u001b[0mPosition: Software Developer\n",
      "\u001b[1mComment text: \"records\" seems overly broad here.\n",
      "\n",
      "\u001b[1mCity: Buffalo\n",
      "\u001b[0mPosition: Software Developer\n",
      "\u001b[1mComment text: Perhaps a section of the central repository should host all the data that was released in response to FOIL requests. It would provide wider access to this data and could serve as a means to solicit public feedback on the relative priority of establishing a more formal release of the dataset (with relevant metadata and scheduled refreshes of the data).\n",
      "\n",
      "\u001b[1mCity: Buffalo\n",
      "\u001b[0mPosition: Software Developer\n",
      "\u001b[1mComment text: This document fails to require the sharing of the source code of the open data tools. \"Require Code Sharing Or Publishing Open Source\" is a recommendation of Sunlight Foundation https://sunlightfoundation.com/opendataguidelines/#open-code . Sharing the source code allows citizens to help contribute to the tools making the data public, allows citizens access to the tools for which they are paying, and allows other government agencies as well citizens to benefit from improvements made on behalf of Buffalo.\n",
      "\n",
      "\u001b[1mCity: Glendale\n",
      "\u001b[0mPosition: Data Journalist\n",
      "\u001b[1mComment text: This, to me, is a key aspect of the value proposition, and it deserves emphasizing. By having agencies upload data to a centralized repository, it allows mashups, composite takes and easy comparison.\n",
      "\n",
      "\u001b[1mCity: Nashville\n",
      "\u001b[0mPosition: Software Developer\n",
      "\u001b[1mComment text: Section IX, item 4:\n",
      "Given the requirement to provide credit or attribution, this section is unclear on the acceptable forms of attribution and to whom the attribution applies.For example, would a user of the Street Sweeping Schedule dataset (https://data.nashville.gov/Beautification/Metro-Water-Services-Current-Street-Sweeping-Sched/p9iq-sxk3) should attribution marks/text say \"Metro Water Services\" or \"Metro Government\"?Possible Solution: Change Section IX, Item 4 to say: \"Metropolitan Government requests that when content, data, documentation, code, and related materials from https://data.nashville.gov is used, proper credit or attribution be given to the originating Department or 'Metropolitan Government of Nashville and Davidson County', whichever is the most specific and accurate.\"Moreover, it'll probably be a good idea to say that use of the 'Metropolitan Government of Nashville and Davidson County' seal is not an acceptable form of attribution.\n",
      "\n",
      "\u001b[1mCity: Nashville\n",
      "\u001b[0mPosition: Software Developer\n",
      "\u001b[1mComment text: Will there be a follow-up document describing how best to give attribution?\n",
      "\n",
      "\u001b[1mCity: Nashville\n",
      "\u001b[0mPosition: Software Developer\n",
      "\u001b[1mComment text: Awesome!\n",
      "\n",
      "\u001b[1mCity: Nashville\n",
      "\u001b[0mPosition: Statistician\n",
      "\u001b[1mComment text: I'm so glad that Metro is heading in a more open, transparent direction - and love the idea of Open Data Workshops and public/private partnerships.\n",
      "\n",
      "\u001b[1mCity: Nashville\n",
      "\u001b[0mPosition: Statistician\n",
      "\u001b[1mComment text: Cheers for this!\n",
      "\n",
      "\u001b[1mCity: Syracuse\n",
      "\u001b[0mPosition: Software Developer\n",
      "\u001b[1mComment text: Does this only cover data released after this policy goes into effect, or is this retroactive to a certain point in time?\n",
      "\n",
      "\u001b[1mCity: Syracuse\n",
      "\u001b[0mPosition: Software Developer\n",
      "\u001b[1mComment text: This is an auspicious initiative with a tremendous amount of potential. Developers are hungry to get their hands on this data. The more open data we can provide to our local developer community, the more opportunities we'll have to uncover creative solutions to challenging problems.\n",
      "\n",
      "\u001b[1mCity: Naperville\n",
      "\u001b[0mPosition: Chief Data Officer\n",
      "\u001b[1mComment text: What about citation?\n",
      "\n",
      "\u001b[1mCity: Naperville\n",
      "\u001b[0mPosition: Chief Data Officer\n",
      "\u001b[1mComment text: Datasets should also be analyzed and improved to be customer friendly.\n",
      "\n",
      "\u001b[1mCity: Naperville\n",
      "\u001b[0mPosition: Chief Data Officer\n",
      "\u001b[1mComment text: Measure \"and publicly report\"\n",
      "\n",
      "\u001b[1mCity: Naperville\n",
      "\u001b[0mPosition: Chief Data Officer\n",
      "\u001b[1mComment text: Metadata helps users understand a dataset\n",
      "\n",
      "\u001b[1mCity: Naperville\n",
      "\u001b[0mPosition: Chief Data Officer\n",
      "\u001b[1mComment text: API's are not a data format.\n",
      "\n"
     ]
    }
   ],
   "source": [
    "for index, row in authors_details_df.iterrows():\n",
    "    if row['Position'] in technical_positions:\n",
    "        print('\\033[1m' + \"City:\", row['city_name'])\n",
    "        print('\\033[0m' + \"Position:\", row['Position'])\n",
    "        print('\\033[1m' + \"Comment text:\", row['comment_text'])\n",
    "        print()"
   ]
  },
  {
   "cell_type": "code",
   "execution_count": 60,
   "metadata": {
    "collapsed": true
   },
   "outputs": [],
   "source": [
    "# eye-balling activity\n",
    "\n",
    "technical_issues_by_tech_ppl_categories = ['Technical', 'Data Governance Committee', 'Utility']\n",
    "technical_issues_by_tech_ppl_count = [9, 2, 2]"
   ]
  },
  {
   "cell_type": "code",
   "execution_count": 61,
   "metadata": {},
   "outputs": [
    {
     "data": {
      "image/png": "[encoded data removed]",
      "text/plain": [
       "<matplotlib.figure.Figure at 0x10fa68b38>"
      ]
     },
     "metadata": {},
     "output_type": "display_data"
    }
   ],
   "source": [
    "horizontal_bar(technical_issues_by_tech_ppl_categories, technical_issues_by_tech_ppl_count, \"Number of comments\", \"Categories of comments made by people with technical backgrounds\")"
   ]
  },
  {
   "cell_type": "markdown",
   "metadata": {},
   "source": [
    "### what are researchers/academics saying?"
   ]
  },
  {
   "cell_type": "code",
   "execution_count": 62,
   "metadata": {},
   "outputs": [
    {
     "data": {
      "text/plain": [
       "'\\nfor index, row in authors_details_df.iterrows():\\n    if row[\\'Category_work\\'] == \"Private\":\\n        print(\\'\\x1b[1m\\' + \"City:\", row[\\'city_name\\'])\\n        print(\\'\\x1b[0m\\' + \"Position:\", row[\\'Position\\'])\\n        print(\\'\\x1b[0m\\' + \"Company name:\", row[\\'Company_name\\'])\\n        print(\\'\\x1b[1m\\' + \"Comment text:\", row[\\'comment_text\\'])\\n        print()\\n'"
      ]
     },
     "execution_count": 62,
     "metadata": {},
     "output_type": "execute_result"
    }
   ],
   "source": [
    "'''\n",
    "for index, row in authors_details_df.iterrows():\n",
    "    if row['Category_work'] == \"Private\":\n",
    "        print('\\033[1m' + \"City:\", row['city_name'])\n",
    "        print('\\033[0m' + \"Position:\", row['Position'])\n",
    "        print('\\033[0m' + \"Company name:\", row['Company_name'])\n",
    "        print('\\033[1m' + \"Comment text:\", row['comment_text'])\n",
    "        print()\n",
    "'''"
   ]
  },
  {
   "cell_type": "markdown",
   "metadata": {},
   "source": [
    "# 7) Support vs. Rejection Count"
   ]
  },
  {
   "cell_type": "code",
   "execution_count": 18,
   "metadata": {
    "collapsed": true
   },
   "outputs": [],
   "source": [
    "support, rejection, cities = support_n_rejection_analysis(all_madison_dfs)"
   ]
  },
  {
   "cell_type": "code",
   "execution_count": 19,
   "metadata": {},
   "outputs": [
    {
     "data": {
      "image/png": "[encoded data removed]",
      "text/plain": [
       "<matplotlib.figure.Figure at 0x1108e7c88>"
      ]
     },
     "metadata": {},
     "output_type": "display_data"
    }
   ],
   "source": [
    "likes_replies_chart('Number of people', ('Support', 'Rejection'), 'Support vs. Rejection Count', cities, support, cities, rejection, all_madison_dfs, None)"
   ]
  }
 ],
 "metadata": {
  "kernelspec": {
   "display_name": "Python 3",
   "language": "python",
   "name": "python3"
  },
  "language_info": {
   "codemirror_mode": {
    "name": "ipython",
    "version": 3
   },
   "file_extension": ".py",
   "mimetype": "text/x-python",
   "name": "python",
   "nbconvert_exporter": "python",
   "pygments_lexer": "ipython3",
   "version": "3.5.3"
  }
 },
 "nbformat": 4,
 "nbformat_minor": 2
}
