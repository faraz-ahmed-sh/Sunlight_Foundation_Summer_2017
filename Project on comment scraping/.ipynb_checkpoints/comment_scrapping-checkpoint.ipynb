{
 "cells": [
  {
   "cell_type": "code",
   "execution_count": 685,
   "metadata": {
    "collapsed": true
   },
   "outputs": [],
   "source": [
    "# CS122: Course Search Engine Part 1\n",
    "\n",
    "import re\n",
    "import util\n",
    "import bs4\n",
    "import queue\n",
    "import json\n",
    "import sys\n",
    "import csv\n",
    "import urllib\n",
    "import collections\n",
    "\n",
    "starting_url = \"https://mymadison.io/documents/city-of-buffalo-open-data-policy?comment_page=1\"\n",
    "#limiting_domain = \"classes.cs.uchicago.edu\""
   ]
  },
  {
   "cell_type": "code",
   "execution_count": 686,
   "metadata": {
    "collapsed": true
   },
   "outputs": [],
   "source": [
    "def simple_crawl(starting_url):\n",
    "    '''\n",
    "    Scrapes the full webpage from a starting url.\n",
    "\n",
    "    Inputs:\n",
    "        starting_url: string\n",
    "    Returns:\n",
    "        a soup object\n",
    "    '''    \n",
    "    page = urllib.request.urlopen(starting_url)\n",
    "    if page is not None:\n",
    "        soup = bs4.BeautifulSoup(page, \"lxml\")\n",
    "        return soup"
   ]
  },
  {
   "cell_type": "code",
   "execution_count": 687,
   "metadata": {},
   "outputs": [],
   "source": [
    "#\n",
    "\n",
    "def name_tags(starting_url):\n",
    "    soup = simple_crawl(starting_url)\n",
    "    commentators = soup.findAll(\"h4\", class_=\"media-heading\")\n",
    "    \n",
    "    names = []\n",
    "    times = []  \n",
    "    commented_comments = []\n",
    "    actual_comments = []\n",
    "    \n",
    "    for tag in commentators:\n",
    "        \n",
    "        name = tag.find(\"span\")\n",
    "        name_text = name.string.strip()\n",
    "        names.append(name_text)\n",
    "        #print(name_text)\n",
    "        #dictionary[name_text] = []\n",
    "        #print(name.text)\n",
    "         \n",
    "        time = tag.find(\"time\").extract()\n",
    "        times.append(time)\n",
    "        \n",
    "        #dictionary[name_text].append(time)\n",
    "        #print(time)\n",
    "        \n",
    "    \n",
    "    comments = soup.find_all(\"div\", class_=\"comment-content\")\n",
    "    \n",
    "    dictionary_2 = collections.OrderedDict()\n",
    "    number = 1\n",
    "    for t in comments:\n",
    "        if t.string is None:\n",
    "            dictionary_2[number] = []\n",
    "            for child in t.children:\n",
    "                comment = child.string\n",
    "                \n",
    "                if comment is None:\n",
    "                    commented_comment = child.find(\"p\")\n",
    "                    commented_comment_text = commented_comment.text\n",
    "                    #commented_comments.append(commented_comment_text)\n",
    "                    #actual_comments.append(\"skip\")\n",
    "                    dictionary_2[number].append((\"commented comment\", commented_comment_text))\n",
    "\n",
    "                else:\n",
    "                    if comment != '\\n':\n",
    "                        dictionary_2[number].append(comment)\n",
    "\n",
    "            number += 1\n",
    "            \n",
    "    return dictionary_2, names, times"
   ]
  },
  {
   "cell_type": "code",
   "execution_count": null,
   "metadata": {
    "collapsed": true
   },
   "outputs": [],
   "source": []
  },
  {
   "cell_type": "code",
   "execution_count": null,
   "metadata": {
    "collapsed": true
   },
   "outputs": [],
   "source": []
  },
  {
   "cell_type": "code",
   "execution_count": null,
   "metadata": {
    "collapsed": true
   },
   "outputs": [],
   "source": []
  },
  {
   "cell_type": "code",
   "execution_count": null,
   "metadata": {
    "collapsed": true
   },
   "outputs": [],
   "source": []
  },
  {
   "cell_type": "code",
   "execution_count": null,
   "metadata": {
    "collapsed": true
   },
   "outputs": [],
   "source": []
  },
  {
   "cell_type": "code",
   "execution_count": null,
   "metadata": {
    "collapsed": true
   },
   "outputs": [],
   "source": []
  },
  {
   "cell_type": "code",
   "execution_count": 683,
   "metadata": {},
   "outputs": [],
   "source": [
    "dict1, names, times = name_tags(starting_url)"
   ]
  },
  {
   "cell_type": "code",
   "execution_count": 684,
   "metadata": {},
   "outputs": [
    {
     "data": {
      "text/plain": [
       "OrderedDict([(1,\n",
       "              ['I am in support of the proposed policy to further enable data and subsequent knowledge sharing. I agree with fellow contributors that it would be beneficial to see more detailed outlines for the specific process that is going to enable community members to contribute to the Open Data portal by creating, uploading and verifying data sets to be published. Myself and colleagues have created a number of valuable data sets that could be beneficial across city departments, community organizations and individual interests. Understanding that only data sets meeting the standards set forth as a result of this policy will be accepted, we can collaboratively drive the understanding of our community from all perspectives.']),\n",
       "             (2,\n",
       "              [('commented comment',\n",
       "                'public participation by providing regular opportunities for feedback and collaboration'),\n",
       "               'I would be interested to see this more finely documented. It would be great to have a living, breathering process that community members could submit data sets that they have created (required to meet the data standards set forth by the Open Data Policy) for verification and publication to the open data portal within a timely manner. Individuals in the community may have greater flexibility and time to produce unique data sets pertinent to acute challenges and enable broader understanding in a more timely manner.']),\n",
       "             (3,\n",
       "              ['I strongly support the proposed policy, with a recognition of the outstanding contributions that have already been made by other residents, citizens, and interested parties.',\n",
       "               \"Many thanks to the City of Buffalo for leading this effort. Most of my comments are within the document itself, but I do agree with other comments below that emphasize the need for substantial citizen involvement in governance, application, and oversight. During the RFP process, I would encourage the city to include not only requirements for a portal, but also an iterative feedback/improvement process with residents and regular data users so that the city's investment in this system can produce tangible use cases and real benefits to our city and its people.\",\n",
       "               'The Department of Citizen Services should also be commended for their use of the collaborative policymaking platform. In the age of the internet, this is an excellent way to increase public participation in these types of processes. Many thanks for this opportunity.']),\n",
       "             (4,\n",
       "              [('commented comment',\n",
       "                'Publish high quality, updated data with documentation'),\n",
       "               'Can the portal include an option for community members/partners to publish their own data to a section of the site? Provided it adheres to a set of minimum standards and passes review.']),\n",
       "             (5,\n",
       "              [('commented comment',\n",
       "                'limitations on the disclosure of public information'),\n",
       "               'It may be a helpful option to include a repository of FOIL requests and responses (whatever is able to be centralized), as well as an option to automate or streamline the FOIL request process via the portal interface.']),\n",
       "             (6,\n",
       "              [('commented comment', 'Open Data Governance Committee'),\n",
       "               'Minutes from any and all meetings of this committee should be made available in machine-readable formats in an easily-accessible location (including within the open data system)']),\n",
       "             (7,\n",
       "              [('commented comment',\n",
       "                'and will include input from the public.'),\n",
       "               'A Citizens Advisory Committee can be designated (appointments by mayor, council members) to support the Governance Committee in the areas of reviewing datasets to be published, hosting events for public feedback and participation, facilitating collaborations, facilitating use of the portal, expanding awareness of open data resources and applications, as well as defining and regularly reviewing the data standards governance document.']),\n",
       "             (8,\n",
       "              [('commented comment', 'opportunity'),\n",
       "               'equitable access to opportunity (open data can help move us closer to this goal)']),\n",
       "             (9,\n",
       "              [('commented comment', 'how the data is being used'),\n",
       "               'This part of the reporting should make specific reference to the three goals articulated in Section \"Open Data Program\", part 6: government efficiency, improved quality of life, and expanded economic opportunities.']),\n",
       "             (10,\n",
       "              [('commented comment',\n",
       "                \"Encourage innovative uses of the City's publishable non-privileged and non-confidential data by departments, the public, and other partners; and\"),\n",
       "               'The open data system should include a space for showcasing the innovative ways in which city data are used by these various stakeholders.']),\n",
       "             (11,\n",
       "              ['Agreed, the state does something similar on their portal. I know they showcase apps that utilize their provided data.']),\n",
       "             (12,\n",
       "              [('commented comment', 'paramount'),\n",
       "               'Remove \"paramount.\" Privacy, confidentiality and security should be considerations when determining whether data should be open, but they should not be presumed to be paramount and therefore superior to the public\\'s right to know.']),\n",
       "             (13,\n",
       "              ['I strongly support the spirit of this policy and the efforts made toward ensuring free public access to data information and government transparency. As a private citizen and freelance writer and researcher, I support the timely adoption and implementation of this policy.',\n",
       "               'The following are my concerns with the policy as it now stands:',\n",
       "               'The policy should encourage and, when possible, mandate the collection and dissemination of information collected by non-city and quasi-governmental agencies such as the NFTA, BMHA, Buffalo Place, the Buffalo Olmsted Parks Conservancy, hospital campuses, institutions of higher education and other organizations providing public services such as park maintenance, policing and security, transportation and education services. In particular, public safety information from police and security forces managed by Buffalo Place, medical and college campuses and the NFTA should be subject to the open data policy.',\n",
       "               'When information is unavailable due to its privileged status, it should be made available in the aggregate whenever possible. e.g., motor vehicle incident reports are not public per NYS law but should be presented to the public in an anonymized or aggregate form.']),\n",
       "             (14,\n",
       "              ['The following comment is submitted on behalf of the Public Accountability Initiative:',\n",
       "               'The Public Accountability Initiative (PAI) is a non-profit educational group focused on transparency and accountability headquartered in the City of Buffalo. PAI operates a research platform, LittleSis.org, that brings together information obtained through public records for use by journalists, academics, and activists as well as the general public. Access to current government information is paramount to PAI’s work and to meaningful participation in a democracy. As such, PAI endorses the goals of the Open Data proposal.',\n",
       "               'Below we have highlighted what feel are the most commendable inclusions in the proposal as currently drafted, made suggestions for further improvement, and raised concerns with certain provisions of the proposal.',\n",
       "               'By providing access to public information proactively and for free, the Open Data proposal addresses two significant burdens to public access to information: failure to respond to freedom of information requests in a timely fashion and undue copying fees levied by public agencies. According to MuckRock, a non-profit organization that facilitates the filing and analysis of freedom of information requests, the City of Buffalo takes an average of 63 days to respond to freedom of information requests and charges an average fee of $4.13 per request. PAI has had considerable difficulty obtaining public records from city agencies, most notably the Buffalo Police Department (see e.g. “FOIL by inches: The slow-drip transparency of Buffalo PD” by Caitlin Russell of MuckRock).',\n",
       "               'If these burdens are truly shifted from requesters to the City, Buffalo will be making a commendable commitment to transparency. To even further improve access to public records, PAI seconds Brian Borncamp’s recommendation that the Open Data Policy provide for a “centralized system for submitting, tracking, and responding to FOIL requests.” By centralizing all requests and by making requests and responses publicly available, the City can dramatically increase its responsiveness to public requests for information and reduce instances of non-compliance with the Freedom of Information Law that result in costly attorneys’ fees.',\n",
       "               'PAI also highlights and applauds the inclusion of “records of third-party agency contractors that create or acquire information, records, or data on behalf of a City division/department” as an especially meaningful and important component of the Open Data proposal. Public entities are increasingly reliant on non-governmental or quasi-governmental non-profits to perform governmental services. If unchecked, those third-party contractors can act as a “black box” where important information can be kept secret from the public, leading to suspicion and, at times, scandal. The State University at New York system is currently dealing with this issue within its nominally private campus-related foundations at the center of the United States Attorney investigation into Buffalo Billion contracting.',\n",
       "               'Explicitly holding third-party contractors to the same transparency standard as the public agencies they’re working for both honors the letter of New York’s Freedom of Information Law and serves as a proactive measure to avoid actual or apparent corruption. This provision should be taken further to explicitly include records of all city-related public benefit corporations and other quasi-governmental entities.',\n",
       "               'Finally, as PAI is involved with technology development in addition to producing original research, we call attention to the proposed availability of City of Buffalo data via an Application Programming Interface (API). Providing data this way allows developers to interact with data in new and unexpected ways and facilitates analysis of that data. For example, PAI’s research platform LittleSis interacts with the OpenSecrets database maintained by the Center for Responsive Politics via an API to incorporate campaign finance as soon as it is uploaded. In addition to making City of Buffalo data available via an API, PAI also recommends that datasets be available for bulk download in various relevant formats to permit analysis using Microsoft Excel or other programs.',\n",
       "               'PAI has significant concerns about the oversight of Buffalo’s Open Data portal. As currently stipulated in the proposal, development and implementation of the Open Data practices will be delegated to appointees of the Mayor with “input from the public.” It is crucial for the Open Data Governance Committee to be free from the influence of politics and to not be beholden to any one political representative. As such, the Open Data Governance Committee should include representatives from the City as well as from independent organizations working in the public interest, such as the residents, businesses, researchers, and media mentioned in the policy’s statement of purpose, and independent members should comprise a majority of the committee’s votes.',\n",
       "               'Alongside the existing Open Book Buffalo portal, this Open Data policy represents a praiseworthy commitment to transparency and accountability for the City of Buffalo. For this, the Public Accountability Initiative again commends the city government and welcomes any further opportunity for input on this important initiative. By adopting a policy that addresses the above-stated concerns addressed – especially those about oversight and the centralization of freedom of information requests and responses – the City of Buffalo will take a great stride in advancing transparency and accountability to its residents.']),\n",
       "             (15,\n",
       "              ['\"As currently stipulated in the proposal, development and implementation of the Open Data practices will be delegated to appointees of the Mayor with “input from the public.” It is crucial for the Open Data Governance Committee to be free from the influence of politics and to not be beholden to any one political representative. As such, the Open Data Governance Committee should include representatives from the City as well as from independent organizations working in the public interest, such as the residents, businesses, researchers, and media mentioned in the policy’s statement of purpose, and independent members should comprise a majority of the committee’s votes.\" <- Strongly agree with Rob Galbraith']),\n",
       "             (16,\n",
       "              [('commented comment', 'training,'),\n",
       "               'I assume this would be funding for training the support staff.  I would like to also recommend that a portion of the funding be allocated for training residents, community groups and nonprofits on how to access information and analyze it to inform their work.']),\n",
       "             (17,\n",
       "              [\"Some funding should also go towards supporting the community's use and innovation with open data, such as through hosting a civic hackathon.\"]),\n",
       "             (18,\n",
       "              [('commented comment',\n",
       "                'residents, government leaders, businesses, researchers, and the media,'),\n",
       "               'It is important to include all members of the local community that can benefit from this information; including nonprofits and foundations.'])])"
      ]
     },
     "execution_count": 684,
     "metadata": {},
     "output_type": "execute_result"
    }
   ],
   "source": [
    "dict1"
   ]
  },
  {
   "cell_type": "code",
   "execution_count": 682,
   "metadata": {},
   "outputs": [
    {
     "name": "stdout",
     "output_type": "stream",
     "text": [
      "{'Aaron Lee': ['I am in support of the proposed policy to further enable data and subsequent knowledge sharing. I agree with fellow contributors that it would be beneficial to see more detailed outlines for the specific process that is going to enable community members to contribute to the Open Data portal by creating, uploading and verifying data sets to be published. Myself and colleagues have created a number of valuable data sets that could be beneficial across city departments, community organizations and individual interests. Understanding that only data sets meeting the standards set forth as a result of this policy will be accepted, we can collaboratively drive the understanding of our community from all perspectives.', <time datetime=\"2017-01-25T04:32:19+00:00\" title=\"2017-01-25T04:32:19+00:00\">5 months ago</time>, [('commented comment', 'public participation by providing regular opportunities for feedback and collaboration'), 'I would be interested to see this more finely documented. It would be great to have a living, breathering process that community members could submit data sets that they have created (required to meet the data standards set forth by the Open Data Policy) for verification and publication to the open data portal within a timely manner. Individuals in the community may have greater flexibility and time to produce unique data sets pertinent to acute challenges and enable broader understanding in a more timely manner.'], <time datetime=\"2017-01-25T04:25:20+00:00\" title=\"2017-01-25T04:25:20+00:00\">5 months ago</time>], 'Aaron Krolikowski': ['I strongly support the proposed policy, with a recognition of the outstanding contributions that have already been made by other residents, citizens, and interested parties.', \"Many thanks to the City of Buffalo for leading this effort. Most of my comments are within the document itself, but I do agree with other comments below that emphasize the need for substantial citizen involvement in governance, application, and oversight. During the RFP process, I would encourage the city to include not only requirements for a portal, but also an iterative feedback/improvement process with residents and regular data users so that the city's investment in this system can produce tangible use cases and real benefits to our city and its people.\", 'The Department of Citizen Services should also be commended for their use of the collaborative policymaking platform. In the age of the internet, this is an excellent way to increase public participation in these types of processes. Many thanks for this opportunity.', <time datetime=\"2017-01-24T22:56:17+00:00\" title=\"2017-01-24T22:56:17+00:00\">5 months ago</time>, [('commented comment', 'Publish high quality, updated data with documentation'), 'Can the portal include an option for community members/partners to publish their own data to a section of the site? Provided it adheres to a set of minimum standards and passes review.'], <time datetime=\"2017-01-24T22:46:57+00:00\" title=\"2017-01-24T22:46:57+00:00\">5 months ago</time>, [('commented comment', 'limitations on the disclosure of public information'), 'It may be a helpful option to include a repository of FOIL requests and responses (whatever is able to be centralized), as well as an option to automate or streamline the FOIL request process via the portal interface.'], <time datetime=\"2017-01-24T22:45:58+00:00\" title=\"2017-01-24T22:45:58+00:00\">5 months ago</time>, [('commented comment', 'Open Data Governance Committee'), 'Minutes from any and all meetings of this committee should be made available in machine-readable formats in an easily-accessible location (including within the open data system)'], <time datetime=\"2017-01-24T22:41:07+00:00\" title=\"2017-01-24T22:41:07+00:00\">5 months ago</time>, [('commented comment', 'and will include input from the public.'), 'A Citizens Advisory Committee can be designated (appointments by mayor, council members) to support the Governance Committee in the areas of reviewing datasets to be published, hosting events for public feedback and participation, facilitating collaborations, facilitating use of the portal, expanding awareness of open data resources and applications, as well as defining and regularly reviewing the data standards governance document.'], <time datetime=\"2017-01-24T22:39:41+00:00\" title=\"2017-01-24T22:39:41+00:00\">5 months ago</time>, [('commented comment', 'opportunity'), 'equitable access to opportunity (open data can help move us closer to this goal)'], <time datetime=\"2017-01-24T22:35:13+00:00\" title=\"2017-01-24T22:35:13+00:00\">5 months ago</time>, [('commented comment', 'how the data is being used'), 'This part of the reporting should make specific reference to the three goals articulated in Section \"Open Data Program\", part 6: government efficiency, improved quality of life, and expanded economic opportunities.'], <time datetime=\"2017-01-24T22:34:25+00:00\" title=\"2017-01-24T22:34:25+00:00\">5 months ago</time>, [('commented comment', \"Encourage innovative uses of the City's publishable non-privileged and non-confidential data by departments, the public, and other partners; and\"), 'The open data system should include a space for showcasing the innovative ways in which city data are used by these various stakeholders.'], <time datetime=\"2017-01-24T22:31:40+00:00\" title=\"2017-01-24T22:31:40+00:00\">5 months ago</time>], 'Karl Newell': ['Agreed, the state does something similar on their portal. I know they showcase apps that utilize their provided data.', <time datetime=\"2017-01-25T00:24:31+00:00\" title=\"2017-01-25T00:24:31+00:00\">5 months ago</time>], 'Stephanie Perry': [('commented comment', 'paramount'), 'Remove \"paramount.\" Privacy, confidentiality and security should be considerations when determining whether data should be open, but they should not be presumed to be paramount and therefore superior to the public\\'s right to know.', <time datetime=\"2017-01-24T21:35:45+00:00\" title=\"2017-01-24T21:35:45+00:00\">5 months ago</time>, ['I strongly support the spirit of this policy and the efforts made toward ensuring free public access to data information and government transparency. As a private citizen and freelance writer and researcher, I support the timely adoption and implementation of this policy.', 'The following are my concerns with the policy as it now stands:', 'The policy should encourage and, when possible, mandate the collection and dissemination of information collected by non-city and quasi-governmental agencies such as the NFTA, BMHA, Buffalo Place, the Buffalo Olmsted Parks Conservancy, hospital campuses, institutions of higher education and other organizations providing public services such as park maintenance, policing and security, transportation and education services. In particular, public safety information from police and security forces managed by Buffalo Place, medical and college campuses and the NFTA should be subject to the open data policy.', 'When information is unavailable due to its privileged status, it should be made available in the aggregate whenever possible. e.g., motor vehicle incident reports are not public per NYS law but should be presented to the public in an anonymized or aggregate form.'], <time datetime=\"2017-01-24T21:36:03+00:00\" title=\"2017-01-24T21:36:03+00:00\">5 months ago</time>, ['The following comment is submitted on behalf of the Public Accountability Initiative:', 'The Public Accountability Initiative (PAI) is a non-profit educational group focused on transparency and accountability headquartered in the City of Buffalo. PAI operates a research platform, LittleSis.org, that brings together information obtained through public records for use by journalists, academics, and activists as well as the general public. Access to current government information is paramount to PAI’s work and to meaningful participation in a democracy. As such, PAI endorses the goals of the Open Data proposal.', 'Below we have highlighted what feel are the most commendable inclusions in the proposal as currently drafted, made suggestions for further improvement, and raised concerns with certain provisions of the proposal.', 'By providing access to public information proactively and for free, the Open Data proposal addresses two significant burdens to public access to information: failure to respond to freedom of information requests in a timely fashion and undue copying fees levied by public agencies. According to MuckRock, a non-profit organization that facilitates the filing and analysis of freedom of information requests, the City of Buffalo takes an average of 63 days to respond to freedom of information requests and charges an average fee of $4.13 per request. PAI has had considerable difficulty obtaining public records from city agencies, most notably the Buffalo Police Department (see e.g. “FOIL by inches: The slow-drip transparency of Buffalo PD” by Caitlin Russell of MuckRock).', 'If these burdens are truly shifted from requesters to the City, Buffalo will be making a commendable commitment to transparency. To even further improve access to public records, PAI seconds Brian Borncamp’s recommendation that the Open Data Policy provide for a “centralized system for submitting, tracking, and responding to FOIL requests.” By centralizing all requests and by making requests and responses publicly available, the City can dramatically increase its responsiveness to public requests for information and reduce instances of non-compliance with the Freedom of Information Law that result in costly attorneys’ fees.', 'PAI also highlights and applauds the inclusion of “records of third-party agency contractors that create or acquire information, records, or data on behalf of a City division/department” as an especially meaningful and important component of the Open Data proposal. Public entities are increasingly reliant on non-governmental or quasi-governmental non-profits to perform governmental services. If unchecked, those third-party contractors can act as a “black box” where important information can be kept secret from the public, leading to suspicion and, at times, scandal. The State University at New York system is currently dealing with this issue within its nominally private campus-related foundations at the center of the United States Attorney investigation into Buffalo Billion contracting.', 'Explicitly holding third-party contractors to the same transparency standard as the public agencies they’re working for both honors the letter of New York’s Freedom of Information Law and serves as a proactive measure to avoid actual or apparent corruption. This provision should be taken further to explicitly include records of all city-related public benefit corporations and other quasi-governmental entities.', 'Finally, as PAI is involved with technology development in addition to producing original research, we call attention to the proposed availability of City of Buffalo data via an Application Programming Interface (API). Providing data this way allows developers to interact with data in new and unexpected ways and facilitates analysis of that data. For example, PAI’s research platform LittleSis interacts with the OpenSecrets database maintained by the Center for Responsive Politics via an API to incorporate campaign finance as soon as it is uploaded. In addition to making City of Buffalo data available via an API, PAI also recommends that datasets be available for bulk download in various relevant formats to permit analysis using Microsoft Excel or other programs.', 'PAI has significant concerns about the oversight of Buffalo’s Open Data portal. As currently stipulated in the proposal, development and implementation of the Open Data practices will be delegated to appointees of the Mayor with “input from the public.” It is crucial for the Open Data Governance Committee to be free from the influence of politics and to not be beholden to any one political representative. As such, the Open Data Governance Committee should include representatives from the City as well as from independent organizations working in the public interest, such as the residents, businesses, researchers, and media mentioned in the policy’s statement of purpose, and independent members should comprise a majority of the committee’s votes.', 'Alongside the existing Open Book Buffalo portal, this Open Data policy represents a praiseworthy commitment to transparency and accountability for the City of Buffalo. For this, the Public Accountability Initiative again commends the city government and welcomes any further opportunity for input on this important initiative. By adopting a policy that addresses the above-stated concerns addressed – especially those about oversight and the centralization of freedom of information requests and responses – the City of Buffalo will take a great stride in advancing transparency and accountability to its residents.'], <time datetime=\"2017-01-24T21:36:24+00:00\" title=\"2017-01-24T21:36:24+00:00\">5 months ago</time>, ['\"As currently stipulated in the proposal, development and implementation of the Open Data practices will be delegated to appointees of the Mayor with “input from the public.” It is crucial for the Open Data Governance Committee to be free from the influence of politics and to not be beholden to any one political representative. As such, the Open Data Governance Committee should include representatives from the City as well as from independent organizations working in the public interest, such as the residents, businesses, researchers, and media mentioned in the policy’s statement of purpose, and independent members should comprise a majority of the committee’s votes.\" <- Strongly agree with Rob Galbraith'], <time datetime=\"2017-01-24T21:31:45+00:00\" title=\"2017-01-24T21:31:45+00:00\">5 months ago</time>], 'Robert Galbraith': [('commented comment', 'training,'), 'I assume this would be funding for training the support staff.  I would like to also recommend that a portion of the funding be allocated for training residents, community groups and nonprofits on how to access information and analyze it to inform their work.', <time datetime=\"2017-01-24T20:30:42+00:00\" title=\"2017-01-24T20:30:42+00:00\">5 months ago</time>], 'Chris Slocum': [\"Some funding should also go towards supporting the community's use and innovation with open data, such as through hosting a civic hackathon.\", <time datetime=\"2017-01-24T21:24:41+00:00\" title=\"2017-01-24T21:24:41+00:00\">5 months ago</time>], 'Curtis Robbins': [('commented comment', 'residents, government leaders, businesses, researchers, and the media,'), 'It is important to include all members of the local community that can benefit from this information; including nonprofits and foundations.', <time datetime=\"2017-01-24T18:20:23+00:00\" title=\"2017-01-24T18:20:23+00:00\">5 months ago</time>]}\n"
     ]
    }
   ],
   "source": [
    "dict2 = {}\n",
    "number = 0\n",
    "for key,values in dict1.items():\n",
    "    individual_comment = dict1[key]\n",
    "    individual_name = names[number]\n",
    "    individual_time = times[number]\n",
    "    \n",
    "    '''\n",
    "    if values[0][0] == \"commented comment\":\n",
    "        new_values = \"\".join(values[2:])\n",
    "        print(new_values)\n",
    "    \n",
    "        dict2[individual_name] = [values[0], values[1], new_values]\n",
    "        \n",
    "    else:\n",
    "        #print(len(values))\n",
    "        #if len(values) > 1:\n",
    "        new_values = \"\".join(values)\n",
    "        dict2[individual_name] = [new_values]\n",
    "            \n",
    "        #else:\n",
    "        #    dict2[individual_name] = values\n",
    "    '''\n",
    "    \n",
    "    if individual_name not in dict2:\n",
    "        dict2[individual_name] = individual_comment\n",
    "    \n",
    "    else:\n",
    "        dict2[individual_name].append(individual_comment)\n",
    "    dict2[individual_name].append(individual_time)\n",
    "\n",
    "    number += 1\n",
    "    \n",
    "print(dict2)"
   ]
  },
  {
   "cell_type": "code",
   "execution_count": null,
   "metadata": {},
   "outputs": [],
   "source": []
  },
  {
   "cell_type": "code",
   "execution_count": null,
   "metadata": {
    "collapsed": true
   },
   "outputs": [],
   "source": []
  }
 ],
 "metadata": {
  "kernelspec": {
   "display_name": "Python 3",
   "language": "python",
   "name": "python3"
  },
  "language_info": {
   "codemirror_mode": {
    "name": "ipython",
    "version": 3
   },
   "file_extension": ".py",
   "mimetype": "text/x-python",
   "name": "python",
   "nbconvert_exporter": "python",
   "pygments_lexer": "ipython3",
   "version": "3.6.1"
  }
 },
 "nbformat": 4,
 "nbformat_minor": 2
}
